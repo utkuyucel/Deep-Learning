{
  "nbformat": 4,
  "nbformat_minor": 0,
  "metadata": {
    "colab": {
      "name": "Keras Cifar10 TPU - Swallow model - 70 Accuracy after training 50 epochs on TPU",
      "version": "0.3.2",
      "provenance": [],
      "collapsed_sections": [],
      "include_colab_link": true
    },
    "kernelspec": {
      "name": "python3",
      "display_name": "Python 3"
    },
    "accelerator": "TPU"
  },
  "cells": [
    {
      "cell_type": "markdown",
      "metadata": {
        "id": "view-in-github",
        "colab_type": "text"
      },
      "source": [
        "<a href=\"https://colab.research.google.com/github/utkuyucel/Deep-Learning/blob/master/Keras_Cifar10_TPU_Swallow_model_70_Accuracy_after_training_50_epochs_on_TPU.ipynb\" target=\"_parent\"><img src=\"https://colab.research.google.com/assets/colab-badge.svg\" alt=\"Open In Colab\"/></a>"
      ]
    },
    {
      "cell_type": "code",
      "metadata": {
        "id": "iiwALVuqCy53",
        "colab_type": "code",
        "colab": {}
      },
      "source": [
        "import tensorflow as tf\n",
        "from keras.utils import to_categorical, plot_model\n",
        "import numpy as np\n",
        "import os\n",
        "\n",
        "(X_train, y_train),(X_test, y_test) = tf.keras.datasets.cifar10.load_data()"
      ],
      "execution_count": 0,
      "outputs": []
    },
    {
      "cell_type": "code",
      "metadata": {
        "id": "GaiGrd4AYLrE",
        "colab_type": "code",
        "outputId": "af3b6e64-79ce-4afb-a29e-2c4e1546c49d",
        "colab": {
          "base_uri": "https://localhost:8080/",
          "height": 34
        }
      },
      "source": [
        "try:\n",
        "  device_name = os.environ['COLAB_TPU_ADDR']\n",
        "  TPU_ADDRESS = 'grpc://' + device_name\n",
        "  print('Found TPU at: {}'.format(TPU_ADDRESS))\n",
        "\n",
        "except KeyError:\n",
        "  print('TPU not found')"
      ],
      "execution_count": 14,
      "outputs": [
        {
          "output_type": "stream",
          "text": [
            "Found TPU at: grpc://10.73.129.34:8470\n"
          ],
          "name": "stdout"
        }
      ]
    },
    {
      "cell_type": "code",
      "metadata": {
        "id": "Iu2SmdY7SCNk",
        "colab_type": "code",
        "colab": {}
      },
      "source": [
        "X_train = X_train.astype(\"float32\")\n",
        "X_test = X_test.astype(\"float32\")\n",
        "\n",
        "X_train /= 255\n",
        "X_test /= 255\n",
        "\n",
        "y_train = to_categorical(y_train, 10)\n",
        "y_test = to_categorical(y_test, 10)"
      ],
      "execution_count": 0,
      "outputs": []
    },
    {
      "cell_type": "code",
      "metadata": {
        "id": "Msz0bLVfXuyo",
        "colab_type": "code",
        "colab": {}
      },
      "source": [
        "def train_input_fn(batch_size=1024):\n",
        "  # Girişleri bir veri kümesine dönüştür. \n",
        "  dataset = tf.data.Dataset.from_tensor_slices((X_train,y_train))\n",
        "\n",
        "  # Karıştır, tekrar et ve batch (küme) örnekleri \n",
        "  dataset = dataset.shuffle(1000).repeat().batch(batch_size, drop_remainder=True)\n",
        "\n",
        "  # veri kümesine.\n",
        "  return dataset"
      ],
      "execution_count": 0,
      "outputs": []
    },
    {
      "cell_type": "code",
      "metadata": {
        "id": "TSsYY-_xXvQO",
        "colab_type": "code",
        "colab": {}
      },
      "source": [
        "def test_input_fn(batch_size=1024):\n",
        "  # Girişleri bir veri kümesine dönüştür. .\n",
        "  dataset = tf.data.Dataset.from_tensor_slices((X_test,y_test))\n",
        "\n",
        "  # sKarıştır, tekrar et ve batch (küme) örnekleri \n",
        "  dataset = dataset.shuffle(1000).repeat().batch(batch_size, drop_remainder=True)\n",
        "\n",
        "  # veri kümesine.\n",
        "  return dataset"
      ],
      "execution_count": 0,
      "outputs": []
    },
    {
      "cell_type": "code",
      "metadata": {
        "id": "bSbDB3q5R1v2",
        "colab_type": "code",
        "colab": {}
      },
      "source": [
        "def model(X_input):\n",
        "  \n",
        "  X_input = tf.keras.Input((32,32,3))\n",
        "  \n",
        "  X1 = tf.keras.layers.Conv2D(32, (2,2), strides = (1,1),padding = \"same\", name = \"conv0\")(X_input)\n",
        "  X1 = tf.keras.layers.BatchNormalization(axis = 3, name = \"bn0\")(X1)  \n",
        "  X1 = tf.keras.layers.Activation(\"relu\")(X1)  \n",
        "  X1 = tf.keras.layers.Conv2D(32, (3,3), strides = (1,1),padding = \"same\", name = \"conv1\")(X1) \n",
        "  X1 = tf.keras.layers.BatchNormalization(axis = 3, name = \"bn1\")(X1) \n",
        "  X1 = tf.keras.layers.Activation(\"relu\")(X1)\n",
        "  X1 = tf.keras.layers.Conv2D(32, (2,2), strides = (1,1), padding = \"same\", name = \"conv2\")(X1)\n",
        "  X1 = tf.keras.layers.BatchNormalization(axis = 3, name = \"bn2\")(X1)\n",
        "  X1 = tf.keras.layers.Activation(\"relu\")(X1)\n",
        "  \n",
        "  X2 = tf.keras.layers.Conv2D(32, (1,1), strides = (1,1),padding = \"same\", name = \"conv3\")(X_input)  \n",
        "  X2 = tf.keras.layers.BatchNormalization(axis = 3, name = \"bn3\")(X2)\n",
        "  X2 = tf.keras.layers.Activation(\"relu\")(X2) \n",
        "  X2 = tf.keras.layers.Conv2D(32, (5,5), strides = (1,1),padding = \"same\", name = \"conv4\")(X2)  \n",
        "  X2 = tf.keras.layers.BatchNormalization(axis = 3, name = \"bn4\")(X2)\n",
        "  X2 = tf.keras.layers.Activation(\"relu\")(X2)\n",
        "  X2 = tf.keras.layers.Conv2D(32, (5,5), strides = (1,1),padding = \"same\", name = \"conv5\")(X2)  \n",
        "  X2 = tf.keras.layers.BatchNormalization(axis = 3, name = \"bn5\")(X2)\n",
        "  X2 = tf.keras.layers.Activation(\"relu\")(X2)\n",
        "  \n",
        "  X3 = tf.keras.layers.MaxPooling2D((1,1), strides = (1,1), name = \"max_pool0\")(X_input)\n",
        "  X3 = tf.keras.layers.Conv2D(32, (5,5), strides = (1,1), padding = \"same\", name = \"conv6\")(X3)\n",
        "  X3 = tf.keras.layers.BatchNormalization()(X3)\n",
        "  X3 = tf.keras.layers.Activation(\"relu\")(X3)\n",
        "  \n",
        "  X = tf.keras.layers.concatenate([X1,X2,X3])\n",
        "  \n",
        "  X4 = tf.keras.layers.Conv2D(32, (5,5), strides = (1,1), padding = \"same\", name = \"conv7\")(X_input)\n",
        "  X4 = tf.keras.layers.BatchNormalization()(X4)\n",
        "  X4 = tf.keras.layers.Activation(\"relu\")(X4)\n",
        "  X5 = tf.keras.layers.Conv2D(32, (4,4), strides = (1,1), padding = \"same\",name = \"conv8\" )(X)\n",
        "  X5 = tf.keras.layers.BatchNormalization()(X5)\n",
        "  X5 = tf.keras.layers.Activation(\"relu\")(X5)  \n",
        "  \n",
        "  Y2 = tf.keras.layers.concatenate([X4,X5])\n",
        "  \n",
        "  F1 = tf.keras.layers.Conv2D(32, (5,5), strides = (1,1), padding = \"same\", name = \"conv9\")(Y2)\n",
        "  F1 = tf.keras.layers.BatchNormalization()(F1)\n",
        "  F1 = tf.keras.layers.Activation(\"relu\")(F1)\n",
        "  \n",
        "  top = tf.keras.layers.concatenate([X,Y2,F1])\n",
        "  \n",
        "  P1 = tf.keras.layers.Conv2D(32, (7,7), strides = (1,1), padding = \"same\", name = \"conv10\")(Y2)\n",
        "  P1 = tf.keras.layers.BatchNormalization()(P1)\n",
        "  P1 = tf.keras.layers.Activation(\"relu\")(P1)\n",
        "  P2 = tf.keras.layers.Conv2D(64, (8,8), strides = (1,1), padding = \"same\", name = \"conv11\")(P1)\n",
        "  P2 = tf.keras.layers.BatchNormalization()(P2)\n",
        "  P2 = tf.keras.layers.Activation(\"relu\")(P2)\n",
        "  \n",
        "  last = tf.keras.layers.concatenate([top,P1,P2])\n",
        "  \n",
        "  X = tf.keras.layers.Flatten()(last)\n",
        "  X = tf.keras.layers.Dense(32, activation = \"relu\", name = \"d1\")(X)\n",
        "  X = tf.keras.layers.BatchNormalization()(X)\n",
        "  \n",
        "  X = tf.keras.layers.Dense(10, activation = \"softmax\", name = \"fc\")(X)\n",
        "  \n",
        "  \n",
        "  model = tf.keras.models.Model(inputs = X_input, outputs = X)\n",
        "  \n",
        "  return model"
      ],
      "execution_count": 0,
      "outputs": []
    },
    {
      "cell_type": "code",
      "metadata": {
        "id": "C15s0UaGGw9X",
        "colab_type": "code",
        "colab": {}
      },
      "source": [
        "model = model((32,32,3))"
      ],
      "execution_count": 0,
      "outputs": []
    },
    {
      "cell_type": "code",
      "metadata": {
        "id": "mHu-dt3SNS5f",
        "colab_type": "code",
        "outputId": "0527f85e-232c-4d64-e51e-37dcc82b8f96",
        "colab": {
          "base_uri": "https://localhost:8080/",
          "height": 2534
        }
      },
      "source": [
        "from IPython.display import SVG\n",
        "from keras.utils.vis_utils import model_to_dot\n",
        "\n",
        "plot_model(model, to_file='model.png')\n",
        "SVG(model_to_dot(model).create(prog='dot', format='svg'))\n"
      ],
      "execution_count": 41,
      "outputs": [
        {
          "output_type": "execute_result",
          "data": {
            "text/plain": [
              "<IPython.core.display.SVG object>"
            ],
            "image/svg+xml": "<svg height=\"1870pt\" viewBox=\"0.00 0.00 1017.00 1870.00\" width=\"1017pt\" xmlns=\"http://www.w3.org/2000/svg\" xmlns:xlink=\"http://www.w3.org/1999/xlink\">\n<g class=\"graph\" id=\"graph0\" transform=\"scale(1 1) rotate(0) translate(4 1866)\">\n<title>G</title>\n<polygon fill=\"#ffffff\" points=\"-4,4 -4,-1866 1013,-1866 1013,4 -4,4\" stroke=\"transparent\"/>\n<!-- 140276777426840 -->\n<g class=\"node\" id=\"node1\">\n<title>140276777426840</title>\n<polygon fill=\"none\" points=\"321.5,-1825.5 321.5,-1861.5 461.5,-1861.5 461.5,-1825.5 321.5,-1825.5\" stroke=\"#000000\"/>\n<text fill=\"#000000\" font-family=\"Times,serif\" font-size=\"14.00\" text-anchor=\"middle\" x=\"391.5\" y=\"-1839.8\">input_11: InputLayer</text>\n</g>\n<!-- 140276777070544 -->\n<g class=\"node\" id=\"node2\">\n<title>140276777070544</title>\n<polygon fill=\"none\" points=\"93.5,-1752.5 93.5,-1788.5 203.5,-1788.5 203.5,-1752.5 93.5,-1752.5\" stroke=\"#000000\"/>\n<text fill=\"#000000\" font-family=\"Times,serif\" font-size=\"14.00\" text-anchor=\"middle\" x=\"148.5\" y=\"-1766.8\">conv0: Conv2D</text>\n</g>\n<!-- 140276777426840&#45;&gt;140276777070544 -->\n<g class=\"edge\" id=\"edge1\">\n<title>140276777426840-&gt;140276777070544</title>\n<path d=\"M331.4326,-1825.4551C295.566,-1814.6803 250.0072,-1800.9939 213.3283,-1789.9752\" fill=\"none\" stroke=\"#000000\"/>\n<polygon fill=\"#000000\" points=\"214.3054,-1786.6142 203.7212,-1787.0891 212.2913,-1793.3183 214.3054,-1786.6142\" stroke=\"#000000\"/>\n</g>\n<!-- 140276776345104 -->\n<g class=\"node\" id=\"node3\">\n<title>140276776345104</title>\n<polygon fill=\"none\" points=\"255.5,-1752.5 255.5,-1788.5 365.5,-1788.5 365.5,-1752.5 255.5,-1752.5\" stroke=\"#000000\"/>\n<text fill=\"#000000\" font-family=\"Times,serif\" font-size=\"14.00\" text-anchor=\"middle\" x=\"310.5\" y=\"-1766.8\">conv3: Conv2D</text>\n</g>\n<!-- 140276777426840&#45;&gt;140276776345104 -->\n<g class=\"edge\" id=\"edge2\">\n<title>140276777426840-&gt;140276776345104</title>\n<path d=\"M371.4775,-1825.4551C361.4498,-1816.4177 349.1491,-1805.3319 338.2286,-1795.4899\" fill=\"none\" stroke=\"#000000\"/>\n<polygon fill=\"#000000\" points=\"340.3444,-1792.6852 330.5729,-1788.5904 335.6581,-1797.885 340.3444,-1792.6852\" stroke=\"#000000\"/>\n</g>\n<!-- 140276774698960 -->\n<g class=\"node\" id=\"node14\">\n<title>140276774698960</title>\n<polygon fill=\"none\" points=\"383.5,-1752.5 383.5,-1788.5 563.5,-1788.5 563.5,-1752.5 383.5,-1752.5\" stroke=\"#000000\"/>\n<text fill=\"#000000\" font-family=\"Times,serif\" font-size=\"14.00\" text-anchor=\"middle\" x=\"473.5\" y=\"-1766.8\">max_pool0: MaxPooling2D</text>\n</g>\n<!-- 140276777426840&#45;&gt;140276774698960 -->\n<g class=\"edge\" id=\"edge13\">\n<title>140276777426840-&gt;140276774698960</title>\n<path d=\"M411.7697,-1825.4551C421.9212,-1816.4177 434.3738,-1805.3319 445.4291,-1795.4899\" fill=\"none\" stroke=\"#000000\"/>\n<polygon fill=\"#000000\" points=\"448.0375,-1797.8539 453.1793,-1788.5904 443.383,-1792.6255 448.0375,-1797.8539\" stroke=\"#000000\"/>\n</g>\n<!-- 140276774186680 -->\n<g class=\"node\" id=\"node25\">\n<title>140276774186680</title>\n<polygon fill=\"none\" points=\"588.5,-1679.5 588.5,-1715.5 698.5,-1715.5 698.5,-1679.5 588.5,-1679.5\" stroke=\"#000000\"/>\n<text fill=\"#000000\" font-family=\"Times,serif\" font-size=\"14.00\" text-anchor=\"middle\" x=\"643.5\" y=\"-1693.8\">conv7: Conv2D</text>\n</g>\n<!-- 140276777426840&#45;&gt;140276774186680 -->\n<g class=\"edge\" id=\"edge26\">\n<title>140276777426840-&gt;140276774186680</title>\n<path d=\"M461.6672,-1832.8658C497.1891,-1824.9916 539.6293,-1811.5692 572.5,-1789 596.6489,-1772.4192 616.3064,-1745.0767 628.7635,-1724.5913\" fill=\"none\" stroke=\"#000000\"/>\n<polygon fill=\"#000000\" points=\"631.9245,-1726.1202 633.9706,-1715.7248 625.8884,-1722.5753 631.9245,-1726.1202\" stroke=\"#000000\"/>\n</g>\n<!-- 140276777067296 -->\n<g class=\"node\" id=\"node4\">\n<title>140276777067296</title>\n<polygon fill=\"none\" points=\"18,-1679.5 18,-1715.5 197,-1715.5 197,-1679.5 18,-1679.5\" stroke=\"#000000\"/>\n<text fill=\"#000000\" font-family=\"Times,serif\" font-size=\"14.00\" text-anchor=\"middle\" x=\"107.5\" y=\"-1693.8\">bn0: BatchNormalizationV1</text>\n</g>\n<!-- 140276777070544&#45;&gt;140276777067296 -->\n<g class=\"edge\" id=\"edge3\">\n<title>140276777070544-&gt;140276777067296</title>\n<path d=\"M138.3652,-1752.4551C133.6343,-1744.0319 127.9041,-1733.8292 122.6715,-1724.5128\" fill=\"none\" stroke=\"#000000\"/>\n<polygon fill=\"#000000\" points=\"125.609,-1722.5954 117.6603,-1715.5904 119.5057,-1726.0233 125.609,-1722.5954\" stroke=\"#000000\"/>\n</g>\n<!-- 140276775895280 -->\n<g class=\"node\" id=\"node5\">\n<title>140276775895280</title>\n<polygon fill=\"none\" points=\"215,-1679.5 215,-1715.5 394,-1715.5 394,-1679.5 215,-1679.5\" stroke=\"#000000\"/>\n<text fill=\"#000000\" font-family=\"Times,serif\" font-size=\"14.00\" text-anchor=\"middle\" x=\"304.5\" y=\"-1693.8\">bn3: BatchNormalizationV1</text>\n</g>\n<!-- 140276776345104&#45;&gt;140276775895280 -->\n<g class=\"edge\" id=\"edge4\">\n<title>140276776345104-&gt;140276775895280</title>\n<path d=\"M309.0169,-1752.4551C308.3534,-1744.3828 307.5556,-1734.6764 306.8163,-1725.6817\" fill=\"none\" stroke=\"#000000\"/>\n<polygon fill=\"#000000\" points=\"310.2944,-1725.27 305.9869,-1715.5904 303.3179,-1725.8435 310.2944,-1725.27\" stroke=\"#000000\"/>\n</g>\n<!-- 140276777068920 -->\n<g class=\"node\" id=\"node6\">\n<title>140276777068920</title>\n<polygon fill=\"none\" points=\"23,-1606.5 23,-1642.5 192,-1642.5 192,-1606.5 23,-1606.5\" stroke=\"#000000\"/>\n<text fill=\"#000000\" font-family=\"Times,serif\" font-size=\"14.00\" text-anchor=\"middle\" x=\"107.5\" y=\"-1620.8\">activation_100: Activation</text>\n</g>\n<!-- 140276777067296&#45;&gt;140276777068920 -->\n<g class=\"edge\" id=\"edge5\">\n<title>140276777067296-&gt;140276777068920</title>\n<path d=\"M107.5,-1679.4551C107.5,-1671.3828 107.5,-1661.6764 107.5,-1652.6817\" fill=\"none\" stroke=\"#000000\"/>\n<polygon fill=\"#000000\" points=\"111.0001,-1652.5903 107.5,-1642.5904 104.0001,-1652.5904 111.0001,-1652.5903\" stroke=\"#000000\"/>\n</g>\n<!-- 140276776003176 -->\n<g class=\"node\" id=\"node7\">\n<title>140276776003176</title>\n<polygon fill=\"none\" points=\"215,-1606.5 215,-1642.5 384,-1642.5 384,-1606.5 215,-1606.5\" stroke=\"#000000\"/>\n<text fill=\"#000000\" font-family=\"Times,serif\" font-size=\"14.00\" text-anchor=\"middle\" x=\"299.5\" y=\"-1620.8\">activation_103: Activation</text>\n</g>\n<!-- 140276775895280&#45;&gt;140276776003176 -->\n<g class=\"edge\" id=\"edge6\">\n<title>140276775895280-&gt;140276776003176</title>\n<path d=\"M303.264,-1679.4551C302.7112,-1671.3828 302.0463,-1661.6764 301.4303,-1652.6817\" fill=\"none\" stroke=\"#000000\"/>\n<polygon fill=\"#000000\" points=\"304.9143,-1652.3278 300.7391,-1642.5904 297.9307,-1652.8062 304.9143,-1652.3278\" stroke=\"#000000\"/>\n</g>\n<!-- 140276777888624 -->\n<g class=\"node\" id=\"node8\">\n<title>140276777888624</title>\n<polygon fill=\"none\" points=\"46.5,-1533.5 46.5,-1569.5 156.5,-1569.5 156.5,-1533.5 46.5,-1533.5\" stroke=\"#000000\"/>\n<text fill=\"#000000\" font-family=\"Times,serif\" font-size=\"14.00\" text-anchor=\"middle\" x=\"101.5\" y=\"-1547.8\">conv1: Conv2D</text>\n</g>\n<!-- 140276777068920&#45;&gt;140276777888624 -->\n<g class=\"edge\" id=\"edge7\">\n<title>140276777068920-&gt;140276777888624</title>\n<path d=\"M106.0169,-1606.4551C105.3534,-1598.3828 104.5556,-1588.6764 103.8163,-1579.6817\" fill=\"none\" stroke=\"#000000\"/>\n<polygon fill=\"#000000\" points=\"107.2944,-1579.27 102.9869,-1569.5904 100.3179,-1579.8435 107.2944,-1579.27\" stroke=\"#000000\"/>\n</g>\n<!-- 140276775808024 -->\n<g class=\"node\" id=\"node9\">\n<title>140276775808024</title>\n<polygon fill=\"none\" points=\"185.5,-1533.5 185.5,-1569.5 295.5,-1569.5 295.5,-1533.5 185.5,-1533.5\" stroke=\"#000000\"/>\n<text fill=\"#000000\" font-family=\"Times,serif\" font-size=\"14.00\" text-anchor=\"middle\" x=\"240.5\" y=\"-1547.8\">conv4: Conv2D</text>\n</g>\n<!-- 140276776003176&#45;&gt;140276775808024 -->\n<g class=\"edge\" id=\"edge8\">\n<title>140276776003176-&gt;140276775808024</title>\n<path d=\"M284.9157,-1606.4551C277.8952,-1597.7686 269.3452,-1587.1898 261.6285,-1577.642\" fill=\"none\" stroke=\"#000000\"/>\n<polygon fill=\"#000000\" points=\"264.129,-1575.1677 255.121,-1569.5904 258.6848,-1579.5678 264.129,-1575.1677\" stroke=\"#000000\"/>\n</g>\n<!-- 140276777155608 -->\n<g class=\"node\" id=\"node10\">\n<title>140276777155608</title>\n<polygon fill=\"none\" points=\"0,-1460.5 0,-1496.5 179,-1496.5 179,-1460.5 0,-1460.5\" stroke=\"#000000\"/>\n<text fill=\"#000000\" font-family=\"Times,serif\" font-size=\"14.00\" text-anchor=\"middle\" x=\"89.5\" y=\"-1474.8\">bn1: BatchNormalizationV1</text>\n</g>\n<!-- 140276777888624&#45;&gt;140276777155608 -->\n<g class=\"edge\" id=\"edge9\">\n<title>140276777888624-&gt;140276777155608</title>\n<path d=\"M98.5337,-1533.4551C97.2068,-1525.3828 95.6112,-1515.6764 94.1326,-1506.6817\" fill=\"none\" stroke=\"#000000\"/>\n<polygon fill=\"#000000\" points=\"97.5496,-1505.8902 92.4738,-1496.5904 90.6423,-1507.0257 97.5496,-1505.8902\" stroke=\"#000000\"/>\n</g>\n<!-- 140276775366272 -->\n<g class=\"node\" id=\"node11\">\n<title>140276775366272</title>\n<polygon fill=\"none\" points=\"197,-1460.5 197,-1496.5 376,-1496.5 376,-1460.5 197,-1460.5\" stroke=\"#000000\"/>\n<text fill=\"#000000\" font-family=\"Times,serif\" font-size=\"14.00\" text-anchor=\"middle\" x=\"286.5\" y=\"-1474.8\">bn4: BatchNormalizationV1</text>\n</g>\n<!-- 140276775808024&#45;&gt;140276775366272 -->\n<g class=\"edge\" id=\"edge10\">\n<title>140276775808024-&gt;140276775366272</title>\n<path d=\"M251.8708,-1533.4551C257.2338,-1524.9441 263.7417,-1514.6165 269.6615,-1505.2219\" fill=\"none\" stroke=\"#000000\"/>\n<polygon fill=\"#000000\" points=\"272.7305,-1506.9167 275.1006,-1496.5904 266.8082,-1503.1848 272.7305,-1506.9167\" stroke=\"#000000\"/>\n</g>\n<!-- 140276777153256 -->\n<g class=\"node\" id=\"node12\">\n<title>140276777153256</title>\n<polygon fill=\"none\" points=\"5,-1387.5 5,-1423.5 174,-1423.5 174,-1387.5 5,-1387.5\" stroke=\"#000000\"/>\n<text fill=\"#000000\" font-family=\"Times,serif\" font-size=\"14.00\" text-anchor=\"middle\" x=\"89.5\" y=\"-1401.8\">activation_101: Activation</text>\n</g>\n<!-- 140276777155608&#45;&gt;140276777153256 -->\n<g class=\"edge\" id=\"edge11\">\n<title>140276777155608-&gt;140276777153256</title>\n<path d=\"M89.5,-1460.4551C89.5,-1452.3828 89.5,-1442.6764 89.5,-1433.6817\" fill=\"none\" stroke=\"#000000\"/>\n<polygon fill=\"#000000\" points=\"93.0001,-1433.5903 89.5,-1423.5904 86.0001,-1433.5904 93.0001,-1433.5903\" stroke=\"#000000\"/>\n</g>\n<!-- 140276775365656 -->\n<g class=\"node\" id=\"node13\">\n<title>140276775365656</title>\n<polygon fill=\"none\" points=\"202,-1387.5 202,-1423.5 371,-1423.5 371,-1387.5 202,-1387.5\" stroke=\"#000000\"/>\n<text fill=\"#000000\" font-family=\"Times,serif\" font-size=\"14.00\" text-anchor=\"middle\" x=\"286.5\" y=\"-1401.8\">activation_104: Activation</text>\n</g>\n<!-- 140276775366272&#45;&gt;140276775365656 -->\n<g class=\"edge\" id=\"edge12\">\n<title>140276775366272-&gt;140276775365656</title>\n<path d=\"M286.5,-1460.4551C286.5,-1452.3828 286.5,-1442.6764 286.5,-1433.6817\" fill=\"none\" stroke=\"#000000\"/>\n<polygon fill=\"#000000\" points=\"290.0001,-1433.5903 286.5,-1423.5904 283.0001,-1433.5904 290.0001,-1433.5903\" stroke=\"#000000\"/>\n</g>\n<!-- 140276798689176 -->\n<g class=\"node\" id=\"node15\">\n<title>140276798689176</title>\n<polygon fill=\"none\" points=\"34.5,-1314.5 34.5,-1350.5 144.5,-1350.5 144.5,-1314.5 34.5,-1314.5\" stroke=\"#000000\"/>\n<text fill=\"#000000\" font-family=\"Times,serif\" font-size=\"14.00\" text-anchor=\"middle\" x=\"89.5\" y=\"-1328.8\">conv2: Conv2D</text>\n</g>\n<!-- 140276777153256&#45;&gt;140276798689176 -->\n<g class=\"edge\" id=\"edge14\">\n<title>140276777153256-&gt;140276798689176</title>\n<path d=\"M89.5,-1387.4551C89.5,-1379.3828 89.5,-1369.6764 89.5,-1360.6817\" fill=\"none\" stroke=\"#000000\"/>\n<polygon fill=\"#000000\" points=\"93.0001,-1360.5903 89.5,-1350.5904 86.0001,-1360.5904 93.0001,-1360.5903\" stroke=\"#000000\"/>\n</g>\n<!-- 140276775306408 -->\n<g class=\"node\" id=\"node16\">\n<title>140276775306408</title>\n<polygon fill=\"none\" points=\"231.5,-1314.5 231.5,-1350.5 341.5,-1350.5 341.5,-1314.5 231.5,-1314.5\" stroke=\"#000000\"/>\n<text fill=\"#000000\" font-family=\"Times,serif\" font-size=\"14.00\" text-anchor=\"middle\" x=\"286.5\" y=\"-1328.8\">conv5: Conv2D</text>\n</g>\n<!-- 140276775365656&#45;&gt;140276775306408 -->\n<g class=\"edge\" id=\"edge15\">\n<title>140276775365656-&gt;140276775306408</title>\n<path d=\"M286.5,-1387.4551C286.5,-1379.3828 286.5,-1369.6764 286.5,-1360.6817\" fill=\"none\" stroke=\"#000000\"/>\n<polygon fill=\"#000000\" points=\"290.0001,-1360.5903 286.5,-1350.5904 283.0001,-1360.5904 290.0001,-1360.5903\" stroke=\"#000000\"/>\n</g>\n<!-- 140276774789192 -->\n<g class=\"node\" id=\"node17\">\n<title>140276774789192</title>\n<polygon fill=\"none\" points=\"418.5,-1606.5 418.5,-1642.5 528.5,-1642.5 528.5,-1606.5 418.5,-1606.5\" stroke=\"#000000\"/>\n<text fill=\"#000000\" font-family=\"Times,serif\" font-size=\"14.00\" text-anchor=\"middle\" x=\"473.5\" y=\"-1620.8\">conv6: Conv2D</text>\n</g>\n<!-- 140276774698960&#45;&gt;140276774789192 -->\n<g class=\"edge\" id=\"edge16\">\n<title>140276774698960-&gt;140276774789192</title>\n<path d=\"M473.5,-1752.3042C473.5,-1727.3868 473.5,-1682.3938 473.5,-1652.9877\" fill=\"none\" stroke=\"#000000\"/>\n<polygon fill=\"#000000\" points=\"477.0001,-1652.9251 473.5,-1642.9251 470.0001,-1652.9251 477.0001,-1652.9251\" stroke=\"#000000\"/>\n</g>\n<!-- 140276807017808 -->\n<g class=\"node\" id=\"node18\">\n<title>140276807017808</title>\n<polygon fill=\"none\" points=\"0,-1241.5 0,-1277.5 179,-1277.5 179,-1241.5 0,-1241.5\" stroke=\"#000000\"/>\n<text fill=\"#000000\" font-family=\"Times,serif\" font-size=\"14.00\" text-anchor=\"middle\" x=\"89.5\" y=\"-1255.8\">bn2: BatchNormalizationV1</text>\n</g>\n<!-- 140276798689176&#45;&gt;140276807017808 -->\n<g class=\"edge\" id=\"edge17\">\n<title>140276798689176-&gt;140276807017808</title>\n<path d=\"M89.5,-1314.4551C89.5,-1306.3828 89.5,-1296.6764 89.5,-1287.6817\" fill=\"none\" stroke=\"#000000\"/>\n<polygon fill=\"#000000\" points=\"93.0001,-1287.5903 89.5,-1277.5904 86.0001,-1287.5904 93.0001,-1287.5903\" stroke=\"#000000\"/>\n</g>\n<!-- 140276774853264 -->\n<g class=\"node\" id=\"node19\">\n<title>140276774853264</title>\n<polygon fill=\"none\" points=\"197,-1241.5 197,-1277.5 376,-1277.5 376,-1241.5 197,-1241.5\" stroke=\"#000000\"/>\n<text fill=\"#000000\" font-family=\"Times,serif\" font-size=\"14.00\" text-anchor=\"middle\" x=\"286.5\" y=\"-1255.8\">bn5: BatchNormalizationV1</text>\n</g>\n<!-- 140276775306408&#45;&gt;140276774853264 -->\n<g class=\"edge\" id=\"edge18\">\n<title>140276775306408-&gt;140276774853264</title>\n<path d=\"M286.5,-1314.4551C286.5,-1306.3828 286.5,-1296.6764 286.5,-1287.6817\" fill=\"none\" stroke=\"#000000\"/>\n<polygon fill=\"#000000\" points=\"290.0001,-1287.5903 286.5,-1277.5904 283.0001,-1287.5904 290.0001,-1287.5903\" stroke=\"#000000\"/>\n</g>\n<!-- 140276774054264 -->\n<g class=\"node\" id=\"node20\">\n<title>140276774054264</title>\n<polygon fill=\"none\" points=\"314,-1533.5 314,-1569.5 633,-1569.5 633,-1533.5 314,-1533.5\" stroke=\"#000000\"/>\n<text fill=\"#000000\" font-family=\"Times,serif\" font-size=\"14.00\" text-anchor=\"middle\" x=\"473.5\" y=\"-1547.8\">batch_normalization_v1_51: BatchNormalizationV1</text>\n</g>\n<!-- 140276774789192&#45;&gt;140276774054264 -->\n<g class=\"edge\" id=\"edge19\">\n<title>140276774789192-&gt;140276774054264</title>\n<path d=\"M473.5,-1606.4551C473.5,-1598.3828 473.5,-1588.6764 473.5,-1579.6817\" fill=\"none\" stroke=\"#000000\"/>\n<polygon fill=\"#000000\" points=\"477.0001,-1579.5903 473.5,-1569.5904 470.0001,-1579.5904 477.0001,-1579.5903\" stroke=\"#000000\"/>\n</g>\n<!-- 140276806221776 -->\n<g class=\"node\" id=\"node21\">\n<title>140276806221776</title>\n<polygon fill=\"none\" points=\"10,-1168.5 10,-1204.5 179,-1204.5 179,-1168.5 10,-1168.5\" stroke=\"#000000\"/>\n<text fill=\"#000000\" font-family=\"Times,serif\" font-size=\"14.00\" text-anchor=\"middle\" x=\"94.5\" y=\"-1182.8\">activation_102: Activation</text>\n</g>\n<!-- 140276807017808&#45;&gt;140276806221776 -->\n<g class=\"edge\" id=\"edge20\">\n<title>140276807017808-&gt;140276806221776</title>\n<path d=\"M90.736,-1241.4551C91.2888,-1233.3828 91.9537,-1223.6764 92.5697,-1214.6817\" fill=\"none\" stroke=\"#000000\"/>\n<polygon fill=\"#000000\" points=\"96.0693,-1214.8062 93.2609,-1204.5904 89.0857,-1214.3278 96.0693,-1214.8062\" stroke=\"#000000\"/>\n</g>\n<!-- 140276774853712 -->\n<g class=\"node\" id=\"node22\">\n<title>140276774853712</title>\n<polygon fill=\"none\" points=\"202,-1168.5 202,-1204.5 371,-1204.5 371,-1168.5 202,-1168.5\" stroke=\"#000000\"/>\n<text fill=\"#000000\" font-family=\"Times,serif\" font-size=\"14.00\" text-anchor=\"middle\" x=\"286.5\" y=\"-1182.8\">activation_105: Activation</text>\n</g>\n<!-- 140276774853264&#45;&gt;140276774853712 -->\n<g class=\"edge\" id=\"edge21\">\n<title>140276774853264-&gt;140276774853712</title>\n<path d=\"M286.5,-1241.4551C286.5,-1233.3828 286.5,-1223.6764 286.5,-1214.6817\" fill=\"none\" stroke=\"#000000\"/>\n<polygon fill=\"#000000\" points=\"290.0001,-1214.5903 286.5,-1204.5904 283.0001,-1214.5904 290.0001,-1214.5903\" stroke=\"#000000\"/>\n</g>\n<!-- 140276774186176 -->\n<g class=\"node\" id=\"node23\">\n<title>140276774186176</title>\n<polygon fill=\"none\" points=\"389,-1387.5 389,-1423.5 558,-1423.5 558,-1387.5 389,-1387.5\" stroke=\"#000000\"/>\n<text fill=\"#000000\" font-family=\"Times,serif\" font-size=\"14.00\" text-anchor=\"middle\" x=\"473.5\" y=\"-1401.8\">activation_106: Activation</text>\n</g>\n<!-- 140276774054264&#45;&gt;140276774186176 -->\n<g class=\"edge\" id=\"edge22\">\n<title>140276774054264-&gt;140276774186176</title>\n<path d=\"M473.5,-1533.3042C473.5,-1508.3868 473.5,-1463.3938 473.5,-1433.9877\" fill=\"none\" stroke=\"#000000\"/>\n<polygon fill=\"#000000\" points=\"477.0001,-1433.9251 473.5,-1423.9251 470.0001,-1433.9251 477.0001,-1433.9251\" stroke=\"#000000\"/>\n</g>\n<!-- 140276774186904 -->\n<g class=\"node\" id=\"node24\">\n<title>140276774186904</title>\n<polygon fill=\"none\" points=\"195.5,-1095.5 195.5,-1131.5 377.5,-1131.5 377.5,-1095.5 195.5,-1095.5\" stroke=\"#000000\"/>\n<text fill=\"#000000\" font-family=\"Times,serif\" font-size=\"14.00\" text-anchor=\"middle\" x=\"286.5\" y=\"-1109.8\">concatenate_28: Concatenate</text>\n</g>\n<!-- 140276806221776&#45;&gt;140276774186904 -->\n<g class=\"edge\" id=\"edge23\">\n<title>140276806221776-&gt;140276774186904</title>\n<path d=\"M141.9607,-1168.4551C168.3841,-1158.4087 201.4653,-1145.8309 229.3091,-1135.2445\" fill=\"none\" stroke=\"#000000\"/>\n<polygon fill=\"#000000\" points=\"230.8166,-1138.4158 238.9199,-1131.5904 228.3288,-1131.8728 230.8166,-1138.4158\" stroke=\"#000000\"/>\n</g>\n<!-- 140276774853712&#45;&gt;140276774186904 -->\n<g class=\"edge\" id=\"edge24\">\n<title>140276774853712-&gt;140276774186904</title>\n<path d=\"M286.5,-1168.4551C286.5,-1160.3828 286.5,-1150.6764 286.5,-1141.6817\" fill=\"none\" stroke=\"#000000\"/>\n<polygon fill=\"#000000\" points=\"290.0001,-1141.5903 286.5,-1131.5904 283.0001,-1141.5904 290.0001,-1141.5903\" stroke=\"#000000\"/>\n</g>\n<!-- 140276774186176&#45;&gt;140276774186904 -->\n<g class=\"edge\" id=\"edge25\">\n<title>140276774186176-&gt;140276774186904</title>\n<path d=\"M470.5,-1387.3328C462.6245,-1344.5603 437.807,-1236.0016 379.5,-1168 368.6053,-1155.2939 353.9719,-1144.8139 339.5418,-1136.5554\" fill=\"none\" stroke=\"#000000\"/>\n<polygon fill=\"#000000\" points=\"341.0754,-1133.4053 330.6186,-1131.7003 337.7298,-1139.5541 341.0754,-1133.4053\" stroke=\"#000000\"/>\n</g>\n<!-- 140276773706832 -->\n<g class=\"node\" id=\"node26\">\n<title>140276773706832</title>\n<polygon fill=\"none\" points=\"366.5,-1022.5 366.5,-1058.5 476.5,-1058.5 476.5,-1022.5 366.5,-1022.5\" stroke=\"#000000\"/>\n<text fill=\"#000000\" font-family=\"Times,serif\" font-size=\"14.00\" text-anchor=\"middle\" x=\"421.5\" y=\"-1036.8\">conv8: Conv2D</text>\n</g>\n<!-- 140276774186904&#45;&gt;140276773706832 -->\n<g class=\"edge\" id=\"edge27\">\n<title>140276774186904-&gt;140276773706832</title>\n<path d=\"M319.8708,-1095.4551C337.8007,-1085.7596 360.0905,-1073.7066 379.2227,-1063.361\" fill=\"none\" stroke=\"#000000\"/>\n<polygon fill=\"#000000\" points=\"380.9137,-1066.4257 388.0452,-1058.5904 377.5841,-1060.2682 380.9137,-1066.4257\" stroke=\"#000000\"/>\n</g>\n<!-- 140276772715040 -->\n<g class=\"node\" id=\"node40\">\n<title>140276772715040</title>\n<polygon fill=\"none\" points=\"425.5,-511.5 425.5,-547.5 607.5,-547.5 607.5,-511.5 425.5,-511.5\" stroke=\"#000000\"/>\n<text fill=\"#000000\" font-family=\"Times,serif\" font-size=\"14.00\" text-anchor=\"middle\" x=\"516.5\" y=\"-525.8\">concatenate_30: Concatenate</text>\n</g>\n<!-- 140276774186904&#45;&gt;140276772715040 -->\n<g class=\"edge\" id=\"edge42\">\n<title>140276774186904-&gt;140276772715040</title>\n<path d=\"M286.2928,-1095.0623C285.9999,-1067.367 285.5,-1013.3795 285.5,-967.5 285.5,-967.5 285.5,-967.5 285.5,-675.5 285.5,-608.149 356.536,-570.5985 419.8234,-550.5088\" fill=\"none\" stroke=\"#000000\"/>\n<polygon fill=\"#000000\" points=\"420.9581,-553.8219 429.498,-547.5512 418.9116,-547.1277 420.9581,-553.8219\" stroke=\"#000000\"/>\n</g>\n<!-- 140276773571888 -->\n<g class=\"node\" id=\"node27\">\n<title>140276773571888</title>\n<polygon fill=\"none\" points=\"502,-1460.5 502,-1496.5 821,-1496.5 821,-1460.5 502,-1460.5\" stroke=\"#000000\"/>\n<text fill=\"#000000\" font-family=\"Times,serif\" font-size=\"14.00\" text-anchor=\"middle\" x=\"661.5\" y=\"-1474.8\">batch_normalization_v1_52: BatchNormalizationV1</text>\n</g>\n<!-- 140276774186680&#45;&gt;140276773571888 -->\n<g class=\"edge\" id=\"edge28\">\n<title>140276774186680-&gt;140276773571888</title>\n<path d=\"M645.0037,-1679.2049C648.1483,-1640.9458 655.4373,-1552.2623 659.1843,-1506.6742\" fill=\"none\" stroke=\"#000000\"/>\n<polygon fill=\"#000000\" points=\"662.6822,-1506.8422 660.0132,-1496.589 655.7057,-1506.2687 662.6822,-1506.8422\" stroke=\"#000000\"/>\n</g>\n<!-- 140276773360976 -->\n<g class=\"node\" id=\"node28\">\n<title>140276773360976</title>\n<polygon fill=\"none\" points=\"314,-949.5 314,-985.5 633,-985.5 633,-949.5 314,-949.5\" stroke=\"#000000\"/>\n<text fill=\"#000000\" font-family=\"Times,serif\" font-size=\"14.00\" text-anchor=\"middle\" x=\"473.5\" y=\"-963.8\">batch_normalization_v1_53: BatchNormalizationV1</text>\n</g>\n<!-- 140276773706832&#45;&gt;140276773360976 -->\n<g class=\"edge\" id=\"edge29\">\n<title>140276773706832-&gt;140276773360976</title>\n<path d=\"M434.3539,-1022.4551C440.479,-1013.8564 447.925,-1003.4034 454.672,-993.9316\" fill=\"none\" stroke=\"#000000\"/>\n<polygon fill=\"#000000\" points=\"457.6626,-995.7659 460.6137,-985.5904 451.9611,-991.7046 457.6626,-995.7659\" stroke=\"#000000\"/>\n</g>\n<!-- 140276773570544 -->\n<g class=\"node\" id=\"node29\">\n<title>140276773570544</title>\n<polygon fill=\"none\" points=\"577,-1095.5 577,-1131.5 746,-1131.5 746,-1095.5 577,-1095.5\" stroke=\"#000000\"/>\n<text fill=\"#000000\" font-family=\"Times,serif\" font-size=\"14.00\" text-anchor=\"middle\" x=\"661.5\" y=\"-1109.8\">activation_107: Activation</text>\n</g>\n<!-- 140276773571888&#45;&gt;140276773570544 -->\n<g class=\"edge\" id=\"edge30\">\n<title>140276773571888-&gt;140276773570544</title>\n<path d=\"M661.5,-1460.062C661.5,-1432.3663 661.5,-1378.3785 661.5,-1332.5 661.5,-1332.5 661.5,-1332.5 661.5,-1259.5 661.5,-1218.8187 661.5,-1171.7612 661.5,-1142.3124\" fill=\"none\" stroke=\"#000000\"/>\n<polygon fill=\"#000000\" points=\"665.0001,-1141.9379 661.5,-1131.938 658.0001,-1141.938 665.0001,-1141.9379\" stroke=\"#000000\"/>\n</g>\n<!-- 140276773362152 -->\n<g class=\"node\" id=\"node30\">\n<title>140276773362152</title>\n<polygon fill=\"none\" points=\"427,-876.5 427,-912.5 596,-912.5 596,-876.5 427,-876.5\" stroke=\"#000000\"/>\n<text fill=\"#000000\" font-family=\"Times,serif\" font-size=\"14.00\" text-anchor=\"middle\" x=\"511.5\" y=\"-890.8\">activation_108: Activation</text>\n</g>\n<!-- 140276773360976&#45;&gt;140276773362152 -->\n<g class=\"edge\" id=\"edge31\">\n<title>140276773360976-&gt;140276773362152</title>\n<path d=\"M482.8933,-949.4551C487.2779,-941.0319 492.5889,-930.8292 497.4386,-921.5128\" fill=\"none\" stroke=\"#000000\"/>\n<polygon fill=\"#000000\" points=\"500.5703,-923.0766 502.0831,-912.5904 494.3611,-919.8445 500.5703,-923.0766\" stroke=\"#000000\"/>\n</g>\n<!-- 140276773198592 -->\n<g class=\"node\" id=\"node31\">\n<title>140276773198592</title>\n<polygon fill=\"none\" points=\"570.5,-803.5 570.5,-839.5 752.5,-839.5 752.5,-803.5 570.5,-803.5\" stroke=\"#000000\"/>\n<text fill=\"#000000\" font-family=\"Times,serif\" font-size=\"14.00\" text-anchor=\"middle\" x=\"661.5\" y=\"-817.8\">concatenate_29: Concatenate</text>\n</g>\n<!-- 140276773570544&#45;&gt;140276773198592 -->\n<g class=\"edge\" id=\"edge32\">\n<title>140276773570544-&gt;140276773198592</title>\n<path d=\"M661.5,-1095.2341C661.5,-1045.8675 661.5,-909.5016 661.5,-849.947\" fill=\"none\" stroke=\"#000000\"/>\n<polygon fill=\"#000000\" points=\"665.0001,-849.759 661.5,-839.759 658.0001,-849.759 665.0001,-849.759\" stroke=\"#000000\"/>\n</g>\n<!-- 140276773362152&#45;&gt;140276773198592 -->\n<g class=\"edge\" id=\"edge33\">\n<title>140276773362152-&gt;140276773198592</title>\n<path d=\"M548.5787,-876.4551C568.6811,-866.6719 593.7159,-854.4883 615.1015,-844.0806\" fill=\"none\" stroke=\"#000000\"/>\n<polygon fill=\"#000000\" points=\"616.8679,-847.1135 624.328,-839.5904 613.8047,-840.8193 616.8679,-847.1135\" stroke=\"#000000\"/>\n</g>\n<!-- 140276772714592 -->\n<g class=\"node\" id=\"node32\">\n<title>140276772714592</title>\n<polygon fill=\"none\" points=\"739.5,-730.5 739.5,-766.5 857.5,-766.5 857.5,-730.5 739.5,-730.5\" stroke=\"#000000\"/>\n<text fill=\"#000000\" font-family=\"Times,serif\" font-size=\"14.00\" text-anchor=\"middle\" x=\"798.5\" y=\"-744.8\">conv10: Conv2D</text>\n</g>\n<!-- 140276773198592&#45;&gt;140276772714592 -->\n<g class=\"edge\" id=\"edge34\">\n<title>140276773198592-&gt;140276772714592</title>\n<path d=\"M695.3652,-803.4551C713.5607,-793.7596 736.1807,-781.7066 755.5964,-771.361\" fill=\"none\" stroke=\"#000000\"/>\n<polygon fill=\"#000000\" points=\"757.3702,-774.3818 764.5496,-766.5904 754.0784,-768.2041 757.3702,-774.3818\" stroke=\"#000000\"/>\n</g>\n<!-- 140276773198144 -->\n<g class=\"node\" id=\"node34\">\n<title>140276773198144</title>\n<polygon fill=\"none\" points=\"471.5,-730.5 471.5,-766.5 581.5,-766.5 581.5,-730.5 471.5,-730.5\" stroke=\"#000000\"/>\n<text fill=\"#000000\" font-family=\"Times,serif\" font-size=\"14.00\" text-anchor=\"middle\" x=\"526.5\" y=\"-744.8\">conv9: Conv2D</text>\n</g>\n<!-- 140276773198592&#45;&gt;140276773198144 -->\n<g class=\"edge\" id=\"edge36\">\n<title>140276773198592-&gt;140276773198144</title>\n<path d=\"M628.1292,-803.4551C610.1993,-793.7596 587.9095,-781.7066 568.7773,-771.361\" fill=\"none\" stroke=\"#000000\"/>\n<polygon fill=\"#000000\" points=\"570.4159,-768.2682 559.9548,-766.5904 567.0863,-774.4257 570.4159,-768.2682\" stroke=\"#000000\"/>\n</g>\n<!-- 140276773198592&#45;&gt;140276772715040 -->\n<g class=\"edge\" id=\"edge43\">\n<title>140276773198592-&gt;140276772715040</title>\n<path d=\"M662.9469,-803.251C664.6846,-771.8296 664.971,-706.1552 642.5,-657 622.6901,-613.666 581.5071,-576.5604 551.602,-553.7332\" fill=\"none\" stroke=\"#000000\"/>\n<polygon fill=\"#000000\" points=\"553.6005,-550.8575 543.4933,-547.6801 549.413,-556.4669 553.6005,-550.8575\" stroke=\"#000000\"/>\n</g>\n<!-- 140276771950432 -->\n<g class=\"node\" id=\"node33\">\n<title>140276771950432</title>\n<polygon fill=\"none\" points=\"690,-657.5 690,-693.5 1009,-693.5 1009,-657.5 690,-657.5\" stroke=\"#000000\"/>\n<text fill=\"#000000\" font-family=\"Times,serif\" font-size=\"14.00\" text-anchor=\"middle\" x=\"849.5\" y=\"-671.8\">batch_normalization_v1_55: BatchNormalizationV1</text>\n</g>\n<!-- 140276772714592&#45;&gt;140276771950432 -->\n<g class=\"edge\" id=\"edge35\">\n<title>140276772714592-&gt;140276771950432</title>\n<path d=\"M811.1067,-730.4551C817.114,-721.8564 824.4168,-711.4034 831.0341,-701.9316\" fill=\"none\" stroke=\"#000000\"/>\n<polygon fill=\"#000000\" points=\"834.0036,-703.7925 836.8615,-693.5904 828.2652,-699.7835 834.0036,-703.7925\" stroke=\"#000000\"/>\n</g>\n<!-- 140276772118088 -->\n<g class=\"node\" id=\"node35\">\n<title>140276772118088</title>\n<polygon fill=\"none\" points=\"756.5,-584.5 756.5,-620.5 924.5,-620.5 924.5,-584.5 756.5,-584.5\" stroke=\"#000000\"/>\n<text fill=\"#000000\" font-family=\"Times,serif\" font-size=\"14.00\" text-anchor=\"middle\" x=\"840.5\" y=\"-598.8\">activation_110: Activation</text>\n</g>\n<!-- 140276771950432&#45;&gt;140276772118088 -->\n<g class=\"edge\" id=\"edge37\">\n<title>140276771950432-&gt;140276772118088</title>\n<path d=\"M847.2753,-657.4551C846.2801,-649.3828 845.0834,-639.6764 843.9745,-630.6817\" fill=\"none\" stroke=\"#000000\"/>\n<polygon fill=\"#000000\" points=\"847.4277,-630.0869 842.7303,-620.5904 840.4803,-630.9435 847.4277,-630.0869\" stroke=\"#000000\"/>\n</g>\n<!-- 140276772773728 -->\n<g class=\"node\" id=\"node36\">\n<title>140276772773728</title>\n<polygon fill=\"none\" points=\"314,-657.5 314,-693.5 633,-693.5 633,-657.5 314,-657.5\" stroke=\"#000000\"/>\n<text fill=\"#000000\" font-family=\"Times,serif\" font-size=\"14.00\" text-anchor=\"middle\" x=\"473.5\" y=\"-671.8\">batch_normalization_v1_54: BatchNormalizationV1</text>\n</g>\n<!-- 140276773198144&#45;&gt;140276772773728 -->\n<g class=\"edge\" id=\"edge38\">\n<title>140276773198144-&gt;140276772773728</title>\n<path d=\"M513.3989,-730.4551C507.156,-721.8564 499.5668,-711.4034 492.6901,-701.9316\" fill=\"none\" stroke=\"#000000\"/>\n<polygon fill=\"#000000\" points=\"495.3415,-699.6262 486.6341,-693.5904 489.677,-703.7388 495.3415,-699.6262\" stroke=\"#000000\"/>\n</g>\n<!-- 140276771687224 -->\n<g class=\"node\" id=\"node37\">\n<title>140276771687224</title>\n<polygon fill=\"none\" points=\"782,-511.5 782,-547.5 899,-547.5 899,-511.5 782,-511.5\" stroke=\"#000000\"/>\n<text fill=\"#000000\" font-family=\"Times,serif\" font-size=\"14.00\" text-anchor=\"middle\" x=\"840.5\" y=\"-525.8\">conv11: Conv2D</text>\n</g>\n<!-- 140276772118088&#45;&gt;140276771687224 -->\n<g class=\"edge\" id=\"edge39\">\n<title>140276772118088-&gt;140276771687224</title>\n<path d=\"M840.5,-584.4551C840.5,-576.3828 840.5,-566.6764 840.5,-557.6817\" fill=\"none\" stroke=\"#000000\"/>\n<polygon fill=\"#000000\" points=\"844.0001,-557.5903 840.5,-547.5904 837.0001,-557.5904 844.0001,-557.5903\" stroke=\"#000000\"/>\n</g>\n<!-- 140276771180728 -->\n<g class=\"node\" id=\"node42\">\n<title>140276771180728</title>\n<polygon fill=\"none\" points=\"616.5,-292.5 616.5,-328.5 798.5,-328.5 798.5,-292.5 616.5,-292.5\" stroke=\"#000000\"/>\n<text fill=\"#000000\" font-family=\"Times,serif\" font-size=\"14.00\" text-anchor=\"middle\" x=\"707.5\" y=\"-306.8\">concatenate_31: Concatenate</text>\n</g>\n<!-- 140276772118088&#45;&gt;140276771180728 -->\n<g class=\"edge\" id=\"edge47\">\n<title>140276772118088-&gt;140276771180728</title>\n<path d=\"M778.8095,-584.4192C710.6873,-561.0537 615.2408,-516.1805 652.5,-456.5\" fill=\"none\" stroke=\"#000000\"/>\n</g>\n<!-- 140276772610120 -->\n<g class=\"node\" id=\"node38\">\n<title>140276772610120</title>\n<polygon fill=\"none\" points=\"398,-584.5 398,-620.5 567,-620.5 567,-584.5 398,-584.5\" stroke=\"#000000\"/>\n<text fill=\"#000000\" font-family=\"Times,serif\" font-size=\"14.00\" text-anchor=\"middle\" x=\"482.5\" y=\"-598.8\">activation_109: Activation</text>\n</g>\n<!-- 140276772773728&#45;&gt;140276772610120 -->\n<g class=\"edge\" id=\"edge40\">\n<title>140276772773728-&gt;140276772610120</title>\n<path d=\"M475.7247,-657.4551C476.7199,-649.3828 477.9166,-639.6764 479.0255,-630.6817\" fill=\"none\" stroke=\"#000000\"/>\n<polygon fill=\"#000000\" points=\"482.5197,-630.9435 480.2697,-620.5904 475.5723,-630.0869 482.5197,-630.9435\" stroke=\"#000000\"/>\n</g>\n<!-- 140276771768864 -->\n<g class=\"node\" id=\"node39\">\n<title>140276771768864</title>\n<polygon fill=\"none\" points=\"681,-438.5 681,-474.5 1000,-474.5 1000,-438.5 681,-438.5\" stroke=\"#000000\"/>\n<text fill=\"#000000\" font-family=\"Times,serif\" font-size=\"14.00\" text-anchor=\"middle\" x=\"840.5\" y=\"-452.8\">batch_normalization_v1_56: BatchNormalizationV1</text>\n</g>\n<!-- 140276771687224&#45;&gt;140276771768864 -->\n<g class=\"edge\" id=\"edge41\">\n<title>140276771687224-&gt;140276771768864</title>\n<path d=\"M840.5,-511.4551C840.5,-503.3828 840.5,-493.6764 840.5,-484.6817\" fill=\"none\" stroke=\"#000000\"/>\n<polygon fill=\"#000000\" points=\"844.0001,-484.5903 840.5,-474.5904 837.0001,-484.5904 844.0001,-484.5903\" stroke=\"#000000\"/>\n</g>\n<!-- 140276772610120&#45;&gt;140276772715040 -->\n<g class=\"edge\" id=\"edge44\">\n<title>140276772610120-&gt;140276772715040</title>\n<path d=\"M490.9045,-584.4551C494.7868,-576.1196 499.4806,-566.0416 503.783,-556.8042\" fill=\"none\" stroke=\"#000000\"/>\n<polygon fill=\"#000000\" points=\"507.025,-558.1331 508.0744,-547.5904 500.6795,-555.1776 507.025,-558.1331\" stroke=\"#000000\"/>\n</g>\n<!-- 140276771608728 -->\n<g class=\"node\" id=\"node41\">\n<title>140276771608728</title>\n<polygon fill=\"none\" points=\"718,-365.5 718,-401.5 885,-401.5 885,-365.5 718,-365.5\" stroke=\"#000000\"/>\n<text fill=\"#000000\" font-family=\"Times,serif\" font-size=\"14.00\" text-anchor=\"middle\" x=\"801.5\" y=\"-379.8\">activation_111: Activation</text>\n</g>\n<!-- 140276771768864&#45;&gt;140276771608728 -->\n<g class=\"edge\" id=\"edge45\">\n<title>140276771768864-&gt;140276771608728</title>\n<path d=\"M830.8595,-438.4551C826.3595,-430.0319 820.9088,-419.8292 815.9315,-410.5128\" fill=\"none\" stroke=\"#000000\"/>\n<polygon fill=\"#000000\" points=\"818.964,-408.7613 811.1647,-401.5904 812.7898,-412.0598 818.964,-408.7613\" stroke=\"#000000\"/>\n</g>\n<!-- 140276772715040&#45;&gt;140276771180728 -->\n<g class=\"edge\" id=\"edge46\">\n<title>140276772715040-&gt;140276771180728</title>\n<path d=\"M590.0457,-511.366C616.2781,-500.4712 641.9493,-483.3057 652.5,-456.5\" fill=\"none\" stroke=\"#000000\"/>\n<path d=\"M652.5,-456.5C668.6507,-415.4666 686.5033,-367.5758 697.3612,-338.1452\" fill=\"none\" stroke=\"#000000\"/>\n<polygon fill=\"#000000\" points=\"700.7246,-339.1401 700.8958,-328.5466 694.1558,-336.7211 700.7246,-339.1401\" stroke=\"#000000\"/>\n</g>\n<!-- 140276771608728&#45;&gt;140276771180728 -->\n<g class=\"edge\" id=\"edge48\">\n<title>140276771608728-&gt;140276771180728</title>\n<path d=\"M778.264,-365.4551C766.4009,-356.2422 751.7967,-344.9006 738.9424,-334.918\" fill=\"none\" stroke=\"#000000\"/>\n<polygon fill=\"#000000\" points=\"740.8393,-331.9597 730.7944,-328.5904 736.5457,-337.4883 740.8393,-331.9597\" stroke=\"#000000\"/>\n</g>\n<!-- 140276771182408 -->\n<g class=\"node\" id=\"node43\">\n<title>140276771182408</title>\n<polygon fill=\"none\" points=\"651,-219.5 651,-255.5 764,-255.5 764,-219.5 651,-219.5\" stroke=\"#000000\"/>\n<text fill=\"#000000\" font-family=\"Times,serif\" font-size=\"14.00\" text-anchor=\"middle\" x=\"707.5\" y=\"-233.8\">flatten_7: Flatten</text>\n</g>\n<!-- 140276771180728&#45;&gt;140276771182408 -->\n<g class=\"edge\" id=\"edge49\">\n<title>140276771180728-&gt;140276771182408</title>\n<path d=\"M707.5,-292.4551C707.5,-284.3828 707.5,-274.6764 707.5,-265.6817\" fill=\"none\" stroke=\"#000000\"/>\n<polygon fill=\"#000000\" points=\"711.0001,-265.5903 707.5,-255.5904 704.0001,-265.5904 711.0001,-265.5903\" stroke=\"#000000\"/>\n</g>\n<!-- 140276771181232 -->\n<g class=\"node\" id=\"node44\">\n<title>140276771181232</title>\n<polygon fill=\"none\" points=\"670.5,-146.5 670.5,-182.5 744.5,-182.5 744.5,-146.5 670.5,-146.5\" stroke=\"#000000\"/>\n<text fill=\"#000000\" font-family=\"Times,serif\" font-size=\"14.00\" text-anchor=\"middle\" x=\"707.5\" y=\"-160.8\">d1: Dense</text>\n</g>\n<!-- 140276771182408&#45;&gt;140276771181232 -->\n<g class=\"edge\" id=\"edge50\">\n<title>140276771182408-&gt;140276771181232</title>\n<path d=\"M707.5,-219.4551C707.5,-211.3828 707.5,-201.6764 707.5,-192.6817\" fill=\"none\" stroke=\"#000000\"/>\n<polygon fill=\"#000000\" points=\"711.0001,-192.5903 707.5,-182.5904 704.0001,-192.5904 711.0001,-192.5903\" stroke=\"#000000\"/>\n</g>\n<!-- 140276770982992 -->\n<g class=\"node\" id=\"node45\">\n<title>140276770982992</title>\n<polygon fill=\"none\" points=\"548,-73.5 548,-109.5 867,-109.5 867,-73.5 548,-73.5\" stroke=\"#000000\"/>\n<text fill=\"#000000\" font-family=\"Times,serif\" font-size=\"14.00\" text-anchor=\"middle\" x=\"707.5\" y=\"-87.8\">batch_normalization_v1_57: BatchNormalizationV1</text>\n</g>\n<!-- 140276771181232&#45;&gt;140276770982992 -->\n<g class=\"edge\" id=\"edge51\">\n<title>140276771181232-&gt;140276770982992</title>\n<path d=\"M707.5,-146.4551C707.5,-138.3828 707.5,-128.6764 707.5,-119.6817\" fill=\"none\" stroke=\"#000000\"/>\n<polygon fill=\"#000000\" points=\"711.0001,-119.5903 707.5,-109.5904 704.0001,-119.5904 711.0001,-119.5903\" stroke=\"#000000\"/>\n</g>\n<!-- 140276771101664 -->\n<g class=\"node\" id=\"node46\">\n<title>140276771101664</title>\n<polygon fill=\"none\" points=\"672.5,-.5 672.5,-36.5 742.5,-36.5 742.5,-.5 672.5,-.5\" stroke=\"#000000\"/>\n<text fill=\"#000000\" font-family=\"Times,serif\" font-size=\"14.00\" text-anchor=\"middle\" x=\"707.5\" y=\"-14.8\">fc: Dense</text>\n</g>\n<!-- 140276770982992&#45;&gt;140276771101664 -->\n<g class=\"edge\" id=\"edge52\">\n<title>140276770982992-&gt;140276771101664</title>\n<path d=\"M707.5,-73.4551C707.5,-65.3828 707.5,-55.6764 707.5,-46.6817\" fill=\"none\" stroke=\"#000000\"/>\n<polygon fill=\"#000000\" points=\"711.0001,-46.5903 707.5,-36.5904 704.0001,-46.5904 711.0001,-46.5903\" stroke=\"#000000\"/>\n</g>\n</g>\n</svg>"
          },
          "metadata": {
            "tags": []
          },
          "execution_count": 41
        }
      ]
    },
    {
      "cell_type": "code",
      "metadata": {
        "id": "PgPBLgsOETio",
        "colab_type": "code",
        "colab": {}
      },
      "source": [
        "tpu_model.load_weights('./MNIST_TPU_1024.h5')"
      ],
      "execution_count": 0,
      "outputs": []
    },
    {
      "cell_type": "code",
      "metadata": {
        "id": "8DCeOwgRWBow",
        "colab_type": "code",
        "colab": {}
      },
      "source": [
        "model.compile(optimizer = tf.train.AdamOptimizer(learning_rate = 0.001),\n",
        "             loss = \"categorical_crossentropy\",\n",
        "             metrics = [\"acc\"])"
      ],
      "execution_count": 0,
      "outputs": []
    },
    {
      "cell_type": "code",
      "metadata": {
        "id": "jNTkRw-4GabZ",
        "colab_type": "code",
        "outputId": "8df54964-c615-4f7d-ef26-5ec5f63a0b6a",
        "colab": {
          "base_uri": "https://localhost:8080/",
          "height": 768
        }
      },
      "source": [
        "tpu_model = tf.contrib.tpu.keras_to_tpu_model(\n",
        "    model,\n",
        "    strategy=tf.contrib.tpu.TPUDistributionStrategy(\n",
        "        tf.contrib.cluster_resolver.TPUClusterResolver(TPU_ADDRESS)))"
      ],
      "execution_count": 51,
      "outputs": [
        {
          "output_type": "stream",
          "text": [
            "INFO:tensorflow:Querying Tensorflow master (grpc://10.73.129.34:8470) for TPU system metadata.\n",
            "INFO:tensorflow:Found TPU system:\n",
            "INFO:tensorflow:*** Num TPU Cores: 8\n",
            "INFO:tensorflow:*** Num TPU Workers: 1\n",
            "INFO:tensorflow:*** Num TPU Cores Per Worker: 8\n",
            "INFO:tensorflow:*** Available Device: _DeviceAttributes(/job:worker/replica:0/task:0/device:CPU:0, CPU, -1, 16297241073185263248)\n",
            "INFO:tensorflow:*** Available Device: _DeviceAttributes(/job:worker/replica:0/task:0/device:XLA_CPU:0, XLA_CPU, 17179869184, 1454377551568334393)\n",
            "INFO:tensorflow:*** Available Device: _DeviceAttributes(/job:worker/replica:0/task:0/device:TPU:0, TPU, 17179869184, 11718704630848561624)\n",
            "INFO:tensorflow:*** Available Device: _DeviceAttributes(/job:worker/replica:0/task:0/device:TPU:1, TPU, 17179869184, 18389063608214805396)\n",
            "INFO:tensorflow:*** Available Device: _DeviceAttributes(/job:worker/replica:0/task:0/device:TPU:2, TPU, 17179869184, 5197069596074187447)\n",
            "INFO:tensorflow:*** Available Device: _DeviceAttributes(/job:worker/replica:0/task:0/device:TPU:3, TPU, 17179869184, 800597513939774104)\n",
            "INFO:tensorflow:*** Available Device: _DeviceAttributes(/job:worker/replica:0/task:0/device:TPU:4, TPU, 17179869184, 16011675412892012912)\n",
            "INFO:tensorflow:*** Available Device: _DeviceAttributes(/job:worker/replica:0/task:0/device:TPU:5, TPU, 17179869184, 7608207224281763620)\n",
            "INFO:tensorflow:*** Available Device: _DeviceAttributes(/job:worker/replica:0/task:0/device:TPU:6, TPU, 17179869184, 14370011595550319689)\n",
            "INFO:tensorflow:*** Available Device: _DeviceAttributes(/job:worker/replica:0/task:0/device:TPU:7, TPU, 17179869184, 10933616467359171842)\n",
            "INFO:tensorflow:*** Available Device: _DeviceAttributes(/job:worker/replica:0/task:0/device:TPU_SYSTEM:0, TPU_SYSTEM, 17179869184, 712785250719475518)\n",
            "WARNING:tensorflow:tpu_model (from tensorflow.contrib.tpu.python.tpu.keras_support) is experimental and may change or be removed at any time, and without warning.\n"
          ],
          "name": "stdout"
        },
        {
          "output_type": "error",
          "ename": "InvalidArgumentError",
          "evalue": "ignored",
          "traceback": [
            "\u001b[0;31m---------------------------------------------------------------------------\u001b[0m",
            "\u001b[0;31mInvalidArgumentError\u001b[0m                      Traceback (most recent call last)",
            "\u001b[0;32m/usr/local/lib/python3.6/dist-packages/tensorflow/python/client/session.py\u001b[0m in \u001b[0;36m_do_call\u001b[0;34m(self, fn, *args)\u001b[0m\n\u001b[1;32m   1333\u001b[0m     \u001b[0;32mtry\u001b[0m\u001b[0;34m:\u001b[0m\u001b[0;34m\u001b[0m\u001b[0;34m\u001b[0m\u001b[0m\n\u001b[0;32m-> 1334\u001b[0;31m       \u001b[0;32mreturn\u001b[0m \u001b[0mfn\u001b[0m\u001b[0;34m(\u001b[0m\u001b[0;34m*\u001b[0m\u001b[0margs\u001b[0m\u001b[0;34m)\u001b[0m\u001b[0;34m\u001b[0m\u001b[0;34m\u001b[0m\u001b[0m\n\u001b[0m\u001b[1;32m   1335\u001b[0m     \u001b[0;32mexcept\u001b[0m \u001b[0merrors\u001b[0m\u001b[0;34m.\u001b[0m\u001b[0mOpError\u001b[0m \u001b[0;32mas\u001b[0m \u001b[0me\u001b[0m\u001b[0;34m:\u001b[0m\u001b[0;34m\u001b[0m\u001b[0;34m\u001b[0m\u001b[0m\n",
            "\u001b[0;32m/usr/local/lib/python3.6/dist-packages/tensorflow/python/client/session.py\u001b[0m in \u001b[0;36m_run_fn\u001b[0;34m(feed_dict, fetch_list, target_list, options, run_metadata)\u001b[0m\n\u001b[1;32m   1318\u001b[0m       return self._call_tf_sessionrun(\n\u001b[0;32m-> 1319\u001b[0;31m           options, feed_dict, fetch_list, target_list, run_metadata)\n\u001b[0m\u001b[1;32m   1320\u001b[0m \u001b[0;34m\u001b[0m\u001b[0m\n",
            "\u001b[0;32m/usr/local/lib/python3.6/dist-packages/tensorflow/python/client/session.py\u001b[0m in \u001b[0;36m_call_tf_sessionrun\u001b[0;34m(self, options, feed_dict, fetch_list, target_list, run_metadata)\u001b[0m\n\u001b[1;32m   1406\u001b[0m         \u001b[0mself\u001b[0m\u001b[0;34m.\u001b[0m\u001b[0m_session\u001b[0m\u001b[0;34m,\u001b[0m \u001b[0moptions\u001b[0m\u001b[0;34m,\u001b[0m \u001b[0mfeed_dict\u001b[0m\u001b[0;34m,\u001b[0m \u001b[0mfetch_list\u001b[0m\u001b[0;34m,\u001b[0m \u001b[0mtarget_list\u001b[0m\u001b[0;34m,\u001b[0m\u001b[0;34m\u001b[0m\u001b[0;34m\u001b[0m\u001b[0m\n\u001b[0;32m-> 1407\u001b[0;31m         run_metadata)\n\u001b[0m\u001b[1;32m   1408\u001b[0m \u001b[0;34m\u001b[0m\u001b[0m\n",
            "\u001b[0;31mInvalidArgumentError\u001b[0m: In ReadVariableOp the following variables were found uninitialized: batch_normalization_v1_51/beta, batch_normalization_v1_51/gamma, batch_normalization_v1_51/moving_mean, batch_normalization_v1_51/moving_variance, batch_normalization_v1_52/beta, batch_normalization_v1_52/gamma, batch_normalization_v1_52/moving_mean, batch_normalization_v1_52/moving_variance, batch_normalization_v1_53/beta, batch_normalization_v1_53/gamma, batch_normalization_v1_53/moving_mean, batch_normalization_v1_53/moving_variance, batch_normalization_v1_54/beta, batch_normalization_v1_54/gamma, batch_normalization_v1_54/moving_mean, batch_normalization_v1_54/moving_variance, batch_normalization_v1_55/beta, batch_normalization_v1_55/gamma, batch_normalization_v1_55/moving_mean, batch_normalization_v1_55/moving_variance, batch_normalization_v1_56/beta, batch_normalization_v1_56/gamma, batch_normalization_v1_56/moving_mean, batch_normalization_v1_56/moving_variance, batch_normalization_v1_57/beta, batch_normalization_v1_57/gamma, batch_normalization_v1_57/moving_mean, batch_normalization_v1_57/moving_variance, bn0_9/beta, bn0_9/gamma, bn0_9/moving_mean, bn0_9/moving_variance, bn1_9/beta, bn1_9/gamma, bn1_9/moving_mean, bn1_9/moving_variance, bn2_9/beta, bn2_9/gamma, bn2_9/moving_mean, bn2_9/moving_variance, bn3_9/beta, bn3_9/gamma, bn3_9/moving_mean, bn3_9/moving_variance, bn4_9/beta, bn4_9/gamma, bn4_9/moving_mean, bn4_9/moving_variance, bn5_9/beta, bn5_9/gamma, bn5_9/m...\n\t [[{{node ReadVariables_9731973287066678752/_1}}]]",
            "\nDuring handling of the above exception, another exception occurred:\n",
            "\u001b[0;31mInvalidArgumentError\u001b[0m                      Traceback (most recent call last)",
            "\u001b[0;32m<ipython-input-51-2bc25bb668ba>\u001b[0m in \u001b[0;36m<module>\u001b[0;34m()\u001b[0m\n\u001b[1;32m      2\u001b[0m     \u001b[0mmodel\u001b[0m\u001b[0;34m,\u001b[0m\u001b[0;34m\u001b[0m\u001b[0;34m\u001b[0m\u001b[0m\n\u001b[1;32m      3\u001b[0m     strategy=tf.contrib.tpu.TPUDistributionStrategy(\n\u001b[0;32m----> 4\u001b[0;31m         tf.contrib.cluster_resolver.TPUClusterResolver(TPU_ADDRESS)))\n\u001b[0m",
            "\u001b[0;32m/usr/local/lib/python3.6/dist-packages/tensorflow/contrib/framework/python/framework/experimental.py\u001b[0m in \u001b[0;36mnew_func\u001b[0;34m(*args, **kwargs)\u001b[0m\n\u001b[1;32m     62\u001b[0m         \u001b[0;34m'any time, and without warning.'\u001b[0m\u001b[0;34m,\u001b[0m\u001b[0;34m\u001b[0m\u001b[0;34m\u001b[0m\u001b[0m\n\u001b[1;32m     63\u001b[0m         decorator_utils.get_qualified_name(func), func.__module__)\n\u001b[0;32m---> 64\u001b[0;31m     \u001b[0;32mreturn\u001b[0m \u001b[0mfunc\u001b[0m\u001b[0;34m(\u001b[0m\u001b[0;34m*\u001b[0m\u001b[0margs\u001b[0m\u001b[0;34m,\u001b[0m \u001b[0;34m**\u001b[0m\u001b[0mkwargs\u001b[0m\u001b[0;34m)\u001b[0m\u001b[0;34m\u001b[0m\u001b[0;34m\u001b[0m\u001b[0m\n\u001b[0m\u001b[1;32m     65\u001b[0m   new_func.__doc__ = _add_experimental_function_notice_to_docstring(\n\u001b[1;32m     66\u001b[0m       func.__doc__)\n",
            "\u001b[0;32m/usr/local/lib/python3.6/dist-packages/tensorflow/contrib/tpu/python/tpu/keras_support.py\u001b[0m in \u001b[0;36mtpu_model\u001b[0;34m(model, strategy)\u001b[0m\n\u001b[1;32m   2219\u001b[0m     \u001b[0;32melse\u001b[0m\u001b[0;34m:\u001b[0m\u001b[0;34m\u001b[0m\u001b[0;34m\u001b[0m\u001b[0m\n\u001b[1;32m   2220\u001b[0m       \u001b[0moptimizer_config\u001b[0m \u001b[0;34m=\u001b[0m \u001b[0;32mNone\u001b[0m\u001b[0;34m\u001b[0m\u001b[0;34m\u001b[0m\u001b[0m\n\u001b[0;32m-> 2221\u001b[0;31m     \u001b[0mmodel_weights\u001b[0m \u001b[0;34m=\u001b[0m \u001b[0mmodel\u001b[0m\u001b[0;34m.\u001b[0m\u001b[0mget_weights\u001b[0m\u001b[0;34m(\u001b[0m\u001b[0;34m)\u001b[0m\u001b[0;34m\u001b[0m\u001b[0;34m\u001b[0m\u001b[0m\n\u001b[0m\u001b[1;32m   2222\u001b[0m   \u001b[0;32melse\u001b[0m\u001b[0;34m:\u001b[0m\u001b[0;34m\u001b[0m\u001b[0;34m\u001b[0m\u001b[0m\n\u001b[1;32m   2223\u001b[0m     \u001b[0mmodel_weights\u001b[0m \u001b[0;34m=\u001b[0m \u001b[0;32mNone\u001b[0m\u001b[0;34m\u001b[0m\u001b[0;34m\u001b[0m\u001b[0m\n",
            "\u001b[0;32m/usr/local/lib/python3.6/dist-packages/tensorflow/python/keras/engine/network.py\u001b[0m in \u001b[0;36mget_weights\u001b[0;34m(self)\u001b[0m\n\u001b[1;32m    390\u001b[0m     \u001b[0;32mfor\u001b[0m \u001b[0mlayer\u001b[0m \u001b[0;32min\u001b[0m \u001b[0mself\u001b[0m\u001b[0;34m.\u001b[0m\u001b[0mlayers\u001b[0m\u001b[0;34m:\u001b[0m\u001b[0;34m\u001b[0m\u001b[0;34m\u001b[0m\u001b[0m\n\u001b[1;32m    391\u001b[0m       \u001b[0mweights\u001b[0m \u001b[0;34m+=\u001b[0m \u001b[0mlayer\u001b[0m\u001b[0;34m.\u001b[0m\u001b[0mweights\u001b[0m\u001b[0;34m\u001b[0m\u001b[0;34m\u001b[0m\u001b[0m\n\u001b[0;32m--> 392\u001b[0;31m     \u001b[0;32mreturn\u001b[0m \u001b[0mbackend\u001b[0m\u001b[0;34m.\u001b[0m\u001b[0mbatch_get_value\u001b[0m\u001b[0;34m(\u001b[0m\u001b[0mweights\u001b[0m\u001b[0;34m)\u001b[0m\u001b[0;34m\u001b[0m\u001b[0;34m\u001b[0m\u001b[0m\n\u001b[0m\u001b[1;32m    393\u001b[0m \u001b[0;34m\u001b[0m\u001b[0m\n\u001b[1;32m    394\u001b[0m   \u001b[0;32mdef\u001b[0m \u001b[0mset_weights\u001b[0m\u001b[0;34m(\u001b[0m\u001b[0mself\u001b[0m\u001b[0;34m,\u001b[0m \u001b[0mweights\u001b[0m\u001b[0;34m)\u001b[0m\u001b[0;34m:\u001b[0m\u001b[0;34m\u001b[0m\u001b[0;34m\u001b[0m\u001b[0m\n",
            "\u001b[0;32m/usr/local/lib/python3.6/dist-packages/tensorflow/python/keras/backend.py\u001b[0m in \u001b[0;36mbatch_get_value\u001b[0;34m(tensors)\u001b[0m\n\u001b[1;32m   2817\u001b[0m     \u001b[0;32mraise\u001b[0m \u001b[0mRuntimeError\u001b[0m\u001b[0;34m(\u001b[0m\u001b[0;34m'Cannot get value inside Tensorflow graph function.'\u001b[0m\u001b[0;34m)\u001b[0m\u001b[0;34m\u001b[0m\u001b[0;34m\u001b[0m\u001b[0m\n\u001b[1;32m   2818\u001b[0m   \u001b[0;32mif\u001b[0m \u001b[0mtensors\u001b[0m\u001b[0;34m:\u001b[0m\u001b[0;34m\u001b[0m\u001b[0;34m\u001b[0m\u001b[0m\n\u001b[0;32m-> 2819\u001b[0;31m     \u001b[0;32mreturn\u001b[0m \u001b[0mget_session\u001b[0m\u001b[0;34m(\u001b[0m\u001b[0;34m)\u001b[0m\u001b[0;34m.\u001b[0m\u001b[0mrun\u001b[0m\u001b[0;34m(\u001b[0m\u001b[0mtensors\u001b[0m\u001b[0;34m)\u001b[0m\u001b[0;34m\u001b[0m\u001b[0;34m\u001b[0m\u001b[0m\n\u001b[0m\u001b[1;32m   2820\u001b[0m   \u001b[0;32melse\u001b[0m\u001b[0;34m:\u001b[0m\u001b[0;34m\u001b[0m\u001b[0;34m\u001b[0m\u001b[0m\n\u001b[1;32m   2821\u001b[0m     \u001b[0;32mreturn\u001b[0m \u001b[0;34m[\u001b[0m\u001b[0;34m]\u001b[0m\u001b[0;34m\u001b[0m\u001b[0;34m\u001b[0m\u001b[0m\n",
            "\u001b[0;32m/usr/local/lib/python3.6/dist-packages/tensorflow/python/client/session.py\u001b[0m in \u001b[0;36mrun\u001b[0;34m(self, fetches, feed_dict, options, run_metadata)\u001b[0m\n\u001b[1;32m    927\u001b[0m     \u001b[0;32mtry\u001b[0m\u001b[0;34m:\u001b[0m\u001b[0;34m\u001b[0m\u001b[0;34m\u001b[0m\u001b[0m\n\u001b[1;32m    928\u001b[0m       result = self._run(None, fetches, feed_dict, options_ptr,\n\u001b[0;32m--> 929\u001b[0;31m                          run_metadata_ptr)\n\u001b[0m\u001b[1;32m    930\u001b[0m       \u001b[0;32mif\u001b[0m \u001b[0mrun_metadata\u001b[0m\u001b[0;34m:\u001b[0m\u001b[0;34m\u001b[0m\u001b[0;34m\u001b[0m\u001b[0m\n\u001b[1;32m    931\u001b[0m         \u001b[0mproto_data\u001b[0m \u001b[0;34m=\u001b[0m \u001b[0mtf_session\u001b[0m\u001b[0;34m.\u001b[0m\u001b[0mTF_GetBuffer\u001b[0m\u001b[0;34m(\u001b[0m\u001b[0mrun_metadata_ptr\u001b[0m\u001b[0;34m)\u001b[0m\u001b[0;34m\u001b[0m\u001b[0;34m\u001b[0m\u001b[0m\n",
            "\u001b[0;32m/usr/local/lib/python3.6/dist-packages/tensorflow/python/client/session.py\u001b[0m in \u001b[0;36m_run\u001b[0;34m(self, handle, fetches, feed_dict, options, run_metadata)\u001b[0m\n\u001b[1;32m   1150\u001b[0m     \u001b[0;32mif\u001b[0m \u001b[0mfinal_fetches\u001b[0m \u001b[0;32mor\u001b[0m \u001b[0mfinal_targets\u001b[0m \u001b[0;32mor\u001b[0m \u001b[0;34m(\u001b[0m\u001b[0mhandle\u001b[0m \u001b[0;32mand\u001b[0m \u001b[0mfeed_dict_tensor\u001b[0m\u001b[0;34m)\u001b[0m\u001b[0;34m:\u001b[0m\u001b[0;34m\u001b[0m\u001b[0;34m\u001b[0m\u001b[0m\n\u001b[1;32m   1151\u001b[0m       results = self._do_run(handle, final_targets, final_fetches,\n\u001b[0;32m-> 1152\u001b[0;31m                              feed_dict_tensor, options, run_metadata)\n\u001b[0m\u001b[1;32m   1153\u001b[0m     \u001b[0;32melse\u001b[0m\u001b[0;34m:\u001b[0m\u001b[0;34m\u001b[0m\u001b[0;34m\u001b[0m\u001b[0m\n\u001b[1;32m   1154\u001b[0m       \u001b[0mresults\u001b[0m \u001b[0;34m=\u001b[0m \u001b[0;34m[\u001b[0m\u001b[0;34m]\u001b[0m\u001b[0;34m\u001b[0m\u001b[0;34m\u001b[0m\u001b[0m\n",
            "\u001b[0;32m/usr/local/lib/python3.6/dist-packages/tensorflow/python/client/session.py\u001b[0m in \u001b[0;36m_do_run\u001b[0;34m(self, handle, target_list, fetch_list, feed_dict, options, run_metadata)\u001b[0m\n\u001b[1;32m   1326\u001b[0m     \u001b[0;32mif\u001b[0m \u001b[0mhandle\u001b[0m \u001b[0;32mis\u001b[0m \u001b[0;32mNone\u001b[0m\u001b[0;34m:\u001b[0m\u001b[0;34m\u001b[0m\u001b[0;34m\u001b[0m\u001b[0m\n\u001b[1;32m   1327\u001b[0m       return self._do_call(_run_fn, feeds, fetches, targets, options,\n\u001b[0;32m-> 1328\u001b[0;31m                            run_metadata)\n\u001b[0m\u001b[1;32m   1329\u001b[0m     \u001b[0;32melse\u001b[0m\u001b[0;34m:\u001b[0m\u001b[0;34m\u001b[0m\u001b[0;34m\u001b[0m\u001b[0m\n\u001b[1;32m   1330\u001b[0m       \u001b[0;32mreturn\u001b[0m \u001b[0mself\u001b[0m\u001b[0;34m.\u001b[0m\u001b[0m_do_call\u001b[0m\u001b[0;34m(\u001b[0m\u001b[0m_prun_fn\u001b[0m\u001b[0;34m,\u001b[0m \u001b[0mhandle\u001b[0m\u001b[0;34m,\u001b[0m \u001b[0mfeeds\u001b[0m\u001b[0;34m,\u001b[0m \u001b[0mfetches\u001b[0m\u001b[0;34m)\u001b[0m\u001b[0;34m\u001b[0m\u001b[0;34m\u001b[0m\u001b[0m\n",
            "\u001b[0;32m/usr/local/lib/python3.6/dist-packages/tensorflow/python/client/session.py\u001b[0m in \u001b[0;36m_do_call\u001b[0;34m(self, fn, *args)\u001b[0m\n\u001b[1;32m   1346\u001b[0m           \u001b[0;32mpass\u001b[0m\u001b[0;34m\u001b[0m\u001b[0;34m\u001b[0m\u001b[0m\n\u001b[1;32m   1347\u001b[0m       \u001b[0mmessage\u001b[0m \u001b[0;34m=\u001b[0m \u001b[0merror_interpolation\u001b[0m\u001b[0;34m.\u001b[0m\u001b[0minterpolate\u001b[0m\u001b[0;34m(\u001b[0m\u001b[0mmessage\u001b[0m\u001b[0;34m,\u001b[0m \u001b[0mself\u001b[0m\u001b[0;34m.\u001b[0m\u001b[0m_graph\u001b[0m\u001b[0;34m)\u001b[0m\u001b[0;34m\u001b[0m\u001b[0;34m\u001b[0m\u001b[0m\n\u001b[0;32m-> 1348\u001b[0;31m       \u001b[0;32mraise\u001b[0m \u001b[0mtype\u001b[0m\u001b[0;34m(\u001b[0m\u001b[0me\u001b[0m\u001b[0;34m)\u001b[0m\u001b[0;34m(\u001b[0m\u001b[0mnode_def\u001b[0m\u001b[0;34m,\u001b[0m \u001b[0mop\u001b[0m\u001b[0;34m,\u001b[0m \u001b[0mmessage\u001b[0m\u001b[0;34m)\u001b[0m\u001b[0;34m\u001b[0m\u001b[0;34m\u001b[0m\u001b[0m\n\u001b[0m\u001b[1;32m   1349\u001b[0m \u001b[0;34m\u001b[0m\u001b[0m\n\u001b[1;32m   1350\u001b[0m   \u001b[0;32mdef\u001b[0m \u001b[0m_extend_graph\u001b[0m\u001b[0;34m(\u001b[0m\u001b[0mself\u001b[0m\u001b[0;34m)\u001b[0m\u001b[0;34m:\u001b[0m\u001b[0;34m\u001b[0m\u001b[0;34m\u001b[0m\u001b[0m\n",
            "\u001b[0;31mInvalidArgumentError\u001b[0m: In ReadVariableOp the following variables were found uninitialized: batch_normalization_v1_51/beta, batch_normalization_v1_51/gamma, batch_normalization_v1_51/moving_mean, batch_normalization_v1_51/moving_variance, batch_normalization_v1_52/beta, batch_normalization_v1_52/gamma, batch_normalization_v1_52/moving_mean, batch_normalization_v1_52/moving_variance, batch_normalization_v1_53/beta, batch_normalization_v1_53/gamma, batch_normalization_v1_53/moving_mean, batch_normalization_v1_53/moving_variance, batch_normalization_v1_54/beta, batch_normalization_v1_54/gamma, batch_normalization_v1_54/moving_mean, batch_normalization_v1_54/moving_variance, batch_normalization_v1_55/beta, batch_normalization_v1_55/gamma, batch_normalization_v1_55/moving_mean, batch_normalization_v1_55/moving_variance, batch_normalization_v1_56/beta, batch_normalization_v1_56/gamma, batch_normalization_v1_56/moving_mean, batch_normalization_v1_56/moving_variance, batch_normalization_v1_57/beta, batch_normalization_v1_57/gamma, batch_normalization_v1_57/moving_mean, batch_normalization_v1_57/moving_variance, bn0_9/beta, bn0_9/gamma, bn0_9/moving_mean, bn0_9/moving_variance, bn1_9/beta, bn1_9/gamma, bn1_9/moving_mean, bn1_9/moving_variance, bn2_9/beta, bn2_9/gamma, bn2_9/moving_mean, bn2_9/moving_variance, bn3_9/beta, bn3_9/gamma, bn3_9/moving_mean, bn3_9/moving_variance, bn4_9/beta, bn4_9/gamma, bn4_9/moving_mean, bn4_9/moving_variance, bn5_9/beta, bn5_9/gamma, bn5_9/m...\n\t [[{{node ReadVariables_9731973287066678752/_1}}]]"
          ]
        }
      ]
    },
    {
      "cell_type": "code",
      "metadata": {
        "id": "lGDVsv9iGuuN",
        "colab_type": "code",
        "outputId": "c1eb894a-4aa2-4cb1-b120-9f7324f129bf",
        "colab": {
          "base_uri": "https://localhost:8080/",
          "height": 1819
        }
      },
      "source": [
        "tpu_model.summary()"
      ],
      "execution_count": 44,
      "outputs": [
        {
          "output_type": "stream",
          "text": [
            "__________________________________________________________________________________________________\n",
            "Layer (type)                    Output Shape         Param #     Connected to                     \n",
            "==================================================================================================\n",
            "input_11 (InputLayer)           (None, 32, 32, 3)    0                                            \n",
            "__________________________________________________________________________________________________\n",
            "conv0 (Conv2D)                  (None, 32, 32, 32)   416         input_11[0][0]                   \n",
            "__________________________________________________________________________________________________\n",
            "conv3 (Conv2D)                  (None, 32, 32, 32)   128         input_11[0][0]                   \n",
            "__________________________________________________________________________________________________\n",
            "bn0 (BatchNormalizationV1)      (None, 32, 32, 32)   128         conv0[0][0]                      \n",
            "__________________________________________________________________________________________________\n",
            "bn3 (BatchNormalizationV1)      (None, 32, 32, 32)   128         conv3[0][0]                      \n",
            "__________________________________________________________________________________________________\n",
            "activation_100 (Activation)     (None, 32, 32, 32)   0           bn0[0][0]                        \n",
            "__________________________________________________________________________________________________\n",
            "activation_103 (Activation)     (None, 32, 32, 32)   0           bn3[0][0]                        \n",
            "__________________________________________________________________________________________________\n",
            "conv1 (Conv2D)                  (None, 32, 32, 32)   9248        activation_100[0][0]             \n",
            "__________________________________________________________________________________________________\n",
            "conv4 (Conv2D)                  (None, 32, 32, 32)   25632       activation_103[0][0]             \n",
            "__________________________________________________________________________________________________\n",
            "bn1 (BatchNormalizationV1)      (None, 32, 32, 32)   128         conv1[0][0]                      \n",
            "__________________________________________________________________________________________________\n",
            "bn4 (BatchNormalizationV1)      (None, 32, 32, 32)   128         conv4[0][0]                      \n",
            "__________________________________________________________________________________________________\n",
            "activation_101 (Activation)     (None, 32, 32, 32)   0           bn1[0][0]                        \n",
            "__________________________________________________________________________________________________\n",
            "activation_104 (Activation)     (None, 32, 32, 32)   0           bn4[0][0]                        \n",
            "__________________________________________________________________________________________________\n",
            "max_pool0 (MaxPooling2D)        (None, 32, 32, 3)    0           input_11[0][0]                   \n",
            "__________________________________________________________________________________________________\n",
            "conv2 (Conv2D)                  (None, 32, 32, 32)   4128        activation_101[0][0]             \n",
            "__________________________________________________________________________________________________\n",
            "conv5 (Conv2D)                  (None, 32, 32, 32)   25632       activation_104[0][0]             \n",
            "__________________________________________________________________________________________________\n",
            "conv6 (Conv2D)                  (None, 32, 32, 32)   2432        max_pool0[0][0]                  \n",
            "__________________________________________________________________________________________________\n",
            "bn2 (BatchNormalizationV1)      (None, 32, 32, 32)   128         conv2[0][0]                      \n",
            "__________________________________________________________________________________________________\n",
            "bn5 (BatchNormalizationV1)      (None, 32, 32, 32)   128         conv5[0][0]                      \n",
            "__________________________________________________________________________________________________\n",
            "batch_normalization_v1_51 (Batc (None, 32, 32, 32)   128         conv6[0][0]                      \n",
            "__________________________________________________________________________________________________\n",
            "activation_102 (Activation)     (None, 32, 32, 32)   0           bn2[0][0]                        \n",
            "__________________________________________________________________________________________________\n",
            "activation_105 (Activation)     (None, 32, 32, 32)   0           bn5[0][0]                        \n",
            "__________________________________________________________________________________________________\n",
            "activation_106 (Activation)     (None, 32, 32, 32)   0           batch_normalization_v1_51[0][0]  \n",
            "__________________________________________________________________________________________________\n",
            "concatenate_28 (Concatenate)    (None, 32, 32, 96)   0           activation_102[0][0]             \n",
            "                                                                 activation_105[0][0]             \n",
            "                                                                 activation_106[0][0]             \n",
            "__________________________________________________________________________________________________\n",
            "conv7 (Conv2D)                  (None, 32, 32, 32)   2432        input_11[0][0]                   \n",
            "__________________________________________________________________________________________________\n",
            "conv8 (Conv2D)                  (None, 32, 32, 32)   49184       concatenate_28[0][0]             \n",
            "__________________________________________________________________________________________________\n",
            "batch_normalization_v1_52 (Batc (None, 32, 32, 32)   128         conv7[0][0]                      \n",
            "__________________________________________________________________________________________________\n",
            "batch_normalization_v1_53 (Batc (None, 32, 32, 32)   128         conv8[0][0]                      \n",
            "__________________________________________________________________________________________________\n",
            "activation_107 (Activation)     (None, 32, 32, 32)   0           batch_normalization_v1_52[0][0]  \n",
            "__________________________________________________________________________________________________\n",
            "activation_108 (Activation)     (None, 32, 32, 32)   0           batch_normalization_v1_53[0][0]  \n",
            "__________________________________________________________________________________________________\n",
            "concatenate_29 (Concatenate)    (None, 32, 32, 64)   0           activation_107[0][0]             \n",
            "                                                                 activation_108[0][0]             \n",
            "__________________________________________________________________________________________________\n",
            "conv10 (Conv2D)                 (None, 32, 32, 32)   100384      concatenate_29[0][0]             \n",
            "__________________________________________________________________________________________________\n",
            "batch_normalization_v1_55 (Batc (None, 32, 32, 32)   128         conv10[0][0]                     \n",
            "__________________________________________________________________________________________________\n",
            "conv9 (Conv2D)                  (None, 32, 32, 32)   51232       concatenate_29[0][0]             \n",
            "__________________________________________________________________________________________________\n",
            "activation_110 (Activation)     (None, 32, 32, 32)   0           batch_normalization_v1_55[0][0]  \n",
            "__________________________________________________________________________________________________\n",
            "batch_normalization_v1_54 (Batc (None, 32, 32, 32)   128         conv9[0][0]                      \n",
            "__________________________________________________________________________________________________\n",
            "conv11 (Conv2D)                 (None, 32, 32, 64)   131136      activation_110[0][0]             \n",
            "__________________________________________________________________________________________________\n",
            "activation_109 (Activation)     (None, 32, 32, 32)   0           batch_normalization_v1_54[0][0]  \n",
            "__________________________________________________________________________________________________\n",
            "batch_normalization_v1_56 (Batc (None, 32, 32, 64)   256         conv11[0][0]                     \n",
            "__________________________________________________________________________________________________\n",
            "concatenate_30 (Concatenate)    (None, 32, 32, 192)  0           concatenate_28[0][0]             \n",
            "                                                                 concatenate_29[0][0]             \n",
            "                                                                 activation_109[0][0]             \n",
            "__________________________________________________________________________________________________\n",
            "activation_111 (Activation)     (None, 32, 32, 64)   0           batch_normalization_v1_56[0][0]  \n",
            "__________________________________________________________________________________________________\n",
            "concatenate_31 (Concatenate)    (None, 32, 32, 288)  0           concatenate_30[0][0]             \n",
            "                                                                 activation_110[0][0]             \n",
            "                                                                 activation_111[0][0]             \n",
            "__________________________________________________________________________________________________\n",
            "flatten_7 (Flatten)             (None, 294912)       0           concatenate_31[0][0]             \n",
            "__________________________________________________________________________________________________\n",
            "d1 (Dense)                      (None, 32)           9437216     flatten_7[0][0]                  \n",
            "__________________________________________________________________________________________________\n",
            "batch_normalization_v1_57 (Batc (None, 32)           128         d1[0][0]                         \n",
            "__________________________________________________________________________________________________\n",
            "fc (Dense)                      (None, 10)           330         batch_normalization_v1_57[0][0]  \n",
            "==================================================================================================\n",
            "Total params: 9,841,322\n",
            "Trainable params: 9,840,426\n",
            "Non-trainable params: 896\n",
            "__________________________________________________________________________________________________\n"
          ],
          "name": "stdout"
        }
      ]
    },
    {
      "cell_type": "code",
      "metadata": {
        "id": "mYgFPWV0RlTg",
        "colab_type": "code",
        "outputId": "bfe6cb1d-7073-45da-bf66-8be45cf5b65d",
        "colab": {
          "base_uri": "https://localhost:8080/",
          "height": 731
        }
      },
      "source": [
        " tpu_model.fit(\n",
        "  train_input_fn,\n",
        "  steps_per_epoch = 60,\n",
        "  epochs=20,\n",
        ")"
      ],
      "execution_count": 52,
      "outputs": [
        {
          "output_type": "stream",
          "text": [
            "Epoch 1/20\n",
            "INFO:tensorflow:Setting weights on TPU model.\n",
            "60/60 [==============================] - 38s 637ms/step - loss: 9.5224e-04 - acc: 1.0000\n",
            "Epoch 2/20\n",
            "60/60 [==============================] - 38s 637ms/step - loss: 8.6736e-04 - acc: 1.0000\n",
            "Epoch 3/20\n",
            "60/60 [==============================] - 38s 632ms/step - loss: 7.9669e-04 - acc: 1.0000\n",
            "Epoch 4/20\n",
            "60/60 [==============================] - 38s 629ms/step - loss: 7.2960e-04 - acc: 1.0000\n",
            "Epoch 5/20\n",
            "60/60 [==============================] - 38s 631ms/step - loss: 6.7373e-04 - acc: 1.0000\n",
            "Epoch 6/20\n",
            "60/60 [==============================] - 38s 630ms/step - loss: 6.2224e-04 - acc: 1.0000\n",
            "Epoch 7/20\n",
            "60/60 [==============================] - 38s 634ms/step - loss: 5.7583e-04 - acc: 1.0000\n",
            "Epoch 8/20\n",
            "60/60 [==============================] - 38s 630ms/step - loss: 5.3601e-04 - acc: 1.0000\n",
            "Epoch 9/20\n",
            "60/60 [==============================] - 38s 632ms/step - loss: 4.9697e-04 - acc: 1.0000\n",
            "Epoch 10/20\n",
            "60/60 [==============================] - 38s 629ms/step - loss: 4.6419e-04 - acc: 1.0000\n",
            "Epoch 11/20\n",
            "60/60 [==============================] - 38s 632ms/step - loss: 4.3425e-04 - acc: 1.0000\n",
            "Epoch 12/20\n",
            "60/60 [==============================] - 38s 630ms/step - loss: 4.0535e-04 - acc: 1.0000\n",
            "Epoch 13/20\n",
            "60/60 [==============================] - 38s 631ms/step - loss: 3.7978e-04 - acc: 1.0000\n",
            "Epoch 14/20\n",
            "60/60 [==============================] - 38s 631ms/step - loss: 3.5623e-04 - acc: 1.0000\n",
            "Epoch 15/20\n",
            "60/60 [==============================] - 38s 632ms/step - loss: 3.3499e-04 - acc: 1.0000\n",
            "Epoch 16/20\n",
            "60/60 [==============================] - 38s 630ms/step - loss: 3.1506e-04 - acc: 1.0000\n",
            "Epoch 17/20\n",
            "60/60 [==============================] - 38s 630ms/step - loss: 2.9643e-04 - acc: 1.0000\n",
            "Epoch 18/20\n",
            "60/60 [==============================] - 38s 630ms/step - loss: 2.8023e-04 - acc: 1.0000\n",
            "Epoch 19/20\n",
            "60/60 [==============================] - 38s 630ms/step - loss: 2.6404e-04 - acc: 1.0000\n",
            "Epoch 20/20\n",
            "60/60 [==============================] - 38s 630ms/step - loss: 2.5002e-04 - acc: 1.0000\n"
          ],
          "name": "stdout"
        },
        {
          "output_type": "execute_result",
          "data": {
            "text/plain": [
              "<tensorflow.python.keras.callbacks.History at 0x7f94b3990940>"
            ]
          },
          "metadata": {
            "tags": []
          },
          "execution_count": 52
        }
      ]
    },
    {
      "cell_type": "code",
      "metadata": {
        "id": "SS3rCq6FYXkf",
        "colab_type": "code",
        "outputId": "4d27397a-13e1-45f2-8e18-2431e0d61740",
        "colab": {
          "base_uri": "https://localhost:8080/",
          "height": 34
        }
      },
      "source": [
        "tpu_model.save_weights('./MNIST_TPU_1024.h5', overwrite=True)"
      ],
      "execution_count": 53,
      "outputs": [
        {
          "output_type": "stream",
          "text": [
            "INFO:tensorflow:Copying TPU weights to the CPU\n"
          ],
          "name": "stdout"
        }
      ]
    },
    {
      "cell_type": "code",
      "metadata": {
        "id": "Nph-rX4kYhpK",
        "colab_type": "code",
        "outputId": "7710cda4-db5a-444c-b199-908221f21165",
        "colab": {
          "base_uri": "https://localhost:8080/",
          "height": 51
        }
      },
      "source": [
        "tpu_model.evaluate(test_input_fn, steps = 100)"
      ],
      "execution_count": 54,
      "outputs": [
        {
          "output_type": "stream",
          "text": [
            "100/100 [==============================] - 26s 261ms/step - loss: 1.1714 - acc: 0.7028\n"
          ],
          "name": "stdout"
        },
        {
          "output_type": "execute_result",
          "data": {
            "text/plain": [
              "[1.1714481925964355, 0.70276976]"
            ]
          },
          "metadata": {
            "tags": []
          },
          "execution_count": 54
        }
      ]
    },
    {
      "cell_type": "code",
      "metadata": {
        "id": "pgqhdBl4YvRY",
        "colab_type": "code",
        "colab": {}
      },
      "source": [
        ""
      ],
      "execution_count": 0,
      "outputs": []
    }
  ]
}