{
  "nbformat": 4,
  "nbformat_minor": 0,
  "metadata": {
    "colab": {
      "name": "Trying new models",
      "version": "0.3.2",
      "provenance": [],
      "collapsed_sections": [],
      "include_colab_link": true
    },
    "kernelspec": {
      "name": "python3",
      "display_name": "Python 3"
    },
    "accelerator": "GPU"
  },
  "cells": [
    {
      "cell_type": "markdown",
      "metadata": {
        "id": "view-in-github",
        "colab_type": "text"
      },
      "source": [
        "<a href=\"https://colab.research.google.com/github/utkuyucel/Deep-Learning/blob/master/Trying_new_models.ipynb\" target=\"_parent\"><img src=\"https://colab.research.google.com/assets/colab-badge.svg\" alt=\"Open In Colab\"/></a>"
      ]
    },
    {
      "cell_type": "code",
      "metadata": {
        "id": "vBg5asl7Jcop",
        "colab_type": "code",
        "outputId": "9c0f1811-ebe2-41b7-f1c6-2cff230769ef",
        "colab": {
          "base_uri": "https://localhost:8080/",
          "height": 34
        }
      },
      "source": [
        "from keras.datasets import cifar10\n",
        "from keras.layers import Dense, Conv2D, MaxPooling2D, Flatten, Dropout, BatchNormalization, Activation\n",
        "from keras.models import Sequential, load_model\n",
        "from keras.utils import to_categorical"
      ],
      "execution_count": 0,
      "outputs": [
        {
          "output_type": "stream",
          "text": [
            "Using TensorFlow backend.\n"
          ],
          "name": "stderr"
        }
      ]
    },
    {
      "cell_type": "code",
      "metadata": {
        "id": "n2lpzUSpXKgB",
        "colab_type": "code",
        "colab": {}
      },
      "source": [
        "num_classes = 10"
      ],
      "execution_count": 0,
      "outputs": []
    },
    {
      "cell_type": "code",
      "metadata": {
        "id": "1eR4JD0HWu-v",
        "colab_type": "code",
        "outputId": "ff7fcbdc-7c01-4807-d79c-7ffdd41045c9",
        "colab": {
          "base_uri": "https://localhost:8080/",
          "height": 51
        }
      },
      "source": [
        "(X_train, y_train), (X_test, y_test) = cifar10.load_data()\n",
        "\n",
        "X_train, X_test = X_train.astype(\"float32\"), X_test.astype(\"float32\")\n",
        "\n",
        "X_train, X_test = X_train / 255.0, X_test / 255.0\n",
        "\n",
        "y_train = to_categorical(y_train, num_classes)\n",
        "y_test = to_categorical(y_test, num_classes)"
      ],
      "execution_count": 0,
      "outputs": [
        {
          "output_type": "stream",
          "text": [
            "Downloading data from https://www.cs.toronto.edu/~kriz/cifar-10-python.tar.gz\n",
            "170500096/170498071 [==============================] - 18s 0us/step\n"
          ],
          "name": "stdout"
        }
      ]
    },
    {
      "cell_type": "code",
      "metadata": {
        "id": "kiy7GTxhMrP5",
        "colab_type": "code",
        "outputId": "8810b34f-ae3b-4f6f-9598-29ecb33d3925",
        "colab": {
          "base_uri": "https://localhost:8080/",
          "height": 139
        }
      },
      "source": [
        "model = Sequential()\n",
        "\n",
        "model.add(Conv2D(256, (2,2), input_shape = X_train.shape[1:]))\n",
        "model.add(Activation(\"relu\"))\n",
        "model.add(BatchNormalization())\n",
        "model.add(Conv2D(512, (2,2)))\n",
        "model.add(Activation(\"relu\"))\n",
        "model.add(BatchNormalization())\n",
        "model.add(Conv2D(1024, (3,3)))\n",
        "model.add(Activation(\"relu\"))\n",
        "model.add(BatchNormalization())\n",
        "model.add(MaxPooling2D(2,2))\n",
        "model.add(Dropout(0.3))\n",
        "\n",
        "model.add(Conv2D(512, (3,3)))\n",
        "model.add(Activation(\"relu\"))\n",
        "model.add(BatchNormalization())\n",
        "model.add(Conv2D(256, (2,2)))\n",
        "model.add(Activation(\"relu\"))\n",
        "model.add(BatchNormalization())\n",
        "model.add(Conv2D(512, (2,2)))\n",
        "model.add(Activation(\"relu\"))\n",
        "model.add(BatchNormalization())\n",
        "model.add(MaxPooling2D(2,2))\n",
        "model.add(Dropout(0.3))\n",
        "\n",
        "model.add(Conv2D(512,(2,2)))\n",
        "model.add(Activation(\"relu\"))\n",
        "model.add(BatchNormalization())\n",
        "model.add(Conv2D(256, (2,2)))\n",
        "model.add(Activation(\"relu\"))\n",
        "model.add(BatchNormalization())\n",
        "model.add(Conv2D(128, (2,2)))\n",
        "model.add(Activation(\"relu\"))\n",
        "model.add(BatchNormalization())\n",
        "model.add(Dropout(0.25))\n",
        "\n",
        "model.add(Flatten())\n",
        "model.add(Dense(4096))\n",
        "model.add(BatchNormalization())\n",
        "model.add(Activation(\"relu\"))\n",
        "\n",
        "model.add(Dense(2048))\n",
        "model.add(BatchNormalization())\n",
        "model.add(Activation(\"relu\"))\n",
        "\n",
        "model.add(Dense(1024))\n",
        "model.add(BatchNormalization())\n",
        "model.add(Activation(\"relu\"))\n",
        "\n",
        "model.add(Dense(512))\n",
        "model.add(BatchNormalization())\n",
        "model.add(Activation(\"relu\"))\n",
        "\n",
        "model.add(Dense(256))\n",
        "model.add(BatchNormalization())\n",
        "model.add(Activation(\"relu\"))\n",
        "\n",
        "model.add(Dense(128))\n",
        "model.add(BatchNormalization())\n",
        "model.add(Activation(\"relu\"))\n",
        "\n",
        "model.add(Dense(num_classes))\n",
        "model.add(Activation(\"softmax\"))\n",
        "\n"
      ],
      "execution_count": 0,
      "outputs": [
        {
          "output_type": "stream",
          "text": [
            "WARNING:tensorflow:From /usr/local/lib/python3.6/dist-packages/tensorflow/python/framework/op_def_library.py:263: colocate_with (from tensorflow.python.framework.ops) is deprecated and will be removed in a future version.\n",
            "Instructions for updating:\n",
            "Colocations handled automatically by placer.\n",
            "WARNING:tensorflow:From /usr/local/lib/python3.6/dist-packages/keras/backend/tensorflow_backend.py:3445: calling dropout (from tensorflow.python.ops.nn_ops) with keep_prob is deprecated and will be removed in a future version.\n",
            "Instructions for updating:\n",
            "Please use `rate` instead of `keep_prob`. Rate should be set to `rate = 1 - keep_prob`.\n"
          ],
          "name": "stdout"
        }
      ]
    },
    {
      "cell_type": "code",
      "metadata": {
        "id": "idn9G0tLb4yz",
        "colab_type": "code",
        "outputId": "ea1f0acc-549b-4227-9d17-15e84b7bb7e1",
        "colab": {
          "base_uri": "https://localhost:8080/",
          "height": 1938
        }
      },
      "source": [
        "model.summary()"
      ],
      "execution_count": 0,
      "outputs": [
        {
          "output_type": "stream",
          "text": [
            "_________________________________________________________________\n",
            "Layer (type)                 Output Shape              Param #   \n",
            "=================================================================\n",
            "conv2d_1 (Conv2D)            (None, 31, 31, 256)       3328      \n",
            "_________________________________________________________________\n",
            "activation_1 (Activation)    (None, 31, 31, 256)       0         \n",
            "_________________________________________________________________\n",
            "batch_normalization_1 (Batch (None, 31, 31, 256)       1024      \n",
            "_________________________________________________________________\n",
            "conv2d_2 (Conv2D)            (None, 30, 30, 512)       524800    \n",
            "_________________________________________________________________\n",
            "activation_2 (Activation)    (None, 30, 30, 512)       0         \n",
            "_________________________________________________________________\n",
            "batch_normalization_2 (Batch (None, 30, 30, 512)       2048      \n",
            "_________________________________________________________________\n",
            "conv2d_3 (Conv2D)            (None, 28, 28, 1024)      4719616   \n",
            "_________________________________________________________________\n",
            "activation_3 (Activation)    (None, 28, 28, 1024)      0         \n",
            "_________________________________________________________________\n",
            "batch_normalization_3 (Batch (None, 28, 28, 1024)      4096      \n",
            "_________________________________________________________________\n",
            "max_pooling2d_1 (MaxPooling2 (None, 14, 14, 1024)      0         \n",
            "_________________________________________________________________\n",
            "dropout_1 (Dropout)          (None, 14, 14, 1024)      0         \n",
            "_________________________________________________________________\n",
            "conv2d_4 (Conv2D)            (None, 12, 12, 512)       4719104   \n",
            "_________________________________________________________________\n",
            "activation_4 (Activation)    (None, 12, 12, 512)       0         \n",
            "_________________________________________________________________\n",
            "batch_normalization_4 (Batch (None, 12, 12, 512)       2048      \n",
            "_________________________________________________________________\n",
            "conv2d_5 (Conv2D)            (None, 11, 11, 256)       524544    \n",
            "_________________________________________________________________\n",
            "activation_5 (Activation)    (None, 11, 11, 256)       0         \n",
            "_________________________________________________________________\n",
            "batch_normalization_5 (Batch (None, 11, 11, 256)       1024      \n",
            "_________________________________________________________________\n",
            "conv2d_6 (Conv2D)            (None, 10, 10, 512)       524800    \n",
            "_________________________________________________________________\n",
            "activation_6 (Activation)    (None, 10, 10, 512)       0         \n",
            "_________________________________________________________________\n",
            "batch_normalization_6 (Batch (None, 10, 10, 512)       2048      \n",
            "_________________________________________________________________\n",
            "max_pooling2d_2 (MaxPooling2 (None, 5, 5, 512)         0         \n",
            "_________________________________________________________________\n",
            "dropout_2 (Dropout)          (None, 5, 5, 512)         0         \n",
            "_________________________________________________________________\n",
            "conv2d_7 (Conv2D)            (None, 4, 4, 512)         1049088   \n",
            "_________________________________________________________________\n",
            "activation_7 (Activation)    (None, 4, 4, 512)         0         \n",
            "_________________________________________________________________\n",
            "batch_normalization_7 (Batch (None, 4, 4, 512)         2048      \n",
            "_________________________________________________________________\n",
            "conv2d_8 (Conv2D)            (None, 3, 3, 256)         524544    \n",
            "_________________________________________________________________\n",
            "activation_8 (Activation)    (None, 3, 3, 256)         0         \n",
            "_________________________________________________________________\n",
            "batch_normalization_8 (Batch (None, 3, 3, 256)         1024      \n",
            "_________________________________________________________________\n",
            "conv2d_9 (Conv2D)            (None, 2, 2, 128)         131200    \n",
            "_________________________________________________________________\n",
            "activation_9 (Activation)    (None, 2, 2, 128)         0         \n",
            "_________________________________________________________________\n",
            "batch_normalization_9 (Batch (None, 2, 2, 128)         512       \n",
            "_________________________________________________________________\n",
            "dropout_3 (Dropout)          (None, 2, 2, 128)         0         \n",
            "_________________________________________________________________\n",
            "flatten_1 (Flatten)          (None, 512)               0         \n",
            "_________________________________________________________________\n",
            "dense_1 (Dense)              (None, 4096)              2101248   \n",
            "_________________________________________________________________\n",
            "batch_normalization_10 (Batc (None, 4096)              16384     \n",
            "_________________________________________________________________\n",
            "activation_10 (Activation)   (None, 4096)              0         \n",
            "_________________________________________________________________\n",
            "dense_2 (Dense)              (None, 2048)              8390656   \n",
            "_________________________________________________________________\n",
            "batch_normalization_11 (Batc (None, 2048)              8192      \n",
            "_________________________________________________________________\n",
            "activation_11 (Activation)   (None, 2048)              0         \n",
            "_________________________________________________________________\n",
            "dense_3 (Dense)              (None, 1024)              2098176   \n",
            "_________________________________________________________________\n",
            "batch_normalization_12 (Batc (None, 1024)              4096      \n",
            "_________________________________________________________________\n",
            "activation_12 (Activation)   (None, 1024)              0         \n",
            "_________________________________________________________________\n",
            "dense_4 (Dense)              (None, 512)               524800    \n",
            "_________________________________________________________________\n",
            "batch_normalization_13 (Batc (None, 512)               2048      \n",
            "_________________________________________________________________\n",
            "activation_13 (Activation)   (None, 512)               0         \n",
            "_________________________________________________________________\n",
            "dense_5 (Dense)              (None, 256)               131328    \n",
            "_________________________________________________________________\n",
            "batch_normalization_14 (Batc (None, 256)               1024      \n",
            "_________________________________________________________________\n",
            "activation_14 (Activation)   (None, 256)               0         \n",
            "_________________________________________________________________\n",
            "dense_6 (Dense)              (None, 128)               32896     \n",
            "_________________________________________________________________\n",
            "batch_normalization_15 (Batc (None, 128)               512       \n",
            "_________________________________________________________________\n",
            "activation_15 (Activation)   (None, 128)               0         \n",
            "_________________________________________________________________\n",
            "dense_7 (Dense)              (None, 10)                1290      \n",
            "_________________________________________________________________\n",
            "activation_16 (Activation)   (None, 10)                0         \n",
            "=================================================================\n",
            "Total params: 26,049,546\n",
            "Trainable params: 26,025,482\n",
            "Non-trainable params: 24,064\n",
            "_________________________________________________________________\n"
          ],
          "name": "stdout"
        }
      ]
    },
    {
      "cell_type": "code",
      "metadata": {
        "id": "DuktEFefGysn",
        "colab_type": "code",
        "colab": {}
      },
      "source": [
        "#model = load_model(\"model.h5\")\n",
        "model.compile(loss = \"categorical_crossentropy\", optimizer = \"adam\", metrics = [\"accuracy\"])\n"
      ],
      "execution_count": 0,
      "outputs": []
    },
    {
      "cell_type": "code",
      "metadata": {
        "id": "bsDcSW2bcOX1",
        "colab_type": "code",
        "outputId": "0f4b56f2-f062-43d0-9d03-210cd6ee76ed",
        "colab": {
          "base_uri": "https://localhost:8080/",
          "height": 615
        }
      },
      "source": [
        "history = model.fit(X_train, y_train, epochs = 15, validation_data = (X_test, y_test))\n"
      ],
      "execution_count": 0,
      "outputs": [
        {
          "output_type": "stream",
          "text": [
            "WARNING:tensorflow:From /usr/local/lib/python3.6/dist-packages/tensorflow/python/ops/math_ops.py:3066: to_int32 (from tensorflow.python.ops.math_ops) is deprecated and will be removed in a future version.\n",
            "Instructions for updating:\n",
            "Use tf.cast instead.\n",
            "Train on 50000 samples, validate on 10000 samples\n",
            "Epoch 1/15\n",
            "50000/50000 [==============================] - 288s 6ms/step - loss: 1.5641 - acc: 0.4332 - val_loss: 1.5309 - val_acc: 0.4903\n",
            "Epoch 2/15\n",
            "50000/50000 [==============================] - 276s 6ms/step - loss: 1.1490 - acc: 0.6007 - val_loss: 1.1588 - val_acc: 0.6138\n",
            "Epoch 3/15\n",
            "50000/50000 [==============================] - 275s 6ms/step - loss: 0.9549 - acc: 0.6729 - val_loss: 1.0655 - val_acc: 0.6484\n",
            "Epoch 4/15\n",
            "50000/50000 [==============================] - 274s 5ms/step - loss: 0.8294 - acc: 0.7203 - val_loss: 1.0712 - val_acc: 0.6389\n",
            "Epoch 5/15\n",
            "50000/50000 [==============================] - 273s 5ms/step - loss: 0.7281 - acc: 0.7567 - val_loss: 0.7573 - val_acc: 0.7454\n",
            "Epoch 6/15\n",
            "50000/50000 [==============================] - 272s 5ms/step - loss: 0.6305 - acc: 0.7886 - val_loss: 0.7390 - val_acc: 0.7552\n",
            "Epoch 7/15\n",
            "50000/50000 [==============================] - 271s 5ms/step - loss: 0.5494 - acc: 0.8159 - val_loss: 0.7279 - val_acc: 0.7528\n",
            "Epoch 8/15\n",
            "50000/50000 [==============================] - 271s 5ms/step - loss: 0.4749 - acc: 0.8423 - val_loss: 0.6504 - val_acc: 0.7877\n",
            "Epoch 9/15\n",
            "50000/50000 [==============================] - 271s 5ms/step - loss: 0.4087 - acc: 0.8634 - val_loss: 0.5591 - val_acc: 0.8198\n",
            "Epoch 10/15\n",
            "50000/50000 [==============================] - 271s 5ms/step - loss: 0.3526 - acc: 0.8838 - val_loss: 1.2141 - val_acc: 0.6495\n",
            "Epoch 11/15\n",
            "50000/50000 [==============================] - 271s 5ms/step - loss: 0.2975 - acc: 0.9024 - val_loss: 0.5842 - val_acc: 0.8129\n",
            "Epoch 12/15\n",
            "50000/50000 [==============================] - 271s 5ms/step - loss: 0.2588 - acc: 0.9142 - val_loss: 0.5436 - val_acc: 0.8274\n",
            "Epoch 13/15\n",
            "50000/50000 [==============================] - 271s 5ms/step - loss: 0.2173 - acc: 0.9286 - val_loss: 0.5391 - val_acc: 0.8336\n",
            "Epoch 14/15\n",
            "50000/50000 [==============================] - 270s 5ms/step - loss: 0.1890 - acc: 0.9377 - val_loss: 0.5170 - val_acc: 0.8395\n",
            "Epoch 15/15\n",
            "50000/50000 [==============================] - 270s 5ms/step - loss: 0.1639 - acc: 0.9466 - val_loss: 0.6164 - val_acc: 0.8176\n"
          ],
          "name": "stdout"
        }
      ]
    },
    {
      "cell_type": "code",
      "metadata": {
        "id": "J1gW7CThUBqI",
        "colab_type": "code",
        "outputId": "cb3c0468-d67a-4d0c-9cb5-006a125ce161",
        "colab": {
          "base_uri": "https://localhost:8080/",
          "height": 295
        }
      },
      "source": [
        "import matplotlib.pyplot as plt\n",
        "# history = model.fit(X_train, y_train, epochs = 10, validation_data = (X_test, y_test), verbose = 1)\n",
        "plt.plot(history.history['acc'])\n",
        "plt.plot(history.history['val_acc'])\n",
        "plt.title('Model accuracy')\n",
        "plt.ylabel('Accuracy')\n",
        "plt.xlabel('Epoch')\n",
        "plt.legend(['Train', 'Test'], loc='upper left')\n",
        "plt.show()"
      ],
      "execution_count": 0,
      "outputs": [
        {
          "output_type": "display_data",
          "data": {
            "image/png": "[encoded data removed]",
            "text/plain": [
              "<Figure size 432x288 with 1 Axes>"
            ]
          },
          "metadata": {
            "tags": []
          }
        }
      ]
    },
    {
      "cell_type": "code",
      "metadata": {
        "id": "c_eWVvTJNo88",
        "colab_type": "code",
        "colab": {}
      },
      "source": [
        "model.save(\"model.h5\")"
      ],
      "execution_count": 0,
      "outputs": []
    },
    {
      "cell_type": "code",
      "metadata": {
        "id": "QEXuAWf5X6oE",
        "colab_type": "code",
        "colab": {}
      },
      "source": [
        ""
      ],
      "execution_count": 0,
      "outputs": []
    }
  ]
}