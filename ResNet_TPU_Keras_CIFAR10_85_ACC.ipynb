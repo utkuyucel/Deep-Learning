{
  "nbformat": 4,
  "nbformat_minor": 0,
  "metadata": {
    "colab": {
      "name": "ResNet - TPU - Keras - CIFAR10 - 85 ACC",
      "version": "0.3.2",
      "provenance": [],
      "collapsed_sections": [],
      "include_colab_link": true
    },
    "kernelspec": {
      "name": "python3",
      "display_name": "Python 3"
    },
    "accelerator": "TPU"
  },
  "cells": [
    {
      "cell_type": "markdown",
      "metadata": {
        "id": "view-in-github",
        "colab_type": "text"
      },
      "source": [
        "<a href=\"https://colab.research.google.com/github/utkuyucel/Deep-Learning/blob/master/ResNet_TPU_Keras_CIFAR10_85_ACC.ipynb\" target=\"_parent\"><img src=\"https://colab.research.google.com/assets/colab-badge.svg\" alt=\"Open In Colab\"/></a>"
      ]
    },
    {
      "cell_type": "code",
      "metadata": {
        "id": "iiwALVuqCy53",
        "colab_type": "code",
        "outputId": "7526c35f-1be3-471a-be68-2ab37278937b",
        "colab": {
          "base_uri": "https://localhost:8080/",
          "height": 34
        }
      },
      "source": [
        "import tensorflow as tf\n",
        "from keras.utils import to_categorical, plot_model\n",
        "import numpy as np\n",
        "import os\n",
        "\n",
        "(X_train, y_train),(X_test, y_test) = tf.keras.datasets.cifar10.load_data()"
      ],
      "execution_count": 1,
      "outputs": [
        {
          "output_type": "stream",
          "text": [
            "Using TensorFlow backend.\n"
          ],
          "name": "stderr"
        }
      ]
    },
    {
      "cell_type": "code",
      "metadata": {
        "id": "GaiGrd4AYLrE",
        "colab_type": "code",
        "outputId": "2598a199-6166-401e-a0a9-0638a12a53c6",
        "colab": {
          "base_uri": "https://localhost:8080/",
          "height": 34
        }
      },
      "source": [
        "try:\n",
        "  device_name = os.environ['COLAB_TPU_ADDR']\n",
        "  TPU_ADDRESS = 'grpc://' + device_name\n",
        "  print('Found TPU at: {}'.format(TPU_ADDRESS))\n",
        "\n",
        "except KeyError:\n",
        "  print('TPU not found')"
      ],
      "execution_count": 2,
      "outputs": [
        {
          "output_type": "stream",
          "text": [
            "Found TPU at: grpc://10.79.250.34:8470\n"
          ],
          "name": "stdout"
        }
      ]
    },
    {
      "cell_type": "code",
      "metadata": {
        "id": "Iu2SmdY7SCNk",
        "colab_type": "code",
        "colab": {}
      },
      "source": [
        "X_train = X_train.astype(\"float32\")\n",
        "X_test = X_test.astype(\"float32\")\n",
        "\n",
        "X_train /= 255\n",
        "X_test /= 255\n",
        "\n",
        "y_train = to_categorical(y_train, 10)\n",
        "y_test = to_categorical(y_test, 10)"
      ],
      "execution_count": 0,
      "outputs": []
    },
    {
      "cell_type": "code",
      "metadata": {
        "id": "Msz0bLVfXuyo",
        "colab_type": "code",
        "colab": {}
      },
      "source": [
        "def train_input_fn(batch_size=1024):\n",
        "  # Girişleri bir veri kümesine dönüştür. \n",
        "  dataset = tf.data.Dataset.from_tensor_slices((X_train,y_train))\n",
        "\n",
        "  # Karıştır, tekrar et ve batch (küme) örnekleri \n",
        "  dataset = dataset.shuffle(1000).repeat().batch(batch_size, drop_remainder=True)\n",
        "\n",
        "  # veri kümesine.\n",
        "  return dataset"
      ],
      "execution_count": 0,
      "outputs": []
    },
    {
      "cell_type": "code",
      "metadata": {
        "id": "TSsYY-_xXvQO",
        "colab_type": "code",
        "colab": {}
      },
      "source": [
        "def test_input_fn(batch_size=1024):\n",
        "  # Girişleri bir veri kümesine dönüştür. .\n",
        "  dataset = tf.data.Dataset.from_tensor_slices((X_test,y_test))\n",
        "\n",
        "  # Karıştır, tekrar et ve batch (küme) örnekleri \n",
        "  dataset = dataset.shuffle(1000).repeat().batch(batch_size, drop_remainder=True)\n",
        "\n",
        "  # veri kümesine.\n",
        "  return dataset"
      ],
      "execution_count": 0,
      "outputs": []
    },
    {
      "cell_type": "code",
      "metadata": {
        "id": "ipIpeYam0JMo",
        "colab_type": "code",
        "colab": {}
      },
      "source": [
        "def short(X_input, F1, F2, F3):\n",
        "  \n",
        "  X = tf.keras.layers.Conv2D(F1, (3,3), strides = (1,1), padding = \"same\")(X_input)\n",
        "  X = tf.keras.layers.BatchNormalization()(X)\n",
        "  X = tf.keras.layers.Activation(\"relu\")(X)\n",
        "  \n",
        "  X = tf.keras.layers.Conv2D(F2, (3,3), strides = (1,1), padding = \"same\")(X)\n",
        "  X = tf.keras.layers.BatchNormalization()(X)\n",
        "  X = tf.keras.layers.Activation(\"relu\")(X)\n",
        "\n",
        "  X = tf.keras.layers.Conv2D(F3, (3,3), strides = (1,1), padding = \"same\")(X)\n",
        "  X = tf.keras.layers.BatchNormalization()(X)\n",
        "  \n",
        "  L = tf.keras.layers.concatenate([X,X_input])\n",
        "  \n",
        "  L = tf.keras.layers.Activation(\"relu\")(L)\n",
        "  \n",
        "  L = tf.keras.layers.MaxPooling2D((2,2))(L)\n",
        "  \n",
        "  return L"
      ],
      "execution_count": 0,
      "outputs": []
    },
    {
      "cell_type": "code",
      "metadata": {
        "id": "ViXXmgJd39w9",
        "colab_type": "code",
        "colab": {}
      },
      "source": [
        "def model(X_input):\n",
        "  \n",
        "  X_input = tf.keras.layers.Input(X_input)\n",
        "  \n",
        "  X = tf.keras.layers.ZeroPadding2D((3,3))(X_input)\n",
        "  \n",
        "  X = short(X, 64, 64, 128)\n",
        "  X = short(X, 64, 128, 256)\n",
        "  X = short(X, 256, 512, 1024)\n",
        "  \n",
        "  FC = tf.keras.layers.AveragePooling2D(2,2)(X)\n",
        "  \n",
        "  F = tf.keras.layers.Flatten()(FC)\n",
        "  \n",
        "  FC = tf.keras.layers.Dense(10, activation = \"softmax\")(F)\n",
        "  \n",
        "  \n",
        "  model = tf.keras.models.Model(inputs = X_input, outputs = FC)\n",
        "  \n",
        "  return model"
      ],
      "execution_count": 0,
      "outputs": []
    },
    {
      "cell_type": "code",
      "metadata": {
        "id": "C15s0UaGGw9X",
        "colab_type": "code",
        "colab": {}
      },
      "source": [
        "model = model((32,32,3))"
      ],
      "execution_count": 0,
      "outputs": []
    },
    {
      "cell_type": "code",
      "metadata": {
        "id": "mHu-dt3SNS5f",
        "colab_type": "code",
        "outputId": "d8c6d211-99ce-4c90-aef5-d3ca5a20e490",
        "colab": {
          "base_uri": "https://localhost:8080/",
          "height": 3682
        }
      },
      "source": [
        "from IPython.display import SVG\n",
        "from keras.utils.vis_utils import model_to_dot\n",
        "\n",
        "plot_model(model, to_file='model.png')\n",
        "SVG(model_to_dot(model).create(prog='dot', format='svg'))\n"
      ],
      "execution_count": 20,
      "outputs": [
        {
          "output_type": "execute_result",
          "data": {
            "text/plain": [
              "<IPython.core.display.SVG object>"
            ],
            "image/svg+xml": "<svg height=\"2746pt\" viewBox=\"0.00 0.00 421.00 2746.00\" width=\"421pt\" xmlns=\"http://www.w3.org/2000/svg\" xmlns:xlink=\"http://www.w3.org/1999/xlink\">\n<g class=\"graph\" id=\"graph0\" transform=\"scale(1 1) rotate(0) translate(4 2742)\">\n<title>G</title>\n<polygon fill=\"#ffffff\" points=\"-4,4 -4,-2742 417,-2742 417,4 -4,4\" stroke=\"transparent\"/>\n<!-- 140583833231256 -->\n<g class=\"node\" id=\"node1\">\n<title>140583833231256</title>\n<polygon fill=\"none\" points=\"232,-2701.5 232,-2737.5 365,-2737.5 365,-2701.5 232,-2701.5\" stroke=\"#000000\"/>\n<text fill=\"#000000\" font-family=\"Times,serif\" font-size=\"14.00\" text-anchor=\"middle\" x=\"298.5\" y=\"-2715.8\">input_6: InputLayer</text>\n</g>\n<!-- 140583833264256 -->\n<g class=\"node\" id=\"node2\">\n<title>140583833264256</title>\n<polygon fill=\"none\" points=\"185.5,-2628.5 185.5,-2664.5 411.5,-2664.5 411.5,-2628.5 185.5,-2628.5\" stroke=\"#000000\"/>\n<text fill=\"#000000\" font-family=\"Times,serif\" font-size=\"14.00\" text-anchor=\"middle\" x=\"298.5\" y=\"-2642.8\">zero_padding2d_5: ZeroPadding2D</text>\n</g>\n<!-- 140583833231256&#45;&gt;140583833264256 -->\n<g class=\"edge\" id=\"edge1\">\n<title>140583833231256-&gt;140583833264256</title>\n<path d=\"M298.5,-2701.4551C298.5,-2693.3828 298.5,-2683.6764 298.5,-2674.6817\" fill=\"none\" stroke=\"#000000\"/>\n<polygon fill=\"#000000\" points=\"302.0001,-2674.5903 298.5,-2664.5904 295.0001,-2674.5904 302.0001,-2674.5903\" stroke=\"#000000\"/>\n</g>\n<!-- 140583833264760 -->\n<g class=\"node\" id=\"node3\">\n<title>140583833264760</title>\n<polygon fill=\"none\" points=\"179.5,-2555.5 179.5,-2591.5 319.5,-2591.5 319.5,-2555.5 179.5,-2555.5\" stroke=\"#000000\"/>\n<text fill=\"#000000\" font-family=\"Times,serif\" font-size=\"14.00\" text-anchor=\"middle\" x=\"249.5\" y=\"-2569.8\">conv2d_45: Conv2D</text>\n</g>\n<!-- 140583833264256&#45;&gt;140583833264760 -->\n<g class=\"edge\" id=\"edge2\">\n<title>140583833264256-&gt;140583833264760</title>\n<path d=\"M286.3876,-2628.4551C280.6159,-2619.8564 273.5995,-2609.4034 267.2418,-2599.9316\" fill=\"none\" stroke=\"#000000\"/>\n<polygon fill=\"#000000\" points=\"270.1222,-2597.9427 261.6428,-2591.5904 264.3101,-2601.844 270.1222,-2597.9427\" stroke=\"#000000\"/>\n</g>\n<!-- 140583832621296 -->\n<g class=\"node\" id=\"node11\">\n<title>140583832621296</title>\n<polygon fill=\"none\" points=\"207.5,-1971.5 207.5,-2007.5 389.5,-2007.5 389.5,-1971.5 207.5,-1971.5\" stroke=\"#000000\"/>\n<text fill=\"#000000\" font-family=\"Times,serif\" font-size=\"14.00\" text-anchor=\"middle\" x=\"298.5\" y=\"-1985.8\">concatenate_15: Concatenate</text>\n</g>\n<!-- 140583833264256&#45;&gt;140583832621296 -->\n<g class=\"edge\" id=\"edge11\">\n<title>140583833264256-&gt;140583832621296</title>\n<path d=\"M320.3018,-2628.1819C348.0703,-2602.6689 392.5,-2553.5577 392.5,-2500.5 392.5,-2500.5 392.5,-2500.5 392.5,-2135.5 392.5,-2093.8732 395.159,-2078.9194 372.5,-2044 364.6725,-2031.9372 353.1848,-2021.6131 341.5842,-2013.2986\" fill=\"none\" stroke=\"#000000\"/>\n<polygon fill=\"#000000\" points=\"343.4115,-2010.3091 333.168,-2007.6033 339.4884,-2016.1065 343.4115,-2010.3091\" stroke=\"#000000\"/>\n</g>\n<!-- 140583833185024 -->\n<g class=\"node\" id=\"node4\">\n<title>140583833185024</title>\n<polygon fill=\"none\" points=\"45,-2482.5 45,-2518.5 364,-2518.5 364,-2482.5 45,-2482.5\" stroke=\"#000000\"/>\n<text fill=\"#000000\" font-family=\"Times,serif\" font-size=\"14.00\" text-anchor=\"middle\" x=\"204.5\" y=\"-2496.8\">batch_normalization_v1_45: BatchNormalizationV1</text>\n</g>\n<!-- 140583833264760&#45;&gt;140583833185024 -->\n<g class=\"edge\" id=\"edge3\">\n<title>140583833264760-&gt;140583833185024</title>\n<path d=\"M238.3764,-2555.4551C233.1299,-2546.9441 226.7636,-2536.6165 220.9724,-2527.2219\" fill=\"none\" stroke=\"#000000\"/>\n<polygon fill=\"#000000\" points=\"223.8785,-2525.2663 215.6516,-2518.5904 217.9197,-2528.9396 223.8785,-2525.2663\" stroke=\"#000000\"/>\n</g>\n<!-- 140583833184632 -->\n<g class=\"node\" id=\"node5\">\n<title>140583833184632</title>\n<polygon fill=\"none\" points=\"124,-2409.5 124,-2445.5 285,-2445.5 285,-2409.5 124,-2409.5\" stroke=\"#000000\"/>\n<text fill=\"#000000\" font-family=\"Times,serif\" font-size=\"14.00\" text-anchor=\"middle\" x=\"204.5\" y=\"-2423.8\">activation_45: Activation</text>\n</g>\n<!-- 140583833185024&#45;&gt;140583833184632 -->\n<g class=\"edge\" id=\"edge4\">\n<title>140583833185024-&gt;140583833184632</title>\n<path d=\"M204.5,-2482.4551C204.5,-2474.3828 204.5,-2464.6764 204.5,-2455.6817\" fill=\"none\" stroke=\"#000000\"/>\n<polygon fill=\"#000000\" points=\"208.0001,-2455.5903 204.5,-2445.5904 201.0001,-2455.5904 208.0001,-2455.5903\" stroke=\"#000000\"/>\n</g>\n<!-- 140583833183064 -->\n<g class=\"node\" id=\"node6\">\n<title>140583833183064</title>\n<polygon fill=\"none\" points=\"134.5,-2336.5 134.5,-2372.5 274.5,-2372.5 274.5,-2336.5 134.5,-2336.5\" stroke=\"#000000\"/>\n<text fill=\"#000000\" font-family=\"Times,serif\" font-size=\"14.00\" text-anchor=\"middle\" x=\"204.5\" y=\"-2350.8\">conv2d_46: Conv2D</text>\n</g>\n<!-- 140583833184632&#45;&gt;140583833183064 -->\n<g class=\"edge\" id=\"edge5\">\n<title>140583833184632-&gt;140583833183064</title>\n<path d=\"M204.5,-2409.4551C204.5,-2401.3828 204.5,-2391.6764 204.5,-2382.6817\" fill=\"none\" stroke=\"#000000\"/>\n<polygon fill=\"#000000\" points=\"208.0001,-2382.5903 204.5,-2372.5904 201.0001,-2382.5904 208.0001,-2382.5903\" stroke=\"#000000\"/>\n</g>\n<!-- 140583833267000 -->\n<g class=\"node\" id=\"node7\">\n<title>140583833267000</title>\n<polygon fill=\"none\" points=\"45,-2263.5 45,-2299.5 364,-2299.5 364,-2263.5 45,-2263.5\" stroke=\"#000000\"/>\n<text fill=\"#000000\" font-family=\"Times,serif\" font-size=\"14.00\" text-anchor=\"middle\" x=\"204.5\" y=\"-2277.8\">batch_normalization_v1_46: BatchNormalizationV1</text>\n</g>\n<!-- 140583833183064&#45;&gt;140583833267000 -->\n<g class=\"edge\" id=\"edge6\">\n<title>140583833183064-&gt;140583833267000</title>\n<path d=\"M204.5,-2336.4551C204.5,-2328.3828 204.5,-2318.6764 204.5,-2309.6817\" fill=\"none\" stroke=\"#000000\"/>\n<polygon fill=\"#000000\" points=\"208.0001,-2309.5903 204.5,-2299.5904 201.0001,-2309.5904 208.0001,-2309.5903\" stroke=\"#000000\"/>\n</g>\n<!-- 140583833266888 -->\n<g class=\"node\" id=\"node8\">\n<title>140583833266888</title>\n<polygon fill=\"none\" points=\"124,-2190.5 124,-2226.5 285,-2226.5 285,-2190.5 124,-2190.5\" stroke=\"#000000\"/>\n<text fill=\"#000000\" font-family=\"Times,serif\" font-size=\"14.00\" text-anchor=\"middle\" x=\"204.5\" y=\"-2204.8\">activation_46: Activation</text>\n</g>\n<!-- 140583833267000&#45;&gt;140583833266888 -->\n<g class=\"edge\" id=\"edge7\">\n<title>140583833267000-&gt;140583833266888</title>\n<path d=\"M204.5,-2263.4551C204.5,-2255.3828 204.5,-2245.6764 204.5,-2236.6817\" fill=\"none\" stroke=\"#000000\"/>\n<polygon fill=\"#000000\" points=\"208.0001,-2236.5903 204.5,-2226.5904 201.0001,-2236.5904 208.0001,-2236.5903\" stroke=\"#000000\"/>\n</g>\n<!-- 140583832415368 -->\n<g class=\"node\" id=\"node9\">\n<title>140583832415368</title>\n<polygon fill=\"none\" points=\"134.5,-2117.5 134.5,-2153.5 274.5,-2153.5 274.5,-2117.5 134.5,-2117.5\" stroke=\"#000000\"/>\n<text fill=\"#000000\" font-family=\"Times,serif\" font-size=\"14.00\" text-anchor=\"middle\" x=\"204.5\" y=\"-2131.8\">conv2d_47: Conv2D</text>\n</g>\n<!-- 140583833266888&#45;&gt;140583832415368 -->\n<g class=\"edge\" id=\"edge8\">\n<title>140583833266888-&gt;140583832415368</title>\n<path d=\"M204.5,-2190.4551C204.5,-2182.3828 204.5,-2172.6764 204.5,-2163.6817\" fill=\"none\" stroke=\"#000000\"/>\n<polygon fill=\"#000000\" points=\"208.0001,-2163.5903 204.5,-2153.5904 201.0001,-2163.5904 208.0001,-2163.5903\" stroke=\"#000000\"/>\n</g>\n<!-- 140583832498248 -->\n<g class=\"node\" id=\"node10\">\n<title>140583832498248</title>\n<polygon fill=\"none\" points=\"45,-2044.5 45,-2080.5 364,-2080.5 364,-2044.5 45,-2044.5\" stroke=\"#000000\"/>\n<text fill=\"#000000\" font-family=\"Times,serif\" font-size=\"14.00\" text-anchor=\"middle\" x=\"204.5\" y=\"-2058.8\">batch_normalization_v1_47: BatchNormalizationV1</text>\n</g>\n<!-- 140583832415368&#45;&gt;140583832498248 -->\n<g class=\"edge\" id=\"edge9\">\n<title>140583832415368-&gt;140583832498248</title>\n<path d=\"M204.5,-2117.4551C204.5,-2109.3828 204.5,-2099.6764 204.5,-2090.6817\" fill=\"none\" stroke=\"#000000\"/>\n<polygon fill=\"#000000\" points=\"208.0001,-2090.5903 204.5,-2080.5904 201.0001,-2090.5904 208.0001,-2090.5903\" stroke=\"#000000\"/>\n</g>\n<!-- 140583832498248&#45;&gt;140583832621296 -->\n<g class=\"edge\" id=\"edge10\">\n<title>140583832498248-&gt;140583832621296</title>\n<path d=\"M227.736,-2044.4551C239.5991,-2035.2422 254.2033,-2023.9006 267.0576,-2013.918\" fill=\"none\" stroke=\"#000000\"/>\n<polygon fill=\"#000000\" points=\"269.4543,-2016.4883 275.2056,-2007.5904 265.1607,-2010.9597 269.4543,-2016.4883\" stroke=\"#000000\"/>\n</g>\n<!-- 140583831667768 -->\n<g class=\"node\" id=\"node12\">\n<title>140583831667768</title>\n<polygon fill=\"none\" points=\"218,-1898.5 218,-1934.5 379,-1934.5 379,-1898.5 218,-1898.5\" stroke=\"#000000\"/>\n<text fill=\"#000000\" font-family=\"Times,serif\" font-size=\"14.00\" text-anchor=\"middle\" x=\"298.5\" y=\"-1912.8\">activation_47: Activation</text>\n</g>\n<!-- 140583832621296&#45;&gt;140583831667768 -->\n<g class=\"edge\" id=\"edge12\">\n<title>140583832621296-&gt;140583831667768</title>\n<path d=\"M298.5,-1971.4551C298.5,-1963.3828 298.5,-1953.6764 298.5,-1944.6817\" fill=\"none\" stroke=\"#000000\"/>\n<polygon fill=\"#000000\" points=\"302.0001,-1944.5903 298.5,-1934.5904 295.0001,-1944.5904 302.0001,-1944.5903\" stroke=\"#000000\"/>\n</g>\n<!-- 140583831669000 -->\n<g class=\"node\" id=\"node13\">\n<title>140583831669000</title>\n<polygon fill=\"none\" points=\"184,-1825.5 184,-1861.5 413,-1861.5 413,-1825.5 184,-1825.5\" stroke=\"#000000\"/>\n<text fill=\"#000000\" font-family=\"Times,serif\" font-size=\"14.00\" text-anchor=\"middle\" x=\"298.5\" y=\"-1839.8\">max_pooling2d_15: MaxPooling2D</text>\n</g>\n<!-- 140583831667768&#45;&gt;140583831669000 -->\n<g class=\"edge\" id=\"edge13\">\n<title>140583831667768-&gt;140583831669000</title>\n<path d=\"M298.5,-1898.4551C298.5,-1890.3828 298.5,-1880.6764 298.5,-1871.6817\" fill=\"none\" stroke=\"#000000\"/>\n<polygon fill=\"#000000\" points=\"302.0001,-1871.5903 298.5,-1861.5904 295.0001,-1871.5904 302.0001,-1871.5903\" stroke=\"#000000\"/>\n</g>\n<!-- 140583831668272 -->\n<g class=\"node\" id=\"node14\">\n<title>140583831668272</title>\n<polygon fill=\"none\" points=\"134.5,-1752.5 134.5,-1788.5 274.5,-1788.5 274.5,-1752.5 134.5,-1752.5\" stroke=\"#000000\"/>\n<text fill=\"#000000\" font-family=\"Times,serif\" font-size=\"14.00\" text-anchor=\"middle\" x=\"204.5\" y=\"-1766.8\">conv2d_48: Conv2D</text>\n</g>\n<!-- 140583831669000&#45;&gt;140583831668272 -->\n<g class=\"edge\" id=\"edge14\">\n<title>140583831669000-&gt;140583831668272</title>\n<path d=\"M275.264,-1825.4551C263.4009,-1816.2422 248.7967,-1804.9006 235.9424,-1794.918\" fill=\"none\" stroke=\"#000000\"/>\n<polygon fill=\"#000000\" points=\"237.8393,-1791.9597 227.7944,-1788.5904 233.5457,-1797.4883 237.8393,-1791.9597\" stroke=\"#000000\"/>\n</g>\n<!-- 140583830264128 -->\n<g class=\"node\" id=\"node22\">\n<title>140583830264128</title>\n<polygon fill=\"none\" points=\"162.5,-1168.5 162.5,-1204.5 344.5,-1204.5 344.5,-1168.5 162.5,-1168.5\" stroke=\"#000000\"/>\n<text fill=\"#000000\" font-family=\"Times,serif\" font-size=\"14.00\" text-anchor=\"middle\" x=\"253.5\" y=\"-1182.8\">concatenate_16: Concatenate</text>\n</g>\n<!-- 140583831669000&#45;&gt;140583830264128 -->\n<g class=\"edge\" id=\"edge23\">\n<title>140583831669000-&gt;140583830264128</title>\n<path d=\"M308.8916,-1825.2619C323.2751,-1798.255 347.5,-1745.626 347.5,-1697.5 347.5,-1697.5 347.5,-1697.5 347.5,-1332.5 347.5,-1290.8732 350.159,-1275.9194 327.5,-1241 319.6725,-1228.9372 308.1848,-1218.6131 296.5842,-1210.2986\" fill=\"none\" stroke=\"#000000\"/>\n<polygon fill=\"#000000\" points=\"298.4115,-1207.3091 288.168,-1204.6033 294.4884,-1213.1065 298.4115,-1207.3091\" stroke=\"#000000\"/>\n</g>\n<!-- 140583830826344 -->\n<g class=\"node\" id=\"node15\">\n<title>140583830826344</title>\n<polygon fill=\"none\" points=\"0,-1679.5 0,-1715.5 319,-1715.5 319,-1679.5 0,-1679.5\" stroke=\"#000000\"/>\n<text fill=\"#000000\" font-family=\"Times,serif\" font-size=\"14.00\" text-anchor=\"middle\" x=\"159.5\" y=\"-1693.8\">batch_normalization_v1_48: BatchNormalizationV1</text>\n</g>\n<!-- 140583831668272&#45;&gt;140583830826344 -->\n<g class=\"edge\" id=\"edge15\">\n<title>140583831668272-&gt;140583830826344</title>\n<path d=\"M193.3764,-1752.4551C188.1299,-1743.9441 181.7636,-1733.6165 175.9724,-1724.2219\" fill=\"none\" stroke=\"#000000\"/>\n<polygon fill=\"#000000\" points=\"178.8785,-1722.2663 170.6516,-1715.5904 172.9197,-1725.9396 178.8785,-1722.2663\" stroke=\"#000000\"/>\n</g>\n<!-- 140583830826624 -->\n<g class=\"node\" id=\"node16\">\n<title>140583830826624</title>\n<polygon fill=\"none\" points=\"79,-1606.5 79,-1642.5 240,-1642.5 240,-1606.5 79,-1606.5\" stroke=\"#000000\"/>\n<text fill=\"#000000\" font-family=\"Times,serif\" font-size=\"14.00\" text-anchor=\"middle\" x=\"159.5\" y=\"-1620.8\">activation_48: Activation</text>\n</g>\n<!-- 140583830826344&#45;&gt;140583830826624 -->\n<g class=\"edge\" id=\"edge16\">\n<title>140583830826344-&gt;140583830826624</title>\n<path d=\"M159.5,-1679.4551C159.5,-1671.3828 159.5,-1661.6764 159.5,-1652.6817\" fill=\"none\" stroke=\"#000000\"/>\n<polygon fill=\"#000000\" points=\"163.0001,-1652.5903 159.5,-1642.5904 156.0001,-1652.5904 163.0001,-1652.5903\" stroke=\"#000000\"/>\n</g>\n<!-- 140583830934080 -->\n<g class=\"node\" id=\"node17\">\n<title>140583830934080</title>\n<polygon fill=\"none\" points=\"89.5,-1533.5 89.5,-1569.5 229.5,-1569.5 229.5,-1533.5 89.5,-1533.5\" stroke=\"#000000\"/>\n<text fill=\"#000000\" font-family=\"Times,serif\" font-size=\"14.00\" text-anchor=\"middle\" x=\"159.5\" y=\"-1547.8\">conv2d_49: Conv2D</text>\n</g>\n<!-- 140583830826624&#45;&gt;140583830934080 -->\n<g class=\"edge\" id=\"edge17\">\n<title>140583830826624-&gt;140583830934080</title>\n<path d=\"M159.5,-1606.4551C159.5,-1598.3828 159.5,-1588.6764 159.5,-1579.6817\" fill=\"none\" stroke=\"#000000\"/>\n<polygon fill=\"#000000\" points=\"163.0001,-1579.5903 159.5,-1569.5904 156.0001,-1579.5904 163.0001,-1579.5903\" stroke=\"#000000\"/>\n</g>\n<!-- 140583830989736 -->\n<g class=\"node\" id=\"node18\">\n<title>140583830989736</title>\n<polygon fill=\"none\" points=\"0,-1460.5 0,-1496.5 319,-1496.5 319,-1460.5 0,-1460.5\" stroke=\"#000000\"/>\n<text fill=\"#000000\" font-family=\"Times,serif\" font-size=\"14.00\" text-anchor=\"middle\" x=\"159.5\" y=\"-1474.8\">batch_normalization_v1_49: BatchNormalizationV1</text>\n</g>\n<!-- 140583830934080&#45;&gt;140583830989736 -->\n<g class=\"edge\" id=\"edge18\">\n<title>140583830934080-&gt;140583830989736</title>\n<path d=\"M159.5,-1533.4551C159.5,-1525.3828 159.5,-1515.6764 159.5,-1506.6817\" fill=\"none\" stroke=\"#000000\"/>\n<polygon fill=\"#000000\" points=\"163.0001,-1506.5903 159.5,-1496.5904 156.0001,-1506.5904 163.0001,-1506.5903\" stroke=\"#000000\"/>\n</g>\n<!-- 140583830989512 -->\n<g class=\"node\" id=\"node19\">\n<title>140583830989512</title>\n<polygon fill=\"none\" points=\"79,-1387.5 79,-1423.5 240,-1423.5 240,-1387.5 79,-1387.5\" stroke=\"#000000\"/>\n<text fill=\"#000000\" font-family=\"Times,serif\" font-size=\"14.00\" text-anchor=\"middle\" x=\"159.5\" y=\"-1401.8\">activation_49: Activation</text>\n</g>\n<!-- 140583830989736&#45;&gt;140583830989512 -->\n<g class=\"edge\" id=\"edge19\">\n<title>140583830989736-&gt;140583830989512</title>\n<path d=\"M159.5,-1460.4551C159.5,-1452.3828 159.5,-1442.6764 159.5,-1433.6817\" fill=\"none\" stroke=\"#000000\"/>\n<polygon fill=\"#000000\" points=\"163.0001,-1433.5903 159.5,-1423.5904 156.0001,-1433.5904 163.0001,-1433.5903\" stroke=\"#000000\"/>\n</g>\n<!-- 140583830176096 -->\n<g class=\"node\" id=\"node20\">\n<title>140583830176096</title>\n<polygon fill=\"none\" points=\"89.5,-1314.5 89.5,-1350.5 229.5,-1350.5 229.5,-1314.5 89.5,-1314.5\" stroke=\"#000000\"/>\n<text fill=\"#000000\" font-family=\"Times,serif\" font-size=\"14.00\" text-anchor=\"middle\" x=\"159.5\" y=\"-1328.8\">conv2d_50: Conv2D</text>\n</g>\n<!-- 140583830989512&#45;&gt;140583830176096 -->\n<g class=\"edge\" id=\"edge20\">\n<title>140583830989512-&gt;140583830176096</title>\n<path d=\"M159.5,-1387.4551C159.5,-1379.3828 159.5,-1369.6764 159.5,-1360.6817\" fill=\"none\" stroke=\"#000000\"/>\n<polygon fill=\"#000000\" points=\"163.0001,-1360.5903 159.5,-1350.5904 156.0001,-1360.5904 163.0001,-1360.5903\" stroke=\"#000000\"/>\n</g>\n<!-- 140583830264240 -->\n<g class=\"node\" id=\"node21\">\n<title>140583830264240</title>\n<polygon fill=\"none\" points=\"0,-1241.5 0,-1277.5 319,-1277.5 319,-1241.5 0,-1241.5\" stroke=\"#000000\"/>\n<text fill=\"#000000\" font-family=\"Times,serif\" font-size=\"14.00\" text-anchor=\"middle\" x=\"159.5\" y=\"-1255.8\">batch_normalization_v1_50: BatchNormalizationV1</text>\n</g>\n<!-- 140583830176096&#45;&gt;140583830264240 -->\n<g class=\"edge\" id=\"edge21\">\n<title>140583830176096-&gt;140583830264240</title>\n<path d=\"M159.5,-1314.4551C159.5,-1306.3828 159.5,-1296.6764 159.5,-1287.6817\" fill=\"none\" stroke=\"#000000\"/>\n<polygon fill=\"#000000\" points=\"163.0001,-1287.5903 159.5,-1277.5904 156.0001,-1287.5904 163.0001,-1287.5903\" stroke=\"#000000\"/>\n</g>\n<!-- 140583830264240&#45;&gt;140583830264128 -->\n<g class=\"edge\" id=\"edge22\">\n<title>140583830264240-&gt;140583830264128</title>\n<path d=\"M182.736,-1241.4551C194.5991,-1232.2422 209.2033,-1220.9006 222.0576,-1210.918\" fill=\"none\" stroke=\"#000000\"/>\n<polygon fill=\"#000000\" points=\"224.4543,-1213.4883 230.2056,-1204.5904 220.1607,-1207.9597 224.4543,-1213.4883\" stroke=\"#000000\"/>\n</g>\n<!-- 140583829412496 -->\n<g class=\"node\" id=\"node23\">\n<title>140583829412496</title>\n<polygon fill=\"none\" points=\"173,-1095.5 173,-1131.5 334,-1131.5 334,-1095.5 173,-1095.5\" stroke=\"#000000\"/>\n<text fill=\"#000000\" font-family=\"Times,serif\" font-size=\"14.00\" text-anchor=\"middle\" x=\"253.5\" y=\"-1109.8\">activation_50: Activation</text>\n</g>\n<!-- 140583830264128&#45;&gt;140583829412496 -->\n<g class=\"edge\" id=\"edge24\">\n<title>140583830264128-&gt;140583829412496</title>\n<path d=\"M253.5,-1168.4551C253.5,-1160.3828 253.5,-1150.6764 253.5,-1141.6817\" fill=\"none\" stroke=\"#000000\"/>\n<polygon fill=\"#000000\" points=\"257.0001,-1141.5903 253.5,-1131.5904 250.0001,-1141.5904 257.0001,-1141.5903\" stroke=\"#000000\"/>\n</g>\n<!-- 140583829410536 -->\n<g class=\"node\" id=\"node24\">\n<title>140583829410536</title>\n<polygon fill=\"none\" points=\"139,-1022.5 139,-1058.5 368,-1058.5 368,-1022.5 139,-1022.5\" stroke=\"#000000\"/>\n<text fill=\"#000000\" font-family=\"Times,serif\" font-size=\"14.00\" text-anchor=\"middle\" x=\"253.5\" y=\"-1036.8\">max_pooling2d_16: MaxPooling2D</text>\n</g>\n<!-- 140583829412496&#45;&gt;140583829410536 -->\n<g class=\"edge\" id=\"edge25\">\n<title>140583829412496-&gt;140583829410536</title>\n<path d=\"M253.5,-1095.4551C253.5,-1087.3828 253.5,-1077.6764 253.5,-1068.6817\" fill=\"none\" stroke=\"#000000\"/>\n<polygon fill=\"#000000\" points=\"257.0001,-1068.5903 253.5,-1058.5904 250.0001,-1068.5904 257.0001,-1068.5903\" stroke=\"#000000\"/>\n</g>\n<!-- 140583828856168 -->\n<g class=\"node\" id=\"node25\">\n<title>140583828856168</title>\n<polygon fill=\"none\" points=\"134.5,-949.5 134.5,-985.5 274.5,-985.5 274.5,-949.5 134.5,-949.5\" stroke=\"#000000\"/>\n<text fill=\"#000000\" font-family=\"Times,serif\" font-size=\"14.00\" text-anchor=\"middle\" x=\"204.5\" y=\"-963.8\">conv2d_51: Conv2D</text>\n</g>\n<!-- 140583829410536&#45;&gt;140583828856168 -->\n<g class=\"edge\" id=\"edge26\">\n<title>140583829410536-&gt;140583828856168</title>\n<path d=\"M241.3876,-1022.4551C235.6159,-1013.8564 228.5995,-1003.4034 222.2418,-993.9316\" fill=\"none\" stroke=\"#000000\"/>\n<polygon fill=\"#000000\" points=\"225.1222,-991.9427 216.6428,-985.5904 219.3101,-995.844 225.1222,-991.9427\" stroke=\"#000000\"/>\n</g>\n<!-- 140583827934904 -->\n<g class=\"node\" id=\"node33\">\n<title>140583827934904</title>\n<polygon fill=\"none\" points=\"162.5,-365.5 162.5,-401.5 344.5,-401.5 344.5,-365.5 162.5,-365.5\" stroke=\"#000000\"/>\n<text fill=\"#000000\" font-family=\"Times,serif\" font-size=\"14.00\" text-anchor=\"middle\" x=\"253.5\" y=\"-379.8\">concatenate_17: Concatenate</text>\n</g>\n<!-- 140583829410536&#45;&gt;140583827934904 -->\n<g class=\"edge\" id=\"edge35\">\n<title>140583829410536-&gt;140583827934904</title>\n<path d=\"M275.3018,-1022.1819C303.0703,-996.6689 347.5,-947.5577 347.5,-894.5 347.5,-894.5 347.5,-894.5 347.5,-529.5 347.5,-487.8732 350.159,-472.9194 327.5,-438 319.6725,-425.9372 308.1848,-415.6131 296.5842,-407.2986\" fill=\"none\" stroke=\"#000000\"/>\n<polygon fill=\"#000000\" points=\"298.4115,-404.3091 288.168,-401.6033 294.4884,-410.1065 298.4115,-404.3091\" stroke=\"#000000\"/>\n</g>\n<!-- 140583828499200 -->\n<g class=\"node\" id=\"node26\">\n<title>140583828499200</title>\n<polygon fill=\"none\" points=\"0,-876.5 0,-912.5 319,-912.5 319,-876.5 0,-876.5\" stroke=\"#000000\"/>\n<text fill=\"#000000\" font-family=\"Times,serif\" font-size=\"14.00\" text-anchor=\"middle\" x=\"159.5\" y=\"-890.8\">batch_normalization_v1_51: BatchNormalizationV1</text>\n</g>\n<!-- 140583828856168&#45;&gt;140583828499200 -->\n<g class=\"edge\" id=\"edge27\">\n<title>140583828856168-&gt;140583828499200</title>\n<path d=\"M193.3764,-949.4551C188.1299,-940.9441 181.7636,-930.6165 175.9724,-921.2219\" fill=\"none\" stroke=\"#000000\"/>\n<polygon fill=\"#000000\" points=\"178.8785,-919.2663 170.6516,-912.5904 172.9197,-922.9396 178.8785,-919.2663\" stroke=\"#000000\"/>\n</g>\n<!-- 140583828679312 -->\n<g class=\"node\" id=\"node27\">\n<title>140583828679312</title>\n<polygon fill=\"none\" points=\"79,-803.5 79,-839.5 240,-839.5 240,-803.5 79,-803.5\" stroke=\"#000000\"/>\n<text fill=\"#000000\" font-family=\"Times,serif\" font-size=\"14.00\" text-anchor=\"middle\" x=\"159.5\" y=\"-817.8\">activation_51: Activation</text>\n</g>\n<!-- 140583828499200&#45;&gt;140583828679312 -->\n<g class=\"edge\" id=\"edge28\">\n<title>140583828499200-&gt;140583828679312</title>\n<path d=\"M159.5,-876.4551C159.5,-868.3828 159.5,-858.6764 159.5,-849.6817\" fill=\"none\" stroke=\"#000000\"/>\n<polygon fill=\"#000000\" points=\"163.0001,-849.5903 159.5,-839.5904 156.0001,-849.5904 163.0001,-849.5903\" stroke=\"#000000\"/>\n</g>\n<!-- 140583828677352 -->\n<g class=\"node\" id=\"node28\">\n<title>140583828677352</title>\n<polygon fill=\"none\" points=\"89.5,-730.5 89.5,-766.5 229.5,-766.5 229.5,-730.5 89.5,-730.5\" stroke=\"#000000\"/>\n<text fill=\"#000000\" font-family=\"Times,serif\" font-size=\"14.00\" text-anchor=\"middle\" x=\"159.5\" y=\"-744.8\">conv2d_52: Conv2D</text>\n</g>\n<!-- 140583828679312&#45;&gt;140583828677352 -->\n<g class=\"edge\" id=\"edge29\">\n<title>140583828679312-&gt;140583828677352</title>\n<path d=\"M159.5,-803.4551C159.5,-795.3828 159.5,-785.6764 159.5,-776.6817\" fill=\"none\" stroke=\"#000000\"/>\n<polygon fill=\"#000000\" points=\"163.0001,-776.5903 159.5,-766.5904 156.0001,-776.5904 163.0001,-776.5903\" stroke=\"#000000\"/>\n</g>\n<!-- 140583827741328 -->\n<g class=\"node\" id=\"node29\">\n<title>140583827741328</title>\n<polygon fill=\"none\" points=\"0,-657.5 0,-693.5 319,-693.5 319,-657.5 0,-657.5\" stroke=\"#000000\"/>\n<text fill=\"#000000\" font-family=\"Times,serif\" font-size=\"14.00\" text-anchor=\"middle\" x=\"159.5\" y=\"-671.8\">batch_normalization_v1_52: BatchNormalizationV1</text>\n</g>\n<!-- 140583828677352&#45;&gt;140583827741328 -->\n<g class=\"edge\" id=\"edge30\">\n<title>140583828677352-&gt;140583827741328</title>\n<path d=\"M159.5,-730.4551C159.5,-722.3828 159.5,-712.6764 159.5,-703.6817\" fill=\"none\" stroke=\"#000000\"/>\n<polygon fill=\"#000000\" points=\"163.0001,-703.5903 159.5,-693.5904 156.0001,-703.5904 163.0001,-703.5903\" stroke=\"#000000\"/>\n</g>\n<!-- 140583828601320 -->\n<g class=\"node\" id=\"node30\">\n<title>140583828601320</title>\n<polygon fill=\"none\" points=\"79,-584.5 79,-620.5 240,-620.5 240,-584.5 79,-584.5\" stroke=\"#000000\"/>\n<text fill=\"#000000\" font-family=\"Times,serif\" font-size=\"14.00\" text-anchor=\"middle\" x=\"159.5\" y=\"-598.8\">activation_52: Activation</text>\n</g>\n<!-- 140583827741328&#45;&gt;140583828601320 -->\n<g class=\"edge\" id=\"edge31\">\n<title>140583827741328-&gt;140583828601320</title>\n<path d=\"M159.5,-657.4551C159.5,-649.3828 159.5,-639.6764 159.5,-630.6817\" fill=\"none\" stroke=\"#000000\"/>\n<polygon fill=\"#000000\" points=\"163.0001,-630.5903 159.5,-620.5904 156.0001,-630.5904 163.0001,-630.5903\" stroke=\"#000000\"/>\n</g>\n<!-- 140583827845808 -->\n<g class=\"node\" id=\"node31\">\n<title>140583827845808</title>\n<polygon fill=\"none\" points=\"89.5,-511.5 89.5,-547.5 229.5,-547.5 229.5,-511.5 89.5,-511.5\" stroke=\"#000000\"/>\n<text fill=\"#000000\" font-family=\"Times,serif\" font-size=\"14.00\" text-anchor=\"middle\" x=\"159.5\" y=\"-525.8\">conv2d_53: Conv2D</text>\n</g>\n<!-- 140583828601320&#45;&gt;140583827845808 -->\n<g class=\"edge\" id=\"edge32\">\n<title>140583828601320-&gt;140583827845808</title>\n<path d=\"M159.5,-584.4551C159.5,-576.3828 159.5,-566.6764 159.5,-557.6817\" fill=\"none\" stroke=\"#000000\"/>\n<polygon fill=\"#000000\" points=\"163.0001,-557.5903 159.5,-547.5904 156.0001,-557.5904 163.0001,-557.5903\" stroke=\"#000000\"/>\n</g>\n<!-- 140583827932832 -->\n<g class=\"node\" id=\"node32\">\n<title>140583827932832</title>\n<polygon fill=\"none\" points=\"0,-438.5 0,-474.5 319,-474.5 319,-438.5 0,-438.5\" stroke=\"#000000\"/>\n<text fill=\"#000000\" font-family=\"Times,serif\" font-size=\"14.00\" text-anchor=\"middle\" x=\"159.5\" y=\"-452.8\">batch_normalization_v1_53: BatchNormalizationV1</text>\n</g>\n<!-- 140583827845808&#45;&gt;140583827932832 -->\n<g class=\"edge\" id=\"edge33\">\n<title>140583827845808-&gt;140583827932832</title>\n<path d=\"M159.5,-511.4551C159.5,-503.3828 159.5,-493.6764 159.5,-484.6817\" fill=\"none\" stroke=\"#000000\"/>\n<polygon fill=\"#000000\" points=\"163.0001,-484.5903 159.5,-474.5904 156.0001,-484.5904 163.0001,-484.5903\" stroke=\"#000000\"/>\n</g>\n<!-- 140583827932832&#45;&gt;140583827934904 -->\n<g class=\"edge\" id=\"edge34\">\n<title>140583827932832-&gt;140583827934904</title>\n<path d=\"M182.736,-438.4551C194.5991,-429.2422 209.2033,-417.9006 222.0576,-407.918\" fill=\"none\" stroke=\"#000000\"/>\n<polygon fill=\"#000000\" points=\"224.4543,-410.4883 230.2056,-401.5904 220.1607,-404.9597 224.4543,-410.4883\" stroke=\"#000000\"/>\n</g>\n<!-- 140583826988672 -->\n<g class=\"node\" id=\"node34\">\n<title>140583826988672</title>\n<polygon fill=\"none\" points=\"173,-292.5 173,-328.5 334,-328.5 334,-292.5 173,-292.5\" stroke=\"#000000\"/>\n<text fill=\"#000000\" font-family=\"Times,serif\" font-size=\"14.00\" text-anchor=\"middle\" x=\"253.5\" y=\"-306.8\">activation_53: Activation</text>\n</g>\n<!-- 140583827934904&#45;&gt;140583826988672 -->\n<g class=\"edge\" id=\"edge36\">\n<title>140583827934904-&gt;140583826988672</title>\n<path d=\"M253.5,-365.4551C253.5,-357.3828 253.5,-347.6764 253.5,-338.6817\" fill=\"none\" stroke=\"#000000\"/>\n<polygon fill=\"#000000\" points=\"257.0001,-338.5903 253.5,-328.5904 250.0001,-338.5904 257.0001,-338.5903\" stroke=\"#000000\"/>\n</g>\n<!-- 140583826988560 -->\n<g class=\"node\" id=\"node35\">\n<title>140583826988560</title>\n<polygon fill=\"none\" points=\"139,-219.5 139,-255.5 368,-255.5 368,-219.5 139,-219.5\" stroke=\"#000000\"/>\n<text fill=\"#000000\" font-family=\"Times,serif\" font-size=\"14.00\" text-anchor=\"middle\" x=\"253.5\" y=\"-233.8\">max_pooling2d_17: MaxPooling2D</text>\n</g>\n<!-- 140583826988672&#45;&gt;140583826988560 -->\n<g class=\"edge\" id=\"edge37\">\n<title>140583826988672-&gt;140583826988560</title>\n<path d=\"M253.5,-292.4551C253.5,-284.3828 253.5,-274.6764 253.5,-265.6817\" fill=\"none\" stroke=\"#000000\"/>\n<polygon fill=\"#000000\" points=\"257.0001,-265.5903 253.5,-255.5904 250.0001,-265.5904 257.0001,-265.5903\" stroke=\"#000000\"/>\n</g>\n<!-- 140583827092088 -->\n<g class=\"node\" id=\"node36\">\n<title>140583827092088</title>\n<polygon fill=\"none\" points=\"123.5,-146.5 123.5,-182.5 383.5,-182.5 383.5,-146.5 123.5,-146.5\" stroke=\"#000000\"/>\n<text fill=\"#000000\" font-family=\"Times,serif\" font-size=\"14.00\" text-anchor=\"middle\" x=\"253.5\" y=\"-160.8\">average_pooling2d_5: AveragePooling2D</text>\n</g>\n<!-- 140583826988560&#45;&gt;140583827092088 -->\n<g class=\"edge\" id=\"edge38\">\n<title>140583826988560-&gt;140583827092088</title>\n<path d=\"M253.5,-219.4551C253.5,-211.3828 253.5,-201.6764 253.5,-192.6817\" fill=\"none\" stroke=\"#000000\"/>\n<polygon fill=\"#000000\" points=\"257.0001,-192.5903 253.5,-182.5904 250.0001,-192.5904 257.0001,-192.5903\" stroke=\"#000000\"/>\n</g>\n<!-- 140583826680576 -->\n<g class=\"node\" id=\"node37\">\n<title>140583826680576</title>\n<polygon fill=\"none\" points=\"197,-73.5 197,-109.5 310,-109.5 310,-73.5 197,-73.5\" stroke=\"#000000\"/>\n<text fill=\"#000000\" font-family=\"Times,serif\" font-size=\"14.00\" text-anchor=\"middle\" x=\"253.5\" y=\"-87.8\">flatten_5: Flatten</text>\n</g>\n<!-- 140583827092088&#45;&gt;140583826680576 -->\n<g class=\"edge\" id=\"edge39\">\n<title>140583827092088-&gt;140583826680576</title>\n<path d=\"M253.5,-146.4551C253.5,-138.3828 253.5,-128.6764 253.5,-119.6817\" fill=\"none\" stroke=\"#000000\"/>\n<polygon fill=\"#000000\" points=\"257.0001,-119.5903 253.5,-109.5904 250.0001,-119.5904 257.0001,-119.5903\" stroke=\"#000000\"/>\n</g>\n<!-- 140583826277376 -->\n<g class=\"node\" id=\"node38\">\n<title>140583826277376</title>\n<polygon fill=\"none\" points=\"200,-.5 200,-36.5 307,-36.5 307,-.5 200,-.5\" stroke=\"#000000\"/>\n<text fill=\"#000000\" font-family=\"Times,serif\" font-size=\"14.00\" text-anchor=\"middle\" x=\"253.5\" y=\"-14.8\">dense_3: Dense</text>\n</g>\n<!-- 140583826680576&#45;&gt;140583826277376 -->\n<g class=\"edge\" id=\"edge40\">\n<title>140583826680576-&gt;140583826277376</title>\n<path d=\"M253.5,-73.4551C253.5,-65.3828 253.5,-55.6764 253.5,-46.6817\" fill=\"none\" stroke=\"#000000\"/>\n<polygon fill=\"#000000\" points=\"257.0001,-46.5903 253.5,-36.5904 250.0001,-46.5904 257.0001,-46.5903\" stroke=\"#000000\"/>\n</g>\n</g>\n</svg>"
          },
          "metadata": {
            "tags": []
          },
          "execution_count": 20
        }
      ]
    },
    {
      "cell_type": "code",
      "metadata": {
        "id": "8DCeOwgRWBow",
        "colab_type": "code",
        "colab": {}
      },
      "source": [
        "model.compile(optimizer = tf.train.AdamOptimizer(learning_rate = 0.001),\n",
        "             loss = \"categorical_crossentropy\",\n",
        "             metrics = [\"acc\"])"
      ],
      "execution_count": 0,
      "outputs": []
    },
    {
      "cell_type": "code",
      "metadata": {
        "id": "jNTkRw-4GabZ",
        "colab_type": "code",
        "outputId": "ee052507-6adc-414f-ecda-7438c64531be",
        "colab": {
          "base_uri": "https://localhost:8080/",
          "height": 445
        }
      },
      "source": [
        "tpu_model = tf.contrib.tpu.keras_to_tpu_model(\n",
        "    model,\n",
        "    strategy=tf.contrib.tpu.TPUDistributionStrategy(\n",
        "        tf.contrib.cluster_resolver.TPUClusterResolver(TPU_ADDRESS)))"
      ],
      "execution_count": 22,
      "outputs": [
        {
          "output_type": "stream",
          "text": [
            "\n",
            "WARNING: The TensorFlow contrib module will not be included in TensorFlow 2.0.\n",
            "For more information, please see:\n",
            "  * https://github.com/tensorflow/community/blob/master/rfcs/20180907-contrib-sunset.md\n",
            "  * https://github.com/tensorflow/addons\n",
            "If you depend on functionality not listed there, please file an issue.\n",
            "\n",
            "INFO:tensorflow:Querying Tensorflow master (grpc://10.79.250.34:8470) for TPU system metadata.\n",
            "INFO:tensorflow:Found TPU system:\n",
            "INFO:tensorflow:*** Num TPU Cores: 8\n",
            "INFO:tensorflow:*** Num TPU Workers: 1\n",
            "INFO:tensorflow:*** Num TPU Cores Per Worker: 8\n",
            "INFO:tensorflow:*** Available Device: _DeviceAttributes(/job:worker/replica:0/task:0/device:CPU:0, CPU, -1, 1658895426460709390)\n",
            "INFO:tensorflow:*** Available Device: _DeviceAttributes(/job:worker/replica:0/task:0/device:XLA_CPU:0, XLA_CPU, 17179869184, 11986114461047884434)\n",
            "INFO:tensorflow:*** Available Device: _DeviceAttributes(/job:worker/replica:0/task:0/device:TPU:0, TPU, 17179869184, 14983155888283923682)\n",
            "INFO:tensorflow:*** Available Device: _DeviceAttributes(/job:worker/replica:0/task:0/device:TPU:1, TPU, 17179869184, 8248743391755752090)\n",
            "INFO:tensorflow:*** Available Device: _DeviceAttributes(/job:worker/replica:0/task:0/device:TPU:2, TPU, 17179869184, 14890764492608938934)\n",
            "INFO:tensorflow:*** Available Device: _DeviceAttributes(/job:worker/replica:0/task:0/device:TPU:3, TPU, 17179869184, 9198704498000832003)\n",
            "INFO:tensorflow:*** Available Device: _DeviceAttributes(/job:worker/replica:0/task:0/device:TPU:4, TPU, 17179869184, 9369441943209725425)\n",
            "INFO:tensorflow:*** Available Device: _DeviceAttributes(/job:worker/replica:0/task:0/device:TPU:5, TPU, 17179869184, 16710091691790627720)\n",
            "INFO:tensorflow:*** Available Device: _DeviceAttributes(/job:worker/replica:0/task:0/device:TPU:6, TPU, 17179869184, 16005165882292983893)\n",
            "INFO:tensorflow:*** Available Device: _DeviceAttributes(/job:worker/replica:0/task:0/device:TPU:7, TPU, 17179869184, 16066505859432564687)\n",
            "INFO:tensorflow:*** Available Device: _DeviceAttributes(/job:worker/replica:0/task:0/device:TPU_SYSTEM:0, TPU_SYSTEM, 17179869184, 3255795132487018220)\n",
            "WARNING:tensorflow:tpu_model (from tensorflow.contrib.tpu.python.tpu.keras_support) is experimental and may change or be removed at any time, and without warning.\n"
          ],
          "name": "stdout"
        }
      ]
    },
    {
      "cell_type": "code",
      "metadata": {
        "id": "lGDVsv9iGuuN",
        "colab_type": "code",
        "outputId": "1898e0e4-cd4a-47da-e840-d987745cfb05",
        "colab": {
          "base_uri": "https://localhost:8080/",
          "height": 1479
        }
      },
      "source": [
        "tpu_model.summary()"
      ],
      "execution_count": 23,
      "outputs": [
        {
          "output_type": "stream",
          "text": [
            "__________________________________________________________________________________________________\n",
            "Layer (type)                    Output Shape         Param #     Connected to                     \n",
            "==================================================================================================\n",
            "input_6 (InputLayer)            (None, 32, 32, 3)    0                                            \n",
            "__________________________________________________________________________________________________\n",
            "zero_padding2d_5 (ZeroPadding2D (None, 38, 38, 3)    0           input_6[0][0]                    \n",
            "__________________________________________________________________________________________________\n",
            "conv2d_45 (Conv2D)              (None, 38, 38, 64)   1792        zero_padding2d_5[0][0]           \n",
            "__________________________________________________________________________________________________\n",
            "batch_normalization_v1_45 (Batc (None, 38, 38, 64)   256         conv2d_45[0][0]                  \n",
            "__________________________________________________________________________________________________\n",
            "activation_45 (Activation)      (None, 38, 38, 64)   0           batch_normalization_v1_45[0][0]  \n",
            "__________________________________________________________________________________________________\n",
            "conv2d_46 (Conv2D)              (None, 38, 38, 64)   36928       activation_45[0][0]              \n",
            "__________________________________________________________________________________________________\n",
            "batch_normalization_v1_46 (Batc (None, 38, 38, 64)   256         conv2d_46[0][0]                  \n",
            "__________________________________________________________________________________________________\n",
            "activation_46 (Activation)      (None, 38, 38, 64)   0           batch_normalization_v1_46[0][0]  \n",
            "__________________________________________________________________________________________________\n",
            "conv2d_47 (Conv2D)              (None, 38, 38, 128)  73856       activation_46[0][0]              \n",
            "__________________________________________________________________________________________________\n",
            "batch_normalization_v1_47 (Batc (None, 38, 38, 128)  512         conv2d_47[0][0]                  \n",
            "__________________________________________________________________________________________________\n",
            "concatenate_15 (Concatenate)    (None, 38, 38, 131)  0           batch_normalization_v1_47[0][0]  \n",
            "                                                                 zero_padding2d_5[0][0]           \n",
            "__________________________________________________________________________________________________\n",
            "activation_47 (Activation)      (None, 38, 38, 131)  0           concatenate_15[0][0]             \n",
            "__________________________________________________________________________________________________\n",
            "max_pooling2d_15 (MaxPooling2D) (None, 19, 19, 131)  0           activation_47[0][0]              \n",
            "__________________________________________________________________________________________________\n",
            "conv2d_48 (Conv2D)              (None, 19, 19, 64)   75520       max_pooling2d_15[0][0]           \n",
            "__________________________________________________________________________________________________\n",
            "batch_normalization_v1_48 (Batc (None, 19, 19, 64)   256         conv2d_48[0][0]                  \n",
            "__________________________________________________________________________________________________\n",
            "activation_48 (Activation)      (None, 19, 19, 64)   0           batch_normalization_v1_48[0][0]  \n",
            "__________________________________________________________________________________________________\n",
            "conv2d_49 (Conv2D)              (None, 19, 19, 128)  73856       activation_48[0][0]              \n",
            "__________________________________________________________________________________________________\n",
            "batch_normalization_v1_49 (Batc (None, 19, 19, 128)  512         conv2d_49[0][0]                  \n",
            "__________________________________________________________________________________________________\n",
            "activation_49 (Activation)      (None, 19, 19, 128)  0           batch_normalization_v1_49[0][0]  \n",
            "__________________________________________________________________________________________________\n",
            "conv2d_50 (Conv2D)              (None, 19, 19, 256)  295168      activation_49[0][0]              \n",
            "__________________________________________________________________________________________________\n",
            "batch_normalization_v1_50 (Batc (None, 19, 19, 256)  1024        conv2d_50[0][0]                  \n",
            "__________________________________________________________________________________________________\n",
            "concatenate_16 (Concatenate)    (None, 19, 19, 387)  0           batch_normalization_v1_50[0][0]  \n",
            "                                                                 max_pooling2d_15[0][0]           \n",
            "__________________________________________________________________________________________________\n",
            "activation_50 (Activation)      (None, 19, 19, 387)  0           concatenate_16[0][0]             \n",
            "__________________________________________________________________________________________________\n",
            "max_pooling2d_16 (MaxPooling2D) (None, 9, 9, 387)    0           activation_50[0][0]              \n",
            "__________________________________________________________________________________________________\n",
            "conv2d_51 (Conv2D)              (None, 9, 9, 256)    891904      max_pooling2d_16[0][0]           \n",
            "__________________________________________________________________________________________________\n",
            "batch_normalization_v1_51 (Batc (None, 9, 9, 256)    1024        conv2d_51[0][0]                  \n",
            "__________________________________________________________________________________________________\n",
            "activation_51 (Activation)      (None, 9, 9, 256)    0           batch_normalization_v1_51[0][0]  \n",
            "__________________________________________________________________________________________________\n",
            "conv2d_52 (Conv2D)              (None, 9, 9, 512)    1180160     activation_51[0][0]              \n",
            "__________________________________________________________________________________________________\n",
            "batch_normalization_v1_52 (Batc (None, 9, 9, 512)    2048        conv2d_52[0][0]                  \n",
            "__________________________________________________________________________________________________\n",
            "activation_52 (Activation)      (None, 9, 9, 512)    0           batch_normalization_v1_52[0][0]  \n",
            "__________________________________________________________________________________________________\n",
            "conv2d_53 (Conv2D)              (None, 9, 9, 1024)   4719616     activation_52[0][0]              \n",
            "__________________________________________________________________________________________________\n",
            "batch_normalization_v1_53 (Batc (None, 9, 9, 1024)   4096        conv2d_53[0][0]                  \n",
            "__________________________________________________________________________________________________\n",
            "concatenate_17 (Concatenate)    (None, 9, 9, 1411)   0           batch_normalization_v1_53[0][0]  \n",
            "                                                                 max_pooling2d_16[0][0]           \n",
            "__________________________________________________________________________________________________\n",
            "activation_53 (Activation)      (None, 9, 9, 1411)   0           concatenate_17[0][0]             \n",
            "__________________________________________________________________________________________________\n",
            "max_pooling2d_17 (MaxPooling2D) (None, 4, 4, 1411)   0           activation_53[0][0]              \n",
            "__________________________________________________________________________________________________\n",
            "average_pooling2d_5 (AveragePoo (None, 2, 2, 1411)   0           max_pooling2d_17[0][0]           \n",
            "__________________________________________________________________________________________________\n",
            "flatten_5 (Flatten)             (None, 5644)         0           average_pooling2d_5[0][0]        \n",
            "__________________________________________________________________________________________________\n",
            "dense_3 (Dense)                 (None, 10)           56450       flatten_5[0][0]                  \n",
            "==================================================================================================\n",
            "Total params: 7,415,234\n",
            "Trainable params: 7,410,242\n",
            "Non-trainable params: 4,992\n",
            "__________________________________________________________________________________________________\n"
          ],
          "name": "stdout"
        }
      ]
    },
    {
      "cell_type": "code",
      "metadata": {
        "id": "8KO_kDJkT7wr",
        "colab_type": "code",
        "colab": {}
      },
      "source": [
        "#tpu_model.load_weights(\"MNIST_TPU_1024.h5\")"
      ],
      "execution_count": 0,
      "outputs": []
    },
    {
      "cell_type": "code",
      "metadata": {
        "id": "mYgFPWV0RlTg",
        "colab_type": "code",
        "outputId": "be4a41a5-815b-4513-a8fc-1e4470be133b",
        "colab": {
          "base_uri": "https://localhost:8080/",
          "height": 938
        }
      },
      "source": [
        " tpu_model.fit(\n",
        "  train_input_fn,\n",
        "  steps_per_epoch = 60,\n",
        "  epochs=20,\n",
        ")"
      ],
      "execution_count": 25,
      "outputs": [
        {
          "output_type": "stream",
          "text": [
            "Epoch 1/20\n",
            "INFO:tensorflow:New input shapes; (re-)compiling: mode=train (# of cores 8), [TensorSpec(shape=(1024,), dtype=tf.int32, name=None), TensorSpec(shape=(1024, 32, 32, 3), dtype=tf.float32, name=None), TensorSpec(shape=(1024, 10), dtype=tf.float32, name=None)]\n",
            "INFO:tensorflow:Overriding default placeholder.\n",
            "INFO:tensorflow:Remapping placeholder for input_6\n",
            "WARNING:tensorflow:From /usr/local/lib/python3.6/dist-packages/tensorflow/contrib/tpu/python/tpu/keras_support.py:302: to_float (from tensorflow.python.ops.math_ops) is deprecated and will be removed in a future version.\n",
            "Instructions for updating:\n",
            "Use tf.cast instead.\n",
            "WARNING:tensorflow:From /usr/local/lib/python3.6/dist-packages/tensorflow/python/ops/math_ops.py:3066: to_int32 (from tensorflow.python.ops.math_ops) is deprecated and will be removed in a future version.\n",
            "Instructions for updating:\n",
            "Use tf.cast instead.\n",
            "INFO:tensorflow:Started compiling\n",
            "INFO:tensorflow:Finished compiling. Time elapsed: 23.813337326049805 secs\n",
            "INFO:tensorflow:Setting weights on TPU model.\n",
            "60/60 [==============================] - 70s 1s/step - loss: 2.4118 - acc: 0.3069\n",
            "Epoch 2/20\n",
            "60/60 [==============================] - 37s 611ms/step - loss: 1.2333 - acc: 0.5529\n",
            "Epoch 3/20\n",
            "60/60 [==============================] - 37s 609ms/step - loss: 0.7925 - acc: 0.7206\n",
            "Epoch 4/20\n",
            "60/60 [==============================] - 37s 610ms/step - loss: 0.5047 - acc: 0.8228\n",
            "Epoch 5/20\n",
            "60/60 [==============================] - 37s 610ms/step - loss: 0.3119 - acc: 0.8919\n",
            "Epoch 6/20\n",
            "60/60 [==============================] - 37s 609ms/step - loss: 0.1428 - acc: 0.9519\n",
            "Epoch 7/20\n",
            "60/60 [==============================] - 37s 610ms/step - loss: 0.0790 - acc: 0.9742\n",
            "Epoch 8/20\n",
            "60/60 [==============================] - 37s 609ms/step - loss: 0.0249 - acc: 0.9940\n",
            "Epoch 9/20\n",
            "60/60 [==============================] - 37s 612ms/step - loss: 0.0334 - acc: 0.9899\n",
            "Epoch 10/20\n",
            "60/60 [==============================] - 37s 610ms/step - loss: 0.0166 - acc: 0.9956\n",
            "Epoch 11/20\n",
            "60/60 [==============================] - 37s 611ms/step - loss: 4.6388e-04 - acc: 1.0000\n",
            "Epoch 12/20\n",
            "60/60 [==============================] - 37s 610ms/step - loss: 2.6253e-04 - acc: 1.0000\n",
            "Epoch 13/20\n",
            "60/60 [==============================] - 37s 610ms/step - loss: 2.0707e-04 - acc: 1.0000\n",
            "Epoch 14/20\n",
            "60/60 [==============================] - 37s 609ms/step - loss: 1.7203e-04 - acc: 1.0000\n",
            "Epoch 15/20\n",
            "60/60 [==============================] - 37s 610ms/step - loss: 1.4689e-04 - acc: 1.0000\n",
            "Epoch 16/20\n",
            "60/60 [==============================] - 37s 609ms/step - loss: 1.2791e-04 - acc: 1.0000\n",
            "Epoch 17/20\n",
            "60/60 [==============================] - 37s 611ms/step - loss: 1.1287e-04 - acc: 1.0000\n",
            "Epoch 18/20\n",
            "60/60 [==============================] - 37s 612ms/step - loss: 1.0042e-04 - acc: 1.0000\n",
            "Epoch 19/20\n",
            "60/60 [==============================] - 37s 610ms/step - loss: 8.9883e-05 - acc: 1.0000\n",
            "Epoch 20/20\n",
            "60/60 [==============================] - 37s 610ms/step - loss: 8.1280e-05 - acc: 1.0000\n"
          ],
          "name": "stdout"
        },
        {
          "output_type": "execute_result",
          "data": {
            "text/plain": [
              "<tensorflow.python.keras.callbacks.History at 0x7fdc2c5847b8>"
            ]
          },
          "metadata": {
            "tags": []
          },
          "execution_count": 25
        }
      ]
    },
    {
      "cell_type": "code",
      "metadata": {
        "id": "SS3rCq6FYXkf",
        "colab_type": "code",
        "outputId": "7a3e2de5-f22f-4d3d-fc76-d63931283570",
        "colab": {
          "base_uri": "https://localhost:8080/",
          "height": 34
        }
      },
      "source": [
        "tpu_model.save_weights('./MNIST_TPU_1024.h5', overwrite=True)\n"
      ],
      "execution_count": 26,
      "outputs": [
        {
          "output_type": "stream",
          "text": [
            "INFO:tensorflow:Copying TPU weights to the CPU\n"
          ],
          "name": "stdout"
        }
      ]
    },
    {
      "cell_type": "code",
      "metadata": {
        "id": "Nph-rX4kYhpK",
        "colab_type": "code",
        "outputId": "6ecf2ab8-7acb-4265-e922-7768ebc2f7a1",
        "colab": {
          "base_uri": "https://localhost:8080/",
          "height": 156
        }
      },
      "source": [
        "tpu_model.evaluate(test_input_fn, steps = 100)"
      ],
      "execution_count": 27,
      "outputs": [
        {
          "output_type": "stream",
          "text": [
            "INFO:tensorflow:New input shapes; (re-)compiling: mode=eval (# of cores 8), [TensorSpec(shape=(1024,), dtype=tf.int32, name=None), TensorSpec(shape=(1024, 32, 32, 3), dtype=tf.float32, name=None), TensorSpec(shape=(1024, 10), dtype=tf.float32, name=None)]\n",
            "INFO:tensorflow:Overriding default placeholder.\n",
            "INFO:tensorflow:Remapping placeholder for input_6\n",
            "INFO:tensorflow:Started compiling\n",
            "INFO:tensorflow:Finished compiling. Time elapsed: 15.465731859207153 secs\n",
            "100/100 [==============================] - 43s 427ms/step - loss: 0.7881 - acc: 0.8495\n"
          ],
          "name": "stdout"
        },
        {
          "output_type": "execute_result",
          "data": {
            "text/plain": [
              "[0.7880574685335159, 0.8495288]"
            ]
          },
          "metadata": {
            "tags": []
          },
          "execution_count": 27
        }
      ]
    },
    {
      "cell_type": "code",
      "metadata": {
        "id": "pgqhdBl4YvRY",
        "colab_type": "code",
        "colab": {}
      },
      "source": [
        ""
      ],
      "execution_count": 0,
      "outputs": []
    }
  ]
}