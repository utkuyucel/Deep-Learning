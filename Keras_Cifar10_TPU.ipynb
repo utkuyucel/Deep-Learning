{
  "nbformat": 4,
  "nbformat_minor": 0,
  "metadata": {
    "colab": {
      "name": "Keras Cifar10 TPU",
      "version": "0.3.2",
      "provenance": [],
      "collapsed_sections": [],
      "include_colab_link": true
    },
    "kernelspec": {
      "name": "python3",
      "display_name": "Python 3"
    },
    "accelerator": "TPU"
  },
  "cells": [
    {
      "cell_type": "markdown",
      "metadata": {
        "id": "view-in-github",
        "colab_type": "text"
      },
      "source": [
        "<a href=\"https://colab.research.google.com/github/utkuyucel/Deep-Learning/blob/master/Keras_Cifar10_TPU.ipynb\" target=\"_parent\"><img src=\"https://colab.research.google.com/assets/colab-badge.svg\" alt=\"Open In Colab\"/></a>"
      ]
    },
    {
      "cell_type": "code",
      "metadata": {
        "id": "iiwALVuqCy53",
        "colab_type": "code",
        "colab": {}
      },
      "source": [
        "import tensorflow as tf\n",
        "from keras.utils import to_categorical\n",
        "import numpy as np\n",
        "\n",
        "(X_train, y_train),(X_test, y_test) = tf.keras.datasets.cifar10.load_data()"
      ],
      "execution_count": 0,
      "outputs": []
    },
    {
      "cell_type": "code",
      "metadata": {
        "id": "GaiGrd4AYLrE",
        "colab_type": "code",
        "colab": {
          "base_uri": "https://localhost:8080/",
          "height": 34
        },
        "outputId": "474b78a3-ddb6-4327-b7fc-e109d15d102c"
      },
      "source": [
        "try:\n",
        "  device_name = os.environ['COLAB_TPU_ADDR']\n",
        "  TPU_ADDRESS = 'grpc://' + device_name\n",
        "  print('Found TPU at: {}'.format(TPU_ADDRESS))\n",
        "\n",
        "except KeyError:\n",
        "  print('TPU not found')"
      ],
      "execution_count": 184,
      "outputs": [
        {
          "output_type": "stream",
          "text": [
            "Found TPU at: grpc://10.80.194.98:8470\n"
          ],
          "name": "stdout"
        }
      ]
    },
    {
      "cell_type": "code",
      "metadata": {
        "id": "Iu2SmdY7SCNk",
        "colab_type": "code",
        "colab": {}
      },
      "source": [
        "X_train = X_train.astype(\"float32\")\n",
        "X_test = X_test.astype(\"float32\")\n",
        "\n",
        "X_train /= 255\n",
        "X_test /= 255\n",
        "\n",
        "y_train = to_categorical(y_train, 10)\n",
        "y_test = to_categorical(y_test, 10)"
      ],
      "execution_count": 0,
      "outputs": []
    },
    {
      "cell_type": "code",
      "metadata": {
        "id": "Msz0bLVfXuyo",
        "colab_type": "code",
        "colab": {}
      },
      "source": [
        "def train_input_fn(batch_size=1024):\n",
        "  # Girişleri bir veri kümesine dönüştür. \n",
        "  dataset = tf.data.Dataset.from_tensor_slices((X_train,y_train))\n",
        "\n",
        "  # Karıştır, tekrar et ve batch (küme) örnekleri \n",
        "  dataset = dataset.shuffle(1000).repeat().batch(batch_size, drop_remainder=True)\n",
        "\n",
        "  # veri kümesine.\n",
        "  return dataset"
      ],
      "execution_count": 0,
      "outputs": []
    },
    {
      "cell_type": "code",
      "metadata": {
        "id": "TSsYY-_xXvQO",
        "colab_type": "code",
        "colab": {}
      },
      "source": [
        "def test_input_fn(batch_size=1024):\n",
        "  # Girişleri bir veri kümesine dönüştür. .\n",
        "  dataset = tf.data.Dataset.from_tensor_slices((X_test,y_test))\n",
        "\n",
        "  # sKarıştır, tekrar et ve batch (küme) örnekleri \n",
        "  dataset = dataset.shuffle(1000).repeat().batch(batch_size, drop_remainder=True)\n",
        "\n",
        "  # veri kümesine.\n",
        "  return dataset"
      ],
      "execution_count": 0,
      "outputs": []
    },
    {
      "cell_type": "code",
      "metadata": {
        "id": "bSbDB3q5R1v2",
        "colab_type": "code",
        "colab": {}
      },
      "source": [
        "def model(X_input):\n",
        "  X_input = tf.keras.Input((32,32,3))\n",
        "  X = tf.keras.layers.Conv2D(64, (3,3), strides = (1,1), padding = \"same\")(X_input)\n",
        "  X = tf.keras.layers.Activation(\"relu\")(X)\n",
        "  X = tf.keras.layers.BatchNormalization()(X)\n",
        "  \n",
        "  \n",
        "  \n",
        "  \n",
        "  X = tf.keras.layers.Flatten()(X)\n",
        "  X = tf.keras.layers.Dense(128)(X)\n",
        "  \n",
        "  X = tf.keras.layers.Activation(\"relu\")(X)\n",
        "  \n",
        "  pred = tf.keras.layers.Dense(10, activation = \"softmax\")(X)\n",
        "  \n",
        "  model = tf.keras.Model(inputs = X_input, outputs = pred)\n",
        "  \n",
        "  return model"
      ],
      "execution_count": 0,
      "outputs": []
    },
    {
      "cell_type": "code",
      "metadata": {
        "id": "C15s0UaGGw9X",
        "colab_type": "code",
        "colab": {}
      },
      "source": [
        "model = model((32,32,3))"
      ],
      "execution_count": 0,
      "outputs": []
    },
    {
      "cell_type": "code",
      "metadata": {
        "id": "8DCeOwgRWBow",
        "colab_type": "code",
        "colab": {}
      },
      "source": [
        "model.compile(optimizer = tf.train.AdamOptimizer(learning_rate = 0.001),\n",
        "             loss = \"categorical_crossentropy\",\n",
        "             metrics = [\"acc\"])"
      ],
      "execution_count": 0,
      "outputs": []
    },
    {
      "cell_type": "code",
      "metadata": {
        "id": "jNTkRw-4GabZ",
        "colab_type": "code",
        "colab": {
          "base_uri": "https://localhost:8080/",
          "height": 326
        },
        "outputId": "a7f4b3e8-5401-44a7-ce5c-b75a4619f562"
      },
      "source": [
        "tpu_model = tf.contrib.tpu.keras_to_tpu_model(\n",
        "    model,\n",
        "    strategy=tf.contrib.tpu.TPUDistributionStrategy(\n",
        "        tf.contrib.cluster_resolver.TPUClusterResolver(TPU_ADDRESS)))"
      ],
      "execution_count": 210,
      "outputs": [
        {
          "output_type": "stream",
          "text": [
            "INFO:tensorflow:Querying Tensorflow master (grpc://10.80.194.98:8470) for TPU system metadata.\n",
            "INFO:tensorflow:Found TPU system:\n",
            "INFO:tensorflow:*** Num TPU Cores: 8\n",
            "INFO:tensorflow:*** Num TPU Workers: 1\n",
            "INFO:tensorflow:*** Num TPU Cores Per Worker: 8\n",
            "INFO:tensorflow:*** Available Device: _DeviceAttributes(/job:worker/replica:0/task:0/device:CPU:0, CPU, -1, 13170680794375988052)\n",
            "INFO:tensorflow:*** Available Device: _DeviceAttributes(/job:worker/replica:0/task:0/device:XLA_CPU:0, XLA_CPU, 17179869184, 98274149842899398)\n",
            "INFO:tensorflow:*** Available Device: _DeviceAttributes(/job:worker/replica:0/task:0/device:TPU:0, TPU, 17179869184, 8698995895049676745)\n",
            "INFO:tensorflow:*** Available Device: _DeviceAttributes(/job:worker/replica:0/task:0/device:TPU:1, TPU, 17179869184, 1405650577223170611)\n",
            "INFO:tensorflow:*** Available Device: _DeviceAttributes(/job:worker/replica:0/task:0/device:TPU:2, TPU, 17179869184, 12018196556013156065)\n",
            "INFO:tensorflow:*** Available Device: _DeviceAttributes(/job:worker/replica:0/task:0/device:TPU:3, TPU, 17179869184, 3649014284878535884)\n",
            "INFO:tensorflow:*** Available Device: _DeviceAttributes(/job:worker/replica:0/task:0/device:TPU:4, TPU, 17179869184, 17581893956594990000)\n",
            "INFO:tensorflow:*** Available Device: _DeviceAttributes(/job:worker/replica:0/task:0/device:TPU:5, TPU, 17179869184, 907410830710317392)\n",
            "INFO:tensorflow:*** Available Device: _DeviceAttributes(/job:worker/replica:0/task:0/device:TPU:6, TPU, 17179869184, 18040834491406983428)\n",
            "INFO:tensorflow:*** Available Device: _DeviceAttributes(/job:worker/replica:0/task:0/device:TPU:7, TPU, 17179869184, 8702392360331794314)\n",
            "INFO:tensorflow:*** Available Device: _DeviceAttributes(/job:worker/replica:0/task:0/device:TPU_SYSTEM:0, TPU_SYSTEM, 17179869184, 5781020648900127548)\n",
            "WARNING:tensorflow:tpu_model (from tensorflow.contrib.tpu.python.tpu.keras_support) is experimental and may change or be removed at any time, and without warning.\n"
          ],
          "name": "stdout"
        }
      ]
    },
    {
      "cell_type": "code",
      "metadata": {
        "id": "lGDVsv9iGuuN",
        "colab_type": "code",
        "outputId": "0ba65be7-8fde-4abd-d4e5-b1a3e64816a8",
        "colab": {
          "base_uri": "https://localhost:8080/",
          "height": 408
        }
      },
      "source": [
        "tpu_model.summary()"
      ],
      "execution_count": 211,
      "outputs": [
        {
          "output_type": "stream",
          "text": [
            "_________________________________________________________________\n",
            "Layer (type)                 Output Shape              Param #   \n",
            "=================================================================\n",
            "input_40 (InputLayer)        (None, 32, 32, 3)         0         \n",
            "_________________________________________________________________\n",
            "conv2d_9 (Conv2D)            (None, 32, 32, 64)        1792      \n",
            "_________________________________________________________________\n",
            "activation_1 (Activation)    (None, 32, 32, 64)        0         \n",
            "_________________________________________________________________\n",
            "batch_normalization_v1_6 (Ba (None, 32, 32, 64)        256       \n",
            "_________________________________________________________________\n",
            "flatten_6 (Flatten)          (None, 65536)             0         \n",
            "_________________________________________________________________\n",
            "dense_89 (Dense)             (None, 128)               8388736   \n",
            "_________________________________________________________________\n",
            "activation_2 (Activation)    (None, 128)               0         \n",
            "_________________________________________________________________\n",
            "dense_90 (Dense)             (None, 10)                1290      \n",
            "=================================================================\n",
            "Total params: 8,392,074\n",
            "Trainable params: 8,391,946\n",
            "Non-trainable params: 128\n",
            "_________________________________________________________________\n"
          ],
          "name": "stdout"
        }
      ]
    },
    {
      "cell_type": "code",
      "metadata": {
        "id": "mYgFPWV0RlTg",
        "colab_type": "code",
        "colab": {
          "base_uri": "https://localhost:8080/",
          "height": 3556
        },
        "outputId": "df19808b-e238-46ad-d1fc-886e744f042d"
      },
      "source": [
        "tpu_model.fit(\n",
        "  train_input_fn,\n",
        "  steps_per_epoch = 60,\n",
        "  epochs=100,\n",
        ")"
      ],
      "execution_count": 212,
      "outputs": [
        {
          "output_type": "stream",
          "text": [
            "Epoch 1/100\n",
            "INFO:tensorflow:New input shapes; (re-)compiling: mode=train (# of cores 8), [TensorSpec(shape=(1024,), dtype=tf.int32, name=None), TensorSpec(shape=(1024, 32, 32, 3), dtype=tf.float32, name=None), TensorSpec(shape=(1024, 10), dtype=tf.float32, name=None)]\n",
            "INFO:tensorflow:Overriding default placeholder.\n",
            "INFO:tensorflow:Remapping placeholder for input_40\n",
            "INFO:tensorflow:Started compiling\n",
            "INFO:tensorflow:Finished compiling. Time elapsed: 6.568288326263428 secs\n",
            "INFO:tensorflow:Setting weights on TPU model.\n",
            "60/60 [==============================] - 18s 297ms/step - loss: 2.6512 - acc: 0.4639\n",
            "Epoch 2/100\n",
            "60/60 [==============================] - 6s 105ms/step - loss: 0.6064 - acc: 0.8051\n",
            "Epoch 3/100\n",
            "60/60 [==============================] - 6s 104ms/step - loss: 0.2379 - acc: 0.9427\n",
            "Epoch 4/100\n",
            "60/60 [==============================] - 6s 101ms/step - loss: 0.1092 - acc: 0.9790\n",
            "Epoch 5/100\n",
            "60/60 [==============================] - 6s 100ms/step - loss: 0.0462 - acc: 0.9941\n",
            "Epoch 6/100\n",
            "60/60 [==============================] - 6s 99ms/step - loss: 0.0170 - acc: 0.9993\n",
            "Epoch 7/100\n",
            "60/60 [==============================] - 6s 99ms/step - loss: 0.0092 - acc: 0.9999\n",
            "Epoch 8/100\n",
            "60/60 [==============================] - 6s 101ms/step - loss: 0.0064 - acc: 1.0000\n",
            "Epoch 9/100\n",
            "60/60 [==============================] - 6s 100ms/step - loss: 0.0047 - acc: 1.0000\n",
            "Epoch 10/100\n",
            "60/60 [==============================] - 6s 100ms/step - loss: 0.0037 - acc: 1.0000\n",
            "Epoch 11/100\n",
            "60/60 [==============================] - 6s 101ms/step - loss: 0.0030 - acc: 1.0000\n",
            "Epoch 12/100\n",
            "60/60 [==============================] - 6s 102ms/step - loss: 0.0026 - acc: 1.0000\n",
            "Epoch 13/100\n",
            "60/60 [==============================] - 6s 101ms/step - loss: 0.0022 - acc: 1.0000\n",
            "Epoch 14/100\n",
            "60/60 [==============================] - 6s 103ms/step - loss: 0.0019 - acc: 1.0000\n",
            "Epoch 15/100\n",
            "60/60 [==============================] - 6s 103ms/step - loss: 0.0018 - acc: 1.0000\n",
            "Epoch 16/100\n",
            "60/60 [==============================] - 6s 103ms/step - loss: 0.0016 - acc: 1.0000\n",
            "Epoch 17/100\n",
            "60/60 [==============================] - 6s 106ms/step - loss: 0.0014 - acc: 1.0000\n",
            "Epoch 18/100\n",
            "60/60 [==============================] - 6s 106ms/step - loss: 0.0014 - acc: 1.0000\n",
            "Epoch 19/100\n",
            "60/60 [==============================] - 6s 106ms/step - loss: 0.0012 - acc: 1.0000\n",
            "Epoch 20/100\n",
            "60/60 [==============================] - 6s 105ms/step - loss: 0.0012 - acc: 1.0000\n",
            "Epoch 21/100\n",
            "60/60 [==============================] - 6s 101ms/step - loss: 0.0011 - acc: 1.0000\n",
            "Epoch 22/100\n",
            "60/60 [==============================] - 6s 101ms/step - loss: 0.0011 - acc: 1.0000\n",
            "Epoch 23/100\n",
            "60/60 [==============================] - 6s 101ms/step - loss: 0.0011 - acc: 1.0000\n",
            "Epoch 24/100\n",
            "60/60 [==============================] - 6s 104ms/step - loss: 0.0010 - acc: 1.0000\n",
            "Epoch 25/100\n",
            "60/60 [==============================] - 6s 107ms/step - loss: 9.5029e-04 - acc: 1.0000\n",
            "Epoch 26/100\n",
            "60/60 [==============================] - 6s 107ms/step - loss: 9.5460e-04 - acc: 1.0000\n",
            "Epoch 27/100\n",
            "60/60 [==============================] - 6s 108ms/step - loss: 9.2847e-04 - acc: 1.0000\n",
            "Epoch 28/100\n",
            "60/60 [==============================] - 6s 107ms/step - loss: 8.7222e-04 - acc: 1.0000\n",
            "Epoch 29/100\n",
            "60/60 [==============================] - 6s 107ms/step - loss: 8.8533e-04 - acc: 1.0000\n",
            "Epoch 30/100\n",
            "60/60 [==============================] - 6s 106ms/step - loss: 8.6788e-04 - acc: 1.0000\n",
            "Epoch 31/100\n",
            "60/60 [==============================] - 6s 106ms/step - loss: 8.1938e-04 - acc: 1.0000\n",
            "Epoch 32/100\n",
            "60/60 [==============================] - 6s 107ms/step - loss: 8.3798e-04 - acc: 1.0000\n",
            "Epoch 33/100\n",
            "60/60 [==============================] - 6s 108ms/step - loss: 8.2501e-04 - acc: 1.0000\n",
            "Epoch 34/100\n",
            "60/60 [==============================] - 6s 107ms/step - loss: 7.8031e-04 - acc: 1.0000\n",
            "Epoch 35/100\n",
            "60/60 [==============================] - 6s 106ms/step - loss: 8.0211e-04 - acc: 1.0000\n",
            "Epoch 36/100\n",
            "60/60 [==============================] - 6s 107ms/step - loss: 7.9257e-04 - acc: 1.0000\n",
            "Epoch 37/100\n",
            "60/60 [==============================] - 6s 106ms/step - loss: 7.5055e-04 - acc: 1.0000\n",
            "Epoch 38/100\n",
            "60/60 [==============================] - 6s 107ms/step - loss: 7.7584e-04 - acc: 1.0000\n",
            "Epoch 39/100\n",
            "60/60 [==============================] - 6s 104ms/step - loss: 7.6798e-04 - acc: 1.0000\n",
            "Epoch 40/100\n",
            "60/60 [==============================] - 6s 103ms/step - loss: 7.2854e-04 - acc: 1.0000\n",
            "Epoch 41/100\n",
            "60/60 [==============================] - 6s 102ms/step - loss: 7.5483e-04 - acc: 1.0000\n",
            "Epoch 42/100\n",
            "60/60 [==============================] - 6s 102ms/step - loss: 7.4906e-04 - acc: 1.0000\n",
            "Epoch 43/100\n",
            "60/60 [==============================] - 6s 102ms/step - loss: 7.1063e-04 - acc: 1.0000\n",
            "Epoch 44/100\n",
            "60/60 [==============================] - 6s 102ms/step - loss: 7.3844e-04 - acc: 1.0000\n",
            "Epoch 45/100\n",
            "60/60 [==============================] - 6s 106ms/step - loss: 7.3387e-04 - acc: 1.0000\n",
            "Epoch 46/100\n",
            "60/60 [==============================] - 6s 106ms/step - loss: 6.9681e-04 - acc: 1.0000\n",
            "Epoch 47/100\n",
            "60/60 [==============================] - 6s 106ms/step - loss: 7.2554e-04 - acc: 1.0000\n",
            "Epoch 48/100\n",
            "60/60 [==============================] - 6s 105ms/step - loss: 7.2177e-04 - acc: 1.0000\n",
            "Epoch 49/100\n",
            "60/60 [==============================] - 6s 106ms/step - loss: 6.8545e-04 - acc: 1.0000\n",
            "Epoch 50/100\n",
            "60/60 [==============================] - 6s 105ms/step - loss: 7.1505e-04 - acc: 1.0000\n",
            "Epoch 51/100\n",
            "60/60 [==============================] - 6s 105ms/step - loss: 7.1196e-04 - acc: 1.0000\n",
            "Epoch 52/100\n",
            "60/60 [==============================] - 6s 107ms/step - loss: 6.7655e-04 - acc: 1.0000\n",
            "Epoch 53/100\n",
            "60/60 [==============================] - 6s 106ms/step - loss: 7.0656e-04 - acc: 1.0000\n",
            "Epoch 54/100\n",
            "60/60 [==============================] - 6s 108ms/step - loss: 7.0420e-04 - acc: 1.0000\n",
            "Epoch 55/100\n",
            "60/60 [==============================] - 7s 109ms/step - loss: 6.6884e-04 - acc: 1.0000\n",
            "Epoch 56/100\n",
            "60/60 [==============================] - 7s 110ms/step - loss: 6.9947e-04 - acc: 1.0000\n",
            "Epoch 57/100\n",
            "60/60 [==============================] - 7s 108ms/step - loss: 6.9740e-04 - acc: 1.0000\n",
            "Epoch 58/100\n",
            "60/60 [==============================] - 6s 108ms/step - loss: 6.6251e-04 - acc: 1.0000\n",
            "Epoch 59/100\n",
            "60/60 [==============================] - 6s 108ms/step - loss: 6.9348e-04 - acc: 1.0000\n",
            "Epoch 60/100\n",
            "60/60 [==============================] - 6s 107ms/step - loss: 6.9190e-04 - acc: 1.0000\n",
            "Epoch 61/100\n",
            "60/60 [==============================] - 6s 107ms/step - loss: 6.5729e-04 - acc: 1.0000\n",
            "Epoch 62/100\n",
            "60/60 [==============================] - 6s 108ms/step - loss: 6.8860e-04 - acc: 1.0000\n",
            "Epoch 63/100\n",
            "60/60 [==============================] - 6s 107ms/step - loss: 6.8713e-04 - acc: 1.0000\n",
            "Epoch 64/100\n",
            "60/60 [==============================] - 6s 107ms/step - loss: 6.5292e-04 - acc: 1.0000\n",
            "Epoch 65/100\n",
            "60/60 [==============================] - 6s 108ms/step - loss: 6.8438e-04 - acc: 1.0000\n",
            "Epoch 66/100\n",
            "60/60 [==============================] - 6s 107ms/step - loss: 6.8315e-04 - acc: 1.0000\n",
            "Epoch 67/100\n",
            "60/60 [==============================] - 6s 108ms/step - loss: 6.4909e-04 - acc: 1.0000\n",
            "Epoch 68/100\n",
            "60/60 [==============================] - 6s 108ms/step - loss: 6.8080e-04 - acc: 1.0000\n",
            "Epoch 69/100\n",
            "60/60 [==============================] - 6s 108ms/step - loss: 6.7966e-04 - acc: 1.0000\n",
            "Epoch 70/100\n",
            "60/60 [==============================] - 6s 108ms/step - loss: 6.4583e-04 - acc: 1.0000\n",
            "Epoch 71/100\n",
            "60/60 [==============================] - 6s 108ms/step - loss: 6.7770e-04 - acc: 1.0000\n",
            "Epoch 72/100\n",
            "60/60 [==============================] - 6s 107ms/step - loss: 6.7677e-04 - acc: 1.0000\n",
            "Epoch 73/100\n",
            "60/60 [==============================] - 6s 107ms/step - loss: 6.4309e-04 - acc: 1.0000\n",
            "Epoch 74/100\n",
            "60/60 [==============================] - 7s 109ms/step - loss: 6.7516e-04 - acc: 1.0000\n",
            "Epoch 75/100\n",
            "60/60 [==============================] - 7s 109ms/step - loss: 6.4151e-04 - acc: 1.0000\n",
            "Epoch 76/100\n",
            "60/60 [==============================] - 6s 108ms/step - loss: 6.7354e-04 - acc: 1.0000\n",
            "Epoch 77/100\n",
            "60/60 [==============================] - 6s 107ms/step - loss: 6.7281e-04 - acc: 1.0000\n",
            "Epoch 78/100\n",
            "60/60 [==============================] - 6s 105ms/step - loss: 6.3935e-04 - acc: 1.0000\n",
            "Epoch 79/100\n",
            "60/60 [==============================] - 6s 105ms/step - loss: 6.7155e-04 - acc: 1.0000\n",
            "Epoch 80/100\n",
            "60/60 [==============================] - 6s 105ms/step - loss: 6.7086e-04 - acc: 1.0000\n",
            "Epoch 81/100\n",
            "60/60 [==============================] - 6s 105ms/step - loss: 6.7026e-04 - acc: 1.0000\n",
            "Epoch 82/100\n",
            "60/60 [==============================] - 6s 107ms/step - loss: 6.3689e-04 - acc: 1.0000\n",
            "Epoch 83/100\n",
            "60/60 [==============================] - 6s 104ms/step - loss: 6.6914e-04 - acc: 1.0000\n",
            "Epoch 84/100\n",
            "60/60 [==============================] - 6s 101ms/step - loss: 6.3582e-04 - acc: 1.0000\n",
            "Epoch 85/100\n",
            "60/60 [==============================] - 6s 105ms/step - loss: 6.6808e-04 - acc: 1.0000\n",
            "Epoch 86/100\n",
            "60/60 [==============================] - 6s 105ms/step - loss: 6.6762e-04 - acc: 1.0000\n",
            "Epoch 87/100\n",
            "60/60 [==============================] - 6s 105ms/step - loss: 6.3440e-04 - acc: 1.0000\n",
            "Epoch 88/100\n",
            "60/60 [==============================] - 6s 105ms/step - loss: 6.6673e-04 - acc: 1.0000\n",
            "Epoch 89/100\n",
            "60/60 [==============================] - 6s 106ms/step - loss: 6.6631e-04 - acc: 1.0000\n",
            "Epoch 90/100\n",
            "60/60 [==============================] - 6s 105ms/step - loss: 6.3312e-04 - acc: 1.0000\n",
            "Epoch 91/100\n",
            "60/60 [==============================] - 6s 105ms/step - loss: 6.6551e-04 - acc: 1.0000\n",
            "Epoch 92/100\n",
            "60/60 [==============================] - 6s 108ms/step - loss: 6.6515e-04 - acc: 1.0000\n",
            "Epoch 93/100\n",
            "60/60 [==============================] - 7s 109ms/step - loss: 6.3198e-04 - acc: 1.0000\n",
            "Epoch 94/100\n",
            "60/60 [==============================] - 7s 109ms/step - loss: 6.6446e-04 - acc: 1.0000\n",
            "Epoch 95/100\n",
            "60/60 [==============================] - 7s 109ms/step - loss: 6.6414e-04 - acc: 1.0000\n",
            "Epoch 96/100\n",
            "60/60 [==============================] - 7s 108ms/step - loss: 6.3103e-04 - acc: 1.0000\n",
            "Epoch 97/100\n",
            "60/60 [==============================] - 7s 109ms/step - loss: 6.6354e-04 - acc: 1.0000\n",
            "Epoch 98/100\n",
            "60/60 [==============================] - 7s 109ms/step - loss: 6.6323e-04 - acc: 1.0000\n",
            "Epoch 99/100\n",
            "60/60 [==============================] - 6s 108ms/step - loss: 6.3018e-04 - acc: 1.0000\n",
            "Epoch 100/100\n",
            "60/60 [==============================] - 6s 108ms/step - loss: 6.6270e-04 - acc: 1.0000\n"
          ],
          "name": "stdout"
        },
        {
          "output_type": "execute_result",
          "data": {
            "text/plain": [
              "<tensorflow.python.keras.callbacks.History at 0x7f01bddc84e0>"
            ]
          },
          "metadata": {
            "tags": []
          },
          "execution_count": 212
        }
      ]
    },
    {
      "cell_type": "code",
      "metadata": {
        "id": "SS3rCq6FYXkf",
        "colab_type": "code",
        "colab": {
          "base_uri": "https://localhost:8080/",
          "height": 34
        },
        "outputId": "0f1f2c82-3a87-4a10-b79c-1b1069920b0c"
      },
      "source": [
        "tpu_model.save_weights('./MNIST_TPU_1024.h5', overwrite=True)"
      ],
      "execution_count": 213,
      "outputs": [
        {
          "output_type": "stream",
          "text": [
            "INFO:tensorflow:Copying TPU weights to the CPU\n"
          ],
          "name": "stdout"
        }
      ]
    },
    {
      "cell_type": "code",
      "metadata": {
        "id": "Nph-rX4kYhpK",
        "colab_type": "code",
        "colab": {
          "base_uri": "https://localhost:8080/",
          "height": 156
        },
        "outputId": "ecdc2b4f-daeb-46e0-fc07-cea90bacf16b"
      },
      "source": [
        "tpu_model.evaluate(test_input_fn, steps = 100)"
      ],
      "execution_count": 214,
      "outputs": [
        {
          "output_type": "stream",
          "text": [
            "INFO:tensorflow:New input shapes; (re-)compiling: mode=eval (# of cores 8), [TensorSpec(shape=(1024,), dtype=tf.int32, name=None), TensorSpec(shape=(1024, 32, 32, 3), dtype=tf.float32, name=None), TensorSpec(shape=(1024, 10), dtype=tf.float32, name=None)]\n",
            "INFO:tensorflow:Overriding default placeholder.\n",
            "INFO:tensorflow:Remapping placeholder for input_40\n",
            "INFO:tensorflow:Started compiling\n",
            "INFO:tensorflow:Finished compiling. Time elapsed: 4.889551401138306 secs\n",
            "100/100 [==============================] - 17s 170ms/step - loss: 3.2221 - acc: 0.6096\n"
          ],
          "name": "stdout"
        },
        {
          "output_type": "execute_result",
          "data": {
            "text/plain": [
              "[3.222080225944519, 0.60962033]"
            ]
          },
          "metadata": {
            "tags": []
          },
          "execution_count": 214
        }
      ]
    },
    {
      "cell_type": "code",
      "metadata": {
        "id": "pgqhdBl4YvRY",
        "colab_type": "code",
        "colab": {}
      },
      "source": [
        ""
      ],
      "execution_count": 0,
      "outputs": []
    }
  ]
}