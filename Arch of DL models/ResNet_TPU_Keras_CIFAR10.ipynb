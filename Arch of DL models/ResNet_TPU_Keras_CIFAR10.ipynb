{
  "nbformat": 4,
  "nbformat_minor": 0,
  "metadata": {
    "colab": {
      "name": "ResNet - TPU - Keras - CIFAR10",
      "version": "0.3.2",
      "provenance": [],
      "collapsed_sections": [],
      "include_colab_link": true
    },
    "kernelspec": {
      "name": "python3",
      "display_name": "Python 3"
    },
    "accelerator": "TPU"
  },
  "cells": [
    {
      "cell_type": "markdown",
      "metadata": {
        "id": "view-in-github",
        "colab_type": "text"
      },
      "source": [
        "<a href=\"https://colab.research.google.com/github/utkuyucel/Deep-Learning/blob/master/ResNet_TPU_Keras_CIFAR10.ipynb\" target=\"_parent\"><img src=\"https://colab.research.google.com/assets/colab-badge.svg\" alt=\"Open In Colab\"/></a>"
      ]
    },
    {
      "cell_type": "code",
      "metadata": {
        "id": "iiwALVuqCy53",
        "colab_type": "code",
        "outputId": "3029bdfe-48cd-4925-a345-bc975f360aa6",
        "colab": {
          "base_uri": "https://localhost:8080/",
          "height": 34
        }
      },
      "source": [
        "import tensorflow as tf\n",
        "from keras.utils import to_categorical, plot_model\n",
        "import numpy as np\n",
        "import os\n",
        "\n",
        "(X_train, y_train),(X_test, y_test) = tf.keras.datasets.cifar10.load_data()"
      ],
      "execution_count": 1,
      "outputs": [
        {
          "output_type": "stream",
          "text": [
            "Using TensorFlow backend.\n"
          ],
          "name": "stderr"
        }
      ]
    },
    {
      "cell_type": "code",
      "metadata": {
        "id": "GaiGrd4AYLrE",
        "colab_type": "code",
        "outputId": "f08cb915-ee13-432f-98c2-ca93917f2ed5",
        "colab": {
          "base_uri": "https://localhost:8080/",
          "height": 34
        }
      },
      "source": [
        "try:\n",
        "  device_name = os.environ['COLAB_TPU_ADDR']\n",
        "  TPU_ADDRESS = 'grpc://' + device_name\n",
        "  print('Found TPU at: {}'.format(TPU_ADDRESS))\n",
        "\n",
        "except KeyError:\n",
        "  print('TPU not found')"
      ],
      "execution_count": 2,
      "outputs": [
        {
          "output_type": "stream",
          "text": [
            "Found TPU at: grpc://10.35.95.178:8470\n"
          ],
          "name": "stdout"
        }
      ]
    },
    {
      "cell_type": "code",
      "metadata": {
        "id": "Iu2SmdY7SCNk",
        "colab_type": "code",
        "colab": {}
      },
      "source": [
        "X_train = X_train.astype(\"float32\")\n",
        "X_test = X_test.astype(\"float32\")\n",
        "\n",
        "X_train /= 255\n",
        "X_test /= 255\n",
        "\n",
        "y_train = to_categorical(y_train, 10)\n",
        "y_test = to_categorical(y_test, 10)"
      ],
      "execution_count": 0,
      "outputs": []
    },
    {
      "cell_type": "code",
      "metadata": {
        "id": "Msz0bLVfXuyo",
        "colab_type": "code",
        "colab": {}
      },
      "source": [
        "def train_input_fn(batch_size=1024):\n",
        "  # Girişleri bir veri kümesine dönüştür. \n",
        "  dataset = tf.data.Dataset.from_tensor_slices((X_train,y_train))\n",
        "\n",
        "  # Karıştır, tekrar et ve batch (küme) örnekleri \n",
        "  dataset = dataset.shuffle(1000).repeat().batch(batch_size, drop_remainder=True)\n",
        "\n",
        "  # veri kümesine.\n",
        "  return dataset"
      ],
      "execution_count": 0,
      "outputs": []
    },
    {
      "cell_type": "code",
      "metadata": {
        "id": "TSsYY-_xXvQO",
        "colab_type": "code",
        "colab": {}
      },
      "source": [
        "def test_input_fn(batch_size=1024):\n",
        "  # Girişleri bir veri kümesine dönüştür. .\n",
        "  dataset = tf.data.Dataset.from_tensor_slices((X_test,y_test))\n",
        "\n",
        "  # Karıştır, tekrar et ve batch (küme) örnekleri \n",
        "  dataset = dataset.shuffle(1000).repeat().batch(batch_size, drop_remainder=True)\n",
        "\n",
        "  # veri kümesine.\n",
        "  return dataset"
      ],
      "execution_count": 0,
      "outputs": []
    },
    {
      "cell_type": "code",
      "metadata": {
        "id": "ipIpeYam0JMo",
        "colab_type": "code",
        "colab": {}
      },
      "source": [
        "def short(X_input, F1, F2, F3):\n",
        "  \n",
        "  X = tf.keras.layers.Conv2D(F1, (3,3), strides = (1,1), padding = \"same\")(X_input)\n",
        "  X = tf.keras.layers.BatchNormalization()(X)\n",
        "  X = tf.keras.layers.Activation(\"relu\")(X)\n",
        "  \n",
        "  X = tf.keras.layers.Conv2D(F2, (3,3), strides = (1,1), padding = \"same\")(X)\n",
        "  X = tf.keras.layers.BatchNormalization()(X)\n",
        "  X = tf.keras.layers.Activation(\"relu\")(X)\n",
        "\n",
        "  X = tf.keras.layers.Conv2D(F3, (3,3), strides = (1,1), padding = \"same\")(X)\n",
        "  X = tf.keras.layers.BatchNormalization()(X)\n",
        "  \n",
        "  L = tf.keras.layers.concatenate([X,X_input])\n",
        "  \n",
        "  L = tf.keras.layers.Activation(\"relu\")(L)\n",
        "  \n",
        "  L = tf.keras.layers.MaxPooling2D((2,2))(L)\n",
        "  \n",
        "  return L"
      ],
      "execution_count": 0,
      "outputs": []
    },
    {
      "cell_type": "code",
      "metadata": {
        "id": "ViXXmgJd39w9",
        "colab_type": "code",
        "colab": {}
      },
      "source": [
        "def model(X_input):\n",
        "  \n",
        "  X_input = tf.keras.layers.Input(X_input)\n",
        "  \n",
        "  X = tf.keras.layers.ZeroPadding2D((3,3))(X_input)\n",
        "  \n",
        "  X = short(X, 64, 64, 64)\n",
        "  X = short(X, 64, 128, 256)\n",
        "  X = short(X, 128, 128, 1024)\n",
        "  \n",
        "  \n",
        "  F = tf.keras.layers.Flatten()(X)\n",
        "  \n",
        "  FC = tf.keras.layers.Dense(10, activation = \"softmax\")(F)\n",
        "  \n",
        "  model = tf.keras.models.Model(inputs = X_input, outputs = FC)\n",
        "  \n",
        "  return model"
      ],
      "execution_count": 0,
      "outputs": []
    },
    {
      "cell_type": "code",
      "metadata": {
        "id": "C15s0UaGGw9X",
        "colab_type": "code",
        "outputId": "14c4a206-ad2d-46f4-89ca-f31545807572",
        "colab": {
          "base_uri": "https://localhost:8080/",
          "height": 88
        }
      },
      "source": [
        "model = model((32,32,3))"
      ],
      "execution_count": 8,
      "outputs": [
        {
          "output_type": "stream",
          "text": [
            "WARNING:tensorflow:From /usr/local/lib/python3.6/dist-packages/tensorflow/python/ops/resource_variable_ops.py:435: colocate_with (from tensorflow.python.framework.ops) is deprecated and will be removed in a future version.\n",
            "Instructions for updating:\n",
            "Colocations handled automatically by placer.\n"
          ],
          "name": "stdout"
        }
      ]
    },
    {
      "cell_type": "code",
      "metadata": {
        "id": "mHu-dt3SNS5f",
        "colab_type": "code",
        "outputId": "01d78024-1485-4ba4-8f2f-fb7d7c42094b",
        "colab": {
          "base_uri": "https://localhost:8080/",
          "height": 3585
        }
      },
      "source": [
        "from IPython.display import SVG\n",
        "from keras.utils.vis_utils import model_to_dot\n",
        "\n",
        "plot_model(model, to_file='model.png')\n",
        "SVG(model_to_dot(model).create(prog='dot', format='svg'))\n"
      ],
      "execution_count": 9,
      "outputs": [
        {
          "output_type": "execute_result",
          "data": {
            "text/plain": [
              "<IPython.core.display.SVG object>"
            ],
            "image/svg+xml": "<svg height=\"2673pt\" viewBox=\"0.00 0.00 409.00 2673.00\" width=\"409pt\" xmlns=\"http://www.w3.org/2000/svg\" xmlns:xlink=\"http://www.w3.org/1999/xlink\">\n<g class=\"graph\" id=\"graph0\" transform=\"scale(1 1) rotate(0) translate(4 2669)\">\n<title>G</title>\n<polygon fill=\"#ffffff\" points=\"-4,4 -4,-2669 405,-2669 405,4 -4,4\" stroke=\"transparent\"/>\n<!-- 140478776023360 -->\n<g class=\"node\" id=\"node1\">\n<title>140478776023360</title>\n<polygon fill=\"none\" points=\"229,-2628.5 229,-2664.5 362,-2664.5 362,-2628.5 229,-2628.5\" stroke=\"#000000\"/>\n<text fill=\"#000000\" font-family=\"Times,serif\" font-size=\"14.00\" text-anchor=\"middle\" x=\"295.5\" y=\"-2642.8\">input_1: InputLayer</text>\n</g>\n<!-- 140478379816160 -->\n<g class=\"node\" id=\"node2\">\n<title>140478379816160</title>\n<polygon fill=\"none\" points=\"190,-2555.5 190,-2591.5 401,-2591.5 401,-2555.5 190,-2555.5\" stroke=\"#000000\"/>\n<text fill=\"#000000\" font-family=\"Times,serif\" font-size=\"14.00\" text-anchor=\"middle\" x=\"295.5\" y=\"-2569.8\">zero_padding2d: ZeroPadding2D</text>\n</g>\n<!-- 140478776023360&#45;&gt;140478379816160 -->\n<g class=\"edge\" id=\"edge1\">\n<title>140478776023360-&gt;140478379816160</title>\n<path d=\"M295.5,-2628.4551C295.5,-2620.3828 295.5,-2610.6764 295.5,-2601.6817\" fill=\"none\" stroke=\"#000000\"/>\n<polygon fill=\"#000000\" points=\"299.0001,-2601.5903 295.5,-2591.5904 292.0001,-2601.5904 299.0001,-2601.5903\" stroke=\"#000000\"/>\n</g>\n<!-- 140479144293544 -->\n<g class=\"node\" id=\"node3\">\n<title>140479144293544</title>\n<polygon fill=\"none\" points=\"193.5,-2482.5 193.5,-2518.5 311.5,-2518.5 311.5,-2482.5 193.5,-2482.5\" stroke=\"#000000\"/>\n<text fill=\"#000000\" font-family=\"Times,serif\" font-size=\"14.00\" text-anchor=\"middle\" x=\"252.5\" y=\"-2496.8\">conv2d: Conv2D</text>\n</g>\n<!-- 140478379816160&#45;&gt;140479144293544 -->\n<g class=\"edge\" id=\"edge2\">\n<title>140478379816160-&gt;140479144293544</title>\n<path d=\"M284.8708,-2555.4551C279.8575,-2546.9441 273.7741,-2536.6165 268.2403,-2527.2219\" fill=\"none\" stroke=\"#000000\"/>\n<polygon fill=\"#000000\" points=\"271.2471,-2525.4303 263.156,-2518.5904 265.2157,-2528.9831 271.2471,-2525.4303\" stroke=\"#000000\"/>\n</g>\n<!-- 140478369458552 -->\n<g class=\"node\" id=\"node11\">\n<title>140478369458552</title>\n<polygon fill=\"none\" points=\"211.5,-1898.5 211.5,-1934.5 371.5,-1934.5 371.5,-1898.5 211.5,-1898.5\" stroke=\"#000000\"/>\n<text fill=\"#000000\" font-family=\"Times,serif\" font-size=\"14.00\" text-anchor=\"middle\" x=\"291.5\" y=\"-1912.8\">concatenate: Concatenate</text>\n</g>\n<!-- 140478379816160&#45;&gt;140478369458552 -->\n<g class=\"edge\" id=\"edge11\">\n<title>140478379816160-&gt;140478369458552</title>\n<path d=\"M315.4686,-2555.3359C341.4323,-2529.625 383.5,-2479.884 383.5,-2427.5 383.5,-2427.5 383.5,-2427.5 383.5,-2062.5 383.5,-2020.8732 385.9292,-2006.0674 363.5,-1971 355.819,-1958.991 344.5108,-1948.6372 333.1212,-1940.2778\" fill=\"none\" stroke=\"#000000\"/>\n<polygon fill=\"#000000\" points=\"335.0752,-1937.3737 324.864,-1934.5483 331.0845,-1943.1247 335.0752,-1937.3737\" stroke=\"#000000\"/>\n</g>\n<!-- 140478776131992 -->\n<g class=\"node\" id=\"node4\">\n<title>140478776131992</title>\n<polygon fill=\"none\" points=\"58.5,-2409.5 58.5,-2445.5 354.5,-2445.5 354.5,-2409.5 58.5,-2409.5\" stroke=\"#000000\"/>\n<text fill=\"#000000\" font-family=\"Times,serif\" font-size=\"14.00\" text-anchor=\"middle\" x=\"206.5\" y=\"-2423.8\">batch_normalization_v1: BatchNormalizationV1</text>\n</g>\n<!-- 140479144293544&#45;&gt;140478776131992 -->\n<g class=\"edge\" id=\"edge3\">\n<title>140479144293544-&gt;140478776131992</title>\n<path d=\"M241.1292,-2482.4551C235.7662,-2473.9441 229.2583,-2463.6165 223.3385,-2454.2219\" fill=\"none\" stroke=\"#000000\"/>\n<polygon fill=\"#000000\" points=\"226.1918,-2452.1848 217.8994,-2445.5904 220.2695,-2455.9167 226.1918,-2452.1848\" stroke=\"#000000\"/>\n</g>\n<!-- 140478776131656 -->\n<g class=\"node\" id=\"node5\">\n<title>140478776131656</title>\n<polygon fill=\"none\" points=\"135,-2336.5 135,-2372.5 274,-2372.5 274,-2336.5 135,-2336.5\" stroke=\"#000000\"/>\n<text fill=\"#000000\" font-family=\"Times,serif\" font-size=\"14.00\" text-anchor=\"middle\" x=\"204.5\" y=\"-2350.8\">activation: Activation</text>\n</g>\n<!-- 140478776131992&#45;&gt;140478776131656 -->\n<g class=\"edge\" id=\"edge4\">\n<title>140478776131992-&gt;140478776131656</title>\n<path d=\"M206.0056,-2409.4551C205.7845,-2401.3828 205.5185,-2391.6764 205.2721,-2382.6817\" fill=\"none\" stroke=\"#000000\"/>\n<polygon fill=\"#000000\" points=\"208.7683,-2382.4907 204.9956,-2372.5904 201.7709,-2382.6825 208.7683,-2382.4907\" stroke=\"#000000\"/>\n</g>\n<!-- 140478379695408 -->\n<g class=\"node\" id=\"node6\">\n<title>140478379695408</title>\n<polygon fill=\"none\" points=\"134,-2263.5 134,-2299.5 267,-2299.5 267,-2263.5 134,-2263.5\" stroke=\"#000000\"/>\n<text fill=\"#000000\" font-family=\"Times,serif\" font-size=\"14.00\" text-anchor=\"middle\" x=\"200.5\" y=\"-2277.8\">conv2d_1: Conv2D</text>\n</g>\n<!-- 140478776131656&#45;&gt;140478379695408 -->\n<g class=\"edge\" id=\"edge5\">\n<title>140478776131656-&gt;140478379695408</title>\n<path d=\"M203.5112,-2336.4551C203.0689,-2328.3828 202.5371,-2318.6764 202.0442,-2309.6817\" fill=\"none\" stroke=\"#000000\"/>\n<polygon fill=\"#000000\" points=\"205.5332,-2309.3839 201.4913,-2299.5904 198.5437,-2309.7669 205.5332,-2309.3839\" stroke=\"#000000\"/>\n</g>\n<!-- 140478371145544 -->\n<g class=\"node\" id=\"node7\">\n<title>140478371145544</title>\n<polygon fill=\"none\" points=\"44,-2190.5 44,-2226.5 355,-2226.5 355,-2190.5 44,-2190.5\" stroke=\"#000000\"/>\n<text fill=\"#000000\" font-family=\"Times,serif\" font-size=\"14.00\" text-anchor=\"middle\" x=\"199.5\" y=\"-2204.8\">batch_normalization_v1_1: BatchNormalizationV1</text>\n</g>\n<!-- 140478379695408&#45;&gt;140478371145544 -->\n<g class=\"edge\" id=\"edge6\">\n<title>140478379695408-&gt;140478371145544</title>\n<path d=\"M200.2528,-2263.4551C200.1422,-2255.3828 200.0093,-2245.6764 199.8861,-2236.6817\" fill=\"none\" stroke=\"#000000\"/>\n<polygon fill=\"#000000\" points=\"203.3846,-2236.5414 199.7478,-2226.5904 196.3852,-2236.6374 203.3846,-2236.5414\" stroke=\"#000000\"/>\n</g>\n<!-- 140478371144032 -->\n<g class=\"node\" id=\"node8\">\n<title>140478371144032</title>\n<polygon fill=\"none\" points=\"122.5,-2117.5 122.5,-2153.5 276.5,-2153.5 276.5,-2117.5 122.5,-2117.5\" stroke=\"#000000\"/>\n<text fill=\"#000000\" font-family=\"Times,serif\" font-size=\"14.00\" text-anchor=\"middle\" x=\"199.5\" y=\"-2131.8\">activation_1: Activation</text>\n</g>\n<!-- 140478371145544&#45;&gt;140478371144032 -->\n<g class=\"edge\" id=\"edge7\">\n<title>140478371145544-&gt;140478371144032</title>\n<path d=\"M199.5,-2190.4551C199.5,-2182.3828 199.5,-2172.6764 199.5,-2163.6817\" fill=\"none\" stroke=\"#000000\"/>\n<polygon fill=\"#000000\" points=\"203.0001,-2163.5903 199.5,-2153.5904 196.0001,-2163.5904 203.0001,-2163.5903\" stroke=\"#000000\"/>\n</g>\n<!-- 140478370273936 -->\n<g class=\"node\" id=\"node9\">\n<title>140478370273936</title>\n<polygon fill=\"none\" points=\"133,-2044.5 133,-2080.5 266,-2080.5 266,-2044.5 133,-2044.5\" stroke=\"#000000\"/>\n<text fill=\"#000000\" font-family=\"Times,serif\" font-size=\"14.00\" text-anchor=\"middle\" x=\"199.5\" y=\"-2058.8\">conv2d_2: Conv2D</text>\n</g>\n<!-- 140478371144032&#45;&gt;140478370273936 -->\n<g class=\"edge\" id=\"edge8\">\n<title>140478371144032-&gt;140478370273936</title>\n<path d=\"M199.5,-2117.4551C199.5,-2109.3828 199.5,-2099.6764 199.5,-2090.6817\" fill=\"none\" stroke=\"#000000\"/>\n<polygon fill=\"#000000\" points=\"203.0001,-2090.5903 199.5,-2080.5904 196.0001,-2090.5904 203.0001,-2090.5903\" stroke=\"#000000\"/>\n</g>\n<!-- 140478370358440 -->\n<g class=\"node\" id=\"node10\">\n<title>140478370358440</title>\n<polygon fill=\"none\" points=\"44,-1971.5 44,-2007.5 355,-2007.5 355,-1971.5 44,-1971.5\" stroke=\"#000000\"/>\n<text fill=\"#000000\" font-family=\"Times,serif\" font-size=\"14.00\" text-anchor=\"middle\" x=\"199.5\" y=\"-1985.8\">batch_normalization_v1_2: BatchNormalizationV1</text>\n</g>\n<!-- 140478370273936&#45;&gt;140478370358440 -->\n<g class=\"edge\" id=\"edge9\">\n<title>140478370273936-&gt;140478370358440</title>\n<path d=\"M199.5,-2044.4551C199.5,-2036.3828 199.5,-2026.6764 199.5,-2017.6817\" fill=\"none\" stroke=\"#000000\"/>\n<polygon fill=\"#000000\" points=\"203.0001,-2017.5903 199.5,-2007.5904 196.0001,-2017.5904 203.0001,-2017.5903\" stroke=\"#000000\"/>\n</g>\n<!-- 140478370358440&#45;&gt;140478369458552 -->\n<g class=\"edge\" id=\"edge10\">\n<title>140478370358440-&gt;140478369458552</title>\n<path d=\"M222.2416,-1971.4551C233.8523,-1962.2422 248.1458,-1950.9006 260.7266,-1940.918\" fill=\"none\" stroke=\"#000000\"/>\n<polygon fill=\"#000000\" points=\"263.0431,-1943.5479 268.7012,-1934.5904 258.6921,-1938.0644 263.0431,-1943.5479\" stroke=\"#000000\"/>\n</g>\n<!-- 140478369559160 -->\n<g class=\"node\" id=\"node12\">\n<title>140478369559160</title>\n<polygon fill=\"none\" points=\"214.5,-1825.5 214.5,-1861.5 368.5,-1861.5 368.5,-1825.5 214.5,-1825.5\" stroke=\"#000000\"/>\n<text fill=\"#000000\" font-family=\"Times,serif\" font-size=\"14.00\" text-anchor=\"middle\" x=\"291.5\" y=\"-1839.8\">activation_2: Activation</text>\n</g>\n<!-- 140478369458552&#45;&gt;140478369559160 -->\n<g class=\"edge\" id=\"edge12\">\n<title>140478369458552-&gt;140478369559160</title>\n<path d=\"M291.5,-1898.4551C291.5,-1890.3828 291.5,-1880.6764 291.5,-1871.6817\" fill=\"none\" stroke=\"#000000\"/>\n<polygon fill=\"#000000\" points=\"295.0001,-1871.5903 291.5,-1861.5904 288.0001,-1871.5904 295.0001,-1871.5903\" stroke=\"#000000\"/>\n</g>\n<!-- 140478369561568 -->\n<g class=\"node\" id=\"node13\">\n<title>140478369561568</title>\n<polygon fill=\"none\" points=\"188.5,-1752.5 188.5,-1788.5 394.5,-1788.5 394.5,-1752.5 188.5,-1752.5\" stroke=\"#000000\"/>\n<text fill=\"#000000\" font-family=\"Times,serif\" font-size=\"14.00\" text-anchor=\"middle\" x=\"291.5\" y=\"-1766.8\">max_pooling2d: MaxPooling2D</text>\n</g>\n<!-- 140478369559160&#45;&gt;140478369561568 -->\n<g class=\"edge\" id=\"edge13\">\n<title>140478369559160-&gt;140478369561568</title>\n<path d=\"M291.5,-1825.4551C291.5,-1817.3828 291.5,-1807.6764 291.5,-1798.6817\" fill=\"none\" stroke=\"#000000\"/>\n<polygon fill=\"#000000\" points=\"295.0001,-1798.5903 291.5,-1788.5904 288.0001,-1798.5904 295.0001,-1798.5903\" stroke=\"#000000\"/>\n</g>\n<!-- 140478369559776 -->\n<g class=\"node\" id=\"node14\">\n<title>140478369559776</title>\n<polygon fill=\"none\" points=\"133,-1679.5 133,-1715.5 266,-1715.5 266,-1679.5 133,-1679.5\" stroke=\"#000000\"/>\n<text fill=\"#000000\" font-family=\"Times,serif\" font-size=\"14.00\" text-anchor=\"middle\" x=\"199.5\" y=\"-1693.8\">conv2d_3: Conv2D</text>\n</g>\n<!-- 140478369561568&#45;&gt;140478369559776 -->\n<g class=\"edge\" id=\"edge14\">\n<title>140478369561568-&gt;140478369559776</title>\n<path d=\"M268.7584,-1752.4551C257.1477,-1743.2422 242.8542,-1731.9006 230.2734,-1721.918\" fill=\"none\" stroke=\"#000000\"/>\n<polygon fill=\"#000000\" points=\"232.3079,-1719.0644 222.2988,-1715.5904 227.9569,-1724.5479 232.3079,-1719.0644\" stroke=\"#000000\"/>\n</g>\n<!-- 140478776134064 -->\n<g class=\"node\" id=\"node22\">\n<title>140478776134064</title>\n<polygon fill=\"none\" points=\"160,-1095.5 160,-1131.5 335,-1131.5 335,-1095.5 160,-1095.5\" stroke=\"#000000\"/>\n<text fill=\"#000000\" font-family=\"Times,serif\" font-size=\"14.00\" text-anchor=\"middle\" x=\"247.5\" y=\"-1109.8\">concatenate_1: Concatenate</text>\n</g>\n<!-- 140478369561568&#45;&gt;140478776134064 -->\n<g class=\"edge\" id=\"edge23\">\n<title>140478369561568-&gt;140478776134064</title>\n<path d=\"M301.6796,-1752.2358C315.7695,-1725.1965 339.5,-1672.5275 339.5,-1624.5 339.5,-1624.5 339.5,-1624.5 339.5,-1259.5 339.5,-1217.8732 341.9292,-1203.0674 319.5,-1168 311.819,-1155.991 300.5108,-1145.6372 289.1212,-1137.2778\" fill=\"none\" stroke=\"#000000\"/>\n<polygon fill=\"#000000\" points=\"291.0752,-1134.3737 280.864,-1131.5483 287.0845,-1140.1247 291.0752,-1134.3737\" stroke=\"#000000\"/>\n</g>\n<!-- 140478368742088 -->\n<g class=\"node\" id=\"node15\">\n<title>140478368742088</title>\n<polygon fill=\"none\" points=\"0,-1606.5 0,-1642.5 311,-1642.5 311,-1606.5 0,-1606.5\" stroke=\"#000000\"/>\n<text fill=\"#000000\" font-family=\"Times,serif\" font-size=\"14.00\" text-anchor=\"middle\" x=\"155.5\" y=\"-1620.8\">batch_normalization_v1_3: BatchNormalizationV1</text>\n</g>\n<!-- 140478369559776&#45;&gt;140478368742088 -->\n<g class=\"edge\" id=\"edge15\">\n<title>140478369559776-&gt;140478368742088</title>\n<path d=\"M188.6236,-1679.4551C183.4937,-1670.9441 177.2688,-1660.6165 171.6064,-1651.2219\" fill=\"none\" stroke=\"#000000\"/>\n<polygon fill=\"#000000\" points=\"174.5636,-1649.3481 166.4038,-1642.5904 168.5684,-1652.9617 174.5636,-1649.3481\" stroke=\"#000000\"/>\n</g>\n<!-- 140478368743040 -->\n<g class=\"node\" id=\"node16\">\n<title>140478368743040</title>\n<polygon fill=\"none\" points=\"78.5,-1533.5 78.5,-1569.5 232.5,-1569.5 232.5,-1533.5 78.5,-1533.5\" stroke=\"#000000\"/>\n<text fill=\"#000000\" font-family=\"Times,serif\" font-size=\"14.00\" text-anchor=\"middle\" x=\"155.5\" y=\"-1547.8\">activation_3: Activation</text>\n</g>\n<!-- 140478368742088&#45;&gt;140478368743040 -->\n<g class=\"edge\" id=\"edge16\">\n<title>140478368742088-&gt;140478368743040</title>\n<path d=\"M155.5,-1606.4551C155.5,-1598.3828 155.5,-1588.6764 155.5,-1579.6817\" fill=\"none\" stroke=\"#000000\"/>\n<polygon fill=\"#000000\" points=\"159.0001,-1579.5903 155.5,-1569.5904 152.0001,-1579.5904 159.0001,-1579.5903\" stroke=\"#000000\"/>\n</g>\n<!-- 140478368834112 -->\n<g class=\"node\" id=\"node17\">\n<title>140478368834112</title>\n<polygon fill=\"none\" points=\"89,-1460.5 89,-1496.5 222,-1496.5 222,-1460.5 89,-1460.5\" stroke=\"#000000\"/>\n<text fill=\"#000000\" font-family=\"Times,serif\" font-size=\"14.00\" text-anchor=\"middle\" x=\"155.5\" y=\"-1474.8\">conv2d_4: Conv2D</text>\n</g>\n<!-- 140478368743040&#45;&gt;140478368834112 -->\n<g class=\"edge\" id=\"edge17\">\n<title>140478368743040-&gt;140478368834112</title>\n<path d=\"M155.5,-1533.4551C155.5,-1525.3828 155.5,-1515.6764 155.5,-1506.6817\" fill=\"none\" stroke=\"#000000\"/>\n<polygon fill=\"#000000\" points=\"159.0001,-1506.5903 155.5,-1496.5904 152.0001,-1506.5904 159.0001,-1506.5903\" stroke=\"#000000\"/>\n</g>\n<!-- 140478368393480 -->\n<g class=\"node\" id=\"node18\">\n<title>140478368393480</title>\n<polygon fill=\"none\" points=\"0,-1387.5 0,-1423.5 311,-1423.5 311,-1387.5 0,-1387.5\" stroke=\"#000000\"/>\n<text fill=\"#000000\" font-family=\"Times,serif\" font-size=\"14.00\" text-anchor=\"middle\" x=\"155.5\" y=\"-1401.8\">batch_normalization_v1_4: BatchNormalizationV1</text>\n</g>\n<!-- 140478368834112&#45;&gt;140478368393480 -->\n<g class=\"edge\" id=\"edge18\">\n<title>140478368834112-&gt;140478368393480</title>\n<path d=\"M155.5,-1460.4551C155.5,-1452.3828 155.5,-1442.6764 155.5,-1433.6817\" fill=\"none\" stroke=\"#000000\"/>\n<polygon fill=\"#000000\" points=\"159.0001,-1433.5903 155.5,-1423.5904 152.0001,-1433.5904 159.0001,-1433.5903\" stroke=\"#000000\"/>\n</g>\n<!-- 140478368394264 -->\n<g class=\"node\" id=\"node19\">\n<title>140478368394264</title>\n<polygon fill=\"none\" points=\"78.5,-1314.5 78.5,-1350.5 232.5,-1350.5 232.5,-1314.5 78.5,-1314.5\" stroke=\"#000000\"/>\n<text fill=\"#000000\" font-family=\"Times,serif\" font-size=\"14.00\" text-anchor=\"middle\" x=\"155.5\" y=\"-1328.8\">activation_4: Activation</text>\n</g>\n<!-- 140478368393480&#45;&gt;140478368394264 -->\n<g class=\"edge\" id=\"edge19\">\n<title>140478368393480-&gt;140478368394264</title>\n<path d=\"M155.5,-1387.4551C155.5,-1379.3828 155.5,-1369.6764 155.5,-1360.6817\" fill=\"none\" stroke=\"#000000\"/>\n<polygon fill=\"#000000\" points=\"159.0001,-1360.5903 155.5,-1350.5904 152.0001,-1360.5904 159.0001,-1360.5903\" stroke=\"#000000\"/>\n</g>\n<!-- 140478368017656 -->\n<g class=\"node\" id=\"node20\">\n<title>140478368017656</title>\n<polygon fill=\"none\" points=\"89,-1241.5 89,-1277.5 222,-1277.5 222,-1241.5 89,-1241.5\" stroke=\"#000000\"/>\n<text fill=\"#000000\" font-family=\"Times,serif\" font-size=\"14.00\" text-anchor=\"middle\" x=\"155.5\" y=\"-1255.8\">conv2d_5: Conv2D</text>\n</g>\n<!-- 140478368394264&#45;&gt;140478368017656 -->\n<g class=\"edge\" id=\"edge20\">\n<title>140478368394264-&gt;140478368017656</title>\n<path d=\"M155.5,-1314.4551C155.5,-1306.3828 155.5,-1296.6764 155.5,-1287.6817\" fill=\"none\" stroke=\"#000000\"/>\n<polygon fill=\"#000000\" points=\"159.0001,-1287.5903 155.5,-1277.5904 152.0001,-1287.5904 159.0001,-1287.5903\" stroke=\"#000000\"/>\n</g>\n<!-- 140478367205472 -->\n<g class=\"node\" id=\"node21\">\n<title>140478367205472</title>\n<polygon fill=\"none\" points=\"0,-1168.5 0,-1204.5 311,-1204.5 311,-1168.5 0,-1168.5\" stroke=\"#000000\"/>\n<text fill=\"#000000\" font-family=\"Times,serif\" font-size=\"14.00\" text-anchor=\"middle\" x=\"155.5\" y=\"-1182.8\">batch_normalization_v1_5: BatchNormalizationV1</text>\n</g>\n<!-- 140478368017656&#45;&gt;140478367205472 -->\n<g class=\"edge\" id=\"edge21\">\n<title>140478368017656-&gt;140478367205472</title>\n<path d=\"M155.5,-1241.4551C155.5,-1233.3828 155.5,-1223.6764 155.5,-1214.6817\" fill=\"none\" stroke=\"#000000\"/>\n<polygon fill=\"#000000\" points=\"159.0001,-1214.5903 155.5,-1204.5904 152.0001,-1214.5904 159.0001,-1214.5903\" stroke=\"#000000\"/>\n</g>\n<!-- 140478367205472&#45;&gt;140478776134064 -->\n<g class=\"edge\" id=\"edge22\">\n<title>140478367205472-&gt;140478776134064</title>\n<path d=\"M178.2416,-1168.4551C189.8523,-1159.2422 204.1458,-1147.9006 216.7266,-1137.918\" fill=\"none\" stroke=\"#000000\"/>\n<polygon fill=\"#000000\" points=\"219.0431,-1140.5479 224.7012,-1131.5904 214.6921,-1135.0644 219.0431,-1140.5479\" stroke=\"#000000\"/>\n</g>\n<!-- 140478366790768 -->\n<g class=\"node\" id=\"node23\">\n<title>140478366790768</title>\n<polygon fill=\"none\" points=\"170.5,-1022.5 170.5,-1058.5 324.5,-1058.5 324.5,-1022.5 170.5,-1022.5\" stroke=\"#000000\"/>\n<text fill=\"#000000\" font-family=\"Times,serif\" font-size=\"14.00\" text-anchor=\"middle\" x=\"247.5\" y=\"-1036.8\">activation_5: Activation</text>\n</g>\n<!-- 140478776134064&#45;&gt;140478366790768 -->\n<g class=\"edge\" id=\"edge24\">\n<title>140478776134064-&gt;140478366790768</title>\n<path d=\"M247.5,-1095.4551C247.5,-1087.3828 247.5,-1077.6764 247.5,-1068.6817\" fill=\"none\" stroke=\"#000000\"/>\n<polygon fill=\"#000000\" points=\"251.0001,-1068.5903 247.5,-1058.5904 244.0001,-1068.5904 251.0001,-1068.5903\" stroke=\"#000000\"/>\n</g>\n<!-- 140478366793512 -->\n<g class=\"node\" id=\"node24\">\n<title>140478366793512</title>\n<polygon fill=\"none\" points=\"137,-949.5 137,-985.5 358,-985.5 358,-949.5 137,-949.5\" stroke=\"#000000\"/>\n<text fill=\"#000000\" font-family=\"Times,serif\" font-size=\"14.00\" text-anchor=\"middle\" x=\"247.5\" y=\"-963.8\">max_pooling2d_1: MaxPooling2D</text>\n</g>\n<!-- 140478366790768&#45;&gt;140478366793512 -->\n<g class=\"edge\" id=\"edge25\">\n<title>140478366790768-&gt;140478366793512</title>\n<path d=\"M247.5,-1022.4551C247.5,-1014.3828 247.5,-1004.6764 247.5,-995.6817\" fill=\"none\" stroke=\"#000000\"/>\n<polygon fill=\"#000000\" points=\"251.0001,-995.5903 247.5,-985.5904 244.0001,-995.5904 251.0001,-995.5903\" stroke=\"#000000\"/>\n</g>\n<!-- 140478366790992 -->\n<g class=\"node\" id=\"node25\">\n<title>140478366790992</title>\n<polygon fill=\"none\" points=\"134,-876.5 134,-912.5 267,-912.5 267,-876.5 134,-876.5\" stroke=\"#000000\"/>\n<text fill=\"#000000\" font-family=\"Times,serif\" font-size=\"14.00\" text-anchor=\"middle\" x=\"200.5\" y=\"-890.8\">conv2d_6: Conv2D</text>\n</g>\n<!-- 140478366793512&#45;&gt;140478366790992 -->\n<g class=\"edge\" id=\"edge26\">\n<title>140478366793512-&gt;140478366790992</title>\n<path d=\"M235.882,-949.4551C230.4024,-940.9441 223.7531,-930.6165 217.7045,-921.2219\" fill=\"none\" stroke=\"#000000\"/>\n<polygon fill=\"#000000\" points=\"220.5035,-919.1037 212.1472,-912.5904 214.6178,-922.8931 220.5035,-919.1037\" stroke=\"#000000\"/>\n</g>\n<!-- 140478364923832 -->\n<g class=\"node\" id=\"node33\">\n<title>140478364923832</title>\n<polygon fill=\"none\" points=\"160,-292.5 160,-328.5 335,-328.5 335,-292.5 160,-292.5\" stroke=\"#000000\"/>\n<text fill=\"#000000\" font-family=\"Times,serif\" font-size=\"14.00\" text-anchor=\"middle\" x=\"247.5\" y=\"-306.8\">concatenate_2: Concatenate</text>\n</g>\n<!-- 140478366793512&#45;&gt;140478364923832 -->\n<g class=\"edge\" id=\"edge35\">\n<title>140478366793512-&gt;140478364923832</title>\n<path d=\"M268.8379,-949.0858C296.0156,-923.4637 339.5,-874.2294 339.5,-821.5 339.5,-821.5 339.5,-821.5 339.5,-456.5 339.5,-414.8732 341.9292,-400.0674 319.5,-365 311.819,-352.991 300.5108,-342.6372 289.1212,-334.2778\" fill=\"none\" stroke=\"#000000\"/>\n<polygon fill=\"#000000\" points=\"291.0752,-331.3737 280.864,-328.5483 287.0845,-337.1247 291.0752,-331.3737\" stroke=\"#000000\"/>\n</g>\n<!-- 140478365969656 -->\n<g class=\"node\" id=\"node26\">\n<title>140478365969656</title>\n<polygon fill=\"none\" points=\"0,-803.5 0,-839.5 311,-839.5 311,-803.5 0,-803.5\" stroke=\"#000000\"/>\n<text fill=\"#000000\" font-family=\"Times,serif\" font-size=\"14.00\" text-anchor=\"middle\" x=\"155.5\" y=\"-817.8\">batch_normalization_v1_6: BatchNormalizationV1</text>\n</g>\n<!-- 140478366790992&#45;&gt;140478365969656 -->\n<g class=\"edge\" id=\"edge27\">\n<title>140478366790992-&gt;140478365969656</title>\n<path d=\"M189.3764,-876.4551C184.1299,-867.9441 177.7636,-857.6165 171.9724,-848.2219\" fill=\"none\" stroke=\"#000000\"/>\n<polygon fill=\"#000000\" points=\"174.8785,-846.2663 166.6516,-839.5904 168.9197,-849.9396 174.8785,-846.2663\" stroke=\"#000000\"/>\n</g>\n<!-- 140478365969936 -->\n<g class=\"node\" id=\"node27\">\n<title>140478365969936</title>\n<polygon fill=\"none\" points=\"78.5,-730.5 78.5,-766.5 232.5,-766.5 232.5,-730.5 78.5,-730.5\" stroke=\"#000000\"/>\n<text fill=\"#000000\" font-family=\"Times,serif\" font-size=\"14.00\" text-anchor=\"middle\" x=\"155.5\" y=\"-744.8\">activation_6: Activation</text>\n</g>\n<!-- 140478365969656&#45;&gt;140478365969936 -->\n<g class=\"edge\" id=\"edge28\">\n<title>140478365969656-&gt;140478365969936</title>\n<path d=\"M155.5,-803.4551C155.5,-795.3828 155.5,-785.6764 155.5,-776.6817\" fill=\"none\" stroke=\"#000000\"/>\n<polygon fill=\"#000000\" points=\"159.0001,-776.5903 155.5,-766.5904 152.0001,-776.5904 159.0001,-776.5903\" stroke=\"#000000\"/>\n</g>\n<!-- 140478366081544 -->\n<g class=\"node\" id=\"node28\">\n<title>140478366081544</title>\n<polygon fill=\"none\" points=\"89,-657.5 89,-693.5 222,-693.5 222,-657.5 89,-657.5\" stroke=\"#000000\"/>\n<text fill=\"#000000\" font-family=\"Times,serif\" font-size=\"14.00\" text-anchor=\"middle\" x=\"155.5\" y=\"-671.8\">conv2d_7: Conv2D</text>\n</g>\n<!-- 140478365969936&#45;&gt;140478366081544 -->\n<g class=\"edge\" id=\"edge29\">\n<title>140478365969936-&gt;140478366081544</title>\n<path d=\"M155.5,-730.4551C155.5,-722.3828 155.5,-712.6764 155.5,-703.6817\" fill=\"none\" stroke=\"#000000\"/>\n<polygon fill=\"#000000\" points=\"159.0001,-703.5903 155.5,-693.5904 152.0001,-703.5904 159.0001,-703.5903\" stroke=\"#000000\"/>\n</g>\n<!-- 140478366153304 -->\n<g class=\"node\" id=\"node29\">\n<title>140478366153304</title>\n<polygon fill=\"none\" points=\"0,-584.5 0,-620.5 311,-620.5 311,-584.5 0,-584.5\" stroke=\"#000000\"/>\n<text fill=\"#000000\" font-family=\"Times,serif\" font-size=\"14.00\" text-anchor=\"middle\" x=\"155.5\" y=\"-598.8\">batch_normalization_v1_7: BatchNormalizationV1</text>\n</g>\n<!-- 140478366081544&#45;&gt;140478366153304 -->\n<g class=\"edge\" id=\"edge30\">\n<title>140478366081544-&gt;140478366153304</title>\n<path d=\"M155.5,-657.4551C155.5,-649.3828 155.5,-639.6764 155.5,-630.6817\" fill=\"none\" stroke=\"#000000\"/>\n<polygon fill=\"#000000\" points=\"159.0001,-630.5903 155.5,-620.5904 152.0001,-630.5904 159.0001,-630.5903\" stroke=\"#000000\"/>\n</g>\n<!-- 140478366154088 -->\n<g class=\"node\" id=\"node30\">\n<title>140478366154088</title>\n<polygon fill=\"none\" points=\"78.5,-511.5 78.5,-547.5 232.5,-547.5 232.5,-511.5 78.5,-511.5\" stroke=\"#000000\"/>\n<text fill=\"#000000\" font-family=\"Times,serif\" font-size=\"14.00\" text-anchor=\"middle\" x=\"155.5\" y=\"-525.8\">activation_7: Activation</text>\n</g>\n<!-- 140478366153304&#45;&gt;140478366154088 -->\n<g class=\"edge\" id=\"edge31\">\n<title>140478366153304-&gt;140478366154088</title>\n<path d=\"M155.5,-584.4551C155.5,-576.3828 155.5,-566.6764 155.5,-557.6817\" fill=\"none\" stroke=\"#000000\"/>\n<polygon fill=\"#000000\" points=\"159.0001,-557.5903 155.5,-547.5904 152.0001,-557.5904 159.0001,-557.5903\" stroke=\"#000000\"/>\n</g>\n<!-- 140478365245336 -->\n<g class=\"node\" id=\"node31\">\n<title>140478365245336</title>\n<polygon fill=\"none\" points=\"89,-438.5 89,-474.5 222,-474.5 222,-438.5 89,-438.5\" stroke=\"#000000\"/>\n<text fill=\"#000000\" font-family=\"Times,serif\" font-size=\"14.00\" text-anchor=\"middle\" x=\"155.5\" y=\"-452.8\">conv2d_8: Conv2D</text>\n</g>\n<!-- 140478366154088&#45;&gt;140478365245336 -->\n<g class=\"edge\" id=\"edge32\">\n<title>140478366154088-&gt;140478365245336</title>\n<path d=\"M155.5,-511.4551C155.5,-503.3828 155.5,-493.6764 155.5,-484.6817\" fill=\"none\" stroke=\"#000000\"/>\n<polygon fill=\"#000000\" points=\"159.0001,-484.5903 155.5,-474.5904 152.0001,-484.5904 159.0001,-484.5903\" stroke=\"#000000\"/>\n</g>\n<!-- 140478364923048 -->\n<g class=\"node\" id=\"node32\">\n<title>140478364923048</title>\n<polygon fill=\"none\" points=\"0,-365.5 0,-401.5 311,-401.5 311,-365.5 0,-365.5\" stroke=\"#000000\"/>\n<text fill=\"#000000\" font-family=\"Times,serif\" font-size=\"14.00\" text-anchor=\"middle\" x=\"155.5\" y=\"-379.8\">batch_normalization_v1_8: BatchNormalizationV1</text>\n</g>\n<!-- 140478365245336&#45;&gt;140478364923048 -->\n<g class=\"edge\" id=\"edge33\">\n<title>140478365245336-&gt;140478364923048</title>\n<path d=\"M155.5,-438.4551C155.5,-430.3828 155.5,-420.6764 155.5,-411.6817\" fill=\"none\" stroke=\"#000000\"/>\n<polygon fill=\"#000000\" points=\"159.0001,-411.5903 155.5,-401.5904 152.0001,-411.5904 159.0001,-411.5903\" stroke=\"#000000\"/>\n</g>\n<!-- 140478364923048&#45;&gt;140478364923832 -->\n<g class=\"edge\" id=\"edge34\">\n<title>140478364923048-&gt;140478364923832</title>\n<path d=\"M178.2416,-365.4551C189.8523,-356.2422 204.1458,-344.9006 216.7266,-334.918\" fill=\"none\" stroke=\"#000000\"/>\n<polygon fill=\"#000000\" points=\"219.0431,-337.5479 224.7012,-328.5904 214.6921,-332.0644 219.0431,-337.5479\" stroke=\"#000000\"/>\n</g>\n<!-- 140478364539368 -->\n<g class=\"node\" id=\"node34\">\n<title>140478364539368</title>\n<polygon fill=\"none\" points=\"170.5,-219.5 170.5,-255.5 324.5,-255.5 324.5,-219.5 170.5,-219.5\" stroke=\"#000000\"/>\n<text fill=\"#000000\" font-family=\"Times,serif\" font-size=\"14.00\" text-anchor=\"middle\" x=\"247.5\" y=\"-233.8\">activation_8: Activation</text>\n</g>\n<!-- 140478364923832&#45;&gt;140478364539368 -->\n<g class=\"edge\" id=\"edge36\">\n<title>140478364923832-&gt;140478364539368</title>\n<path d=\"M247.5,-292.4551C247.5,-284.3828 247.5,-274.6764 247.5,-265.6817\" fill=\"none\" stroke=\"#000000\"/>\n<polygon fill=\"#000000\" points=\"251.0001,-265.5903 247.5,-255.5904 244.0001,-265.5904 251.0001,-265.5903\" stroke=\"#000000\"/>\n</g>\n<!-- 140478364539144 -->\n<g class=\"node\" id=\"node35\">\n<title>140478364539144</title>\n<polygon fill=\"none\" points=\"137,-146.5 137,-182.5 358,-182.5 358,-146.5 137,-146.5\" stroke=\"#000000\"/>\n<text fill=\"#000000\" font-family=\"Times,serif\" font-size=\"14.00\" text-anchor=\"middle\" x=\"247.5\" y=\"-160.8\">max_pooling2d_2: MaxPooling2D</text>\n</g>\n<!-- 140478364539368&#45;&gt;140478364539144 -->\n<g class=\"edge\" id=\"edge37\">\n<title>140478364539368-&gt;140478364539144</title>\n<path d=\"M247.5,-219.4551C247.5,-211.3828 247.5,-201.6764 247.5,-192.6817\" fill=\"none\" stroke=\"#000000\"/>\n<polygon fill=\"#000000\" points=\"251.0001,-192.5903 247.5,-182.5904 244.0001,-192.5904 251.0001,-192.5903\" stroke=\"#000000\"/>\n</g>\n<!-- 140478364634640 -->\n<g class=\"node\" id=\"node36\">\n<title>140478364634640</title>\n<polygon fill=\"none\" points=\"198.5,-73.5 198.5,-109.5 296.5,-109.5 296.5,-73.5 198.5,-73.5\" stroke=\"#000000\"/>\n<text fill=\"#000000\" font-family=\"Times,serif\" font-size=\"14.00\" text-anchor=\"middle\" x=\"247.5\" y=\"-87.8\">flatten: Flatten</text>\n</g>\n<!-- 140478364539144&#45;&gt;140478364634640 -->\n<g class=\"edge\" id=\"edge38\">\n<title>140478364539144-&gt;140478364634640</title>\n<path d=\"M247.5,-146.4551C247.5,-138.3828 247.5,-128.6764 247.5,-119.6817\" fill=\"none\" stroke=\"#000000\"/>\n<polygon fill=\"#000000\" points=\"251.0001,-119.5903 247.5,-109.5904 244.0001,-119.5904 251.0001,-119.5903\" stroke=\"#000000\"/>\n</g>\n<!-- 140478364314368 -->\n<g class=\"node\" id=\"node37\">\n<title>140478364314368</title>\n<polygon fill=\"none\" points=\"201.5,-.5 201.5,-36.5 293.5,-36.5 293.5,-.5 201.5,-.5\" stroke=\"#000000\"/>\n<text fill=\"#000000\" font-family=\"Times,serif\" font-size=\"14.00\" text-anchor=\"middle\" x=\"247.5\" y=\"-14.8\">dense: Dense</text>\n</g>\n<!-- 140478364634640&#45;&gt;140478364314368 -->\n<g class=\"edge\" id=\"edge39\">\n<title>140478364634640-&gt;140478364314368</title>\n<path d=\"M247.5,-73.4551C247.5,-65.3828 247.5,-55.6764 247.5,-46.6817\" fill=\"none\" stroke=\"#000000\"/>\n<polygon fill=\"#000000\" points=\"251.0001,-46.5903 247.5,-36.5904 244.0001,-46.5904 251.0001,-46.5903\" stroke=\"#000000\"/>\n</g>\n</g>\n</svg>"
          },
          "metadata": {
            "tags": []
          },
          "execution_count": 9
        }
      ]
    },
    {
      "cell_type": "code",
      "metadata": {
        "id": "8DCeOwgRWBow",
        "colab_type": "code",
        "colab": {}
      },
      "source": [
        "model.compile(optimizer = tf.train.AdamOptimizer(learning_rate = 0.001),\n",
        "             loss = \"categorical_crossentropy\",\n",
        "             metrics = [\"acc\"])"
      ],
      "execution_count": 0,
      "outputs": []
    },
    {
      "cell_type": "code",
      "metadata": {
        "id": "jNTkRw-4GabZ",
        "colab_type": "code",
        "outputId": "9338f353-e55c-4cab-87c8-614555f46892",
        "colab": {
          "base_uri": "https://localhost:8080/",
          "height": 445
        }
      },
      "source": [
        "tpu_model = tf.contrib.tpu.keras_to_tpu_model(\n",
        "    model,\n",
        "    strategy=tf.contrib.tpu.TPUDistributionStrategy(\n",
        "        tf.contrib.cluster_resolver.TPUClusterResolver(TPU_ADDRESS)))"
      ],
      "execution_count": 12,
      "outputs": [
        {
          "output_type": "stream",
          "text": [
            "\n",
            "WARNING: The TensorFlow contrib module will not be included in TensorFlow 2.0.\n",
            "For more information, please see:\n",
            "  * https://github.com/tensorflow/community/blob/master/rfcs/20180907-contrib-sunset.md\n",
            "  * https://github.com/tensorflow/addons\n",
            "If you depend on functionality not listed there, please file an issue.\n",
            "\n",
            "INFO:tensorflow:Querying Tensorflow master (grpc://10.35.95.178:8470) for TPU system metadata.\n",
            "INFO:tensorflow:Found TPU system:\n",
            "INFO:tensorflow:*** Num TPU Cores: 8\n",
            "INFO:tensorflow:*** Num TPU Workers: 1\n",
            "INFO:tensorflow:*** Num TPU Cores Per Worker: 8\n",
            "INFO:tensorflow:*** Available Device: _DeviceAttributes(/job:worker/replica:0/task:0/device:CPU:0, CPU, -1, 401370816790964557)\n",
            "INFO:tensorflow:*** Available Device: _DeviceAttributes(/job:worker/replica:0/task:0/device:XLA_CPU:0, XLA_CPU, 17179869184, 6832319755929648363)\n",
            "INFO:tensorflow:*** Available Device: _DeviceAttributes(/job:worker/replica:0/task:0/device:TPU:0, TPU, 17179869184, 17328868575267622402)\n",
            "INFO:tensorflow:*** Available Device: _DeviceAttributes(/job:worker/replica:0/task:0/device:TPU:1, TPU, 17179869184, 5594195047495171051)\n",
            "INFO:tensorflow:*** Available Device: _DeviceAttributes(/job:worker/replica:0/task:0/device:TPU:2, TPU, 17179869184, 8665089713195540324)\n",
            "INFO:tensorflow:*** Available Device: _DeviceAttributes(/job:worker/replica:0/task:0/device:TPU:3, TPU, 17179869184, 5194565212814457928)\n",
            "INFO:tensorflow:*** Available Device: _DeviceAttributes(/job:worker/replica:0/task:0/device:TPU:4, TPU, 17179869184, 10464172639117718109)\n",
            "INFO:tensorflow:*** Available Device: _DeviceAttributes(/job:worker/replica:0/task:0/device:TPU:5, TPU, 17179869184, 13636641100473144663)\n",
            "INFO:tensorflow:*** Available Device: _DeviceAttributes(/job:worker/replica:0/task:0/device:TPU:6, TPU, 17179869184, 770092259360374248)\n",
            "INFO:tensorflow:*** Available Device: _DeviceAttributes(/job:worker/replica:0/task:0/device:TPU:7, TPU, 17179869184, 8073572067040274667)\n",
            "INFO:tensorflow:*** Available Device: _DeviceAttributes(/job:worker/replica:0/task:0/device:TPU_SYSTEM:0, TPU_SYSTEM, 17179869184, 9482043370966945981)\n",
            "WARNING:tensorflow:tpu_model (from tensorflow.contrib.tpu.python.tpu.keras_support) is experimental and may change or be removed at any time, and without warning.\n"
          ],
          "name": "stdout"
        }
      ]
    },
    {
      "cell_type": "code",
      "metadata": {
        "id": "lGDVsv9iGuuN",
        "colab_type": "code",
        "outputId": "ce171c88-2fc6-4b25-a1c0-a73dd8d5ac77",
        "colab": {
          "base_uri": "https://localhost:8080/",
          "height": 1445
        }
      },
      "source": [
        "tpu_model.summary()"
      ],
      "execution_count": 13,
      "outputs": [
        {
          "output_type": "stream",
          "text": [
            "__________________________________________________________________________________________________\n",
            "Layer (type)                    Output Shape         Param #     Connected to                     \n",
            "==================================================================================================\n",
            "input_1 (InputLayer)            (None, 32, 32, 3)    0                                            \n",
            "__________________________________________________________________________________________________\n",
            "zero_padding2d (ZeroPadding2D)  (None, 38, 38, 3)    0           input_1[0][0]                    \n",
            "__________________________________________________________________________________________________\n",
            "conv2d (Conv2D)                 (None, 38, 38, 64)   1792        zero_padding2d[0][0]             \n",
            "__________________________________________________________________________________________________\n",
            "batch_normalization_v1 (BatchNo (None, 38, 38, 64)   256         conv2d[0][0]                     \n",
            "__________________________________________________________________________________________________\n",
            "activation (Activation)         (None, 38, 38, 64)   0           batch_normalization_v1[0][0]     \n",
            "__________________________________________________________________________________________________\n",
            "conv2d_1 (Conv2D)               (None, 38, 38, 64)   36928       activation[0][0]                 \n",
            "__________________________________________________________________________________________________\n",
            "batch_normalization_v1_1 (Batch (None, 38, 38, 64)   256         conv2d_1[0][0]                   \n",
            "__________________________________________________________________________________________________\n",
            "activation_1 (Activation)       (None, 38, 38, 64)   0           batch_normalization_v1_1[0][0]   \n",
            "__________________________________________________________________________________________________\n",
            "conv2d_2 (Conv2D)               (None, 38, 38, 64)   36928       activation_1[0][0]               \n",
            "__________________________________________________________________________________________________\n",
            "batch_normalization_v1_2 (Batch (None, 38, 38, 64)   256         conv2d_2[0][0]                   \n",
            "__________________________________________________________________________________________________\n",
            "concatenate (Concatenate)       (None, 38, 38, 67)   0           batch_normalization_v1_2[0][0]   \n",
            "                                                                 zero_padding2d[0][0]             \n",
            "__________________________________________________________________________________________________\n",
            "activation_2 (Activation)       (None, 38, 38, 67)   0           concatenate[0][0]                \n",
            "__________________________________________________________________________________________________\n",
            "max_pooling2d (MaxPooling2D)    (None, 19, 19, 67)   0           activation_2[0][0]               \n",
            "__________________________________________________________________________________________________\n",
            "conv2d_3 (Conv2D)               (None, 19, 19, 64)   38656       max_pooling2d[0][0]              \n",
            "__________________________________________________________________________________________________\n",
            "batch_normalization_v1_3 (Batch (None, 19, 19, 64)   256         conv2d_3[0][0]                   \n",
            "__________________________________________________________________________________________________\n",
            "activation_3 (Activation)       (None, 19, 19, 64)   0           batch_normalization_v1_3[0][0]   \n",
            "__________________________________________________________________________________________________\n",
            "conv2d_4 (Conv2D)               (None, 19, 19, 128)  73856       activation_3[0][0]               \n",
            "__________________________________________________________________________________________________\n",
            "batch_normalization_v1_4 (Batch (None, 19, 19, 128)  512         conv2d_4[0][0]                   \n",
            "__________________________________________________________________________________________________\n",
            "activation_4 (Activation)       (None, 19, 19, 128)  0           batch_normalization_v1_4[0][0]   \n",
            "__________________________________________________________________________________________________\n",
            "conv2d_5 (Conv2D)               (None, 19, 19, 256)  295168      activation_4[0][0]               \n",
            "__________________________________________________________________________________________________\n",
            "batch_normalization_v1_5 (Batch (None, 19, 19, 256)  1024        conv2d_5[0][0]                   \n",
            "__________________________________________________________________________________________________\n",
            "concatenate_1 (Concatenate)     (None, 19, 19, 323)  0           batch_normalization_v1_5[0][0]   \n",
            "                                                                 max_pooling2d[0][0]              \n",
            "__________________________________________________________________________________________________\n",
            "activation_5 (Activation)       (None, 19, 19, 323)  0           concatenate_1[0][0]              \n",
            "__________________________________________________________________________________________________\n",
            "max_pooling2d_1 (MaxPooling2D)  (None, 9, 9, 323)    0           activation_5[0][0]               \n",
            "__________________________________________________________________________________________________\n",
            "conv2d_6 (Conv2D)               (None, 9, 9, 128)    372224      max_pooling2d_1[0][0]            \n",
            "__________________________________________________________________________________________________\n",
            "batch_normalization_v1_6 (Batch (None, 9, 9, 128)    512         conv2d_6[0][0]                   \n",
            "__________________________________________________________________________________________________\n",
            "activation_6 (Activation)       (None, 9, 9, 128)    0           batch_normalization_v1_6[0][0]   \n",
            "__________________________________________________________________________________________________\n",
            "conv2d_7 (Conv2D)               (None, 9, 9, 128)    147584      activation_6[0][0]               \n",
            "__________________________________________________________________________________________________\n",
            "batch_normalization_v1_7 (Batch (None, 9, 9, 128)    512         conv2d_7[0][0]                   \n",
            "__________________________________________________________________________________________________\n",
            "activation_7 (Activation)       (None, 9, 9, 128)    0           batch_normalization_v1_7[0][0]   \n",
            "__________________________________________________________________________________________________\n",
            "conv2d_8 (Conv2D)               (None, 9, 9, 1024)   1180672     activation_7[0][0]               \n",
            "__________________________________________________________________________________________________\n",
            "batch_normalization_v1_8 (Batch (None, 9, 9, 1024)   4096        conv2d_8[0][0]                   \n",
            "__________________________________________________________________________________________________\n",
            "concatenate_2 (Concatenate)     (None, 9, 9, 1347)   0           batch_normalization_v1_8[0][0]   \n",
            "                                                                 max_pooling2d_1[0][0]            \n",
            "__________________________________________________________________________________________________\n",
            "activation_8 (Activation)       (None, 9, 9, 1347)   0           concatenate_2[0][0]              \n",
            "__________________________________________________________________________________________________\n",
            "max_pooling2d_2 (MaxPooling2D)  (None, 4, 4, 1347)   0           activation_8[0][0]               \n",
            "__________________________________________________________________________________________________\n",
            "flatten (Flatten)               (None, 21552)        0           max_pooling2d_2[0][0]            \n",
            "__________________________________________________________________________________________________\n",
            "dense (Dense)                   (None, 10)           215530      flatten[0][0]                    \n",
            "==================================================================================================\n",
            "Total params: 2,407,018\n",
            "Trainable params: 2,403,178\n",
            "Non-trainable params: 3,840\n",
            "__________________________________________________________________________________________________\n"
          ],
          "name": "stdout"
        }
      ]
    },
    {
      "cell_type": "code",
      "metadata": {
        "id": "8KO_kDJkT7wr",
        "colab_type": "code",
        "colab": {}
      },
      "source": [
        "tpu_model.load_weights(\"MNIST_TPU_1024.h5\")"
      ],
      "execution_count": 0,
      "outputs": []
    },
    {
      "cell_type": "code",
      "metadata": {
        "id": "mYgFPWV0RlTg",
        "colab_type": "code",
        "outputId": "5e861c36-dc8f-4092-862f-349943f79833",
        "colab": {
          "base_uri": "https://localhost:8080/",
          "height": 938
        }
      },
      "source": [
        " tpu_model.fit(\n",
        "  train_input_fn,\n",
        "  steps_per_epoch = 60,\n",
        "  epochs=20,\n",
        ")"
      ],
      "execution_count": 15,
      "outputs": [
        {
          "output_type": "stream",
          "text": [
            "Epoch 1/20\n",
            "INFO:tensorflow:New input shapes; (re-)compiling: mode=train (# of cores 8), [TensorSpec(shape=(1024,), dtype=tf.int32, name=None), TensorSpec(shape=(1024, 32, 32, 3), dtype=tf.float32, name=None), TensorSpec(shape=(1024, 10), dtype=tf.float32, name=None)]\n",
            "INFO:tensorflow:Overriding default placeholder.\n",
            "INFO:tensorflow:Remapping placeholder for input_1\n",
            "WARNING:tensorflow:From /usr/local/lib/python3.6/dist-packages/tensorflow/contrib/tpu/python/tpu/keras_support.py:302: to_float (from tensorflow.python.ops.math_ops) is deprecated and will be removed in a future version.\n",
            "Instructions for updating:\n",
            "Use tf.cast instead.\n",
            "WARNING:tensorflow:From /usr/local/lib/python3.6/dist-packages/tensorflow/python/ops/math_ops.py:3066: to_int32 (from tensorflow.python.ops.math_ops) is deprecated and will be removed in a future version.\n",
            "Instructions for updating:\n",
            "Use tf.cast instead.\n",
            "INFO:tensorflow:Started compiling\n",
            "INFO:tensorflow:Finished compiling. Time elapsed: 16.51149344444275 secs\n",
            "INFO:tensorflow:Setting weights on TPU model.\n",
            "60/60 [==============================] - 59s 982ms/step - loss: 0.8108 - acc: 0.8044\n",
            "Epoch 2/20\n",
            "60/60 [==============================] - 22s 359ms/step - loss: 0.0706 - acc: 0.9814\n",
            "Epoch 3/20\n",
            "60/60 [==============================] - 22s 359ms/step - loss: 0.0045 - acc: 1.0000\n",
            "Epoch 4/20\n",
            "60/60 [==============================] - 22s 359ms/step - loss: 0.0017 - acc: 1.0000\n",
            "Epoch 5/20\n",
            "60/60 [==============================] - 22s 361ms/step - loss: 0.0010 - acc: 1.0000\n",
            "Epoch 6/20\n",
            "60/60 [==============================] - 22s 358ms/step - loss: 7.0457e-04 - acc: 1.0000\n",
            "Epoch 7/20\n",
            "60/60 [==============================] - 22s 359ms/step - loss: 5.1535e-04 - acc: 1.0000\n",
            "Epoch 8/20\n",
            "60/60 [==============================] - 22s 360ms/step - loss: 3.9738e-04 - acc: 1.0000\n",
            "Epoch 9/20\n",
            "60/60 [==============================] - 22s 359ms/step - loss: 3.1385e-04 - acc: 1.0000\n",
            "Epoch 10/20\n",
            "60/60 [==============================] - 22s 361ms/step - loss: 2.5624e-04 - acc: 1.0000\n",
            "Epoch 11/20\n",
            "60/60 [==============================] - 21s 358ms/step - loss: 2.1289e-04 - acc: 1.0000\n",
            "Epoch 12/20\n",
            "60/60 [==============================] - 22s 359ms/step - loss: 1.7952e-04 - acc: 1.0000\n",
            "Epoch 13/20\n",
            "60/60 [==============================] - 22s 360ms/step - loss: 1.5395e-04 - acc: 1.0000\n",
            "Epoch 14/20\n",
            "60/60 [==============================] - 22s 359ms/step - loss: 1.3201e-04 - acc: 1.0000\n",
            "Epoch 15/20\n",
            "60/60 [==============================] - 22s 359ms/step - loss: 1.1625e-04 - acc: 1.0000\n",
            "Epoch 16/20\n",
            "60/60 [==============================] - 22s 361ms/step - loss: 1.0221e-04 - acc: 1.0000\n",
            "Epoch 17/20\n",
            "60/60 [==============================] - 22s 359ms/step - loss: 9.0776e-05 - acc: 1.0000\n",
            "Epoch 18/20\n",
            "60/60 [==============================] - 22s 359ms/step - loss: 8.0936e-05 - acc: 1.0000\n",
            "Epoch 19/20\n",
            "60/60 [==============================] - 22s 359ms/step - loss: 7.2277e-05 - acc: 1.0000\n",
            "Epoch 20/20\n",
            "60/60 [==============================] - 22s 360ms/step - loss: 6.5584e-05 - acc: 1.0000\n"
          ],
          "name": "stdout"
        },
        {
          "output_type": "execute_result",
          "data": {
            "text/plain": [
              "<tensorflow.python.keras.callbacks.History at 0x7fc3968aceb8>"
            ]
          },
          "metadata": {
            "tags": []
          },
          "execution_count": 15
        }
      ]
    },
    {
      "cell_type": "code",
      "metadata": {
        "id": "SS3rCq6FYXkf",
        "colab_type": "code",
        "outputId": "cfed28ea-cb3a-4b4f-8996-d0c260880609",
        "colab": {
          "base_uri": "https://localhost:8080/",
          "height": 34
        }
      },
      "source": [
        "tpu_model.save_weights('./MNIST_TPU_1024.h5', overwrite=True)\n"
      ],
      "execution_count": 16,
      "outputs": [
        {
          "output_type": "stream",
          "text": [
            "INFO:tensorflow:Copying TPU weights to the CPU\n"
          ],
          "name": "stdout"
        }
      ]
    },
    {
      "cell_type": "code",
      "metadata": {
        "id": "Nph-rX4kYhpK",
        "colab_type": "code",
        "outputId": "38866f90-480c-42ab-be95-900963192a51",
        "colab": {
          "base_uri": "https://localhost:8080/",
          "height": 156
        }
      },
      "source": [
        "tpu_model.evaluate(test_input_fn, steps = 100)"
      ],
      "execution_count": 17,
      "outputs": [
        {
          "output_type": "stream",
          "text": [
            "INFO:tensorflow:New input shapes; (re-)compiling: mode=eval (# of cores 8), [TensorSpec(shape=(1024,), dtype=tf.int32, name=None), TensorSpec(shape=(1024, 32, 32, 3), dtype=tf.float32, name=None), TensorSpec(shape=(1024, 10), dtype=tf.float32, name=None)]\n",
            "INFO:tensorflow:Overriding default placeholder.\n",
            "INFO:tensorflow:Remapping placeholder for input_1\n",
            "INFO:tensorflow:Started compiling\n",
            "INFO:tensorflow:Finished compiling. Time elapsed: 12.11625051498413 secs\n",
            "100/100 [==============================] - 31s 308ms/step - loss: 1.1304 - acc: 0.8194\n"
          ],
          "name": "stdout"
        },
        {
          "output_type": "execute_result",
          "data": {
            "text/plain": [
              "[1.1303884148597718, 0.819414]"
            ]
          },
          "metadata": {
            "tags": []
          },
          "execution_count": 17
        }
      ]
    },
    {
      "cell_type": "code",
      "metadata": {
        "id": "pgqhdBl4YvRY",
        "colab_type": "code",
        "colab": {}
      },
      "source": [
        ""
      ],
      "execution_count": 0,
      "outputs": []
    }
  ]
}
