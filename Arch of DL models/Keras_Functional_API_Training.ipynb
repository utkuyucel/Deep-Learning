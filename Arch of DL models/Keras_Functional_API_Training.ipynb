{
  "nbformat": 4,
  "nbformat_minor": 0,
  "metadata": {
    "colab": {
      "name": "Keras Functional API Training",
      "version": "0.3.2",
      "provenance": [],
      "collapsed_sections": [],
      "include_colab_link": true
    },
    "kernelspec": {
      "name": "python3",
      "display_name": "Python 3"
    },
    "accelerator": "GPU"
  },
  "cells": [
    {
      "cell_type": "markdown",
      "metadata": {
        "id": "view-in-github",
        "colab_type": "text"
      },
      "source": [
        "<a href=\"https://colab.research.google.com/github/utkuyucel/Deep-Learning/blob/master/Keras_Functional_API_Training.ipynb\" target=\"_parent\"><img src=\"https://colab.research.google.com/assets/colab-badge.svg\" alt=\"Open In Colab\"/></a>"
      ]
    },
    {
      "cell_type": "code",
      "metadata": {
        "id": "cjlzilSZZ_9f",
        "colab_type": "code",
        "colab": {}
      },
      "source": [
        "import numpy as np\n",
        "from keras import layers\n",
        "from keras.layers import Dense, Input, Activation, ZeroPadding2D, BatchNormalization, Flatten, Conv2D\n",
        "from keras.layers import AveragePooling2D, MaxPooling2D, Dropout, GlobalMaxPooling2D, GlobalAveragePooling2D\n",
        "from keras.models import Model\n",
        "from keras.preprocessing import image\n",
        "from keras.utils import layer_utils, to_categorical, plot_model\n",
        "import matplotlib.pyplot as plt\n",
        "from matplotlib.pyplot import imshow\n",
        "from keras.datasets import cifar10"
      ],
      "execution_count": 0,
      "outputs": []
    },
    {
      "cell_type": "code",
      "metadata": {
        "id": "wlhSFufca_re",
        "colab_type": "code",
        "colab": {}
      },
      "source": [
        "## THE DATASET PART ##\n",
        "(X_train, y_train),(X_test, y_test) = cifar10.load_data()\n",
        "\n",
        "X_train = X_train / 255.\n",
        "X_test = X_test / 255.\n",
        "\n",
        "X_train = X_train.astype(\"float32\")\n",
        "X_test = X_test.astype(\"float32\")\n",
        "\n",
        "y_train = to_categorical(y_train, 10, )\n",
        "y_test = to_categorical(y_test, 10)\n"
      ],
      "execution_count": 0,
      "outputs": []
    },
    {
      "cell_type": "code",
      "metadata": {
        "id": "KO5MmZ0pbyKD",
        "colab_type": "code",
        "colab": {}
      },
      "source": [
        "## DEFINING THE MODEL ##\n",
        "\n",
        "def model(input_shape):\n",
        "  \n",
        "  X_input = Input(input_shape)\n",
        "  \n",
        "  X = ZeroPadding2D((3,3))(X_input)\n",
        "  \n",
        "  X = Conv2D(128, (7,7), strides = (1,1), name = \"conv0\")(X)\n",
        "  X = BatchNormalization(axis = 3, name = \"bn0\")(X)\n",
        "  X = Activation(\"relu\")(X)\n",
        "  X = Conv2D(128, (7,7), strides = (1,1), name = \"conv1\")(X)\n",
        "  X = BatchNormalization(axis = 3, name = \"bn1\")(X)\n",
        "  X = Activation(\"relu\")(X)\n",
        "  X = Conv2D(128, (7,7), strides = (1,1), name = \"conv2\")(X)\n",
        "  X = BatchNormalization(axis = 3, name = \"bn2\")(X)\n",
        "  X = Activation(\"relu\")(X)\n",
        "  \n",
        "  X = Conv2D(128, (7,7), strides = (1,1), name = \"conv3\")(X)\n",
        "  X = BatchNormalization(axis = 3, name = \"bn3\")(X)\n",
        "  X = Activation(\"relu\")(X)\n",
        "  X = Conv2D(128, (7,7), strides = (1,1), name = \"conv4\")(X)\n",
        "  X = BatchNormalization(axis = 3, name = \"bn4\")(X)\n",
        "  X = Activation(\"relu\")(X)\n",
        "  X = Conv2D(128, (7,7), strides = (1,1), name = \"conv5\")(X)\n",
        "  X = BatchNormalization(axis = 3, name = \"bn5\")(X)\n",
        "  X = Activation(\"relu\")(X)\n",
        "  \n",
        "  \n",
        "  X = MaxPooling2D((2,2), name = \"max_pool\")(X)\n",
        "  \n",
        "  X = Flatten()(X)\n",
        "  X = Dense(1024, activation = \"relu\", name = \"d1\")(X)\n",
        "  X = BatchNormalization()(X)\n",
        "  X = Dense(256, activation = \"relu\", name = \"d2\")(X)\n",
        "  \n",
        "  X = Dense(10, activation = \"softmax\", name = \"fc\")(X)\n",
        "  \n",
        "  \n",
        "  model = Model(inputs = X_input, outputs = X)\n",
        "  return model"
      ],
      "execution_count": 0,
      "outputs": []
    },
    {
      "cell_type": "code",
      "metadata": {
        "id": "xd8jF_Bcb6n-",
        "colab_type": "code",
        "colab": {}
      },
      "source": [
        "model = model(X_train.shape[1:])"
      ],
      "execution_count": 0,
      "outputs": []
    },
    {
      "cell_type": "code",
      "metadata": {
        "id": "THOZExn23z0t",
        "colab_type": "code",
        "colab": {
          "base_uri": "https://localhost:8080/",
          "height": 1020
        },
        "outputId": "9aaaf081-399d-428a-f86c-3d061a3a9458"
      },
      "source": [
        "model.summary()"
      ],
      "execution_count": 54,
      "outputs": [
        {
          "output_type": "stream",
          "text": [
            "_________________________________________________________________\n",
            "Layer (type)                 Output Shape              Param #   \n",
            "=================================================================\n",
            "input_10 (InputLayer)        (None, 32, 32, 3)         0         \n",
            "_________________________________________________________________\n",
            "zero_padding2d_10 (ZeroPaddi (None, 38, 38, 3)         0         \n",
            "_________________________________________________________________\n",
            "conv0 (Conv2D)               (None, 32, 32, 128)       18944     \n",
            "_________________________________________________________________\n",
            "bn0 (BatchNormalization)     (None, 32, 32, 128)       512       \n",
            "_________________________________________________________________\n",
            "activation_14 (Activation)   (None, 32, 32, 128)       0         \n",
            "_________________________________________________________________\n",
            "conv1 (Conv2D)               (None, 26, 26, 128)       802944    \n",
            "_________________________________________________________________\n",
            "bn1 (BatchNormalization)     (None, 26, 26, 128)       512       \n",
            "_________________________________________________________________\n",
            "activation_15 (Activation)   (None, 26, 26, 128)       0         \n",
            "_________________________________________________________________\n",
            "conv2 (Conv2D)               (None, 20, 20, 128)       802944    \n",
            "_________________________________________________________________\n",
            "bn2 (BatchNormalization)     (None, 20, 20, 128)       512       \n",
            "_________________________________________________________________\n",
            "activation_16 (Activation)   (None, 20, 20, 128)       0         \n",
            "_________________________________________________________________\n",
            "conv3 (Conv2D)               (None, 14, 14, 128)       802944    \n",
            "_________________________________________________________________\n",
            "bn3 (BatchNormalization)     (None, 14, 14, 128)       512       \n",
            "_________________________________________________________________\n",
            "activation_17 (Activation)   (None, 14, 14, 128)       0         \n",
            "_________________________________________________________________\n",
            "conv4 (Conv2D)               (None, 8, 8, 128)         802944    \n",
            "_________________________________________________________________\n",
            "bn4 (BatchNormalization)     (None, 8, 8, 128)         512       \n",
            "_________________________________________________________________\n",
            "activation_18 (Activation)   (None, 8, 8, 128)         0         \n",
            "_________________________________________________________________\n",
            "conv5 (Conv2D)               (None, 2, 2, 128)         802944    \n",
            "_________________________________________________________________\n",
            "bn5 (BatchNormalization)     (None, 2, 2, 128)         512       \n",
            "_________________________________________________________________\n",
            "activation_19 (Activation)   (None, 2, 2, 128)         0         \n",
            "_________________________________________________________________\n",
            "max_pool (MaxPooling2D)      (None, 1, 1, 128)         0         \n",
            "_________________________________________________________________\n",
            "flatten_10 (Flatten)         (None, 128)               0         \n",
            "_________________________________________________________________\n",
            "d1 (Dense)                   (None, 1024)              132096    \n",
            "_________________________________________________________________\n",
            "batch_normalization_1 (Batch (None, 1024)              4096      \n",
            "_________________________________________________________________\n",
            "d2 (Dense)                   (None, 256)               262400    \n",
            "_________________________________________________________________\n",
            "fc (Dense)                   (None, 10)                2570      \n",
            "=================================================================\n",
            "Total params: 4,437,898\n",
            "Trainable params: 4,434,314\n",
            "Non-trainable params: 3,584\n",
            "_________________________________________________________________\n"
          ],
          "name": "stdout"
        }
      ]
    },
    {
      "cell_type": "code",
      "metadata": {
        "id": "kJK-DlxRdTNH",
        "colab_type": "code",
        "colab": {}
      },
      "source": [
        "model.compile(\"adam\", \"categorical_crossentropy\", metrics = [\"accuracy\"])"
      ],
      "execution_count": 0,
      "outputs": []
    },
    {
      "cell_type": "code",
      "metadata": {
        "id": "un6y3-603YS2",
        "colab_type": "code",
        "colab": {
          "base_uri": "https://localhost:8080/",
          "height": 2514
        },
        "outputId": "1039c12b-5b15-4c63-c98e-6bc82b7c37e6"
      },
      "source": [
        "from IPython.display import SVG\n",
        "from keras.utils.vis_utils import model_to_dot\n",
        "\n",
        "plot_model(model, to_file='model.png')\n",
        "SVG(model_to_dot(model).create(prog='dot', format='svg'))\n"
      ],
      "execution_count": 56,
      "outputs": [
        {
          "output_type": "execute_result",
          "data": {
            "text/plain": [
              "<IPython.core.display.SVG object>"
            ],
            "image/svg+xml": "<svg height=\"1870pt\" viewBox=\"0.00 0.00 279.00 1870.00\" width=\"279pt\" xmlns=\"http://www.w3.org/2000/svg\" xmlns:xlink=\"http://www.w3.org/1999/xlink\">\n<g class=\"graph\" id=\"graph0\" transform=\"scale(1 1) rotate(0) translate(4 1866)\">\n<title>G</title>\n<polygon fill=\"#ffffff\" points=\"-4,4 -4,-1866 275,-1866 275,4 -4,4\" stroke=\"transparent\"/>\n<!-- 139695159849424 -->\n<g class=\"node\" id=\"node1\">\n<title>139695159849424</title>\n<polygon fill=\"none\" points=\"65.5,-1825.5 65.5,-1861.5 205.5,-1861.5 205.5,-1825.5 65.5,-1825.5\" stroke=\"#000000\"/>\n<text fill=\"#000000\" font-family=\"Times,serif\" font-size=\"14.00\" text-anchor=\"middle\" x=\"135.5\" y=\"-1839.8\">input_10: InputLayer</text>\n</g>\n<!-- 139695159850824 -->\n<g class=\"node\" id=\"node2\">\n<title>139695159850824</title>\n<polygon fill=\"none\" points=\"19,-1752.5 19,-1788.5 252,-1788.5 252,-1752.5 19,-1752.5\" stroke=\"#000000\"/>\n<text fill=\"#000000\" font-family=\"Times,serif\" font-size=\"14.00\" text-anchor=\"middle\" x=\"135.5\" y=\"-1766.8\">zero_padding2d_10: ZeroPadding2D</text>\n</g>\n<!-- 139695159849424&#45;&gt;139695159850824 -->\n<g class=\"edge\" id=\"edge1\">\n<title>139695159849424-&gt;139695159850824</title>\n<path d=\"M135.5,-1825.4551C135.5,-1817.3828 135.5,-1807.6764 135.5,-1798.6817\" fill=\"none\" stroke=\"#000000\"/>\n<polygon fill=\"#000000\" points=\"139.0001,-1798.5903 135.5,-1788.5904 132.0001,-1798.5904 139.0001,-1798.5903\" stroke=\"#000000\"/>\n</g>\n<!-- 139695159849872 -->\n<g class=\"node\" id=\"node3\">\n<title>139695159849872</title>\n<polygon fill=\"none\" points=\"80.5,-1679.5 80.5,-1715.5 190.5,-1715.5 190.5,-1679.5 80.5,-1679.5\" stroke=\"#000000\"/>\n<text fill=\"#000000\" font-family=\"Times,serif\" font-size=\"14.00\" text-anchor=\"middle\" x=\"135.5\" y=\"-1693.8\">conv0: Conv2D</text>\n</g>\n<!-- 139695159850824&#45;&gt;139695159849872 -->\n<g class=\"edge\" id=\"edge2\">\n<title>139695159850824-&gt;139695159849872</title>\n<path d=\"M135.5,-1752.4551C135.5,-1744.3828 135.5,-1734.6764 135.5,-1725.6817\" fill=\"none\" stroke=\"#000000\"/>\n<polygon fill=\"#000000\" points=\"139.0001,-1725.5903 135.5,-1715.5904 132.0001,-1725.5904 139.0001,-1725.5903\" stroke=\"#000000\"/>\n</g>\n<!-- 139695159850264 -->\n<g class=\"node\" id=\"node4\">\n<title>139695159850264</title>\n<polygon fill=\"none\" points=\"55,-1606.5 55,-1642.5 216,-1642.5 216,-1606.5 55,-1606.5\" stroke=\"#000000\"/>\n<text fill=\"#000000\" font-family=\"Times,serif\" font-size=\"14.00\" text-anchor=\"middle\" x=\"135.5\" y=\"-1620.8\">bn0: BatchNormalization</text>\n</g>\n<!-- 139695159849872&#45;&gt;139695159850264 -->\n<g class=\"edge\" id=\"edge3\">\n<title>139695159849872-&gt;139695159850264</title>\n<path d=\"M135.5,-1679.4551C135.5,-1671.3828 135.5,-1661.6764 135.5,-1652.6817\" fill=\"none\" stroke=\"#000000\"/>\n<polygon fill=\"#000000\" points=\"139.0001,-1652.5903 135.5,-1642.5904 132.0001,-1652.5904 139.0001,-1652.5903\" stroke=\"#000000\"/>\n</g>\n<!-- 139695159852056 -->\n<g class=\"node\" id=\"node5\">\n<title>139695159852056</title>\n<polygon fill=\"none\" points=\"55,-1533.5 55,-1569.5 216,-1569.5 216,-1533.5 55,-1533.5\" stroke=\"#000000\"/>\n<text fill=\"#000000\" font-family=\"Times,serif\" font-size=\"14.00\" text-anchor=\"middle\" x=\"135.5\" y=\"-1547.8\">activation_14: Activation</text>\n</g>\n<!-- 139695159850264&#45;&gt;139695159852056 -->\n<g class=\"edge\" id=\"edge4\">\n<title>139695159850264-&gt;139695159852056</title>\n<path d=\"M135.5,-1606.4551C135.5,-1598.3828 135.5,-1588.6764 135.5,-1579.6817\" fill=\"none\" stroke=\"#000000\"/>\n<polygon fill=\"#000000\" points=\"139.0001,-1579.5903 135.5,-1569.5904 132.0001,-1579.5904 139.0001,-1579.5903\" stroke=\"#000000\"/>\n</g>\n<!-- 139695159605344 -->\n<g class=\"node\" id=\"node6\">\n<title>139695159605344</title>\n<polygon fill=\"none\" points=\"80.5,-1460.5 80.5,-1496.5 190.5,-1496.5 190.5,-1460.5 80.5,-1460.5\" stroke=\"#000000\"/>\n<text fill=\"#000000\" font-family=\"Times,serif\" font-size=\"14.00\" text-anchor=\"middle\" x=\"135.5\" y=\"-1474.8\">conv1: Conv2D</text>\n</g>\n<!-- 139695159852056&#45;&gt;139695159605344 -->\n<g class=\"edge\" id=\"edge5\">\n<title>139695159852056-&gt;139695159605344</title>\n<path d=\"M135.5,-1533.4551C135.5,-1525.3828 135.5,-1515.6764 135.5,-1506.6817\" fill=\"none\" stroke=\"#000000\"/>\n<polygon fill=\"#000000\" points=\"139.0001,-1506.5903 135.5,-1496.5904 132.0001,-1506.5904 139.0001,-1506.5903\" stroke=\"#000000\"/>\n</g>\n<!-- 139695159553048 -->\n<g class=\"node\" id=\"node7\">\n<title>139695159553048</title>\n<polygon fill=\"none\" points=\"55,-1387.5 55,-1423.5 216,-1423.5 216,-1387.5 55,-1387.5\" stroke=\"#000000\"/>\n<text fill=\"#000000\" font-family=\"Times,serif\" font-size=\"14.00\" text-anchor=\"middle\" x=\"135.5\" y=\"-1401.8\">bn1: BatchNormalization</text>\n</g>\n<!-- 139695159605344&#45;&gt;139695159553048 -->\n<g class=\"edge\" id=\"edge6\">\n<title>139695159605344-&gt;139695159553048</title>\n<path d=\"M135.5,-1460.4551C135.5,-1452.3828 135.5,-1442.6764 135.5,-1433.6817\" fill=\"none\" stroke=\"#000000\"/>\n<polygon fill=\"#000000\" points=\"139.0001,-1433.5903 135.5,-1423.5904 132.0001,-1433.5904 139.0001,-1433.5903\" stroke=\"#000000\"/>\n</g>\n<!-- 139697349697376 -->\n<g class=\"node\" id=\"node8\">\n<title>139697349697376</title>\n<polygon fill=\"none\" points=\"55,-1314.5 55,-1350.5 216,-1350.5 216,-1314.5 55,-1314.5\" stroke=\"#000000\"/>\n<text fill=\"#000000\" font-family=\"Times,serif\" font-size=\"14.00\" text-anchor=\"middle\" x=\"135.5\" y=\"-1328.8\">activation_15: Activation</text>\n</g>\n<!-- 139695159553048&#45;&gt;139697349697376 -->\n<g class=\"edge\" id=\"edge7\">\n<title>139695159553048-&gt;139697349697376</title>\n<path d=\"M135.5,-1387.4551C135.5,-1379.3828 135.5,-1369.6764 135.5,-1360.6817\" fill=\"none\" stroke=\"#000000\"/>\n<polygon fill=\"#000000\" points=\"139.0001,-1360.5903 135.5,-1350.5904 132.0001,-1360.5904 139.0001,-1360.5903\" stroke=\"#000000\"/>\n</g>\n<!-- 139695168679384 -->\n<g class=\"node\" id=\"node9\">\n<title>139695168679384</title>\n<polygon fill=\"none\" points=\"80.5,-1241.5 80.5,-1277.5 190.5,-1277.5 190.5,-1241.5 80.5,-1241.5\" stroke=\"#000000\"/>\n<text fill=\"#000000\" font-family=\"Times,serif\" font-size=\"14.00\" text-anchor=\"middle\" x=\"135.5\" y=\"-1255.8\">conv2: Conv2D</text>\n</g>\n<!-- 139697349697376&#45;&gt;139695168679384 -->\n<g class=\"edge\" id=\"edge8\">\n<title>139697349697376-&gt;139695168679384</title>\n<path d=\"M135.5,-1314.4551C135.5,-1306.3828 135.5,-1296.6764 135.5,-1287.6817\" fill=\"none\" stroke=\"#000000\"/>\n<polygon fill=\"#000000\" points=\"139.0001,-1287.5903 135.5,-1277.5904 132.0001,-1287.5904 139.0001,-1287.5903\" stroke=\"#000000\"/>\n</g>\n<!-- 139695160762664 -->\n<g class=\"node\" id=\"node10\">\n<title>139695160762664</title>\n<polygon fill=\"none\" points=\"55,-1168.5 55,-1204.5 216,-1204.5 216,-1168.5 55,-1168.5\" stroke=\"#000000\"/>\n<text fill=\"#000000\" font-family=\"Times,serif\" font-size=\"14.00\" text-anchor=\"middle\" x=\"135.5\" y=\"-1182.8\">bn2: BatchNormalization</text>\n</g>\n<!-- 139695168679384&#45;&gt;139695160762664 -->\n<g class=\"edge\" id=\"edge9\">\n<title>139695168679384-&gt;139695160762664</title>\n<path d=\"M135.5,-1241.4551C135.5,-1233.3828 135.5,-1223.6764 135.5,-1214.6817\" fill=\"none\" stroke=\"#000000\"/>\n<polygon fill=\"#000000\" points=\"139.0001,-1214.5903 135.5,-1204.5904 132.0001,-1214.5904 139.0001,-1214.5903\" stroke=\"#000000\"/>\n</g>\n<!-- 139695159878824 -->\n<g class=\"node\" id=\"node11\">\n<title>139695159878824</title>\n<polygon fill=\"none\" points=\"55,-1095.5 55,-1131.5 216,-1131.5 216,-1095.5 55,-1095.5\" stroke=\"#000000\"/>\n<text fill=\"#000000\" font-family=\"Times,serif\" font-size=\"14.00\" text-anchor=\"middle\" x=\"135.5\" y=\"-1109.8\">activation_16: Activation</text>\n</g>\n<!-- 139695160762664&#45;&gt;139695159878824 -->\n<g class=\"edge\" id=\"edge10\">\n<title>139695160762664-&gt;139695159878824</title>\n<path d=\"M135.5,-1168.4551C135.5,-1160.3828 135.5,-1150.6764 135.5,-1141.6817\" fill=\"none\" stroke=\"#000000\"/>\n<polygon fill=\"#000000\" points=\"139.0001,-1141.5903 135.5,-1131.5904 132.0001,-1141.5904 139.0001,-1141.5903\" stroke=\"#000000\"/>\n</g>\n<!-- 139695159380904 -->\n<g class=\"node\" id=\"node12\">\n<title>139695159380904</title>\n<polygon fill=\"none\" points=\"80.5,-1022.5 80.5,-1058.5 190.5,-1058.5 190.5,-1022.5 80.5,-1022.5\" stroke=\"#000000\"/>\n<text fill=\"#000000\" font-family=\"Times,serif\" font-size=\"14.00\" text-anchor=\"middle\" x=\"135.5\" y=\"-1036.8\">conv3: Conv2D</text>\n</g>\n<!-- 139695159878824&#45;&gt;139695159380904 -->\n<g class=\"edge\" id=\"edge11\">\n<title>139695159878824-&gt;139695159380904</title>\n<path d=\"M135.5,-1095.4551C135.5,-1087.3828 135.5,-1077.6764 135.5,-1068.6817\" fill=\"none\" stroke=\"#000000\"/>\n<polygon fill=\"#000000\" points=\"139.0001,-1068.5903 135.5,-1058.5904 132.0001,-1068.5904 139.0001,-1068.5903\" stroke=\"#000000\"/>\n</g>\n<!-- 139695160108368 -->\n<g class=\"node\" id=\"node13\">\n<title>139695160108368</title>\n<polygon fill=\"none\" points=\"55,-949.5 55,-985.5 216,-985.5 216,-949.5 55,-949.5\" stroke=\"#000000\"/>\n<text fill=\"#000000\" font-family=\"Times,serif\" font-size=\"14.00\" text-anchor=\"middle\" x=\"135.5\" y=\"-963.8\">bn3: BatchNormalization</text>\n</g>\n<!-- 139695159380904&#45;&gt;139695160108368 -->\n<g class=\"edge\" id=\"edge12\">\n<title>139695159380904-&gt;139695160108368</title>\n<path d=\"M135.5,-1022.4551C135.5,-1014.3828 135.5,-1004.6764 135.5,-995.6817\" fill=\"none\" stroke=\"#000000\"/>\n<polygon fill=\"#000000\" points=\"139.0001,-995.5903 135.5,-985.5904 132.0001,-995.5904 139.0001,-995.5903\" stroke=\"#000000\"/>\n</g>\n<!-- 139694505890144 -->\n<g class=\"node\" id=\"node14\">\n<title>139694505890144</title>\n<polygon fill=\"none\" points=\"55,-876.5 55,-912.5 216,-912.5 216,-876.5 55,-876.5\" stroke=\"#000000\"/>\n<text fill=\"#000000\" font-family=\"Times,serif\" font-size=\"14.00\" text-anchor=\"middle\" x=\"135.5\" y=\"-890.8\">activation_17: Activation</text>\n</g>\n<!-- 139695160108368&#45;&gt;139694505890144 -->\n<g class=\"edge\" id=\"edge13\">\n<title>139695160108368-&gt;139694505890144</title>\n<path d=\"M135.5,-949.4551C135.5,-941.3828 135.5,-931.6764 135.5,-922.6817\" fill=\"none\" stroke=\"#000000\"/>\n<polygon fill=\"#000000\" points=\"139.0001,-922.5903 135.5,-912.5904 132.0001,-922.5904 139.0001,-922.5903\" stroke=\"#000000\"/>\n</g>\n<!-- 139694505015280 -->\n<g class=\"node\" id=\"node15\">\n<title>139694505015280</title>\n<polygon fill=\"none\" points=\"80.5,-803.5 80.5,-839.5 190.5,-839.5 190.5,-803.5 80.5,-803.5\" stroke=\"#000000\"/>\n<text fill=\"#000000\" font-family=\"Times,serif\" font-size=\"14.00\" text-anchor=\"middle\" x=\"135.5\" y=\"-817.8\">conv4: Conv2D</text>\n</g>\n<!-- 139694505890144&#45;&gt;139694505015280 -->\n<g class=\"edge\" id=\"edge14\">\n<title>139694505890144-&gt;139694505015280</title>\n<path d=\"M135.5,-876.4551C135.5,-868.3828 135.5,-858.6764 135.5,-849.6817\" fill=\"none\" stroke=\"#000000\"/>\n<polygon fill=\"#000000\" points=\"139.0001,-849.5903 135.5,-839.5904 132.0001,-849.5904 139.0001,-849.5903\" stroke=\"#000000\"/>\n</g>\n<!-- 139694505105168 -->\n<g class=\"node\" id=\"node16\">\n<title>139694505105168</title>\n<polygon fill=\"none\" points=\"55,-730.5 55,-766.5 216,-766.5 216,-730.5 55,-730.5\" stroke=\"#000000\"/>\n<text fill=\"#000000\" font-family=\"Times,serif\" font-size=\"14.00\" text-anchor=\"middle\" x=\"135.5\" y=\"-744.8\">bn4: BatchNormalization</text>\n</g>\n<!-- 139694505015280&#45;&gt;139694505105168 -->\n<g class=\"edge\" id=\"edge15\">\n<title>139694505015280-&gt;139694505105168</title>\n<path d=\"M135.5,-803.4551C135.5,-795.3828 135.5,-785.6764 135.5,-776.6817\" fill=\"none\" stroke=\"#000000\"/>\n<polygon fill=\"#000000\" points=\"139.0001,-776.5903 135.5,-766.5904 132.0001,-776.5904 139.0001,-776.5903\" stroke=\"#000000\"/>\n</g>\n<!-- 139694504810144 -->\n<g class=\"node\" id=\"node17\">\n<title>139694504810144</title>\n<polygon fill=\"none\" points=\"55,-657.5 55,-693.5 216,-693.5 216,-657.5 55,-657.5\" stroke=\"#000000\"/>\n<text fill=\"#000000\" font-family=\"Times,serif\" font-size=\"14.00\" text-anchor=\"middle\" x=\"135.5\" y=\"-671.8\">activation_18: Activation</text>\n</g>\n<!-- 139694505105168&#45;&gt;139694504810144 -->\n<g class=\"edge\" id=\"edge16\">\n<title>139694505105168-&gt;139694504810144</title>\n<path d=\"M135.5,-730.4551C135.5,-722.3828 135.5,-712.6764 135.5,-703.6817\" fill=\"none\" stroke=\"#000000\"/>\n<polygon fill=\"#000000\" points=\"139.0001,-703.5903 135.5,-693.5904 132.0001,-703.5904 139.0001,-703.5903\" stroke=\"#000000\"/>\n</g>\n<!-- 139694503927880 -->\n<g class=\"node\" id=\"node18\">\n<title>139694503927880</title>\n<polygon fill=\"none\" points=\"80.5,-584.5 80.5,-620.5 190.5,-620.5 190.5,-584.5 80.5,-584.5\" stroke=\"#000000\"/>\n<text fill=\"#000000\" font-family=\"Times,serif\" font-size=\"14.00\" text-anchor=\"middle\" x=\"135.5\" y=\"-598.8\">conv5: Conv2D</text>\n</g>\n<!-- 139694504810144&#45;&gt;139694503927880 -->\n<g class=\"edge\" id=\"edge17\">\n<title>139694504810144-&gt;139694503927880</title>\n<path d=\"M135.5,-657.4551C135.5,-649.3828 135.5,-639.6764 135.5,-630.6817\" fill=\"none\" stroke=\"#000000\"/>\n<polygon fill=\"#000000\" points=\"139.0001,-630.5903 135.5,-620.5904 132.0001,-630.5904 139.0001,-630.5903\" stroke=\"#000000\"/>\n</g>\n<!-- 139694503722176 -->\n<g class=\"node\" id=\"node19\">\n<title>139694503722176</title>\n<polygon fill=\"none\" points=\"55,-511.5 55,-547.5 216,-547.5 216,-511.5 55,-511.5\" stroke=\"#000000\"/>\n<text fill=\"#000000\" font-family=\"Times,serif\" font-size=\"14.00\" text-anchor=\"middle\" x=\"135.5\" y=\"-525.8\">bn5: BatchNormalization</text>\n</g>\n<!-- 139694503927880&#45;&gt;139694503722176 -->\n<g class=\"edge\" id=\"edge18\">\n<title>139694503927880-&gt;139694503722176</title>\n<path d=\"M135.5,-584.4551C135.5,-576.3828 135.5,-566.6764 135.5,-557.6817\" fill=\"none\" stroke=\"#000000\"/>\n<polygon fill=\"#000000\" points=\"139.0001,-557.5903 135.5,-547.5904 132.0001,-557.5904 139.0001,-557.5903\" stroke=\"#000000\"/>\n</g>\n<!-- 139694503810160 -->\n<g class=\"node\" id=\"node20\">\n<title>139694503810160</title>\n<polygon fill=\"none\" points=\"55,-438.5 55,-474.5 216,-474.5 216,-438.5 55,-438.5\" stroke=\"#000000\"/>\n<text fill=\"#000000\" font-family=\"Times,serif\" font-size=\"14.00\" text-anchor=\"middle\" x=\"135.5\" y=\"-452.8\">activation_19: Activation</text>\n</g>\n<!-- 139694503722176&#45;&gt;139694503810160 -->\n<g class=\"edge\" id=\"edge19\">\n<title>139694503722176-&gt;139694503810160</title>\n<path d=\"M135.5,-511.4551C135.5,-503.3828 135.5,-493.6764 135.5,-484.6817\" fill=\"none\" stroke=\"#000000\"/>\n<polygon fill=\"#000000\" points=\"139.0001,-484.5903 135.5,-474.5904 132.0001,-484.5904 139.0001,-484.5903\" stroke=\"#000000\"/>\n</g>\n<!-- 139694502640272 -->\n<g class=\"node\" id=\"node21\">\n<title>139694502640272</title>\n<polygon fill=\"none\" points=\"49,-365.5 49,-401.5 222,-401.5 222,-365.5 49,-365.5\" stroke=\"#000000\"/>\n<text fill=\"#000000\" font-family=\"Times,serif\" font-size=\"14.00\" text-anchor=\"middle\" x=\"135.5\" y=\"-379.8\">max_pool: MaxPooling2D</text>\n</g>\n<!-- 139694503810160&#45;&gt;139694502640272 -->\n<g class=\"edge\" id=\"edge20\">\n<title>139694503810160-&gt;139694502640272</title>\n<path d=\"M135.5,-438.4551C135.5,-430.3828 135.5,-420.6764 135.5,-411.6817\" fill=\"none\" stroke=\"#000000\"/>\n<polygon fill=\"#000000\" points=\"139.0001,-411.5903 135.5,-401.5904 132.0001,-411.5904 139.0001,-411.5903\" stroke=\"#000000\"/>\n</g>\n<!-- 139694503354096 -->\n<g class=\"node\" id=\"node22\">\n<title>139694503354096</title>\n<polygon fill=\"none\" points=\"75,-292.5 75,-328.5 196,-328.5 196,-292.5 75,-292.5\" stroke=\"#000000\"/>\n<text fill=\"#000000\" font-family=\"Times,serif\" font-size=\"14.00\" text-anchor=\"middle\" x=\"135.5\" y=\"-306.8\">flatten_10: Flatten</text>\n</g>\n<!-- 139694502640272&#45;&gt;139694503354096 -->\n<g class=\"edge\" id=\"edge21\">\n<title>139694502640272-&gt;139694503354096</title>\n<path d=\"M135.5,-365.4551C135.5,-357.3828 135.5,-347.6764 135.5,-338.6817\" fill=\"none\" stroke=\"#000000\"/>\n<polygon fill=\"#000000\" points=\"139.0001,-338.5903 135.5,-328.5904 132.0001,-338.5904 139.0001,-338.5903\" stroke=\"#000000\"/>\n</g>\n<!-- 139694502931480 -->\n<g class=\"node\" id=\"node23\">\n<title>139694502931480</title>\n<polygon fill=\"none\" points=\"98.5,-219.5 98.5,-255.5 172.5,-255.5 172.5,-219.5 98.5,-219.5\" stroke=\"#000000\"/>\n<text fill=\"#000000\" font-family=\"Times,serif\" font-size=\"14.00\" text-anchor=\"middle\" x=\"135.5\" y=\"-233.8\">d1: Dense</text>\n</g>\n<!-- 139694503354096&#45;&gt;139694502931480 -->\n<g class=\"edge\" id=\"edge22\">\n<title>139694503354096-&gt;139694502931480</title>\n<path d=\"M135.5,-292.4551C135.5,-284.3828 135.5,-274.6764 135.5,-265.6817\" fill=\"none\" stroke=\"#000000\"/>\n<polygon fill=\"#000000\" points=\"139.0001,-265.5903 135.5,-255.5904 132.0001,-265.5904 139.0001,-265.5903\" stroke=\"#000000\"/>\n</g>\n<!-- 139694502264784 -->\n<g class=\"node\" id=\"node24\">\n<title>139694502264784</title>\n<polygon fill=\"none\" points=\"0,-146.5 0,-182.5 271,-182.5 271,-146.5 0,-146.5\" stroke=\"#000000\"/>\n<text fill=\"#000000\" font-family=\"Times,serif\" font-size=\"14.00\" text-anchor=\"middle\" x=\"135.5\" y=\"-160.8\">batch_normalization_1: BatchNormalization</text>\n</g>\n<!-- 139694502931480&#45;&gt;139694502264784 -->\n<g class=\"edge\" id=\"edge23\">\n<title>139694502931480-&gt;139694502264784</title>\n<path d=\"M135.5,-219.4551C135.5,-211.3828 135.5,-201.6764 135.5,-192.6817\" fill=\"none\" stroke=\"#000000\"/>\n<polygon fill=\"#000000\" points=\"139.0001,-192.5903 135.5,-182.5904 132.0001,-192.5904 139.0001,-192.5903\" stroke=\"#000000\"/>\n</g>\n<!-- 139694502263664 -->\n<g class=\"node\" id=\"node25\">\n<title>139694502263664</title>\n<polygon fill=\"none\" points=\"98.5,-73.5 98.5,-109.5 172.5,-109.5 172.5,-73.5 98.5,-73.5\" stroke=\"#000000\"/>\n<text fill=\"#000000\" font-family=\"Times,serif\" font-size=\"14.00\" text-anchor=\"middle\" x=\"135.5\" y=\"-87.8\">d2: Dense</text>\n</g>\n<!-- 139694502264784&#45;&gt;139694502263664 -->\n<g class=\"edge\" id=\"edge24\">\n<title>139694502264784-&gt;139694502263664</title>\n<path d=\"M135.5,-146.4551C135.5,-138.3828 135.5,-128.6764 135.5,-119.6817\" fill=\"none\" stroke=\"#000000\"/>\n<polygon fill=\"#000000\" points=\"139.0001,-119.5903 135.5,-109.5904 132.0001,-119.5904 139.0001,-119.5903\" stroke=\"#000000\"/>\n</g>\n<!-- 139694501423648 -->\n<g class=\"node\" id=\"node26\">\n<title>139694501423648</title>\n<polygon fill=\"none\" points=\"100.5,-.5 100.5,-36.5 170.5,-36.5 170.5,-.5 100.5,-.5\" stroke=\"#000000\"/>\n<text fill=\"#000000\" font-family=\"Times,serif\" font-size=\"14.00\" text-anchor=\"middle\" x=\"135.5\" y=\"-14.8\">fc: Dense</text>\n</g>\n<!-- 139694502263664&#45;&gt;139694501423648 -->\n<g class=\"edge\" id=\"edge25\">\n<title>139694502263664-&gt;139694501423648</title>\n<path d=\"M135.5,-73.4551C135.5,-65.3828 135.5,-55.6764 135.5,-46.6817\" fill=\"none\" stroke=\"#000000\"/>\n<polygon fill=\"#000000\" points=\"139.0001,-46.5903 135.5,-36.5904 132.0001,-46.5904 139.0001,-46.5903\" stroke=\"#000000\"/>\n</g>\n</g>\n</svg>"
          },
          "metadata": {
            "tags": []
          },
          "execution_count": 56
        }
      ]
    },
    {
      "cell_type": "code",
      "metadata": {
        "id": "_uMGABNxfWbN",
        "colab_type": "code",
        "colab": {
          "base_uri": "https://localhost:8080/",
          "height": 1037
        },
        "outputId": "67a07a13-8d0e-487b-f4c7-64973c24f8be"
      },
      "source": [
        "history = model.fit(X_train, y_train, epochs = 40, batch_size = 50, validation_data = (X_test, y_test))"
      ],
      "execution_count": 57,
      "outputs": [
        {
          "output_type": "stream",
          "text": [
            "Train on 50000 samples, validate on 10000 samples\n",
            "Epoch 1/40\n",
            "50000/50000 [==============================] - 51s 1ms/step - loss: 1.7444 - acc: 0.3794 - val_loss: 2.1436 - val_acc: 0.3544\n",
            "Epoch 2/40\n",
            "50000/50000 [==============================] - 49s 983us/step - loss: 1.3015 - acc: 0.5369 - val_loss: 2.7981 - val_acc: 0.3232\n",
            "Epoch 3/40\n",
            "50000/50000 [==============================] - 50s 1000us/step - loss: 1.0947 - acc: 0.6159 - val_loss: 1.4028 - val_acc: 0.5158\n",
            "Epoch 4/40\n",
            "50000/50000 [==============================] - 51s 1ms/step - loss: 0.9368 - acc: 0.6715 - val_loss: 1.1350 - val_acc: 0.6036\n",
            "Epoch 5/40\n",
            "50000/50000 [==============================] - 51s 1ms/step - loss: 0.8172 - acc: 0.7166 - val_loss: 1.1764 - val_acc: 0.5947\n",
            "Epoch 6/40\n",
            "50000/50000 [==============================] - 51s 1ms/step - loss: 0.7268 - acc: 0.7485 - val_loss: 0.9001 - val_acc: 0.6952\n",
            "Epoch 7/40\n",
            "50000/50000 [==============================] - 52s 1ms/step - loss: 0.6450 - acc: 0.7750 - val_loss: 1.1831 - val_acc: 0.6180\n",
            "Epoch 8/40\n",
            "50000/50000 [==============================] - 52s 1ms/step - loss: 0.5761 - acc: 0.8022 - val_loss: 0.8616 - val_acc: 0.7093\n",
            "Epoch 9/40\n",
            "50000/50000 [==============================] - 52s 1ms/step - loss: 0.5123 - acc: 0.8218 - val_loss: 0.7960 - val_acc: 0.7371\n",
            "Epoch 10/40\n",
            "50000/50000 [==============================] - 52s 1ms/step - loss: 0.4490 - acc: 0.8450 - val_loss: 1.0121 - val_acc: 0.6834\n",
            "Epoch 11/40\n",
            "50000/50000 [==============================] - 52s 1ms/step - loss: 0.3977 - acc: 0.8625 - val_loss: 0.9043 - val_acc: 0.7275\n",
            "Epoch 12/40\n",
            "50000/50000 [==============================] - 51s 1ms/step - loss: 0.3504 - acc: 0.8788 - val_loss: 1.0739 - val_acc: 0.6851\n",
            "Epoch 13/40\n",
            "50000/50000 [==============================] - 52s 1ms/step - loss: 0.3014 - acc: 0.8961 - val_loss: 0.8709 - val_acc: 0.7491\n",
            "Epoch 14/40\n",
            "50000/50000 [==============================] - 52s 1ms/step - loss: 0.2646 - acc: 0.9089 - val_loss: 0.9360 - val_acc: 0.7307\n",
            "Epoch 15/40\n",
            "50000/50000 [==============================] - 51s 1ms/step - loss: 0.2306 - acc: 0.9187 - val_loss: 0.9327 - val_acc: 0.7349\n",
            "Epoch 16/40\n",
            "50000/50000 [==============================] - 52s 1ms/step - loss: 0.2030 - acc: 0.9296 - val_loss: 0.9234 - val_acc: 0.7387\n",
            "Epoch 17/40\n",
            "50000/50000 [==============================] - 52s 1ms/step - loss: 0.1830 - acc: 0.9362 - val_loss: 0.8280 - val_acc: 0.7731\n",
            "Epoch 18/40\n",
            "50000/50000 [==============================] - 52s 1ms/step - loss: 0.1569 - acc: 0.9461 - val_loss: 0.9052 - val_acc: 0.7665\n",
            "Epoch 19/40\n",
            "50000/50000 [==============================] - 52s 1ms/step - loss: 0.1439 - acc: 0.9506 - val_loss: 1.2533 - val_acc: 0.7056\n",
            "Epoch 20/40\n",
            "50000/50000 [==============================] - 52s 1ms/step - loss: 0.1338 - acc: 0.9538 - val_loss: 1.0001 - val_acc: 0.7536\n",
            "Epoch 21/40\n",
            "49950/50000 [============================>.] - ETA: 0s - loss: 0.1164 - acc: 0.9592"
          ],
          "name": "stdout"
        },
        {
          "output_type": "error",
          "ename": "KeyboardInterrupt",
          "evalue": "ignored",
          "traceback": [
            "\u001b[0;31m---------------------------------------------------------------------------\u001b[0m",
            "\u001b[0;31mKeyboardInterrupt\u001b[0m                         Traceback (most recent call last)",
            "\u001b[0;32m<ipython-input-57-7b5f5c6201b7>\u001b[0m in \u001b[0;36m<module>\u001b[0;34m()\u001b[0m\n\u001b[0;32m----> 1\u001b[0;31m \u001b[0mmodel\u001b[0m\u001b[0;34m.\u001b[0m\u001b[0mfit\u001b[0m\u001b[0;34m(\u001b[0m\u001b[0mX_train\u001b[0m\u001b[0;34m,\u001b[0m \u001b[0my_train\u001b[0m\u001b[0;34m,\u001b[0m \u001b[0mepochs\u001b[0m \u001b[0;34m=\u001b[0m \u001b[0;36m40\u001b[0m\u001b[0;34m,\u001b[0m \u001b[0mbatch_size\u001b[0m \u001b[0;34m=\u001b[0m \u001b[0;36m50\u001b[0m\u001b[0;34m,\u001b[0m \u001b[0mvalidation_data\u001b[0m \u001b[0;34m=\u001b[0m \u001b[0;34m(\u001b[0m\u001b[0mX_test\u001b[0m\u001b[0;34m,\u001b[0m \u001b[0my_test\u001b[0m\u001b[0;34m)\u001b[0m\u001b[0;34m)\u001b[0m\u001b[0;34m\u001b[0m\u001b[0;34m\u001b[0m\u001b[0m\n\u001b[0m",
            "\u001b[0;32m/usr/local/lib/python3.6/dist-packages/keras/engine/training.py\u001b[0m in \u001b[0;36mfit\u001b[0;34m(self, x, y, batch_size, epochs, verbose, callbacks, validation_split, validation_data, shuffle, class_weight, sample_weight, initial_epoch, steps_per_epoch, validation_steps, **kwargs)\u001b[0m\n\u001b[1;32m   1037\u001b[0m                                         \u001b[0minitial_epoch\u001b[0m\u001b[0;34m=\u001b[0m\u001b[0minitial_epoch\u001b[0m\u001b[0;34m,\u001b[0m\u001b[0;34m\u001b[0m\u001b[0;34m\u001b[0m\u001b[0m\n\u001b[1;32m   1038\u001b[0m                                         \u001b[0msteps_per_epoch\u001b[0m\u001b[0;34m=\u001b[0m\u001b[0msteps_per_epoch\u001b[0m\u001b[0;34m,\u001b[0m\u001b[0;34m\u001b[0m\u001b[0;34m\u001b[0m\u001b[0m\n\u001b[0;32m-> 1039\u001b[0;31m                                         validation_steps=validation_steps)\n\u001b[0m\u001b[1;32m   1040\u001b[0m \u001b[0;34m\u001b[0m\u001b[0m\n\u001b[1;32m   1041\u001b[0m     def evaluate(self, x=None, y=None,\n",
            "\u001b[0;32m/usr/local/lib/python3.6/dist-packages/keras/engine/training_arrays.py\u001b[0m in \u001b[0;36mfit_loop\u001b[0;34m(model, f, ins, out_labels, batch_size, epochs, verbose, callbacks, val_f, val_ins, shuffle, callback_metrics, initial_epoch, steps_per_epoch, validation_steps)\u001b[0m\n\u001b[1;32m    210\u001b[0m                         val_outs = test_loop(model, val_f, val_ins,\n\u001b[1;32m    211\u001b[0m                                              \u001b[0mbatch_size\u001b[0m\u001b[0;34m=\u001b[0m\u001b[0mbatch_size\u001b[0m\u001b[0;34m,\u001b[0m\u001b[0;34m\u001b[0m\u001b[0;34m\u001b[0m\u001b[0m\n\u001b[0;32m--> 212\u001b[0;31m                                              verbose=0)\n\u001b[0m\u001b[1;32m    213\u001b[0m                         \u001b[0mval_outs\u001b[0m \u001b[0;34m=\u001b[0m \u001b[0mto_list\u001b[0m\u001b[0;34m(\u001b[0m\u001b[0mval_outs\u001b[0m\u001b[0;34m)\u001b[0m\u001b[0;34m\u001b[0m\u001b[0;34m\u001b[0m\u001b[0m\n\u001b[1;32m    214\u001b[0m                         \u001b[0;31m# Same labels assumed.\u001b[0m\u001b[0;34m\u001b[0m\u001b[0;34m\u001b[0m\u001b[0;34m\u001b[0m\u001b[0m\n",
            "\u001b[0;32m/usr/local/lib/python3.6/dist-packages/keras/engine/training_arrays.py\u001b[0m in \u001b[0;36mtest_loop\u001b[0;34m(model, f, ins, batch_size, verbose, steps)\u001b[0m\n\u001b[1;32m    390\u001b[0m                 \u001b[0mins_batch\u001b[0m\u001b[0;34m[\u001b[0m\u001b[0mi\u001b[0m\u001b[0;34m]\u001b[0m \u001b[0;34m=\u001b[0m \u001b[0mins_batch\u001b[0m\u001b[0;34m[\u001b[0m\u001b[0mi\u001b[0m\u001b[0;34m]\u001b[0m\u001b[0;34m.\u001b[0m\u001b[0mtoarray\u001b[0m\u001b[0;34m(\u001b[0m\u001b[0;34m)\u001b[0m\u001b[0;34m\u001b[0m\u001b[0;34m\u001b[0m\u001b[0m\n\u001b[1;32m    391\u001b[0m \u001b[0;34m\u001b[0m\u001b[0m\n\u001b[0;32m--> 392\u001b[0;31m             \u001b[0mbatch_outs\u001b[0m \u001b[0;34m=\u001b[0m \u001b[0mf\u001b[0m\u001b[0;34m(\u001b[0m\u001b[0mins_batch\u001b[0m\u001b[0;34m)\u001b[0m\u001b[0;34m\u001b[0m\u001b[0;34m\u001b[0m\u001b[0m\n\u001b[0m\u001b[1;32m    393\u001b[0m             \u001b[0;32mif\u001b[0m \u001b[0misinstance\u001b[0m\u001b[0;34m(\u001b[0m\u001b[0mbatch_outs\u001b[0m\u001b[0;34m,\u001b[0m \u001b[0mlist\u001b[0m\u001b[0;34m)\u001b[0m\u001b[0;34m:\u001b[0m\u001b[0;34m\u001b[0m\u001b[0;34m\u001b[0m\u001b[0m\n\u001b[1;32m    394\u001b[0m                 \u001b[0;32mif\u001b[0m \u001b[0mbatch_index\u001b[0m \u001b[0;34m==\u001b[0m \u001b[0;36m0\u001b[0m\u001b[0;34m:\u001b[0m\u001b[0;34m\u001b[0m\u001b[0;34m\u001b[0m\u001b[0m\n",
            "\u001b[0;32m/usr/local/lib/python3.6/dist-packages/keras/backend/tensorflow_backend.py\u001b[0m in \u001b[0;36m__call__\u001b[0;34m(self, inputs)\u001b[0m\n\u001b[1;32m   2713\u001b[0m                 \u001b[0;32mreturn\u001b[0m \u001b[0mself\u001b[0m\u001b[0;34m.\u001b[0m\u001b[0m_legacy_call\u001b[0m\u001b[0;34m(\u001b[0m\u001b[0minputs\u001b[0m\u001b[0;34m)\u001b[0m\u001b[0;34m\u001b[0m\u001b[0;34m\u001b[0m\u001b[0m\n\u001b[1;32m   2714\u001b[0m \u001b[0;34m\u001b[0m\u001b[0m\n\u001b[0;32m-> 2715\u001b[0;31m             \u001b[0;32mreturn\u001b[0m \u001b[0mself\u001b[0m\u001b[0;34m.\u001b[0m\u001b[0m_call\u001b[0m\u001b[0;34m(\u001b[0m\u001b[0minputs\u001b[0m\u001b[0;34m)\u001b[0m\u001b[0;34m\u001b[0m\u001b[0;34m\u001b[0m\u001b[0m\n\u001b[0m\u001b[1;32m   2716\u001b[0m         \u001b[0;32melse\u001b[0m\u001b[0;34m:\u001b[0m\u001b[0;34m\u001b[0m\u001b[0;34m\u001b[0m\u001b[0m\n\u001b[1;32m   2717\u001b[0m             \u001b[0;32mif\u001b[0m \u001b[0mpy_any\u001b[0m\u001b[0;34m(\u001b[0m\u001b[0mis_tensor\u001b[0m\u001b[0;34m(\u001b[0m\u001b[0mx\u001b[0m\u001b[0;34m)\u001b[0m \u001b[0;32mfor\u001b[0m \u001b[0mx\u001b[0m \u001b[0;32min\u001b[0m \u001b[0minputs\u001b[0m\u001b[0;34m)\u001b[0m\u001b[0;34m:\u001b[0m\u001b[0;34m\u001b[0m\u001b[0;34m\u001b[0m\u001b[0m\n",
            "\u001b[0;32m/usr/local/lib/python3.6/dist-packages/keras/backend/tensorflow_backend.py\u001b[0m in \u001b[0;36m_call\u001b[0;34m(self, inputs)\u001b[0m\n\u001b[1;32m   2673\u001b[0m             \u001b[0mfetched\u001b[0m \u001b[0;34m=\u001b[0m \u001b[0mself\u001b[0m\u001b[0;34m.\u001b[0m\u001b[0m_callable_fn\u001b[0m\u001b[0;34m(\u001b[0m\u001b[0;34m*\u001b[0m\u001b[0marray_vals\u001b[0m\u001b[0;34m,\u001b[0m \u001b[0mrun_metadata\u001b[0m\u001b[0;34m=\u001b[0m\u001b[0mself\u001b[0m\u001b[0;34m.\u001b[0m\u001b[0mrun_metadata\u001b[0m\u001b[0;34m)\u001b[0m\u001b[0;34m\u001b[0m\u001b[0;34m\u001b[0m\u001b[0m\n\u001b[1;32m   2674\u001b[0m         \u001b[0;32melse\u001b[0m\u001b[0;34m:\u001b[0m\u001b[0;34m\u001b[0m\u001b[0;34m\u001b[0m\u001b[0m\n\u001b[0;32m-> 2675\u001b[0;31m             \u001b[0mfetched\u001b[0m \u001b[0;34m=\u001b[0m \u001b[0mself\u001b[0m\u001b[0;34m.\u001b[0m\u001b[0m_callable_fn\u001b[0m\u001b[0;34m(\u001b[0m\u001b[0;34m*\u001b[0m\u001b[0marray_vals\u001b[0m\u001b[0;34m)\u001b[0m\u001b[0;34m\u001b[0m\u001b[0;34m\u001b[0m\u001b[0m\n\u001b[0m\u001b[1;32m   2676\u001b[0m         \u001b[0;32mreturn\u001b[0m \u001b[0mfetched\u001b[0m\u001b[0;34m[\u001b[0m\u001b[0;34m:\u001b[0m\u001b[0mlen\u001b[0m\u001b[0;34m(\u001b[0m\u001b[0mself\u001b[0m\u001b[0;34m.\u001b[0m\u001b[0moutputs\u001b[0m\u001b[0;34m)\u001b[0m\u001b[0;34m]\u001b[0m\u001b[0;34m\u001b[0m\u001b[0;34m\u001b[0m\u001b[0m\n\u001b[1;32m   2677\u001b[0m \u001b[0;34m\u001b[0m\u001b[0m\n",
            "\u001b[0;32m/usr/local/lib/python3.6/dist-packages/tensorflow/python/client/session.py\u001b[0m in \u001b[0;36m__call__\u001b[0;34m(self, *args, **kwargs)\u001b[0m\n\u001b[1;32m   1437\u001b[0m           ret = tf_session.TF_SessionRunCallable(\n\u001b[1;32m   1438\u001b[0m               \u001b[0mself\u001b[0m\u001b[0;34m.\u001b[0m\u001b[0m_session\u001b[0m\u001b[0;34m.\u001b[0m\u001b[0m_session\u001b[0m\u001b[0;34m,\u001b[0m \u001b[0mself\u001b[0m\u001b[0;34m.\u001b[0m\u001b[0m_handle\u001b[0m\u001b[0;34m,\u001b[0m \u001b[0margs\u001b[0m\u001b[0;34m,\u001b[0m \u001b[0mstatus\u001b[0m\u001b[0;34m,\u001b[0m\u001b[0;34m\u001b[0m\u001b[0;34m\u001b[0m\u001b[0m\n\u001b[0;32m-> 1439\u001b[0;31m               run_metadata_ptr)\n\u001b[0m\u001b[1;32m   1440\u001b[0m         \u001b[0;32mif\u001b[0m \u001b[0mrun_metadata\u001b[0m\u001b[0;34m:\u001b[0m\u001b[0;34m\u001b[0m\u001b[0;34m\u001b[0m\u001b[0m\n\u001b[1;32m   1441\u001b[0m           \u001b[0mproto_data\u001b[0m \u001b[0;34m=\u001b[0m \u001b[0mtf_session\u001b[0m\u001b[0;34m.\u001b[0m\u001b[0mTF_GetBuffer\u001b[0m\u001b[0;34m(\u001b[0m\u001b[0mrun_metadata_ptr\u001b[0m\u001b[0;34m)\u001b[0m\u001b[0;34m\u001b[0m\u001b[0;34m\u001b[0m\u001b[0m\n",
            "\u001b[0;31mKeyboardInterrupt\u001b[0m: "
          ]
        }
      ]
    },
    {
      "cell_type": "code",
      "metadata": {
        "id": "Yx44QNqgieqz",
        "colab_type": "code",
        "colab": {}
      },
      "source": [
        ""
      ],
      "execution_count": 0,
      "outputs": []
    },
    {
      "cell_type": "code",
      "metadata": {
        "id": "I7ftxAlClKEO",
        "colab_type": "code",
        "colab": {}
      },
      "source": [
        ""
      ],
      "execution_count": 0,
      "outputs": []
    }
  ]
}
