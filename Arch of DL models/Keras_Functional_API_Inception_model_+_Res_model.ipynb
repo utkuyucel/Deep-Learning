{
  "nbformat": 4,
  "nbformat_minor": 0,
  "metadata": {
    "colab": {
      "name": "Keras Functional API  - Inception model + Res model",
      "version": "0.3.2",
      "provenance": [],
      "collapsed_sections": [],
      "include_colab_link": true
    },
    "kernelspec": {
      "name": "python3",
      "display_name": "Python 3"
    },
    "accelerator": "GPU"
  },
  "cells": [
    {
      "cell_type": "markdown",
      "metadata": {
        "id": "view-in-github",
        "colab_type": "text"
      },
      "source": [
        "<a href=\"https://colab.research.google.com/github/utkuyucel/Deep-Learning/blob/master/Keras_Functional_API_Inception_model_%2B_Res_model.ipynb\" target=\"_parent\"><img src=\"https://colab.research.google.com/assets/colab-badge.svg\" alt=\"Open In Colab\"/></a>"
      ]
    },
    {
      "cell_type": "code",
      "metadata": {
        "id": "cjlzilSZZ_9f",
        "colab_type": "code",
        "colab": {}
      },
      "source": [
        "import numpy as np\n",
        "from keras import layers\n",
        "from keras.layers import Dense, Input, Activation, ZeroPadding2D, BatchNormalization, Flatten, Conv2D, concatenate\n",
        "from keras.layers import AveragePooling2D, MaxPooling2D, Dropout, GlobalMaxPooling2D, GlobalAveragePooling2D\n",
        "from keras.models import Model, load_model\n",
        "from keras.preprocessing import image\n",
        "from keras.utils import layer_utils, to_categorical, plot_model\n",
        "import matplotlib.pyplot as plt\n",
        "from matplotlib.pyplot import imshow\n",
        "from keras.datasets import cifar10 \n",
        "import keras"
      ],
      "execution_count": 0,
      "outputs": []
    },
    {
      "cell_type": "code",
      "metadata": {
        "id": "wlhSFufca_re",
        "colab_type": "code",
        "colab": {}
      },
      "source": [
        "## THE DATASET PART ##\n",
        "(X_train, y_train),(X_test, y_test) = cifar10.load_data()\n",
        "\n",
        "X_train = X_train / 255.\n",
        "X_test = X_test / 255.\n",
        "\n",
        "X_train = X_train.astype(\"float32\")\n",
        "X_test = X_test.astype(\"float32\")\n",
        "\n",
        "y_train = to_categorical(y_train, 10)\n",
        "y_test = to_categorical(y_test, 10)\n"
      ],
      "execution_count": 0,
      "outputs": []
    },
    {
      "cell_type": "code",
      "metadata": {
        "id": "KO5MmZ0pbyKD",
        "colab_type": "code",
        "colab": {}
      },
      "source": [
        "## DEFINING THE MODEL ##\n",
        "\n",
        "def model(input_shape):\n",
        "  \n",
        "  X_input = Input(input_shape)\n",
        "  \n",
        "  X1 = Conv2D(64, (2,2), strides = (1,1),padding = \"same\", name = \"conv0\")(X_input)\n",
        "  X1 = BatchNormalization(axis = 3, name = \"bn0\")(X1)  \n",
        "  X1 = Activation(\"relu\")(X1)  \n",
        "  X1 = Conv2D(64, (3,3), strides = (1,1),padding = \"same\", name = \"conv1\")(X1) \n",
        "  X1 = BatchNormalization(axis = 3, name = \"bn1\")(X1) \n",
        "  X1 = Activation(\"relu\")(X1)\n",
        "  X1 = Conv2D(64, (2,2), strides = (1,1), padding = \"same\", name = \"conv2\")(X1)\n",
        "  X1 = BatchNormalization(axis = 3, name = \"bn2\")(X1)\n",
        "  X1 = Activation(\"relu\")(X1)\n",
        "  \n",
        "  X2 = Conv2D(64, (1,1), strides = (1,1),padding = \"same\", name = \"conv3\")(X_input)  \n",
        "  X2 = BatchNormalization(axis = 3, name = \"bn3\")(X2)\n",
        "  X2 = Activation(\"relu\")(X2) \n",
        "  X2 = Conv2D(64, (5,5), strides = (1,1),padding = \"same\", name = \"conv4\")(X2)  \n",
        "  X2 = BatchNormalization(axis = 3, name = \"bn4\")(X2)\n",
        "  X2 = Activation(\"relu\")(X2)\n",
        "  X2 = Conv2D(64, (5,5), strides = (1,1),padding = \"same\", name = \"conv5\")(X2)  \n",
        "  X2 = BatchNormalization(axis = 3, name = \"bn5\")(X2)\n",
        "  X2 = Activation(\"relu\")(X2)\n",
        "  \n",
        "  X3 = MaxPooling2D((1,1), strides = (1,1), name = \"max_pool0\")(X_input)\n",
        "  X3 = Conv2D(64, (5,5), strides = (1,1), padding = \"same\", name = \"conv6\")(X3)\n",
        "  X3 = BatchNormalization()(X3)\n",
        "  X3 = Activation(\"relu\")(X3)\n",
        "  \n",
        "  X = keras.layers.concatenate([X1,X2,X3])\n",
        "  \n",
        "  X4 = Conv2D(128, (5,5), strides = (1,1), padding = \"same\", name = \"conv7\")(X_input)\n",
        "  X4 = BatchNormalization()(X4)\n",
        "  X4 = Activation(\"relu\")(X4)\n",
        "  X5 = Conv2D(128, (4,4), strides = (1,1), padding = \"same\",name = \"conv8\" )(X4)\n",
        "  \n",
        "  Y2 = keras.layers.concatenate([X4,X5])\n",
        "  \n",
        "  top = keras.layers.concatenate([X,Y2])\n",
        "  \n",
        "  \n",
        "  X = Flatten()(top)\n",
        "  X = Dense(64, activation = \"relu\", name = \"d1\")(X)\n",
        "  X = BatchNormalization()(X)\n",
        "  \n",
        "  X = Dense(10, activation = \"softmax\", name = \"fc\")(X)\n",
        "  \n",
        "  \n",
        "  model = Model(inputs = X_input, outputs = X)\n",
        "  return model"
      ],
      "execution_count": 0,
      "outputs": []
    },
    {
      "cell_type": "code",
      "metadata": {
        "id": "xd8jF_Bcb6n-",
        "colab_type": "code",
        "colab": {}
      },
      "source": [
        "model = model(X_train.shape[1:])"
      ],
      "execution_count": 0,
      "outputs": []
    },
    {
      "cell_type": "code",
      "metadata": {
        "id": "KdOiHYHyjYX4",
        "colab_type": "code",
        "colab": {}
      },
      "source": [
        "from IPython.display import SVG\n",
        "from keras.utils.vis_utils import model_to_dot\n",
        "\n",
        "plot_model(model, to_file='model.png')\n",
        "SVG(model_to_dot(model).create(prog='dot', format='svg'))\n"
      ],
      "execution_count": 0,
      "outputs": []
    },
    {
      "cell_type": "code",
      "metadata": {
        "id": "THOZExn23z0t",
        "colab_type": "code",
        "colab": {}
      },
      "source": [
        "model.summary()"
      ],
      "execution_count": 0,
      "outputs": []
    },
    {
      "cell_type": "code",
      "metadata": {
        "id": "wlxzaGyU9Ldg",
        "colab_type": "code",
        "colab": {}
      },
      "source": [
        "model.save_weights(\"model.h5\")"
      ],
      "execution_count": 0,
      "outputs": []
    },
    {
      "cell_type": "code",
      "metadata": {
        "id": "kJK-DlxRdTNH",
        "colab_type": "code",
        "colab": {}
      },
      "source": [
        "model.compile(\"adam\", \"categorical_crossentropy\", metrics = [\"accuracy\"])"
      ],
      "execution_count": 0,
      "outputs": []
    },
    {
      "cell_type": "code",
      "metadata": {
        "id": "_uMGABNxfWbN",
        "colab_type": "code",
        "outputId": "26b0e9d5-96b4-426e-a1d9-1e8a52dc9550",
        "colab": {
          "base_uri": "https://localhost:8080/",
          "height": 136
        }
      },
      "source": [
        "history = model.fit(X_train, y_train, epochs = 3, batch_size = 50, validation_data = (X_test, y_test))"
      ],
      "execution_count": 109,
      "outputs": [
        {
          "output_type": "stream",
          "text": [
            "Train on 50000 samples, validate on 10000 samples\n",
            "Epoch 1/3\n",
            "50000/50000 [==============================] - 101s 2ms/step - loss: 0.8638 - acc: 0.6980 - val_loss: 1.1152 - val_acc: 0.6209\n",
            "Epoch 2/3\n",
            "50000/50000 [==============================] - 94s 2ms/step - loss: 0.7415 - acc: 0.7412 - val_loss: 1.4145 - val_acc: 0.5605\n",
            "Epoch 3/3\n",
            "50000/50000 [==============================] - 94s 2ms/step - loss: 0.7751 - acc: 0.7304 - val_loss: 1.1163 - val_acc: 0.6177\n"
          ],
          "name": "stdout"
        }
      ]
    },
    {
      "cell_type": "code",
      "metadata": {
        "id": "Yx44QNqgieqz",
        "colab_type": "code",
        "colab": {
          "base_uri": "https://localhost:8080/",
          "height": 573
        },
        "outputId": "59146f65-9b4c-4f5f-ab5d-a6bcec191e2e"
      },
      "source": [
        "# Plot training & validation accuracy values\n",
        "plt.plot(history.history['acc'])\n",
        "plt.plot(history.history['val_acc'])\n",
        "plt.title('Model accuracy')\n",
        "plt.ylabel('Accuracy')\n",
        "plt.xlabel('Epoch')\n",
        "plt.legend(['Train', 'Test'], loc='upper left')\n",
        "plt.show()\n",
        "\n",
        "# Plot training & validation loss values\n",
        "plt.plot(history.history['loss'])\n",
        "plt.plot(history.history['val_loss'])\n",
        "plt.title('Model loss')\n",
        "plt.ylabel('Loss')\n",
        "plt.xlabel('Epoch')\n",
        "plt.legend(['Train', 'Test'], loc='upper left')\n",
        "plt.show()"
      ],
      "execution_count": 104,
      "outputs": [
        {
          "output_type": "display_data",
          "data": {
            "image/png": "[encoded data removed]",
            "text/plain": [
              "<Figure size 432x288 with 1 Axes>"
            ]
          },
          "metadata": {
            "tags": []
          }
        },
        {
          "output_type": "display_data",
          "data": {
            "image/png": "[encoded data removed]",
            "text/plain": [
              "<Figure size 432x288 with 1 Axes>"
            ]
          },
          "metadata": {
            "tags": []
          }
        }
      ]
    },
    {
      "cell_type": "code",
      "metadata": {
        "id": "vIgZPRb-x6q6",
        "colab_type": "code",
        "colab": {}
      },
      "source": [
        "model.save(\"model.h5\")"
      ],
      "execution_count": 0,
      "outputs": []
    },
    {
      "cell_type": "code",
      "metadata": {
        "id": "cA3_mnBwx-26",
        "colab_type": "code",
        "colab": {}
      },
      "source": [
        ""
      ],
      "execution_count": 0,
      "outputs": []
    }
  ]
}
