{
  "nbformat": 4,
  "nbformat_minor": 0,
  "metadata": {
    "colab": {
      "name": "Remember: Simple is the best of all -> 84% accuracy",
      "version": "0.3.2",
      "provenance": [],
      "collapsed_sections": [],
      "include_colab_link": true
    },
    "kernelspec": {
      "name": "python3",
      "display_name": "Python 3"
    },
    "accelerator": "GPU"
  },
  "cells": [
    {
      "cell_type": "markdown",
      "metadata": {
        "id": "view-in-github",
        "colab_type": "text"
      },
      "source": [
        "<a href=\"https://colab.research.google.com/github/utkuyucel/Deep-Learning/blob/master/Remember_Simple_is_the_best_of_all_%3E_84_accuracy.ipynb\" target=\"_parent\"><img src=\"https://colab.research.google.com/assets/colab-badge.svg\" alt=\"Open In Colab\"/></a>"
      ]
    },
    {
      "cell_type": "code",
      "metadata": {
        "id": "z-5x-MfnGWIv",
        "colab_type": "code",
        "colab": {}
      },
      "source": [
        "from keras.layers import Conv2D,DepthwiseConv2D, MaxPooling2D, Flatten, Activation, Input, Dense, ZeroPadding2D, AveragePooling2D, BatchNormalization, Add, concatenate,Dropout\n",
        "from keras.models import Model, load_model\n",
        "from keras.utils import to_categorical, plot_model, layer_utils\n",
        "from matplotlib.pyplot import imshow\n",
        "from keras.datasets import cifar10\n",
        "from tensorboardcolab import *\n",
        "import keras\n",
        "import matplotlib.pyplot as plt\n",
        "import keras.backend as K\n",
        "\n",
        "#K.set_image_data_format(\"channels_last\")\n",
        "#K.set_learning_phase(1)"
      ],
      "execution_count": 0,
      "outputs": []
    },
    {
      "cell_type": "code",
      "metadata": {
        "id": "kQkFfc9mHMUY",
        "colab_type": "code",
        "colab": {}
      },
      "source": [
        "(X_train, y_train),(X_test, y_test) = cifar10.load_data()\n",
        "\n",
        "X_train = X_train.astype(\"float32\")\n",
        "X_test = X_test.astype(\"float32\")\n",
        "\n",
        "X_train /= 255.\n",
        "X_test /= 255.\n",
        "\n",
        "y_train = to_categorical(y_train,10)\n",
        "y_test = to_categorical(y_test,10)"
      ],
      "execution_count": 0,
      "outputs": []
    },
    {
      "cell_type": "code",
      "metadata": {
        "id": "ljVAM40OkUcp",
        "colab_type": "code",
        "colab": {}
      },
      "source": [
        "def res(X_input, F1):\n",
        "  \n",
        "  \n",
        "  X1 = Conv2D(F1, (3,3), strides = (1,1), padding = \"same\")(X_input)\n",
        "  X1 = BatchNormalization()(X1)\n",
        "  X1 = Activation(\"relu\")(X1)\n",
        "  \n",
        "  X2 = Conv2D(F1, (3,3), strides = (1,1), padding = \"same\")(X1)\n",
        "  X2 = BatchNormalization()(X2)\n",
        "  \n",
        "  C = keras.layers.concatenate([X1,X2])\n",
        "  \n",
        "  M = MaxPooling2D((2,2))(C)\n",
        "  \n",
        "  return M\n",
        "  \n",
        "  "
      ],
      "execution_count": 0,
      "outputs": []
    },
    {
      "cell_type": "code",
      "metadata": {
        "id": "S695dn-cGOp9",
        "colab_type": "code",
        "colab": {}
      },
      "source": [
        "def model(X_input = (32,32,3)):\n",
        "  \n",
        "  X_input = Input(X_input)\n",
        "  \n",
        "  X = res(X_input,64)\n",
        "  X = res(X,128)\n",
        "  X = res(X,256)\n",
        "  X = res(X,128)\n",
        "  \n",
        "  \n",
        "  X = Flatten()(X)\n",
        "  X = Dense(10, activation = \"softmax\")(X)\n",
        "  \n",
        "  model = Model(inputs = X_input, outputs = X)\n",
        "  \n",
        "  return model"
      ],
      "execution_count": 0,
      "outputs": []
    },
    {
      "cell_type": "code",
      "metadata": {
        "id": "n5BST8swamSA",
        "colab_type": "code",
        "colab": {}
      },
      "source": [
        "model = model((32,32,3))\n"
      ],
      "execution_count": 0,
      "outputs": []
    },
    {
      "cell_type": "code",
      "metadata": {
        "id": "Qc7OyVCKUSox",
        "colab_type": "code",
        "outputId": "a338838e-6564-49b8-a83c-a8e4d5706e8a",
        "colab": {
          "base_uri": "https://localhost:8080/",
          "height": 3001
        }
      },
      "source": [
        "from IPython.display import SVG\n",
        "from keras.utils.vis_utils import model_to_dot\n",
        "\n",
        "plot_model(model, to_file='model.png')\n",
        "SVG(model_to_dot(model).create(prog='dot', format='svg'))\n"
      ],
      "execution_count": 22,
      "outputs": [
        {
          "output_type": "execute_result",
          "data": {
            "text/plain": [
              "<IPython.core.display.SVG object>"
            ],
            "image/svg+xml": "<svg height=\"2235pt\" viewBox=\"0.00 0.00 406.00 2235.00\" width=\"406pt\" xmlns=\"http://www.w3.org/2000/svg\" xmlns:xlink=\"http://www.w3.org/1999/xlink\">\n<g class=\"graph\" id=\"graph0\" transform=\"scale(1 1) rotate(0) translate(4 2231)\">\n<title>G</title>\n<polygon fill=\"#ffffff\" points=\"-4,4 -4,-2231 402,-2231 402,4 -4,4\" stroke=\"transparent\"/>\n<!-- 140352021671104 -->\n<g class=\"node\" id=\"node1\">\n<title>140352021671104</title>\n<polygon fill=\"none\" points=\"192.5,-2190.5 192.5,-2226.5 325.5,-2226.5 325.5,-2190.5 192.5,-2190.5\" stroke=\"#000000\"/>\n<text fill=\"#000000\" font-family=\"Times,serif\" font-size=\"14.00\" text-anchor=\"middle\" x=\"259\" y=\"-2204.8\">input_4: InputLayer</text>\n</g>\n<!-- 140352021670656 -->\n<g class=\"node\" id=\"node2\">\n<title>140352021670656</title>\n<polygon fill=\"none\" points=\"189,-2117.5 189,-2153.5 329,-2153.5 329,-2117.5 189,-2117.5\" stroke=\"#000000\"/>\n<text fill=\"#000000\" font-family=\"Times,serif\" font-size=\"14.00\" text-anchor=\"middle\" x=\"259\" y=\"-2131.8\">conv2d_33: Conv2D</text>\n</g>\n<!-- 140352021671104&#45;&gt;140352021670656 -->\n<g class=\"edge\" id=\"edge1\">\n<title>140352021671104-&gt;140352021670656</title>\n<path d=\"M259,-2190.4551C259,-2182.3828 259,-2172.6764 259,-2163.6817\" fill=\"none\" stroke=\"#000000\"/>\n<polygon fill=\"#000000\" points=\"262.5001,-2163.5903 259,-2153.5904 255.5001,-2163.5904 262.5001,-2163.5903\" stroke=\"#000000\"/>\n</g>\n<!-- 140352021670320 -->\n<g class=\"node\" id=\"node3\">\n<title>140352021670320</title>\n<polygon fill=\"none\" points=\"120,-2044.5 120,-2080.5 398,-2080.5 398,-2044.5 120,-2044.5\" stroke=\"#000000\"/>\n<text fill=\"#000000\" font-family=\"Times,serif\" font-size=\"14.00\" text-anchor=\"middle\" x=\"259\" y=\"-2058.8\">batch_normalization_29: BatchNormalization</text>\n</g>\n<!-- 140352021670656&#45;&gt;140352021670320 -->\n<g class=\"edge\" id=\"edge2\">\n<title>140352021670656-&gt;140352021670320</title>\n<path d=\"M259,-2117.4551C259,-2109.3828 259,-2099.6764 259,-2090.6817\" fill=\"none\" stroke=\"#000000\"/>\n<polygon fill=\"#000000\" points=\"262.5001,-2090.5903 259,-2080.5904 255.5001,-2090.5904 262.5001,-2090.5903\" stroke=\"#000000\"/>\n</g>\n<!-- 140352021670152 -->\n<g class=\"node\" id=\"node4\">\n<title>140352021670152</title>\n<polygon fill=\"none\" points=\"178.5,-1971.5 178.5,-2007.5 339.5,-2007.5 339.5,-1971.5 178.5,-1971.5\" stroke=\"#000000\"/>\n<text fill=\"#000000\" font-family=\"Times,serif\" font-size=\"14.00\" text-anchor=\"middle\" x=\"259\" y=\"-1985.8\">activation_17: Activation</text>\n</g>\n<!-- 140352021670320&#45;&gt;140352021670152 -->\n<g class=\"edge\" id=\"edge3\">\n<title>140352021670320-&gt;140352021670152</title>\n<path d=\"M259,-2044.4551C259,-2036.3828 259,-2026.6764 259,-2017.6817\" fill=\"none\" stroke=\"#000000\"/>\n<polygon fill=\"#000000\" points=\"262.5001,-2017.5903 259,-2007.5904 255.5001,-2017.5904 262.5001,-2017.5903\" stroke=\"#000000\"/>\n</g>\n<!-- 140352021603328 -->\n<g class=\"node\" id=\"node5\">\n<title>140352021603328</title>\n<polygon fill=\"none\" points=\"106,-1898.5 106,-1934.5 246,-1934.5 246,-1898.5 106,-1898.5\" stroke=\"#000000\"/>\n<text fill=\"#000000\" font-family=\"Times,serif\" font-size=\"14.00\" text-anchor=\"middle\" x=\"176\" y=\"-1912.8\">conv2d_34: Conv2D</text>\n</g>\n<!-- 140352021670152&#45;&gt;140352021603328 -->\n<g class=\"edge\" id=\"edge4\">\n<title>140352021670152-&gt;140352021603328</title>\n<path d=\"M238.4831,-1971.4551C228.108,-1962.3299 215.3584,-1951.1165 204.0877,-1941.2036\" fill=\"none\" stroke=\"#000000\"/>\n<polygon fill=\"#000000\" points=\"206.3889,-1938.5665 196.5685,-1934.5904 201.7659,-1943.8228 206.3889,-1938.5665\" stroke=\"#000000\"/>\n</g>\n<!-- 140352020348544 -->\n<g class=\"node\" id=\"node7\">\n<title>140352020348544</title>\n<polygon fill=\"none\" points=\"137.5,-1752.5 137.5,-1788.5 312.5,-1788.5 312.5,-1752.5 137.5,-1752.5\" stroke=\"#000000\"/>\n<text fill=\"#000000\" font-family=\"Times,serif\" font-size=\"14.00\" text-anchor=\"middle\" x=\"225\" y=\"-1766.8\">concatenate_9: Concatenate</text>\n</g>\n<!-- 140352021670152&#45;&gt;140352020348544 -->\n<g class=\"edge\" id=\"edge6\">\n<title>140352021670152-&gt;140352020348544</title>\n<path d=\"M269.2892,-1971.3266C285.5531,-1940.0196 313.0995,-1874.5127 290,-1825 284.4976,-1813.2058 275.048,-1803.0598 265.0321,-1794.8294\" fill=\"none\" stroke=\"#000000\"/>\n<polygon fill=\"#000000\" points=\"267.0128,-1791.938 256.9428,-1788.6447 262.7611,-1797.499 267.0128,-1791.938\" stroke=\"#000000\"/>\n</g>\n<!-- 140352021744328 -->\n<g class=\"node\" id=\"node6\">\n<title>140352021744328</title>\n<polygon fill=\"none\" points=\"3,-1825.5 3,-1861.5 281,-1861.5 281,-1825.5 3,-1825.5\" stroke=\"#000000\"/>\n<text fill=\"#000000\" font-family=\"Times,serif\" font-size=\"14.00\" text-anchor=\"middle\" x=\"142\" y=\"-1839.8\">batch_normalization_30: BatchNormalization</text>\n</g>\n<!-- 140352021603328&#45;&gt;140352021744328 -->\n<g class=\"edge\" id=\"edge5\">\n<title>140352021603328-&gt;140352021744328</title>\n<path d=\"M167.5955,-1898.4551C163.7132,-1890.1196 159.0194,-1880.0416 154.717,-1870.8042\" fill=\"none\" stroke=\"#000000\"/>\n<polygon fill=\"#000000\" points=\"157.8205,-1869.1776 150.4256,-1861.5904 151.475,-1872.1331 157.8205,-1869.1776\" stroke=\"#000000\"/>\n</g>\n<!-- 140352021744328&#45;&gt;140352020348544 -->\n<g class=\"edge\" id=\"edge7\">\n<title>140352021744328-&gt;140352020348544</title>\n<path d=\"M162.5169,-1825.4551C172.892,-1816.3299 185.6416,-1805.1165 196.9123,-1795.2036\" fill=\"none\" stroke=\"#000000\"/>\n<polygon fill=\"#000000\" points=\"199.2341,-1797.8228 204.4315,-1788.5904 194.6111,-1792.5665 199.2341,-1797.8228\" stroke=\"#000000\"/>\n</g>\n<!-- 140352021968320 -->\n<g class=\"node\" id=\"node8\">\n<title>140352021968320</title>\n<polygon fill=\"none\" points=\"114.5,-1679.5 114.5,-1715.5 335.5,-1715.5 335.5,-1679.5 114.5,-1679.5\" stroke=\"#000000\"/>\n<text fill=\"#000000\" font-family=\"Times,serif\" font-size=\"14.00\" text-anchor=\"middle\" x=\"225\" y=\"-1693.8\">max_pooling2d_9: MaxPooling2D</text>\n</g>\n<!-- 140352020348544&#45;&gt;140352021968320 -->\n<g class=\"edge\" id=\"edge8\">\n<title>140352020348544-&gt;140352021968320</title>\n<path d=\"M225,-1752.4551C225,-1744.3828 225,-1734.6764 225,-1725.6817\" fill=\"none\" stroke=\"#000000\"/>\n<polygon fill=\"#000000\" points=\"228.5001,-1725.5903 225,-1715.5904 221.5001,-1725.5904 228.5001,-1725.5903\" stroke=\"#000000\"/>\n</g>\n<!-- 140352021968768 -->\n<g class=\"node\" id=\"node9\">\n<title>140352021968768</title>\n<polygon fill=\"none\" points=\"155,-1606.5 155,-1642.5 295,-1642.5 295,-1606.5 155,-1606.5\" stroke=\"#000000\"/>\n<text fill=\"#000000\" font-family=\"Times,serif\" font-size=\"14.00\" text-anchor=\"middle\" x=\"225\" y=\"-1620.8\">conv2d_35: Conv2D</text>\n</g>\n<!-- 140352021968320&#45;&gt;140352021968768 -->\n<g class=\"edge\" id=\"edge9\">\n<title>140352021968320-&gt;140352021968768</title>\n<path d=\"M225,-1679.4551C225,-1671.3828 225,-1661.6764 225,-1652.6817\" fill=\"none\" stroke=\"#000000\"/>\n<polygon fill=\"#000000\" points=\"228.5001,-1652.5903 225,-1642.5904 221.5001,-1652.5904 228.5001,-1652.5903\" stroke=\"#000000\"/>\n</g>\n<!-- 140352021708304 -->\n<g class=\"node\" id=\"node10\">\n<title>140352021708304</title>\n<polygon fill=\"none\" points=\"86,-1533.5 86,-1569.5 364,-1569.5 364,-1533.5 86,-1533.5\" stroke=\"#000000\"/>\n<text fill=\"#000000\" font-family=\"Times,serif\" font-size=\"14.00\" text-anchor=\"middle\" x=\"225\" y=\"-1547.8\">batch_normalization_31: BatchNormalization</text>\n</g>\n<!-- 140352021968768&#45;&gt;140352021708304 -->\n<g class=\"edge\" id=\"edge10\">\n<title>140352021968768-&gt;140352021708304</title>\n<path d=\"M225,-1606.4551C225,-1598.3828 225,-1588.6764 225,-1579.6817\" fill=\"none\" stroke=\"#000000\"/>\n<polygon fill=\"#000000\" points=\"228.5001,-1579.5903 225,-1569.5904 221.5001,-1579.5904 228.5001,-1579.5903\" stroke=\"#000000\"/>\n</g>\n<!-- 140352021722840 -->\n<g class=\"node\" id=\"node11\">\n<title>140352021722840</title>\n<polygon fill=\"none\" points=\"144.5,-1460.5 144.5,-1496.5 305.5,-1496.5 305.5,-1460.5 144.5,-1460.5\" stroke=\"#000000\"/>\n<text fill=\"#000000\" font-family=\"Times,serif\" font-size=\"14.00\" text-anchor=\"middle\" x=\"225\" y=\"-1474.8\">activation_18: Activation</text>\n</g>\n<!-- 140352021708304&#45;&gt;140352021722840 -->\n<g class=\"edge\" id=\"edge11\">\n<title>140352021708304-&gt;140352021722840</title>\n<path d=\"M225,-1533.4551C225,-1525.3828 225,-1515.6764 225,-1506.6817\" fill=\"none\" stroke=\"#000000\"/>\n<polygon fill=\"#000000\" points=\"228.5001,-1506.5903 225,-1496.5904 221.5001,-1506.5904 228.5001,-1506.5903\" stroke=\"#000000\"/>\n</g>\n<!-- 140352022465336 -->\n<g class=\"node\" id=\"node12\">\n<title>140352022465336</title>\n<polygon fill=\"none\" points=\"106,-1387.5 106,-1423.5 246,-1423.5 246,-1387.5 106,-1387.5\" stroke=\"#000000\"/>\n<text fill=\"#000000\" font-family=\"Times,serif\" font-size=\"14.00\" text-anchor=\"middle\" x=\"176\" y=\"-1401.8\">conv2d_36: Conv2D</text>\n</g>\n<!-- 140352021722840&#45;&gt;140352022465336 -->\n<g class=\"edge\" id=\"edge12\">\n<title>140352021722840-&gt;140352022465336</title>\n<path d=\"M212.8876,-1460.4551C207.1159,-1451.8564 200.0995,-1441.4034 193.7418,-1431.9316\" fill=\"none\" stroke=\"#000000\"/>\n<polygon fill=\"#000000\" points=\"196.6222,-1429.9427 188.1428,-1423.5904 190.8101,-1433.844 196.6222,-1429.9427\" stroke=\"#000000\"/>\n</g>\n<!-- 140352022750600 -->\n<g class=\"node\" id=\"node14\">\n<title>140352022750600</title>\n<polygon fill=\"none\" points=\"133,-1241.5 133,-1277.5 315,-1277.5 315,-1241.5 133,-1241.5\" stroke=\"#000000\"/>\n<text fill=\"#000000\" font-family=\"Times,serif\" font-size=\"14.00\" text-anchor=\"middle\" x=\"224\" y=\"-1255.8\">concatenate_10: Concatenate</text>\n</g>\n<!-- 140352021722840&#45;&gt;140352022750600 -->\n<g class=\"edge\" id=\"edge14\">\n<title>140352021722840-&gt;140352022750600</title>\n<path d=\"M241.7222,-1460.4087C267.9109,-1429.7689 313.2278,-1365.9313 289,-1314 283.4976,-1302.2058 274.048,-1292.0598 264.0321,-1283.8294\" fill=\"none\" stroke=\"#000000\"/>\n<polygon fill=\"#000000\" points=\"266.0128,-1280.938 255.9428,-1277.6447 261.7611,-1286.499 266.0128,-1280.938\" stroke=\"#000000\"/>\n</g>\n<!-- 140352022852384 -->\n<g class=\"node\" id=\"node13\">\n<title>140352022852384</title>\n<polygon fill=\"none\" points=\"2,-1314.5 2,-1350.5 280,-1350.5 280,-1314.5 2,-1314.5\" stroke=\"#000000\"/>\n<text fill=\"#000000\" font-family=\"Times,serif\" font-size=\"14.00\" text-anchor=\"middle\" x=\"141\" y=\"-1328.8\">batch_normalization_32: BatchNormalization</text>\n</g>\n<!-- 140352022465336&#45;&gt;140352022852384 -->\n<g class=\"edge\" id=\"edge13\">\n<title>140352022465336-&gt;140352022852384</title>\n<path d=\"M167.3483,-1387.4551C163.3519,-1379.1196 158.5199,-1369.0416 154.091,-1359.8042\" fill=\"none\" stroke=\"#000000\"/>\n<polygon fill=\"#000000\" points=\"157.1528,-1358.0944 149.6735,-1350.5904 150.8408,-1361.1207 157.1528,-1358.0944\" stroke=\"#000000\"/>\n</g>\n<!-- 140352022852384&#45;&gt;140352022750600 -->\n<g class=\"edge\" id=\"edge15\">\n<title>140352022852384-&gt;140352022750600</title>\n<path d=\"M161.5169,-1314.4551C171.892,-1305.3299 184.6416,-1294.1165 195.9123,-1284.2036\" fill=\"none\" stroke=\"#000000\"/>\n<polygon fill=\"#000000\" points=\"198.2341,-1286.8228 203.4315,-1277.5904 193.6111,-1281.5665 198.2341,-1286.8228\" stroke=\"#000000\"/>\n</g>\n<!-- 140352022445696 -->\n<g class=\"node\" id=\"node15\">\n<title>140352022445696</title>\n<polygon fill=\"none\" points=\"109.5,-1168.5 109.5,-1204.5 338.5,-1204.5 338.5,-1168.5 109.5,-1168.5\" stroke=\"#000000\"/>\n<text fill=\"#000000\" font-family=\"Times,serif\" font-size=\"14.00\" text-anchor=\"middle\" x=\"224\" y=\"-1182.8\">max_pooling2d_10: MaxPooling2D</text>\n</g>\n<!-- 140352022750600&#45;&gt;140352022445696 -->\n<g class=\"edge\" id=\"edge16\">\n<title>140352022750600-&gt;140352022445696</title>\n<path d=\"M224,-1241.4551C224,-1233.3828 224,-1223.6764 224,-1214.6817\" fill=\"none\" stroke=\"#000000\"/>\n<polygon fill=\"#000000\" points=\"227.5001,-1214.5903 224,-1204.5904 220.5001,-1214.5904 227.5001,-1214.5903\" stroke=\"#000000\"/>\n</g>\n<!-- 140352022445192 -->\n<g class=\"node\" id=\"node16\">\n<title>140352022445192</title>\n<polygon fill=\"none\" points=\"154,-1095.5 154,-1131.5 294,-1131.5 294,-1095.5 154,-1095.5\" stroke=\"#000000\"/>\n<text fill=\"#000000\" font-family=\"Times,serif\" font-size=\"14.00\" text-anchor=\"middle\" x=\"224\" y=\"-1109.8\">conv2d_37: Conv2D</text>\n</g>\n<!-- 140352022445696&#45;&gt;140352022445192 -->\n<g class=\"edge\" id=\"edge17\">\n<title>140352022445696-&gt;140352022445192</title>\n<path d=\"M224,-1168.4551C224,-1160.3828 224,-1150.6764 224,-1141.6817\" fill=\"none\" stroke=\"#000000\"/>\n<polygon fill=\"#000000\" points=\"227.5001,-1141.5903 224,-1131.5904 220.5001,-1141.5904 227.5001,-1141.5903\" stroke=\"#000000\"/>\n</g>\n<!-- 140352032804648 -->\n<g class=\"node\" id=\"node17\">\n<title>140352032804648</title>\n<polygon fill=\"none\" points=\"85,-1022.5 85,-1058.5 363,-1058.5 363,-1022.5 85,-1022.5\" stroke=\"#000000\"/>\n<text fill=\"#000000\" font-family=\"Times,serif\" font-size=\"14.00\" text-anchor=\"middle\" x=\"224\" y=\"-1036.8\">batch_normalization_33: BatchNormalization</text>\n</g>\n<!-- 140352022445192&#45;&gt;140352032804648 -->\n<g class=\"edge\" id=\"edge18\">\n<title>140352022445192-&gt;140352032804648</title>\n<path d=\"M224,-1095.4551C224,-1087.3828 224,-1077.6764 224,-1068.6817\" fill=\"none\" stroke=\"#000000\"/>\n<polygon fill=\"#000000\" points=\"227.5001,-1068.5903 224,-1058.5904 220.5001,-1068.5904 227.5001,-1068.5903\" stroke=\"#000000\"/>\n</g>\n<!-- 140352044806832 -->\n<g class=\"node\" id=\"node18\">\n<title>140352044806832</title>\n<polygon fill=\"none\" points=\"143.5,-949.5 143.5,-985.5 304.5,-985.5 304.5,-949.5 143.5,-949.5\" stroke=\"#000000\"/>\n<text fill=\"#000000\" font-family=\"Times,serif\" font-size=\"14.00\" text-anchor=\"middle\" x=\"224\" y=\"-963.8\">activation_19: Activation</text>\n</g>\n<!-- 140352032804648&#45;&gt;140352044806832 -->\n<g class=\"edge\" id=\"edge19\">\n<title>140352032804648-&gt;140352044806832</title>\n<path d=\"M224,-1022.4551C224,-1014.3828 224,-1004.6764 224,-995.6817\" fill=\"none\" stroke=\"#000000\"/>\n<polygon fill=\"#000000\" points=\"227.5001,-995.5903 224,-985.5904 220.5001,-995.5904 227.5001,-995.5903\" stroke=\"#000000\"/>\n</g>\n<!-- 140352044184408 -->\n<g class=\"node\" id=\"node19\">\n<title>140352044184408</title>\n<polygon fill=\"none\" points=\"105,-876.5 105,-912.5 245,-912.5 245,-876.5 105,-876.5\" stroke=\"#000000\"/>\n<text fill=\"#000000\" font-family=\"Times,serif\" font-size=\"14.00\" text-anchor=\"middle\" x=\"175\" y=\"-890.8\">conv2d_38: Conv2D</text>\n</g>\n<!-- 140352044806832&#45;&gt;140352044184408 -->\n<g class=\"edge\" id=\"edge20\">\n<title>140352044806832-&gt;140352044184408</title>\n<path d=\"M211.8876,-949.4551C206.1159,-940.8564 199.0995,-930.4034 192.7418,-920.9316\" fill=\"none\" stroke=\"#000000\"/>\n<polygon fill=\"#000000\" points=\"195.6222,-918.9427 187.1428,-912.5904 189.8101,-922.844 195.6222,-918.9427\" stroke=\"#000000\"/>\n</g>\n<!-- 140352032358920 -->\n<g class=\"node\" id=\"node21\">\n<title>140352032358920</title>\n<polygon fill=\"none\" points=\"132,-730.5 132,-766.5 314,-766.5 314,-730.5 132,-730.5\" stroke=\"#000000\"/>\n<text fill=\"#000000\" font-family=\"Times,serif\" font-size=\"14.00\" text-anchor=\"middle\" x=\"223\" y=\"-744.8\">concatenate_11: Concatenate</text>\n</g>\n<!-- 140352044806832&#45;&gt;140352032358920 -->\n<g class=\"edge\" id=\"edge22\">\n<title>140352044806832-&gt;140352032358920</title>\n<path d=\"M240.7222,-949.4087C266.9109,-918.7689 312.2278,-854.9313 288,-803 282.4976,-791.2058 273.048,-781.0598 263.0321,-772.8294\" fill=\"none\" stroke=\"#000000\"/>\n<polygon fill=\"#000000\" points=\"265.0128,-769.938 254.9428,-766.6447 260.7611,-775.499 265.0128,-769.938\" stroke=\"#000000\"/>\n</g>\n<!-- 140352032347080 -->\n<g class=\"node\" id=\"node20\">\n<title>140352032347080</title>\n<polygon fill=\"none\" points=\"1,-803.5 1,-839.5 279,-839.5 279,-803.5 1,-803.5\" stroke=\"#000000\"/>\n<text fill=\"#000000\" font-family=\"Times,serif\" font-size=\"14.00\" text-anchor=\"middle\" x=\"140\" y=\"-817.8\">batch_normalization_34: BatchNormalization</text>\n</g>\n<!-- 140352044184408&#45;&gt;140352032347080 -->\n<g class=\"edge\" id=\"edge21\">\n<title>140352044184408-&gt;140352032347080</title>\n<path d=\"M166.3483,-876.4551C162.3519,-868.1196 157.5199,-858.0416 153.091,-848.8042\" fill=\"none\" stroke=\"#000000\"/>\n<polygon fill=\"#000000\" points=\"156.1528,-847.0944 148.6735,-839.5904 149.8408,-850.1207 156.1528,-847.0944\" stroke=\"#000000\"/>\n</g>\n<!-- 140352032347080&#45;&gt;140352032358920 -->\n<g class=\"edge\" id=\"edge23\">\n<title>140352032347080-&gt;140352032358920</title>\n<path d=\"M160.5169,-803.4551C170.892,-794.3299 183.6416,-783.1165 194.9123,-773.2036\" fill=\"none\" stroke=\"#000000\"/>\n<polygon fill=\"#000000\" points=\"197.2341,-775.8228 202.4315,-766.5904 192.6111,-770.5665 197.2341,-775.8228\" stroke=\"#000000\"/>\n</g>\n<!-- 140352033291120 -->\n<g class=\"node\" id=\"node22\">\n<title>140352033291120</title>\n<polygon fill=\"none\" points=\"109,-657.5 109,-693.5 337,-693.5 337,-657.5 109,-657.5\" stroke=\"#000000\"/>\n<text fill=\"#000000\" font-family=\"Times,serif\" font-size=\"14.00\" text-anchor=\"middle\" x=\"223\" y=\"-671.8\">max_pooling2d_11: MaxPooling2D</text>\n</g>\n<!-- 140352032358920&#45;&gt;140352033291120 -->\n<g class=\"edge\" id=\"edge24\">\n<title>140352032358920-&gt;140352033291120</title>\n<path d=\"M223,-730.4551C223,-722.3828 223,-712.6764 223,-703.6817\" fill=\"none\" stroke=\"#000000\"/>\n<polygon fill=\"#000000\" points=\"226.5001,-703.5903 223,-693.5904 219.5001,-703.5904 226.5001,-703.5903\" stroke=\"#000000\"/>\n</g>\n<!-- 140352032867608 -->\n<g class=\"node\" id=\"node23\">\n<title>140352032867608</title>\n<polygon fill=\"none\" points=\"153,-584.5 153,-620.5 293,-620.5 293,-584.5 153,-584.5\" stroke=\"#000000\"/>\n<text fill=\"#000000\" font-family=\"Times,serif\" font-size=\"14.00\" text-anchor=\"middle\" x=\"223\" y=\"-598.8\">conv2d_39: Conv2D</text>\n</g>\n<!-- 140352033291120&#45;&gt;140352032867608 -->\n<g class=\"edge\" id=\"edge25\">\n<title>140352033291120-&gt;140352032867608</title>\n<path d=\"M223,-657.4551C223,-649.3828 223,-639.6764 223,-630.6817\" fill=\"none\" stroke=\"#000000\"/>\n<polygon fill=\"#000000\" points=\"226.5001,-630.5903 223,-620.5904 219.5001,-630.5904 226.5001,-630.5903\" stroke=\"#000000\"/>\n</g>\n<!-- 140352043909528 -->\n<g class=\"node\" id=\"node24\">\n<title>140352043909528</title>\n<polygon fill=\"none\" points=\"84,-511.5 84,-547.5 362,-547.5 362,-511.5 84,-511.5\" stroke=\"#000000\"/>\n<text fill=\"#000000\" font-family=\"Times,serif\" font-size=\"14.00\" text-anchor=\"middle\" x=\"223\" y=\"-525.8\">batch_normalization_35: BatchNormalization</text>\n</g>\n<!-- 140352032867608&#45;&gt;140352043909528 -->\n<g class=\"edge\" id=\"edge26\">\n<title>140352032867608-&gt;140352043909528</title>\n<path d=\"M223,-584.4551C223,-576.3828 223,-566.6764 223,-557.6817\" fill=\"none\" stroke=\"#000000\"/>\n<polygon fill=\"#000000\" points=\"226.5001,-557.5903 223,-547.5904 219.5001,-557.5904 226.5001,-557.5903\" stroke=\"#000000\"/>\n</g>\n<!-- 140352044589408 -->\n<g class=\"node\" id=\"node25\">\n<title>140352044589408</title>\n<polygon fill=\"none\" points=\"142.5,-438.5 142.5,-474.5 303.5,-474.5 303.5,-438.5 142.5,-438.5\" stroke=\"#000000\"/>\n<text fill=\"#000000\" font-family=\"Times,serif\" font-size=\"14.00\" text-anchor=\"middle\" x=\"223\" y=\"-452.8\">activation_20: Activation</text>\n</g>\n<!-- 140352043909528&#45;&gt;140352044589408 -->\n<g class=\"edge\" id=\"edge27\">\n<title>140352043909528-&gt;140352044589408</title>\n<path d=\"M223,-511.4551C223,-503.3828 223,-493.6764 223,-484.6817\" fill=\"none\" stroke=\"#000000\"/>\n<polygon fill=\"#000000\" points=\"226.5001,-484.5903 223,-474.5904 219.5001,-484.5904 226.5001,-484.5903\" stroke=\"#000000\"/>\n</g>\n<!-- 140352044299096 -->\n<g class=\"node\" id=\"node26\">\n<title>140352044299096</title>\n<polygon fill=\"none\" points=\"104,-365.5 104,-401.5 244,-401.5 244,-365.5 104,-365.5\" stroke=\"#000000\"/>\n<text fill=\"#000000\" font-family=\"Times,serif\" font-size=\"14.00\" text-anchor=\"middle\" x=\"174\" y=\"-379.8\">conv2d_40: Conv2D</text>\n</g>\n<!-- 140352044589408&#45;&gt;140352044299096 -->\n<g class=\"edge\" id=\"edge28\">\n<title>140352044589408-&gt;140352044299096</title>\n<path d=\"M210.8876,-438.4551C205.1159,-429.8564 198.0995,-419.4034 191.7418,-409.9316\" fill=\"none\" stroke=\"#000000\"/>\n<polygon fill=\"#000000\" points=\"194.6222,-407.9427 186.1428,-401.5904 188.8101,-411.844 194.6222,-407.9427\" stroke=\"#000000\"/>\n</g>\n<!-- 140352033436000 -->\n<g class=\"node\" id=\"node28\">\n<title>140352033436000</title>\n<polygon fill=\"none\" points=\"131,-219.5 131,-255.5 313,-255.5 313,-219.5 131,-219.5\" stroke=\"#000000\"/>\n<text fill=\"#000000\" font-family=\"Times,serif\" font-size=\"14.00\" text-anchor=\"middle\" x=\"222\" y=\"-233.8\">concatenate_12: Concatenate</text>\n</g>\n<!-- 140352044589408&#45;&gt;140352033436000 -->\n<g class=\"edge\" id=\"edge30\">\n<title>140352044589408-&gt;140352033436000</title>\n<path d=\"M239.7222,-438.4087C265.9109,-407.7689 311.2278,-343.9313 287,-292 281.4976,-280.2058 272.048,-270.0598 262.0321,-261.8294\" fill=\"none\" stroke=\"#000000\"/>\n<polygon fill=\"#000000\" points=\"264.0128,-258.938 253.9428,-255.6447 259.7611,-264.499 264.0128,-258.938\" stroke=\"#000000\"/>\n</g>\n<!-- 140352044537504 -->\n<g class=\"node\" id=\"node27\">\n<title>140352044537504</title>\n<polygon fill=\"none\" points=\"0,-292.5 0,-328.5 278,-328.5 278,-292.5 0,-292.5\" stroke=\"#000000\"/>\n<text fill=\"#000000\" font-family=\"Times,serif\" font-size=\"14.00\" text-anchor=\"middle\" x=\"139\" y=\"-306.8\">batch_normalization_36: BatchNormalization</text>\n</g>\n<!-- 140352044299096&#45;&gt;140352044537504 -->\n<g class=\"edge\" id=\"edge29\">\n<title>140352044299096-&gt;140352044537504</title>\n<path d=\"M165.3483,-365.4551C161.3519,-357.1196 156.5199,-347.0416 152.091,-337.8042\" fill=\"none\" stroke=\"#000000\"/>\n<polygon fill=\"#000000\" points=\"155.1528,-336.0944 147.6735,-328.5904 148.8408,-339.1207 155.1528,-336.0944\" stroke=\"#000000\"/>\n</g>\n<!-- 140352044537504&#45;&gt;140352033436000 -->\n<g class=\"edge\" id=\"edge31\">\n<title>140352044537504-&gt;140352033436000</title>\n<path d=\"M159.5169,-292.4551C169.892,-283.3299 182.6416,-272.1165 193.9123,-262.2036\" fill=\"none\" stroke=\"#000000\"/>\n<polygon fill=\"#000000\" points=\"196.2341,-264.8228 201.4315,-255.5904 191.6111,-259.5665 196.2341,-264.8228\" stroke=\"#000000\"/>\n</g>\n<!-- 140352035987184 -->\n<g class=\"node\" id=\"node29\">\n<title>140352035987184</title>\n<polygon fill=\"none\" points=\"107.5,-146.5 107.5,-182.5 336.5,-182.5 336.5,-146.5 107.5,-146.5\" stroke=\"#000000\"/>\n<text fill=\"#000000\" font-family=\"Times,serif\" font-size=\"14.00\" text-anchor=\"middle\" x=\"222\" y=\"-160.8\">max_pooling2d_12: MaxPooling2D</text>\n</g>\n<!-- 140352033436000&#45;&gt;140352035987184 -->\n<g class=\"edge\" id=\"edge32\">\n<title>140352033436000-&gt;140352035987184</title>\n<path d=\"M222,-219.4551C222,-211.3828 222,-201.6764 222,-192.6817\" fill=\"none\" stroke=\"#000000\"/>\n<polygon fill=\"#000000\" points=\"225.5001,-192.5903 222,-182.5904 218.5001,-192.5904 225.5001,-192.5903\" stroke=\"#000000\"/>\n</g>\n<!-- 140352033522296 -->\n<g class=\"node\" id=\"node30\">\n<title>140352033522296</title>\n<polygon fill=\"none\" points=\"165.5,-73.5 165.5,-109.5 278.5,-109.5 278.5,-73.5 165.5,-73.5\" stroke=\"#000000\"/>\n<text fill=\"#000000\" font-family=\"Times,serif\" font-size=\"14.00\" text-anchor=\"middle\" x=\"222\" y=\"-87.8\">flatten_4: Flatten</text>\n</g>\n<!-- 140352035987184&#45;&gt;140352033522296 -->\n<g class=\"edge\" id=\"edge33\">\n<title>140352035987184-&gt;140352033522296</title>\n<path d=\"M222,-146.4551C222,-138.3828 222,-128.6764 222,-119.6817\" fill=\"none\" stroke=\"#000000\"/>\n<polygon fill=\"#000000\" points=\"225.5001,-119.5903 222,-109.5904 218.5001,-119.5904 225.5001,-119.5903\" stroke=\"#000000\"/>\n</g>\n<!-- 140352034875768 -->\n<g class=\"node\" id=\"node31\">\n<title>140352034875768</title>\n<polygon fill=\"none\" points=\"168.5,-.5 168.5,-36.5 275.5,-36.5 275.5,-.5 168.5,-.5\" stroke=\"#000000\"/>\n<text fill=\"#000000\" font-family=\"Times,serif\" font-size=\"14.00\" text-anchor=\"middle\" x=\"222\" y=\"-14.8\">dense_4: Dense</text>\n</g>\n<!-- 140352033522296&#45;&gt;140352034875768 -->\n<g class=\"edge\" id=\"edge34\">\n<title>140352033522296-&gt;140352034875768</title>\n<path d=\"M222,-73.4551C222,-65.3828 222,-55.6764 222,-46.6817\" fill=\"none\" stroke=\"#000000\"/>\n<polygon fill=\"#000000\" points=\"225.5001,-46.5903 222,-36.5904 218.5001,-46.5904 225.5001,-46.5903\" stroke=\"#000000\"/>\n</g>\n</g>\n</svg>"
          },
          "metadata": {
            "tags": []
          },
          "execution_count": 22
        }
      ]
    },
    {
      "cell_type": "code",
      "metadata": {
        "id": "kMORn7NgyAIX",
        "colab_type": "code",
        "colab": {}
      },
      "source": [
        "model.load_weights(\"model.h5\")"
      ],
      "execution_count": 0,
      "outputs": []
    },
    {
      "cell_type": "code",
      "metadata": {
        "id": "HJIMU6WiwWXW",
        "colab_type": "code",
        "colab": {}
      },
      "source": [
        "model.compile(optimizer = \"adam\", loss = \"categorical_crossentropy\", metrics = [\"accuracy\"])"
      ],
      "execution_count": 0,
      "outputs": []
    },
    {
      "cell_type": "code",
      "metadata": {
        "id": "3dWlrwdY4Zgu",
        "colab_type": "code",
        "outputId": "2c090462-6ace-40b9-c1eb-5a7a41c88111",
        "colab": {
          "base_uri": "https://localhost:8080/",
          "height": 714
        }
      },
      "source": [
        "#tbc = TensorBoardColab()\n",
        "history = model.fit(X_train, y_train, epochs = 20, batch_size = 50, validation_data = (X_test, y_test))"
      ],
      "execution_count": 44,
      "outputs": [
        {
          "output_type": "stream",
          "text": [
            "Train on 50000 samples, validate on 10000 samples\n",
            "Epoch 1/20\n",
            "50000/50000 [==============================] - 28s 555us/step - loss: 0.0110 - acc: 0.9965 - val_loss: 1.1187 - val_acc: 0.8291\n",
            "Epoch 2/20\n",
            "50000/50000 [==============================] - 25s 498us/step - loss: 0.0071 - acc: 0.9975 - val_loss: 1.4227 - val_acc: 0.8061\n",
            "Epoch 3/20\n",
            "50000/50000 [==============================] - 25s 505us/step - loss: 0.0100 - acc: 0.9970 - val_loss: 1.2722 - val_acc: 0.8232\n",
            "Epoch 4/20\n",
            "50000/50000 [==============================] - 25s 506us/step - loss: 0.0098 - acc: 0.9968 - val_loss: 1.2718 - val_acc: 0.8323\n",
            "Epoch 5/20\n",
            "50000/50000 [==============================] - 26s 515us/step - loss: 0.0097 - acc: 0.9968 - val_loss: 1.2257 - val_acc: 0.8307\n",
            "Epoch 6/20\n",
            "50000/50000 [==============================] - 25s 508us/step - loss: 0.0062 - acc: 0.9981 - val_loss: 1.1874 - val_acc: 0.8347\n",
            "Epoch 7/20\n",
            "50000/50000 [==============================] - 26s 513us/step - loss: 0.0096 - acc: 0.9969 - val_loss: 1.1024 - val_acc: 0.8397\n",
            "Epoch 8/20\n",
            "50000/50000 [==============================] - 26s 510us/step - loss: 0.0120 - acc: 0.9965 - val_loss: 1.1885 - val_acc: 0.8320\n",
            "Epoch 9/20\n",
            "50000/50000 [==============================] - 26s 510us/step - loss: 0.0077 - acc: 0.9975 - val_loss: 1.0997 - val_acc: 0.8383\n",
            "Epoch 10/20\n",
            "50000/50000 [==============================] - 26s 520us/step - loss: 0.0052 - acc: 0.9981 - val_loss: 1.1062 - val_acc: 0.8446\n",
            "Epoch 11/20\n",
            "50000/50000 [==============================] - 26s 512us/step - loss: 0.0089 - acc: 0.9971 - val_loss: 1.1805 - val_acc: 0.8237\n",
            "Epoch 12/20\n",
            "50000/50000 [==============================] - 26s 512us/step - loss: 0.0093 - acc: 0.9969 - val_loss: 1.2056 - val_acc: 0.8359\n",
            "Epoch 13/20\n",
            "50000/50000 [==============================] - 26s 519us/step - loss: 0.0069 - acc: 0.9977 - val_loss: 1.2021 - val_acc: 0.8391\n",
            "Epoch 14/20\n",
            "50000/50000 [==============================] - 26s 512us/step - loss: 0.0073 - acc: 0.9975 - val_loss: 1.1924 - val_acc: 0.8397\n",
            "Epoch 15/20\n",
            "50000/50000 [==============================] - 26s 510us/step - loss: 0.0062 - acc: 0.9978 - val_loss: 1.2311 - val_acc: 0.8262\n",
            "Epoch 16/20\n",
            "50000/50000 [==============================] - 26s 519us/step - loss: 0.0103 - acc: 0.9963 - val_loss: 1.1302 - val_acc: 0.8388\n",
            "Epoch 17/20\n",
            "50000/50000 [==============================] - 26s 521us/step - loss: 0.0074 - acc: 0.9977 - val_loss: 1.1891 - val_acc: 0.8400\n",
            "Epoch 18/20\n",
            "50000/50000 [==============================] - 26s 510us/step - loss: 0.0056 - acc: 0.9982 - val_loss: 1.2391 - val_acc: 0.8318\n",
            "Epoch 19/20\n",
            "50000/50000 [==============================] - 26s 519us/step - loss: 0.0098 - acc: 0.9966 - val_loss: 1.1588 - val_acc: 0.8339\n",
            "Epoch 20/20\n",
            "50000/50000 [==============================] - 25s 510us/step - loss: 0.0068 - acc: 0.9977 - val_loss: 1.1142 - val_acc: 0.8361\n"
          ],
          "name": "stdout"
        }
      ]
    },
    {
      "cell_type": "code",
      "metadata": {
        "id": "yX-YvRj24wDz",
        "colab_type": "code",
        "colab": {}
      },
      "source": [
        "model.save_weights(\"model.h5\")"
      ],
      "execution_count": 0,
      "outputs": []
    },
    {
      "cell_type": "code",
      "metadata": {
        "id": "2lUy-2shx5cj",
        "colab_type": "code",
        "outputId": "668a7a49-59ce-49dd-a0d2-a131fa75b2d3",
        "colab": {
          "base_uri": "https://localhost:8080/",
          "height": 573
        }
      },
      "source": [
        "import matplotlib.pyplot as plt\n",
        "\n",
        "# Plot training & validation accuracy values\n",
        "plt.plot(history.history['acc'])\n",
        "plt.plot(history.history['val_acc'])\n",
        "plt.title('Model accuracy')\n",
        "plt.ylabel('Accuracy')\n",
        "plt.xlabel('Epoch')\n",
        "plt.legend(['Train', 'Test'], loc='upper left')\n",
        "plt.show()\n",
        "\n",
        "# Plot training & validation loss values\n",
        "plt.plot(history.history['loss'])\n",
        "plt.plot(history.history['val_loss'])\n",
        "plt.title('Model loss')\n",
        "plt.ylabel('Loss')\n",
        "plt.xlabel('Epoch')\n",
        "plt.legend(['Train', 'Test'], loc='upper left')\n",
        "plt.show()"
      ],
      "execution_count": 46,
      "outputs": [
        {
          "output_type": "display_data",
          "data": {
            "image/png": "[encoded data removed]",
            "text/plain": [
              "<Figure size 432x288 with 1 Axes>"
            ]
          },
          "metadata": {
            "tags": []
          }
        },
        {
          "output_type": "display_data",
          "data": {
            "image/png": "[encoded data removed]",
            "text/plain": [
              "<Figure size 432x288 with 1 Axes>"
            ]
          },
          "metadata": {
            "tags": []
          }
        }
      ]
    },
    {
      "cell_type": "code",
      "metadata": {
        "id": "1SCpN57m2t0-",
        "colab_type": "code",
        "colab": {}
      },
      "source": [
        ""
      ],
      "execution_count": 0,
      "outputs": []
    }
  ]
}
