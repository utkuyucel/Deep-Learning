{
  "nbformat": 4,
  "nbformat_minor": 0,
  "metadata": {
    "colab": {
      "name": "10.04.2019 - CHALLENGE ACCEPTED",
      "version": "0.3.2",
      "provenance": [],
      "collapsed_sections": [],
      "include_colab_link": true
    },
    "kernelspec": {
      "name": "python3",
      "display_name": "Python 3"
    },
    "accelerator": "GPU"
  },
  "cells": [
    {
      "cell_type": "markdown",
      "metadata": {
        "id": "view-in-github",
        "colab_type": "text"
      },
      "source": [
        "<a href=\"https://colab.research.google.com/github/utkuyucel/Deep-Learning/blob/master/10_04_2019_CHALLENGE_ACCEPTED.ipynb\" target=\"_parent\"><img src=\"https://colab.research.google.com/assets/colab-badge.svg\" alt=\"Open In Colab\"/></a>"
      ]
    },
    {
      "metadata": {
        "id": "f2wFgy0Ezuqa",
        "colab_type": "code",
        "colab": {}
      },
      "cell_type": "code",
      "source": [
        "from keras.layers import Dense, Dropout, Activation, Conv2D, MaxPooling2D, Flatten, BatchNormalization\n",
        "from keras.models import Sequential, load_model\n",
        "from keras.datasets import cifar10\n",
        "from keras.utils import to_categorical\n",
        "from tensorboardcolab import *\n",
        "import numpy as np\n",
        "import matplotlib.pyplot as plt\n",
        "from scipy.misc import toimage\n",
        "import sys\n",
        "import os\n",
        "\n",
        "batch_size = 64\n",
        "num_classes = 10\n",
        "epochs = 100\n",
        "num_predictions = 20\n",
        "save_dir = os.path.join(os.getcwd(), \"saved_models\")\n",
        "model_name = \"keras_cifar10_trained.h5\""
      ],
      "execution_count": 0,
      "outputs": []
    },
    {
      "metadata": {
        "id": "1Tz_GQ1x2W6m",
        "colab_type": "code",
        "colab": {}
      },
      "cell_type": "code",
      "source": [
        "(X_train, y_train), (X_test, y_test) = cifar10.load_data()\n",
        "\n",
        "X_train = X_train.astype(\"float32\")\n",
        "X_test = X_test.astype(\"float32\")\n",
        "\n",
        "X_train /= 255\n",
        "X_test /= 255\n",
        "\n",
        "y_train = to_categorical(y_train, num_classes)\n",
        "y_test = to_categorical(y_test, num_classes)"
      ],
      "execution_count": 0,
      "outputs": []
    },
    {
      "metadata": {
        "id": "P_o95Zc_2-Dh",
        "colab_type": "code",
        "colab": {}
      },
      "cell_type": "code",
      "source": [
        "#plt.imshow(toimage(y_train[231]))\n",
        "#\n",
        "#def print_imgs(a, b):\n",
        "  #for i in range(int(a), int(b)):\n",
        "   # plt.subplot(330 + 1 + i)\n",
        "  #  plt.imshow(toimage(X_train[i]))\n",
        " # plt.show()\n",
        "\n",
        "#print_imgs(0,9)\n",
        "#\n",
        "\n",
        "model = load_model(\"saved_models/keras_cifar10_trained.h5\")\n"
      ],
      "execution_count": 0,
      "outputs": []
    },
    {
      "metadata": {
        "id": "u9BedRz94HRN",
        "colab_type": "code",
        "colab": {}
      },
      "cell_type": "code",
      "source": [
        "#model = Sequential()\n",
        "\n",
        "#model.add(Conv2D(128, (3, 3), padding = \"same\" ,input_shape = X_train.shape[1:]))\n",
        "#model.add(Activation(\"relu\"))\n",
        "#model.add(BatchNormalization())\n",
        "#model.add(Conv2D(128, (3, 3), padding = \"same\"))\n",
        "#model.add(Activation(\"relu\"))\n",
        "#model.add(BatchNormalization())\n",
        "#model.add(MaxPooling2D(2,2))\n",
        "#model.add(Dropout(0.5))\n",
        "\n",
        "#model.add(Conv2D(64, (3, 3), padding = \"same\"))\n",
        "#model.add(Activation(\"relu\"))\n",
        "#model.add(BatchNormalization())\n",
        "#model.add(Conv2D(64, (3, 3), padding = \"same\"))\n",
        "#model.add(Activation(\"relu\"))\n",
        "#model.add(BatchNormalization())\n",
        "#model.add(MaxPooling2D(2,2))\n",
        "#model.add(Dropout(0.4))\n",
        "\n",
        "#model.add(Conv2D(32, (3, 3), padding = \"same\"))\n",
        "#model.add(Activation(\"relu\"))\n",
        "#model.add(BatchNormalization())\n",
        "#model.add(Conv2D(32, (3, 3), padding = \"same\"))\n",
        "#model.add(Activation(\"relu\"))\n",
        "#model.add(BatchNormalization())\n",
        "#model.add(MaxPooling2D(2,2))\n",
        "#model.add(Dropout(0.3))\n",
        "\n",
        "#model.add(Conv2D(16, (3, 3), padding = \"same\"))\n",
        "#model.add(Activation(\"relu\"))\n",
        "#model.add(BatchNormalization())\n",
        "#model.add(Conv2D(16, (3, 3), padding = \"same\"))\n",
        "#model.add(Activation(\"relu\"))\n",
        "#model.add(BatchNormalization())\n",
        "#model.add(MaxPooling2D(2,2))\n",
        "#model.add(Dropout(0.3))\n",
        "\n",
        "#model.add(Flatten())\n",
        "#model.add(Dense(1024))\n",
        "#model.add(Activation(\"relu\"))\n",
        "#model.add(Dropout(0.4))\n",
        "\n",
        "#model.add(Dense(512))\n",
        "#model.add(Activation(\"relu\"))\n",
        "\n",
        "#model.add(Dense(num_classes))\n",
        "#model.add(Activation(\"softmax\"))"
      ],
      "execution_count": 0,
      "outputs": []
    },
    {
      "metadata": {
        "id": "bLMALUwdLR9G",
        "colab_type": "code",
        "colab": {}
      },
      "cell_type": "code",
      "source": [
        "model.compile(loss = \"categorical_crossentropy\", optimizer = \"adam\", metrics = [\"accuracy\"])\n"
      ],
      "execution_count": 0,
      "outputs": []
    },
    {
      "metadata": {
        "id": "7obN9TIbLd3Y",
        "colab_type": "code",
        "colab": {
          "base_uri": "https://localhost:8080/",
          "height": 3502
        },
        "outputId": "8b2641a1-9288-4b7b-ef2e-649f8f58ce7b"
      },
      "cell_type": "code",
      "source": [
        "tbc = TensorBoardColab()\n",
        "model.fit(X_train, y_train, batch_size = batch_size, epochs = epochs, callbacks = [TensorBoardColabCallback(tbc)], validation_split = 0.2, shuffle = True)"
      ],
      "execution_count": 35,
      "outputs": [
        {
          "output_type": "stream",
          "text": [
            "Wait for 8 seconds...\n",
            "TensorBoard link:\n",
            "http://63346ffd.ngrok.io\n",
            "Train on 40000 samples, validate on 10000 samples\n",
            "Epoch 1/100\n",
            "40000/40000 [==============================] - 46s 1ms/step - loss: 0.2524 - acc: 0.9146 - val_loss: 0.4687 - val_acc: 0.8599\n",
            "Epoch 2/100\n",
            "40000/40000 [==============================] - 44s 1ms/step - loss: 0.2431 - acc: 0.9175 - val_loss: 0.4451 - val_acc: 0.8638\n",
            "Epoch 3/100\n",
            "40000/40000 [==============================] - 44s 1ms/step - loss: 0.2441 - acc: 0.9158 - val_loss: 0.5308 - val_acc: 0.8445\n",
            "Epoch 4/100\n",
            "40000/40000 [==============================] - 44s 1ms/step - loss: 0.2444 - acc: 0.9170 - val_loss: 0.4912 - val_acc: 0.8570\n",
            "Epoch 5/100\n",
            "40000/40000 [==============================] - 44s 1ms/step - loss: 0.2441 - acc: 0.9159 - val_loss: 0.4770 - val_acc: 0.8625\n",
            "Epoch 6/100\n",
            "40000/40000 [==============================] - 44s 1ms/step - loss: 0.2422 - acc: 0.9169 - val_loss: 0.5076 - val_acc: 0.8539\n",
            "Epoch 7/100\n",
            "40000/40000 [==============================] - 44s 1ms/step - loss: 0.2444 - acc: 0.9174 - val_loss: 0.4623 - val_acc: 0.8635\n",
            "Epoch 8/100\n",
            "40000/40000 [==============================] - 44s 1ms/step - loss: 0.2391 - acc: 0.9198 - val_loss: 0.4968 - val_acc: 0.8539\n",
            "Epoch 9/100\n",
            "40000/40000 [==============================] - 44s 1ms/step - loss: 0.2431 - acc: 0.9168 - val_loss: 0.4924 - val_acc: 0.8510\n",
            "Epoch 10/100\n",
            "40000/40000 [==============================] - 44s 1ms/step - loss: 0.2393 - acc: 0.9184 - val_loss: 0.5040 - val_acc: 0.8558\n",
            "Epoch 11/100\n",
            "40000/40000 [==============================] - 44s 1ms/step - loss: 0.2386 - acc: 0.9180 - val_loss: 0.4906 - val_acc: 0.8563\n",
            "Epoch 12/100\n",
            "40000/40000 [==============================] - 44s 1ms/step - loss: 0.2400 - acc: 0.9176 - val_loss: 0.4508 - val_acc: 0.8594\n",
            "Epoch 13/100\n",
            "40000/40000 [==============================] - 43s 1ms/step - loss: 0.2386 - acc: 0.9181 - val_loss: 0.4984 - val_acc: 0.8544\n",
            "Epoch 14/100\n",
            "40000/40000 [==============================] - 43s 1ms/step - loss: 0.2372 - acc: 0.9196 - val_loss: 0.4537 - val_acc: 0.8640\n",
            "Epoch 15/100\n",
            "40000/40000 [==============================] - 44s 1ms/step - loss: 0.2345 - acc: 0.9198 - val_loss: 0.4790 - val_acc: 0.8614\n",
            "Epoch 16/100\n",
            "40000/40000 [==============================] - 44s 1ms/step - loss: 0.2346 - acc: 0.9201 - val_loss: 0.4557 - val_acc: 0.8637\n",
            "Epoch 17/100\n",
            "40000/40000 [==============================] - 44s 1ms/step - loss: 0.2369 - acc: 0.9191 - val_loss: 0.5431 - val_acc: 0.8509\n",
            "Epoch 18/100\n",
            "40000/40000 [==============================] - 44s 1ms/step - loss: 0.2359 - acc: 0.9207 - val_loss: 0.4964 - val_acc: 0.8565\n",
            "Epoch 19/100\n",
            "40000/40000 [==============================] - 44s 1ms/step - loss: 0.2353 - acc: 0.9197 - val_loss: 0.4860 - val_acc: 0.8577\n",
            "Epoch 20/100\n",
            "40000/40000 [==============================] - 44s 1ms/step - loss: 0.2309 - acc: 0.9216 - val_loss: 0.4474 - val_acc: 0.8705\n",
            "Epoch 21/100\n",
            "40000/40000 [==============================] - 44s 1ms/step - loss: 0.2311 - acc: 0.9206 - val_loss: 0.5754 - val_acc: 0.8420\n",
            "Epoch 22/100\n",
            "40000/40000 [==============================] - 44s 1ms/step - loss: 0.2328 - acc: 0.9216 - val_loss: 0.4913 - val_acc: 0.8603\n",
            "Epoch 23/100\n",
            "40000/40000 [==============================] - 44s 1ms/step - loss: 0.2304 - acc: 0.9229 - val_loss: 0.4831 - val_acc: 0.8596\n",
            "Epoch 24/100\n",
            "40000/40000 [==============================] - 44s 1ms/step - loss: 0.2300 - acc: 0.9211 - val_loss: 0.4667 - val_acc: 0.8638\n",
            "Epoch 25/100\n",
            "40000/40000 [==============================] - 44s 1ms/step - loss: 0.2331 - acc: 0.9205 - val_loss: 0.4775 - val_acc: 0.8630\n",
            "Epoch 26/100\n",
            "40000/40000 [==============================] - 44s 1ms/step - loss: 0.2263 - acc: 0.9223 - val_loss: 0.4446 - val_acc: 0.8683\n",
            "Epoch 27/100\n",
            "40000/40000 [==============================] - 44s 1ms/step - loss: 0.2300 - acc: 0.9214 - val_loss: 0.4970 - val_acc: 0.8566\n",
            "Epoch 28/100\n",
            "40000/40000 [==============================] - 44s 1ms/step - loss: 0.2293 - acc: 0.9227 - val_loss: 0.4931 - val_acc: 0.8622\n",
            "Epoch 29/100\n",
            "40000/40000 [==============================] - 44s 1ms/step - loss: 0.2308 - acc: 0.9231 - val_loss: 0.4925 - val_acc: 0.8622\n",
            "Epoch 30/100\n",
            "40000/40000 [==============================] - 44s 1ms/step - loss: 0.2344 - acc: 0.9213 - val_loss: 0.4652 - val_acc: 0.8662\n",
            "Epoch 31/100\n",
            "40000/40000 [==============================] - 44s 1ms/step - loss: 0.2226 - acc: 0.9244 - val_loss: 0.5126 - val_acc: 0.8608\n",
            "Epoch 32/100\n",
            "40000/40000 [==============================] - 44s 1ms/step - loss: 0.2254 - acc: 0.9240 - val_loss: 0.4772 - val_acc: 0.8651\n",
            "Epoch 33/100\n",
            "40000/40000 [==============================] - 44s 1ms/step - loss: 0.2292 - acc: 0.9231 - val_loss: 0.5034 - val_acc: 0.8598\n",
            "Epoch 34/100\n",
            "40000/40000 [==============================] - 44s 1ms/step - loss: 0.2280 - acc: 0.9235 - val_loss: 0.4638 - val_acc: 0.8653\n",
            "Epoch 35/100\n",
            "40000/40000 [==============================] - 44s 1ms/step - loss: 0.2265 - acc: 0.9221 - val_loss: 0.4652 - val_acc: 0.8687\n",
            "Epoch 36/100\n",
            "40000/40000 [==============================] - 44s 1ms/step - loss: 0.2271 - acc: 0.9231 - val_loss: 0.4907 - val_acc: 0.8649\n",
            "Epoch 37/100\n",
            "40000/40000 [==============================] - 44s 1ms/step - loss: 0.2233 - acc: 0.9242 - val_loss: 0.4729 - val_acc: 0.8661\n",
            "Epoch 38/100\n",
            "40000/40000 [==============================] - 44s 1ms/step - loss: 0.2258 - acc: 0.9223 - val_loss: 0.4933 - val_acc: 0.8627\n",
            "Epoch 39/100\n",
            "40000/40000 [==============================] - 44s 1ms/step - loss: 0.2291 - acc: 0.9221 - val_loss: 0.4966 - val_acc: 0.8570\n",
            "Epoch 40/100\n",
            "40000/40000 [==============================] - 44s 1ms/step - loss: 0.2270 - acc: 0.9224 - val_loss: 0.4989 - val_acc: 0.8625\n",
            "Epoch 41/100\n",
            "40000/40000 [==============================] - 44s 1ms/step - loss: 0.2162 - acc: 0.9263 - val_loss: 0.4945 - val_acc: 0.8610\n",
            "Epoch 42/100\n",
            "40000/40000 [==============================] - 44s 1ms/step - loss: 0.2251 - acc: 0.9235 - val_loss: 0.5692 - val_acc: 0.8492\n",
            "Epoch 43/100\n",
            "40000/40000 [==============================] - 44s 1ms/step - loss: 0.2181 - acc: 0.9254 - val_loss: 0.4702 - val_acc: 0.8622\n",
            "Epoch 44/100\n",
            "40000/40000 [==============================] - 44s 1ms/step - loss: 0.2195 - acc: 0.9252 - val_loss: 0.4751 - val_acc: 0.8628\n",
            "Epoch 45/100\n",
            "40000/40000 [==============================] - 44s 1ms/step - loss: 0.2199 - acc: 0.9250 - val_loss: 0.5049 - val_acc: 0.8521\n",
            "Epoch 46/100\n",
            "40000/40000 [==============================] - 44s 1ms/step - loss: 0.2210 - acc: 0.9263 - val_loss: 0.5032 - val_acc: 0.8603\n",
            "Epoch 47/100\n",
            "40000/40000 [==============================] - 44s 1ms/step - loss: 0.2202 - acc: 0.9248 - val_loss: 0.4607 - val_acc: 0.8673\n",
            "Epoch 48/100\n",
            "40000/40000 [==============================] - 44s 1ms/step - loss: 0.2197 - acc: 0.9249 - val_loss: 0.5076 - val_acc: 0.8543\n",
            "Epoch 49/100\n",
            "40000/40000 [==============================] - 44s 1ms/step - loss: 0.2222 - acc: 0.9253 - val_loss: 0.4291 - val_acc: 0.8711\n",
            "Epoch 50/100\n",
            "40000/40000 [==============================] - 44s 1ms/step - loss: 0.2154 - acc: 0.9266 - val_loss: 0.4936 - val_acc: 0.8606\n",
            "Epoch 51/100\n",
            "40000/40000 [==============================] - 44s 1ms/step - loss: 0.2186 - acc: 0.9254 - val_loss: 0.5005 - val_acc: 0.8644\n",
            "Epoch 52/100\n",
            "40000/40000 [==============================] - 43s 1ms/step - loss: 0.2203 - acc: 0.9254 - val_loss: 0.4761 - val_acc: 0.8657\n",
            "Epoch 53/100\n",
            "40000/40000 [==============================] - 44s 1ms/step - loss: 0.2140 - acc: 0.9287 - val_loss: 0.5199 - val_acc: 0.8519\n",
            "Epoch 54/100\n",
            "40000/40000 [==============================] - 44s 1ms/step - loss: 0.2162 - acc: 0.9258 - val_loss: 0.4718 - val_acc: 0.8694\n",
            "Epoch 55/100\n",
            "40000/40000 [==============================] - 44s 1ms/step - loss: 0.2151 - acc: 0.9263 - val_loss: 0.4476 - val_acc: 0.8664\n",
            "Epoch 56/100\n",
            "40000/40000 [==============================] - 44s 1ms/step - loss: 0.2144 - acc: 0.9277 - val_loss: 0.5112 - val_acc: 0.8598\n",
            "Epoch 57/100\n",
            "40000/40000 [==============================] - 44s 1ms/step - loss: 0.2108 - acc: 0.9285 - val_loss: 0.4624 - val_acc: 0.8652\n",
            "Epoch 58/100\n",
            "40000/40000 [==============================] - 44s 1ms/step - loss: 0.2165 - acc: 0.9268 - val_loss: 0.5304 - val_acc: 0.8547\n",
            "Epoch 59/100\n",
            "40000/40000 [==============================] - 44s 1ms/step - loss: 0.2171 - acc: 0.9259 - val_loss: 0.4935 - val_acc: 0.8620\n",
            "Epoch 60/100\n",
            "40000/40000 [==============================] - 44s 1ms/step - loss: 0.2128 - acc: 0.9276 - val_loss: 0.4776 - val_acc: 0.8636\n",
            "Epoch 61/100\n",
            "40000/40000 [==============================] - 44s 1ms/step - loss: 0.2091 - acc: 0.9285 - val_loss: 0.4710 - val_acc: 0.8630\n",
            "Epoch 62/100\n",
            "40000/40000 [==============================] - 44s 1ms/step - loss: 0.2122 - acc: 0.9282 - val_loss: 0.4782 - val_acc: 0.8596\n",
            "Epoch 63/100\n",
            "40000/40000 [==============================] - 44s 1ms/step - loss: 0.2136 - acc: 0.9275 - val_loss: 0.4511 - val_acc: 0.8638\n",
            "Epoch 64/100\n",
            "40000/40000 [==============================] - 44s 1ms/step - loss: 0.2113 - acc: 0.9300 - val_loss: 0.4653 - val_acc: 0.8684\n",
            "Epoch 65/100\n",
            "40000/40000 [==============================] - 44s 1ms/step - loss: 0.2144 - acc: 0.9270 - val_loss: 0.4718 - val_acc: 0.8638\n",
            "Epoch 66/100\n",
            "40000/40000 [==============================] - 44s 1ms/step - loss: 0.2126 - acc: 0.9276 - val_loss: 0.4952 - val_acc: 0.8614\n",
            "Epoch 67/100\n",
            "40000/40000 [==============================] - 44s 1ms/step - loss: 0.2095 - acc: 0.9297 - val_loss: 0.4910 - val_acc: 0.8586\n",
            "Epoch 68/100\n",
            "40000/40000 [==============================] - 44s 1ms/step - loss: 0.2078 - acc: 0.9302 - val_loss: 0.5108 - val_acc: 0.8589\n",
            "Epoch 69/100\n",
            "40000/40000 [==============================] - 45s 1ms/step - loss: 0.2088 - acc: 0.9306 - val_loss: 0.5054 - val_acc: 0.8603\n",
            "Epoch 70/100\n",
            "40000/40000 [==============================] - 44s 1ms/step - loss: 0.2102 - acc: 0.9294 - val_loss: 0.5021 - val_acc: 0.8635\n",
            "Epoch 71/100\n",
            "40000/40000 [==============================] - 44s 1ms/step - loss: 0.2136 - acc: 0.9286 - val_loss: 0.4727 - val_acc: 0.8653\n",
            "Epoch 72/100\n",
            "40000/40000 [==============================] - 44s 1ms/step - loss: 0.2124 - acc: 0.9275 - val_loss: 0.4721 - val_acc: 0.8718\n",
            "Epoch 73/100\n",
            "40000/40000 [==============================] - 45s 1ms/step - loss: 0.2075 - acc: 0.9289 - val_loss: 0.4924 - val_acc: 0.8598\n",
            "Epoch 74/100\n",
            "40000/40000 [==============================] - 44s 1ms/step - loss: 0.2079 - acc: 0.9286 - val_loss: 0.4837 - val_acc: 0.8635\n",
            "Epoch 75/100\n",
            "40000/40000 [==============================] - 44s 1ms/step - loss: 0.2111 - acc: 0.9279 - val_loss: 0.4942 - val_acc: 0.8580\n",
            "Epoch 76/100\n",
            "40000/40000 [==============================] - 44s 1ms/step - loss: 0.2042 - acc: 0.9320 - val_loss: 0.5007 - val_acc: 0.8600\n",
            "Epoch 77/100\n",
            "40000/40000 [==============================] - 44s 1ms/step - loss: 0.2084 - acc: 0.9297 - val_loss: 0.4921 - val_acc: 0.8622\n",
            "Epoch 78/100\n",
            "40000/40000 [==============================] - 44s 1ms/step - loss: 0.2081 - acc: 0.9304 - val_loss: 0.4606 - val_acc: 0.8653\n",
            "Epoch 79/100\n",
            "40000/40000 [==============================] - 44s 1ms/step - loss: 0.2134 - acc: 0.9260 - val_loss: 0.4562 - val_acc: 0.8694\n",
            "Epoch 80/100\n",
            "40000/40000 [==============================] - 44s 1ms/step - loss: 0.2089 - acc: 0.9294 - val_loss: 0.4887 - val_acc: 0.8601\n",
            "Epoch 81/100\n",
            "40000/40000 [==============================] - 44s 1ms/step - loss: 0.2086 - acc: 0.9282 - val_loss: 0.4892 - val_acc: 0.8642\n",
            "Epoch 82/100\n",
            "40000/40000 [==============================] - 44s 1ms/step - loss: 0.2026 - acc: 0.9310 - val_loss: 0.4980 - val_acc: 0.8611\n",
            "Epoch 83/100\n",
            "40000/40000 [==============================] - 44s 1ms/step - loss: 0.2065 - acc: 0.9293 - val_loss: 0.4906 - val_acc: 0.8599\n",
            "Epoch 84/100\n",
            "40000/40000 [==============================] - 44s 1ms/step - loss: 0.2041 - acc: 0.9303 - val_loss: 0.4616 - val_acc: 0.8645\n",
            "Epoch 85/100\n",
            "40000/40000 [==============================] - 44s 1ms/step - loss: 0.2026 - acc: 0.9321 - val_loss: 0.5239 - val_acc: 0.8584\n",
            "Epoch 86/100\n",
            "40000/40000 [==============================] - 44s 1ms/step - loss: 0.1952 - acc: 0.9331 - val_loss: 0.5045 - val_acc: 0.8540\n",
            "Epoch 87/100\n",
            "40000/40000 [==============================] - 44s 1ms/step - loss: 0.2065 - acc: 0.9295 - val_loss: 0.4996 - val_acc: 0.8677\n",
            "Epoch 88/100\n",
            "40000/40000 [==============================] - 44s 1ms/step - loss: 0.2038 - acc: 0.9318 - val_loss: 0.4737 - val_acc: 0.8643\n",
            "Epoch 89/100\n",
            "40000/40000 [==============================] - 44s 1ms/step - loss: 0.2000 - acc: 0.9320 - val_loss: 0.5047 - val_acc: 0.8650\n",
            "Epoch 90/100\n",
            "40000/40000 [==============================] - 44s 1ms/step - loss: 0.1967 - acc: 0.9345 - val_loss: 0.5064 - val_acc: 0.8631\n",
            "Epoch 91/100\n",
            "40000/40000 [==============================] - 44s 1ms/step - loss: 0.1984 - acc: 0.9318 - val_loss: 0.4993 - val_acc: 0.8630\n",
            "Epoch 92/100\n",
            "40000/40000 [==============================] - 44s 1ms/step - loss: 0.1969 - acc: 0.9328 - val_loss: 0.4714 - val_acc: 0.8675\n",
            "Epoch 93/100\n",
            "40000/40000 [==============================] - 44s 1ms/step - loss: 0.1989 - acc: 0.9321 - val_loss: 0.4936 - val_acc: 0.8667\n",
            "Epoch 94/100\n",
            "40000/40000 [==============================] - 44s 1ms/step - loss: 0.2010 - acc: 0.9323 - val_loss: 0.4911 - val_acc: 0.8606\n",
            "Epoch 95/100\n",
            "40000/40000 [==============================] - 44s 1ms/step - loss: 0.1986 - acc: 0.9326 - val_loss: 0.4943 - val_acc: 0.8599\n",
            "Epoch 96/100\n",
            "40000/40000 [==============================] - 44s 1ms/step - loss: 0.2005 - acc: 0.9334 - val_loss: 0.4993 - val_acc: 0.8629\n",
            "Epoch 97/100\n",
            "40000/40000 [==============================] - 44s 1ms/step - loss: 0.1986 - acc: 0.9327 - val_loss: 0.4487 - val_acc: 0.8709\n",
            "Epoch 98/100\n",
            "40000/40000 [==============================] - 44s 1ms/step - loss: 0.1964 - acc: 0.9318 - val_loss: 0.5079 - val_acc: 0.8613\n",
            "Epoch 99/100\n",
            "40000/40000 [==============================] - 44s 1ms/step - loss: 0.2000 - acc: 0.9313 - val_loss: 0.4755 - val_acc: 0.8676\n",
            "Epoch 100/100\n",
            "40000/40000 [==============================] - 44s 1ms/step - loss: 0.1926 - acc: 0.9338 - val_loss: 0.4586 - val_acc: 0.8690\n"
          ],
          "name": "stdout"
        },
        {
          "output_type": "execute_result",
          "data": {
            "text/plain": [
              "<keras.callbacks.History at 0x7f361cc1dfd0>"
            ]
          },
          "metadata": {
            "tags": []
          },
          "execution_count": 35
        }
      ]
    },
    {
      "metadata": {
        "id": "dQ3bZkbC8L9G",
        "colab_type": "code",
        "colab": {
          "base_uri": "https://localhost:8080/",
          "height": 68
        },
        "outputId": "197c4181-a388-45bc-8d66-b327a9720de6"
      },
      "cell_type": "code",
      "source": [
        "scores = model.evaluate(X_test, y_test, verbose=1)\n",
        "print('Test loss:', scores[0])\n",
        "print('Test accuracy:', scores[1]*100)"
      ],
      "execution_count": 36,
      "outputs": [
        {
          "output_type": "stream",
          "text": [
            "10000/10000 [==============================] - 4s 365us/step\n",
            "Test loss: 0.4854842081308365\n",
            "Test accuracy: 86.33999999999999\n"
          ],
          "name": "stdout"
        }
      ]
    },
    {
      "metadata": {
        "id": "MybWGz8K-iti",
        "colab_type": "code",
        "colab": {
          "base_uri": "https://localhost:8080/",
          "height": 34
        },
        "outputId": "6fbd5f2d-0a12-47f2-ca96-dcbe6f3dc937"
      },
      "cell_type": "code",
      "source": [
        "if not os.path.isdir(save_dir):\n",
        "    os.makedirs(save_dir)\n",
        "model_path = os.path.join(save_dir, model_name)\n",
        "model.save(model_path)\n",
        "print('Saved trained model at %s ' % model_path)\n"
      ],
      "execution_count": 37,
      "outputs": [
        {
          "output_type": "stream",
          "text": [
            "Saved trained model at /content/saved_models/keras_cifar10_trained.h5 \n"
          ],
          "name": "stdout"
        }
      ]
    },
    {
      "metadata": {
        "id": "0BiDRUFxM86k",
        "colab_type": "code",
        "colab": {}
      },
      "cell_type": "code",
      "source": [
        ""
      ],
      "execution_count": 0,
      "outputs": []
    }
  ]
}
