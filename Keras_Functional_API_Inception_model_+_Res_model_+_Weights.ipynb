{
  "nbformat": 4,
  "nbformat_minor": 0,
  "metadata": {
    "colab": {
      "name": "Keras Functional API  - Inception model + Res model + Weights",
      "version": "0.3.2",
      "provenance": [],
      "collapsed_sections": [],
      "include_colab_link": true
    },
    "kernelspec": {
      "name": "python3",
      "display_name": "Python 3"
    },
    "accelerator": "GPU"
  },
  "cells": [
    {
      "cell_type": "markdown",
      "metadata": {
        "id": "view-in-github",
        "colab_type": "text"
      },
      "source": [
        "<a href=\"https://colab.research.google.com/github/utkuyucel/Deep-Learning/blob/master/Keras_Functional_API_Inception_model_%2B_Res_model_%2B_Weights.ipynb\" target=\"_parent\"><img src=\"https://colab.research.google.com/assets/colab-badge.svg\" alt=\"Open In Colab\"/></a>"
      ]
    },
    {
      "cell_type": "code",
      "metadata": {
        "id": "cjlzilSZZ_9f",
        "colab_type": "code",
        "colab": {}
      },
      "source": [
        "import numpy as np\n",
        "from keras import layers\n",
        "from keras.layers import Dense, Input, Activation, ZeroPadding2D, BatchNormalization, Flatten, Conv2D, concatenate\n",
        "from keras.layers import AveragePooling2D, MaxPooling2D, Dropout, GlobalMaxPooling2D, GlobalAveragePooling2D\n",
        "from keras.models import Model, load_model\n",
        "from keras.preprocessing import image\n",
        "from keras.utils import layer_utils, to_categorical, plot_model\n",
        "import matplotlib.pyplot as plt\n",
        "from matplotlib.pyplot import imshow\n",
        "from keras.datasets import cifar10 \n",
        "import keras"
      ],
      "execution_count": 0,
      "outputs": []
    },
    {
      "cell_type": "code",
      "metadata": {
        "id": "wlhSFufca_re",
        "colab_type": "code",
        "colab": {}
      },
      "source": [
        "## THE DATASET PART ##\n",
        "(X_train, y_train),(X_test, y_test) = cifar10.load_data()\n",
        "\n",
        "X_train = X_train / 255.\n",
        "X_test = X_test / 255.\n",
        "\n",
        "X_train = X_train.astype(\"float32\")\n",
        "X_test = X_test.astype(\"float32\")\n",
        "\n",
        "y_train = to_categorical(y_train, 10)\n",
        "y_test = to_categorical(y_test, 10)\n"
      ],
      "execution_count": 0,
      "outputs": []
    },
    {
      "cell_type": "code",
      "metadata": {
        "id": "KO5MmZ0pbyKD",
        "colab_type": "code",
        "colab": {}
      },
      "source": [
        "## DEFINING THE MODEL ##\n",
        "\n",
        "def model(input_shape):\n",
        "  \n",
        "  X_input = Input(input_shape)\n",
        "  \n",
        "  X1 = Conv2D(32, (2,2), strides = (1,1),padding = \"same\", name = \"conv0\")(X_input)\n",
        "  X1 = BatchNormalization(axis = 3, name = \"bn0\")(X1)  \n",
        "  X1 = Activation(\"relu\")(X1)  \n",
        "  X1 = Conv2D(32, (3,3), strides = (1,1),padding = \"same\", name = \"conv1\")(X1) \n",
        "  X1 = BatchNormalization(axis = 3, name = \"bn1\")(X1) \n",
        "  X1 = Activation(\"relu\")(X1)\n",
        "  X1 = Conv2D(32, (2,2), strides = (1,1), padding = \"same\", name = \"conv2\")(X1)\n",
        "  X1 = BatchNormalization(axis = 3, name = \"bn2\")(X1)\n",
        "  X1 = Activation(\"relu\")(X1)\n",
        "  \n",
        "  X2 = Conv2D(32, (1,1), strides = (1,1),padding = \"same\", name = \"conv3\")(X_input)  \n",
        "  X2 = BatchNormalization(axis = 3, name = \"bn3\")(X2)\n",
        "  X2 = Activation(\"relu\")(X2) \n",
        "  X2 = Conv2D(32, (5,5), strides = (1,1),padding = \"same\", name = \"conv4\")(X2)  \n",
        "  X2 = BatchNormalization(axis = 3, name = \"bn4\")(X2)\n",
        "  X2 = Activation(\"relu\")(X2)\n",
        "  X2 = Conv2D(32, (5,5), strides = (1,1),padding = \"same\", name = \"conv5\")(X2)  \n",
        "  X2 = BatchNormalization(axis = 3, name = \"bn5\")(X2)\n",
        "  X2 = Activation(\"relu\")(X2)\n",
        "  \n",
        "  X3 = MaxPooling2D((1,1), strides = (1,1), name = \"max_pool0\")(X_input)\n",
        "  X3 = Conv2D(32, (5,5), strides = (1,1), padding = \"same\", name = \"conv6\")(X3)\n",
        "  X3 = BatchNormalization()(X3)\n",
        "  X3 = Activation(\"relu\")(X3)\n",
        "  \n",
        "  X = keras.layers.concatenate([X1,X2,X3])\n",
        "  \n",
        "  X4 = Conv2D(32, (5,5), strides = (1,1), padding = \"same\", name = \"conv7\")(X_input)\n",
        "  X4 = BatchNormalization()(X4)\n",
        "  X4 = Activation(\"relu\")(X4)\n",
        "  X5 = Conv2D(32, (4,4), strides = (1,1), padding = \"same\",name = \"conv8\" )(X)\n",
        "  X5 = BatchNormalization()(X5)\n",
        "  X5 = Activation(\"relu\")(X5)  \n",
        "  \n",
        "  Y2 = keras.layers.concatenate([X4,X5])\n",
        "  \n",
        "  F1 = Conv2D(32, (5,5), strides = (1,1), padding = \"same\", name = \"conv9\")(Y2)\n",
        "  F1 = BatchNormalization()(F1)\n",
        "  F1 = Activation(\"relu\")(F1)\n",
        "  \n",
        "  top = keras.layers.concatenate([X,Y2,F1])\n",
        "  \n",
        "  P1 = Conv2D(32, (7,7), strides = (1,1), padding = \"same\", name = \"conv10\")(Y2)\n",
        "  P1 = BatchNormalization()(P1)\n",
        "  P1 = Activation(\"relu\")(P1)\n",
        "  P2 = Conv2D(64, (8,8), strides = (1,1), padding = \"same\", name = \"conv11\")(P1)\n",
        "  P2 = BatchNormalization()(P2)\n",
        "  P2 = Activation(\"relu\")(P2)\n",
        "  \n",
        "  last = keras.layers.concatenate([top,P1,P2])\n",
        "  \n",
        "  X = Flatten()(last)\n",
        "  X = Dense(32, activation = \"relu\", name = \"d1\")(X)\n",
        "  X = BatchNormalization()(X)\n",
        "  \n",
        "  X = Dense(10, activation = \"softmax\", name = \"fc\")(X)\n",
        "  \n",
        "  \n",
        "  model = Model(inputs = X_input, outputs = X)\n",
        "  return model"
      ],
      "execution_count": 0,
      "outputs": []
    },
    {
      "cell_type": "code",
      "metadata": {
        "id": "xd8jF_Bcb6n-",
        "colab_type": "code",
        "colab": {}
      },
      "source": [
        "model = model(X_train.shape[1:])"
      ],
      "execution_count": 0,
      "outputs": []
    },
    {
      "cell_type": "code",
      "metadata": {
        "id": "KdOiHYHyjYX4",
        "colab_type": "code",
        "colab": {}
      },
      "source": [
        "from IPython.display import SVG\n",
        "from keras.utils.vis_utils import model_to_dot\n",
        "\n",
        "plot_model(model, to_file='model.png')\n",
        "SVG(model_to_dot(model).create(prog='dot', format='svg'))\n"
      ],
      "execution_count": 0,
      "outputs": []
    },
    {
      "cell_type": "code",
      "metadata": {
        "id": "THOZExn23z0t",
        "colab_type": "code",
        "outputId": "2705c66a-2e07-4598-eb0f-2f311e366cdf",
        "colab": {
          "base_uri": "https://localhost:8080/",
          "height": 1819
        }
      },
      "source": [
        "model.summary()"
      ],
      "execution_count": 46,
      "outputs": [
        {
          "output_type": "stream",
          "text": [
            "__________________________________________________________________________________________________\n",
            "Layer (type)                    Output Shape         Param #     Connected to                     \n",
            "==================================================================================================\n",
            "input_10 (InputLayer)           (None, 32, 32, 3)    0                                            \n",
            "__________________________________________________________________________________________________\n",
            "conv0 (Conv2D)                  (None, 32, 32, 32)   416         input_10[0][0]                   \n",
            "__________________________________________________________________________________________________\n",
            "conv3 (Conv2D)                  (None, 32, 32, 32)   128         input_10[0][0]                   \n",
            "__________________________________________________________________________________________________\n",
            "bn0 (BatchNormalization)        (None, 32, 32, 32)   128         conv0[0][0]                      \n",
            "__________________________________________________________________________________________________\n",
            "bn3 (BatchNormalization)        (None, 32, 32, 32)   128         conv3[0][0]                      \n",
            "__________________________________________________________________________________________________\n",
            "activation_92 (Activation)      (None, 32, 32, 32)   0           bn0[0][0]                        \n",
            "__________________________________________________________________________________________________\n",
            "activation_95 (Activation)      (None, 32, 32, 32)   0           bn3[0][0]                        \n",
            "__________________________________________________________________________________________________\n",
            "conv1 (Conv2D)                  (None, 32, 32, 32)   9248        activation_92[0][0]              \n",
            "__________________________________________________________________________________________________\n",
            "conv4 (Conv2D)                  (None, 32, 32, 32)   25632       activation_95[0][0]              \n",
            "__________________________________________________________________________________________________\n",
            "bn1 (BatchNormalization)        (None, 32, 32, 32)   128         conv1[0][0]                      \n",
            "__________________________________________________________________________________________________\n",
            "bn4 (BatchNormalization)        (None, 32, 32, 32)   128         conv4[0][0]                      \n",
            "__________________________________________________________________________________________________\n",
            "activation_93 (Activation)      (None, 32, 32, 32)   0           bn1[0][0]                        \n",
            "__________________________________________________________________________________________________\n",
            "activation_96 (Activation)      (None, 32, 32, 32)   0           bn4[0][0]                        \n",
            "__________________________________________________________________________________________________\n",
            "max_pool0 (MaxPooling2D)        (None, 32, 32, 3)    0           input_10[0][0]                   \n",
            "__________________________________________________________________________________________________\n",
            "conv2 (Conv2D)                  (None, 32, 32, 32)   4128        activation_93[0][0]              \n",
            "__________________________________________________________________________________________________\n",
            "conv5 (Conv2D)                  (None, 32, 32, 32)   25632       activation_96[0][0]              \n",
            "__________________________________________________________________________________________________\n",
            "conv6 (Conv2D)                  (None, 32, 32, 32)   2432        max_pool0[0][0]                  \n",
            "__________________________________________________________________________________________________\n",
            "bn2 (BatchNormalization)        (None, 32, 32, 32)   128         conv2[0][0]                      \n",
            "__________________________________________________________________________________________________\n",
            "bn5 (BatchNormalization)        (None, 32, 32, 32)   128         conv5[0][0]                      \n",
            "__________________________________________________________________________________________________\n",
            "batch_normalization_49 (BatchNo (None, 32, 32, 32)   128         conv6[0][0]                      \n",
            "__________________________________________________________________________________________________\n",
            "activation_94 (Activation)      (None, 32, 32, 32)   0           bn2[0][0]                        \n",
            "__________________________________________________________________________________________________\n",
            "activation_97 (Activation)      (None, 32, 32, 32)   0           bn5[0][0]                        \n",
            "__________________________________________________________________________________________________\n",
            "activation_98 (Activation)      (None, 32, 32, 32)   0           batch_normalization_49[0][0]     \n",
            "__________________________________________________________________________________________________\n",
            "concatenate_30 (Concatenate)    (None, 32, 32, 96)   0           activation_94[0][0]              \n",
            "                                                                 activation_97[0][0]              \n",
            "                                                                 activation_98[0][0]              \n",
            "__________________________________________________________________________________________________\n",
            "conv7 (Conv2D)                  (None, 32, 32, 32)   2432        input_10[0][0]                   \n",
            "__________________________________________________________________________________________________\n",
            "conv8 (Conv2D)                  (None, 32, 32, 32)   49184       concatenate_30[0][0]             \n",
            "__________________________________________________________________________________________________\n",
            "batch_normalization_50 (BatchNo (None, 32, 32, 32)   128         conv7[0][0]                      \n",
            "__________________________________________________________________________________________________\n",
            "batch_normalization_51 (BatchNo (None, 32, 32, 32)   128         conv8[0][0]                      \n",
            "__________________________________________________________________________________________________\n",
            "activation_99 (Activation)      (None, 32, 32, 32)   0           batch_normalization_50[0][0]     \n",
            "__________________________________________________________________________________________________\n",
            "activation_100 (Activation)     (None, 32, 32, 32)   0           batch_normalization_51[0][0]     \n",
            "__________________________________________________________________________________________________\n",
            "concatenate_31 (Concatenate)    (None, 32, 32, 64)   0           activation_99[0][0]              \n",
            "                                                                 activation_100[0][0]             \n",
            "__________________________________________________________________________________________________\n",
            "conv10 (Conv2D)                 (None, 32, 32, 32)   100384      concatenate_31[0][0]             \n",
            "__________________________________________________________________________________________________\n",
            "batch_normalization_53 (BatchNo (None, 32, 32, 32)   128         conv10[0][0]                     \n",
            "__________________________________________________________________________________________________\n",
            "conv9 (Conv2D)                  (None, 32, 32, 32)   51232       concatenate_31[0][0]             \n",
            "__________________________________________________________________________________________________\n",
            "activation_102 (Activation)     (None, 32, 32, 32)   0           batch_normalization_53[0][0]     \n",
            "__________________________________________________________________________________________________\n",
            "batch_normalization_52 (BatchNo (None, 32, 32, 32)   128         conv9[0][0]                      \n",
            "__________________________________________________________________________________________________\n",
            "conv11 (Conv2D)                 (None, 32, 32, 64)   131136      activation_102[0][0]             \n",
            "__________________________________________________________________________________________________\n",
            "activation_101 (Activation)     (None, 32, 32, 32)   0           batch_normalization_52[0][0]     \n",
            "__________________________________________________________________________________________________\n",
            "batch_normalization_54 (BatchNo (None, 32, 32, 64)   256         conv11[0][0]                     \n",
            "__________________________________________________________________________________________________\n",
            "concatenate_32 (Concatenate)    (None, 32, 32, 192)  0           concatenate_30[0][0]             \n",
            "                                                                 concatenate_31[0][0]             \n",
            "                                                                 activation_101[0][0]             \n",
            "__________________________________________________________________________________________________\n",
            "activation_103 (Activation)     (None, 32, 32, 64)   0           batch_normalization_54[0][0]     \n",
            "__________________________________________________________________________________________________\n",
            "concatenate_33 (Concatenate)    (None, 32, 32, 288)  0           concatenate_32[0][0]             \n",
            "                                                                 activation_102[0][0]             \n",
            "                                                                 activation_103[0][0]             \n",
            "__________________________________________________________________________________________________\n",
            "flatten_7 (Flatten)             (None, 294912)       0           concatenate_33[0][0]             \n",
            "__________________________________________________________________________________________________\n",
            "d1 (Dense)                      (None, 32)           9437216     flatten_7[0][0]                  \n",
            "__________________________________________________________________________________________________\n",
            "batch_normalization_55 (BatchNo (None, 32)           128         d1[0][0]                         \n",
            "__________________________________________________________________________________________________\n",
            "fc (Dense)                      (None, 10)           330         batch_normalization_55[0][0]     \n",
            "==================================================================================================\n",
            "Total params: 9,841,322\n",
            "Trainable params: 9,840,426\n",
            "Non-trainable params: 896\n",
            "__________________________________________________________________________________________________\n"
          ],
          "name": "stdout"
        }
      ]
    },
    {
      "cell_type": "code",
      "metadata": {
        "id": "4c-XOiKSR9iu",
        "colab_type": "code",
        "colab": {}
      },
      "source": [
        "model.load_weights(\"model.h5\")"
      ],
      "execution_count": 0,
      "outputs": []
    },
    {
      "cell_type": "code",
      "metadata": {
        "id": "kJK-DlxRdTNH",
        "colab_type": "code",
        "colab": {}
      },
      "source": [
        "model.compile(\"adam\", \"categorical_crossentropy\", metrics = [\"accuracy\"])"
      ],
      "execution_count": 0,
      "outputs": []
    },
    {
      "cell_type": "code",
      "metadata": {
        "id": "_uMGABNxfWbN",
        "colab_type": "code",
        "outputId": "b85f376f-569d-4075-bb6a-e5032725652c",
        "colab": {
          "base_uri": "https://localhost:8080/",
          "height": 204
        }
      },
      "source": [
        "history = model.fit(X_train, y_train, epochs = 5, batch_size = 50, validation_data = (X_test, y_test))"
      ],
      "execution_count": 58,
      "outputs": [
        {
          "output_type": "stream",
          "text": [
            "Train on 50000 samples, validate on 10000 samples\n",
            "Epoch 1/5\n",
            "50000/50000 [==============================] - 74s 1ms/step - loss: 0.0477 - acc: 0.9835 - val_loss: 1.8342 - val_acc: 0.6924\n",
            "Epoch 2/5\n",
            "50000/50000 [==============================] - 67s 1ms/step - loss: 0.0414 - acc: 0.9862 - val_loss: 1.3536 - val_acc: 0.7597\n",
            "Epoch 3/5\n",
            "50000/50000 [==============================] - 67s 1ms/step - loss: 0.0361 - acc: 0.9875 - val_loss: 1.3113 - val_acc: 0.7471\n",
            "Epoch 4/5\n",
            "50000/50000 [==============================] - 67s 1ms/step - loss: 0.0298 - acc: 0.9897 - val_loss: 1.3214 - val_acc: 0.7516\n",
            "Epoch 5/5\n",
            "50000/50000 [==============================] - 66s 1ms/step - loss: 0.0308 - acc: 0.9889 - val_loss: 1.2591 - val_acc: 0.7628\n"
          ],
          "name": "stdout"
        }
      ]
    },
    {
      "cell_type": "code",
      "metadata": {
        "id": "Yx44QNqgieqz",
        "colab_type": "code",
        "outputId": "ee6418cd-75e7-46a8-ce0e-ce3edbd9cd4b",
        "colab": {
          "base_uri": "https://localhost:8080/",
          "height": 573
        }
      },
      "source": [
        "\n",
        "# Plot training & validation accuracy values\n",
        "plt.plot(history.history['acc'])\n",
        "plt.plot(history.history['val_acc'])\n",
        "plt.title('Model accuracy')\n",
        "plt.ylabel('Accuracy')\n",
        "plt.xlabel('Epoch')\n",
        "plt.legend(['Train', 'Test'], loc='upper left')\n",
        "plt.show()\n",
        "\n",
        "# Plot training & validation loss values\n",
        "plt.plot(history.history['loss'])\n",
        "plt.plot(history.history['val_loss'])\n",
        "plt.title('Model loss')\n",
        "plt.ylabel('Loss')\n",
        "plt.xlabel('Epoch')\n",
        "plt.legend(['Train', 'Test'], loc='upper left')\n",
        "plt.show()"
      ],
      "execution_count": 59,
      "outputs": [
        {
          "output_type": "display_data",
          "data": {
            "image/png": "[encoded data removed]",
            "text/plain": [
              "<Figure size 432x288 with 1 Axes>"
            ]
          },
          "metadata": {
            "tags": []
          }
        },
        {
          "output_type": "display_data",
          "data": {
            "image/png": "[encoded data removed]",
            "text/plain": [
              "<Figure size 432x288 with 1 Axes>"
            ]
          },
          "metadata": {
            "tags": []
          }
        }
      ]
    },
    {
      "cell_type": "code",
      "metadata": {
        "id": "vIgZPRb-x6q6",
        "colab_type": "code",
        "colab": {}
      },
      "source": [
        "model.save_weights(\"model.h5\")"
      ],
      "execution_count": 0,
      "outputs": []
    },
    {
      "cell_type": "code",
      "metadata": {
        "id": "cA3_mnBwx-26",
        "colab_type": "code",
        "colab": {}
      },
      "source": [
        ""
      ],
      "execution_count": 0,
      "outputs": []
    }
  ]
}