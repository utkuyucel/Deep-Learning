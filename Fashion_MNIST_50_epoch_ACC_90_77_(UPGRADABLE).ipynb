{
  "nbformat": 4,
  "nbformat_minor": 0,
  "metadata": {
    "colab": {
      "name": "Fashion MNIST - 50 epoch  - ACC: %90.77 (UPGRADABLE)",
      "version": "0.3.2",
      "provenance": [],
      "collapsed_sections": [],
      "include_colab_link": true
    },
    "kernelspec": {
      "name": "python3",
      "display_name": "Python 3"
    },
    "accelerator": "GPU"
  },
  "cells": [
    {
      "cell_type": "markdown",
      "metadata": {
        "id": "view-in-github",
        "colab_type": "text"
      },
      "source": [
        "<a href=\"https://colab.research.google.com/github/utkuyucel/Deep-Learning/blob/master/Fashion_MNIST_50_epoch_ACC_90_77_(UPGRADABLE).ipynb\" target=\"_parent\"><img src=\"https://colab.research.google.com/assets/colab-badge.svg\" alt=\"Open In Colab\"/></a>"
      ]
    },
    {
      "cell_type": "code",
      "metadata": {
        "id": "vBg5asl7Jcop",
        "colab_type": "code",
        "colab": {
          "base_uri": "https://localhost:8080/",
          "height": 34
        },
        "outputId": "5655b2ad-7308-40d7-e67d-0d90c59ecb24"
      },
      "source": [
        "from keras.datasets import fashion_mnist\n",
        "from keras.layers import Dense, Conv2D, MaxPooling2D, Flatten, Dropout, BatchNormalization, Activation\n",
        "from keras.models import Sequential, load_model\n",
        "from keras.utils import to_categorical"
      ],
      "execution_count": 1,
      "outputs": [
        {
          "output_type": "stream",
          "text": [
            "Using TensorFlow backend.\n"
          ],
          "name": "stderr"
        }
      ]
    },
    {
      "cell_type": "code",
      "metadata": {
        "id": "n2lpzUSpXKgB",
        "colab_type": "code",
        "colab": {}
      },
      "source": [
        "num_classes = 10"
      ],
      "execution_count": 0,
      "outputs": []
    },
    {
      "cell_type": "code",
      "metadata": {
        "id": "1eR4JD0HWu-v",
        "colab_type": "code",
        "colab": {}
      },
      "source": [
        "(X_train, y_train), (X_test, y_test) = fashion_mnist.load_data()\n",
        "\n",
        "X_train = X_train.reshape((X_train.shape[0],1,28,28))\n",
        "X_test = X_test.reshape((X_test.shape[0],1,28,28))\n",
        "\n",
        "X_train, X_test = X_train.astype(\"float32\"), X_test.astype(\"float32\")\n",
        "\n",
        "X_train, X_test = X_train / 255.0, X_test / 255.0\n",
        "\n",
        "y_train = to_categorical(y_train, num_classes)\n",
        "y_test = to_categorical(y_test, num_classes)"
      ],
      "execution_count": 0,
      "outputs": []
    },
    {
      "cell_type": "code",
      "metadata": {
        "id": "kiy7GTxhMrP5",
        "colab_type": "code",
        "outputId": "0cd5e8ac-23fe-4ed5-eaee-51e959526a14",
        "colab": {
          "base_uri": "https://localhost:8080/",
          "height": 1360
        }
      },
      "source": [
        "model = Sequential()\n",
        "\n",
        "model.add(Conv2D(32, (1,1), input_shape = X_train.shape[1:]))\n",
        "model.add(Activation(\"relu\"))\n",
        "model.add(BatchNormalization())\n",
        "model.add(Conv2D(32 ,(1,1)))\n",
        "model.add(Activation(\"relu\"))\n",
        "model.add(BatchNormalization())\n",
        "model.add(MaxPooling2D(1,1))\n",
        "model.add(Dropout(0.3))\n",
        "\n",
        "model.add(Conv2D(32, (1,1)))\n",
        "model.add(Activation(\"relu\"))\n",
        "model.add(BatchNormalization())\n",
        "model.add(Conv2D(32, (1,1)))\n",
        "model.add(Activation(\"relu\"))\n",
        "model.add(BatchNormalization())\n",
        "model.add(MaxPooling2D(1,1))\n",
        "model.add(Dropout(0.3))\n",
        "\n",
        "\n",
        "model.add(Conv2D(32,(1,1)))\n",
        "model.add(Activation(\"relu\"))\n",
        "model.add(BatchNormalization())\n",
        "model.add(Conv2D(32, (1,1)))\n",
        "model.add(Activation(\"relu\"))\n",
        "model.add(BatchNormalization())\n",
        "model.add(MaxPooling2D(1,1))\n",
        "model.add(Dropout(0.3))\n",
        "\n",
        "\n",
        "model.add(Flatten())\n",
        "\n",
        "model.add(Dense(2048))\n",
        "model.add(Activation(\"relu\"))\n",
        "model.add(BatchNormalization())\n",
        "\n",
        "model.add(Dense(1024))\n",
        "model.add(Activation(\"relu\"))\n",
        "model.add(BatchNormalization())\n",
        "\n",
        "model.add(Dense(512))\n",
        "model.add(Activation(\"relu\"))\n",
        "model.add(BatchNormalization())\n",
        "\n",
        "model.add(Dense(num_classes))\n",
        "model.add(Activation(\"softmax\"))\n",
        "\n",
        "model.summary()\n"
      ],
      "execution_count": 9,
      "outputs": [
        {
          "output_type": "stream",
          "text": [
            "_________________________________________________________________\n",
            "Layer (type)                 Output Shape              Param #   \n",
            "=================================================================\n",
            "conv2d_7 (Conv2D)            (None, 1, 28, 32)         928       \n",
            "_________________________________________________________________\n",
            "activation_9 (Activation)    (None, 1, 28, 32)         0         \n",
            "_________________________________________________________________\n",
            "batch_normalization_8 (Batch (None, 1, 28, 32)         128       \n",
            "_________________________________________________________________\n",
            "conv2d_8 (Conv2D)            (None, 1, 28, 32)         1056      \n",
            "_________________________________________________________________\n",
            "activation_10 (Activation)   (None, 1, 28, 32)         0         \n",
            "_________________________________________________________________\n",
            "batch_normalization_9 (Batch (None, 1, 28, 32)         128       \n",
            "_________________________________________________________________\n",
            "max_pooling2d_4 (MaxPooling2 (None, 1, 28, 32)         0         \n",
            "_________________________________________________________________\n",
            "dropout_4 (Dropout)          (None, 1, 28, 32)         0         \n",
            "_________________________________________________________________\n",
            "conv2d_9 (Conv2D)            (None, 1, 28, 32)         1056      \n",
            "_________________________________________________________________\n",
            "activation_11 (Activation)   (None, 1, 28, 32)         0         \n",
            "_________________________________________________________________\n",
            "batch_normalization_10 (Batc (None, 1, 28, 32)         128       \n",
            "_________________________________________________________________\n",
            "conv2d_10 (Conv2D)           (None, 1, 28, 32)         1056      \n",
            "_________________________________________________________________\n",
            "activation_12 (Activation)   (None, 1, 28, 32)         0         \n",
            "_________________________________________________________________\n",
            "batch_normalization_11 (Batc (None, 1, 28, 32)         128       \n",
            "_________________________________________________________________\n",
            "max_pooling2d_5 (MaxPooling2 (None, 1, 28, 32)         0         \n",
            "_________________________________________________________________\n",
            "dropout_5 (Dropout)          (None, 1, 28, 32)         0         \n",
            "_________________________________________________________________\n",
            "conv2d_11 (Conv2D)           (None, 1, 28, 32)         1056      \n",
            "_________________________________________________________________\n",
            "activation_13 (Activation)   (None, 1, 28, 32)         0         \n",
            "_________________________________________________________________\n",
            "batch_normalization_12 (Batc (None, 1, 28, 32)         128       \n",
            "_________________________________________________________________\n",
            "conv2d_12 (Conv2D)           (None, 1, 28, 32)         1056      \n",
            "_________________________________________________________________\n",
            "activation_14 (Activation)   (None, 1, 28, 32)         0         \n",
            "_________________________________________________________________\n",
            "batch_normalization_13 (Batc (None, 1, 28, 32)         128       \n",
            "_________________________________________________________________\n",
            "max_pooling2d_6 (MaxPooling2 (None, 1, 28, 32)         0         \n",
            "_________________________________________________________________\n",
            "dropout_6 (Dropout)          (None, 1, 28, 32)         0         \n",
            "_________________________________________________________________\n",
            "flatten_2 (Flatten)          (None, 896)               0         \n",
            "_________________________________________________________________\n",
            "dense_3 (Dense)              (None, 2048)              1837056   \n",
            "_________________________________________________________________\n",
            "activation_15 (Activation)   (None, 2048)              0         \n",
            "_________________________________________________________________\n",
            "batch_normalization_14 (Batc (None, 2048)              8192      \n",
            "_________________________________________________________________\n",
            "dense_4 (Dense)              (None, 1024)              2098176   \n",
            "_________________________________________________________________\n",
            "activation_16 (Activation)   (None, 1024)              0         \n",
            "_________________________________________________________________\n",
            "batch_normalization_15 (Batc (None, 1024)              4096      \n",
            "_________________________________________________________________\n",
            "dense_5 (Dense)              (None, 512)               524800    \n",
            "_________________________________________________________________\n",
            "activation_17 (Activation)   (None, 512)               0         \n",
            "_________________________________________________________________\n",
            "batch_normalization_16 (Batc (None, 512)               2048      \n",
            "_________________________________________________________________\n",
            "dense_6 (Dense)              (None, 10)                5130      \n",
            "_________________________________________________________________\n",
            "activation_18 (Activation)   (None, 10)                0         \n",
            "=================================================================\n",
            "Total params: 4,486,474\n",
            "Trainable params: 4,478,922\n",
            "Non-trainable params: 7,552\n",
            "_________________________________________________________________\n"
          ],
          "name": "stdout"
        }
      ]
    },
    {
      "cell_type": "code",
      "metadata": {
        "id": "DuktEFefGysn",
        "colab_type": "code",
        "colab": {}
      },
      "source": [
        "\n",
        "#model = load_model(\"model.h5\")\n",
        "model.compile(loss = \"categorical_crossentropy\", optimizer = \"adam\", metrics = [\"accuracy\"])\n"
      ],
      "execution_count": 0,
      "outputs": []
    },
    {
      "cell_type": "code",
      "metadata": {
        "id": "bsDcSW2bcOX1",
        "colab_type": "code",
        "outputId": "d81510e5-b9b0-4221-dd75-9118ff5d385c",
        "colab": {
          "base_uri": "https://localhost:8080/",
          "height": 1734
        }
      },
      "source": [
        "history = model.fit(X_train, y_train, epochs = 50, validation_data = (X_test, y_test))\n"
      ],
      "execution_count": 11,
      "outputs": [
        {
          "output_type": "stream",
          "text": [
            "Train on 60000 samples, validate on 10000 samples\n",
            "Epoch 1/50\n",
            "60000/60000 [==============================] - 28s 470us/step - loss: 0.6553 - acc: 0.7653 - val_loss: 0.4759 - val_acc: 0.8364\n",
            "Epoch 2/50\n",
            "60000/60000 [==============================] - 26s 434us/step - loss: 0.4563 - acc: 0.8329 - val_loss: 0.4114 - val_acc: 0.8540\n",
            "Epoch 3/50\n",
            "60000/60000 [==============================] - 28s 468us/step - loss: 0.4137 - acc: 0.8472 - val_loss: 0.3886 - val_acc: 0.8577\n",
            "Epoch 4/50\n",
            "60000/60000 [==============================] - 26s 435us/step - loss: 0.3850 - acc: 0.8584 - val_loss: 0.3554 - val_acc: 0.8722\n",
            "Epoch 5/50\n",
            "60000/60000 [==============================] - 26s 434us/step - loss: 0.3637 - acc: 0.8652 - val_loss: 0.3561 - val_acc: 0.8707\n",
            "Epoch 6/50\n",
            "60000/60000 [==============================] - 28s 470us/step - loss: 0.3442 - acc: 0.8719 - val_loss: 0.3231 - val_acc: 0.8795\n",
            "Epoch 7/50\n",
            "60000/60000 [==============================] - 26s 432us/step - loss: 0.3283 - acc: 0.8766 - val_loss: 0.3627 - val_acc: 0.8648\n",
            "Epoch 8/50\n",
            "60000/60000 [==============================] - 26s 432us/step - loss: 0.3148 - acc: 0.8825 - val_loss: 0.3012 - val_acc: 0.8912\n",
            "Epoch 9/50\n",
            "60000/60000 [==============================] - 27s 455us/step - loss: 0.3023 - acc: 0.8866 - val_loss: 0.3187 - val_acc: 0.8811\n",
            "Epoch 10/50\n",
            "60000/60000 [==============================] - 26s 431us/step - loss: 0.2897 - acc: 0.8895 - val_loss: 0.2936 - val_acc: 0.8925\n",
            "Epoch 11/50\n",
            "60000/60000 [==============================] - 26s 432us/step - loss: 0.2793 - acc: 0.8932 - val_loss: 0.2913 - val_acc: 0.8921\n",
            "Epoch 12/50\n",
            "60000/60000 [==============================] - 27s 452us/step - loss: 0.2707 - acc: 0.8975 - val_loss: 0.2994 - val_acc: 0.8924\n",
            "Epoch 13/50\n",
            "60000/60000 [==============================] - 26s 431us/step - loss: 0.2630 - acc: 0.9000 - val_loss: 0.2827 - val_acc: 0.8985\n",
            "Epoch 14/50\n",
            "60000/60000 [==============================] - 26s 428us/step - loss: 0.2540 - acc: 0.9026 - val_loss: 0.2837 - val_acc: 0.8989\n",
            "Epoch 15/50\n",
            "60000/60000 [==============================] - 27s 453us/step - loss: 0.2509 - acc: 0.9036 - val_loss: 0.2856 - val_acc: 0.8984\n",
            "Epoch 16/50\n",
            "60000/60000 [==============================] - 26s 428us/step - loss: 0.2435 - acc: 0.9070 - val_loss: 0.2784 - val_acc: 0.8993\n",
            "Epoch 17/50\n",
            "60000/60000 [==============================] - 26s 428us/step - loss: 0.2362 - acc: 0.9098 - val_loss: 0.2912 - val_acc: 0.8955\n",
            "Epoch 18/50\n",
            "60000/60000 [==============================] - 28s 465us/step - loss: 0.2327 - acc: 0.9104 - val_loss: 0.2844 - val_acc: 0.9022\n",
            "Epoch 19/50\n",
            "60000/60000 [==============================] - 26s 427us/step - loss: 0.2238 - acc: 0.9152 - val_loss: 0.2836 - val_acc: 0.9000\n",
            "Epoch 20/50\n",
            "60000/60000 [==============================] - 26s 427us/step - loss: 0.2212 - acc: 0.9155 - val_loss: 0.2898 - val_acc: 0.8955\n",
            "Epoch 21/50\n",
            "60000/60000 [==============================] - 27s 450us/step - loss: 0.2133 - acc: 0.9169 - val_loss: 0.2862 - val_acc: 0.9021\n",
            "Epoch 22/50\n",
            "60000/60000 [==============================] - 26s 427us/step - loss: 0.2087 - acc: 0.9192 - val_loss: 0.2938 - val_acc: 0.9001\n",
            "Epoch 23/50\n",
            "60000/60000 [==============================] - 26s 426us/step - loss: 0.2028 - acc: 0.9215 - val_loss: 0.2834 - val_acc: 0.9027\n",
            "Epoch 24/50\n",
            "60000/60000 [==============================] - 27s 449us/step - loss: 0.2007 - acc: 0.9212 - val_loss: 0.2985 - val_acc: 0.8977\n",
            "Epoch 25/50\n",
            "60000/60000 [==============================] - 26s 425us/step - loss: 0.1957 - acc: 0.9244 - val_loss: 0.2850 - val_acc: 0.9039\n",
            "Epoch 26/50\n",
            "60000/60000 [==============================] - 26s 432us/step - loss: 0.1936 - acc: 0.9255 - val_loss: 0.2959 - val_acc: 0.8986\n",
            "Epoch 27/50\n",
            "60000/60000 [==============================] - 27s 457us/step - loss: 0.1875 - acc: 0.9277 - val_loss: 0.2934 - val_acc: 0.9032\n",
            "Epoch 28/50\n",
            "60000/60000 [==============================] - 26s 426us/step - loss: 0.1850 - acc: 0.9282 - val_loss: 0.3045 - val_acc: 0.8994\n",
            "Epoch 29/50\n",
            "60000/60000 [==============================] - 26s 436us/step - loss: 0.1798 - acc: 0.9300 - val_loss: 0.2933 - val_acc: 0.9038\n",
            "Epoch 30/50\n",
            "60000/60000 [==============================] - 28s 467us/step - loss: 0.1757 - acc: 0.9304 - val_loss: 0.2932 - val_acc: 0.9039\n",
            "Epoch 31/50\n",
            "60000/60000 [==============================] - 26s 428us/step - loss: 0.1756 - acc: 0.9312 - val_loss: 0.3060 - val_acc: 0.9029\n",
            "Epoch 32/50\n",
            "60000/60000 [==============================] - 26s 428us/step - loss: 0.1717 - acc: 0.9336 - val_loss: 0.2901 - val_acc: 0.9098\n",
            "Epoch 33/50\n",
            "60000/60000 [==============================] - 27s 453us/step - loss: 0.1638 - acc: 0.9373 - val_loss: 0.3027 - val_acc: 0.9063\n",
            "Epoch 34/50\n",
            "60000/60000 [==============================] - 26s 436us/step - loss: 0.1625 - acc: 0.9373 - val_loss: 0.3265 - val_acc: 0.8930\n",
            "Epoch 35/50\n",
            "60000/60000 [==============================] - 26s 431us/step - loss: 0.1600 - acc: 0.9375 - val_loss: 0.3069 - val_acc: 0.9018\n",
            "Epoch 36/50\n",
            "60000/60000 [==============================] - 27s 450us/step - loss: 0.1597 - acc: 0.9384 - val_loss: 0.3015 - val_acc: 0.9027\n",
            "Epoch 37/50\n",
            "60000/60000 [==============================] - 26s 428us/step - loss: 0.1550 - acc: 0.9398 - val_loss: 0.3125 - val_acc: 0.9030\n",
            "Epoch 38/50\n",
            "60000/60000 [==============================] - 26s 441us/step - loss: 0.1548 - acc: 0.9397 - val_loss: 0.3233 - val_acc: 0.9001\n",
            "Epoch 39/50\n",
            "60000/60000 [==============================] - 27s 450us/step - loss: 0.1476 - acc: 0.9429 - val_loss: 0.3123 - val_acc: 0.9035\n",
            "Epoch 40/50\n",
            "60000/60000 [==============================] - 26s 427us/step - loss: 0.1474 - acc: 0.9422 - val_loss: 0.3036 - val_acc: 0.9047\n",
            "Epoch 41/50\n",
            "60000/60000 [==============================] - 27s 453us/step - loss: 0.1455 - acc: 0.9427 - val_loss: 0.3149 - val_acc: 0.9022\n",
            "Epoch 42/50\n",
            "60000/60000 [==============================] - 27s 450us/step - loss: 0.1415 - acc: 0.9462 - val_loss: 0.3413 - val_acc: 0.8985\n",
            "Epoch 43/50\n",
            "60000/60000 [==============================] - 26s 427us/step - loss: 0.1416 - acc: 0.9443 - val_loss: 0.3225 - val_acc: 0.9054\n",
            "Epoch 44/50\n",
            "60000/60000 [==============================] - 26s 427us/step - loss: 0.1346 - acc: 0.9474 - val_loss: 0.3307 - val_acc: 0.9035\n",
            "Epoch 45/50\n",
            "60000/60000 [==============================] - 27s 444us/step - loss: 0.1388 - acc: 0.9461 - val_loss: 0.3339 - val_acc: 0.8949\n",
            "Epoch 46/50\n",
            "60000/60000 [==============================] - 26s 431us/step - loss: 0.1341 - acc: 0.9484 - val_loss: 0.3258 - val_acc: 0.9066\n",
            "Epoch 47/50\n",
            "60000/60000 [==============================] - 26s 425us/step - loss: 0.1312 - acc: 0.9499 - val_loss: 0.3223 - val_acc: 0.9026\n",
            "Epoch 48/50\n",
            "60000/60000 [==============================] - 26s 438us/step - loss: 0.1284 - acc: 0.9497 - val_loss: 0.3299 - val_acc: 0.9027\n",
            "Epoch 49/50\n",
            "60000/60000 [==============================] - 26s 439us/step - loss: 0.1263 - acc: 0.9512 - val_loss: 0.3115 - val_acc: 0.9067\n",
            "Epoch 50/50\n",
            "60000/60000 [==============================] - 26s 438us/step - loss: 0.1253 - acc: 0.9513 - val_loss: 0.3198 - val_acc: 0.9077\n"
          ],
          "name": "stdout"
        }
      ]
    },
    {
      "cell_type": "code",
      "metadata": {
        "id": "J1gW7CThUBqI",
        "colab_type": "code",
        "outputId": "f8926535-37e1-4076-87dc-d2a5cfea6fdb",
        "colab": {
          "base_uri": "https://localhost:8080/",
          "height": 295
        }
      },
      "source": [
        "import matplotlib.pyplot as plt\n",
        "# history = model.fit(X_train, y_train, epochs = 10, validation_data = (X_test, y_test), verbose = 1)\n",
        "plt.plot(history.history['acc'])\n",
        "plt.plot(history.history['val_acc'])\n",
        "plt.title('Model accuracy')\n",
        "plt.ylabel('Accuracy')\n",
        "plt.xlabel('Epoch')\n",
        "plt.legend(['Train', 'Test'], loc='upper left')\n",
        "plt.show()"
      ],
      "execution_count": 12,
      "outputs": [
        {
          "output_type": "display_data",
          "data": {
            "image/png": "[encoded data removed]",
            "text/plain": [
              "<Figure size 432x288 with 1 Axes>"
            ]
          },
          "metadata": {
            "tags": []
          }
        }
      ]
    },
    {
      "cell_type": "code",
      "metadata": {
        "id": "c_eWVvTJNo88",
        "colab_type": "code",
        "colab": {}
      },
      "source": [
        "model.save(\"model.h5\")"
      ],
      "execution_count": 0,
      "outputs": []
    },
    {
      "cell_type": "code",
      "metadata": {
        "id": "QEXuAWf5X6oE",
        "colab_type": "code",
        "colab": {}
      },
      "source": [
        ""
      ],
      "execution_count": 0,
      "outputs": []
    }
  ]
}