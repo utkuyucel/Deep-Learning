{
  "nbformat": 4,
  "nbformat_minor": 0,
  "metadata": {
    "colab": {
      "name": "6.04.2019 - CHALLENGE ACCEPTED",
      "version": "0.3.2",
      "provenance": [],
      "collapsed_sections": [],
      "include_colab_link": true
    },
    "kernelspec": {
      "name": "python3",
      "display_name": "Python 3"
    },
    "accelerator": "GPU"
  },
  "cells": [
    {
      "cell_type": "markdown",
      "metadata": {
        "id": "view-in-github",
        "colab_type": "text"
      },
      "source": [
        "<a href=\"https://colab.research.google.com/github/utkuyucel/Deep-Learning/blob/master/6_04_2019_CHALLENGE_ACCEPTED.ipynb\" target=\"_parent\"><img src=\"https://colab.research.google.com/assets/colab-badge.svg\" alt=\"Open In Colab\"/></a>"
      ]
    },
    {
      "metadata": {
        "id": "kT564UpEZojW",
        "colab_type": "code",
        "colab": {}
      },
      "cell_type": "code",
      "source": [
        "from keras.models import Sequential\n",
        "from keras.datasets import cifar10\n",
        "from keras.layers import Dense, Dropout, Activation, Flatten, Conv2D, MaxPooling2D, ZeroPadding2D\n",
        "from keras.utils import print_summary, to_categorical\n",
        "from tensorboardcolab import *\n",
        "from keras.models import load_model\n",
        "from keras.callbacks import ModelCheckpoint\n",
        "import numpy as np\n",
        "import keras\n",
        "import sys\n",
        "import os\n",
        "\n"
      ],
      "execution_count": 0,
      "outputs": []
    },
    {
      "metadata": {
        "id": "QSAnQOAXaYxK",
        "colab_type": "code",
        "colab": {}
      },
      "cell_type": "code",
      "source": [
        "batch_size = 64\n",
        "num_classes = 10\n",
        "epochs = 10\n",
        "save_dir = os.path.join(os.getcwd(), \"saved_models\") \n",
        "model_name = \"keras_cifar10_model.h5\"\n"
      ],
      "execution_count": 0,
      "outputs": []
    },
    {
      "metadata": {
        "id": "Dt7KqP9faezR",
        "colab_type": "code",
        "outputId": "70c5ee9e-dd70-4baa-ae2c-05aa2839400f",
        "colab": {
          "base_uri": "https://localhost:8080/",
          "height": 51
        }
      },
      "cell_type": "code",
      "source": [
        "(X_train, y_train), (X_test, y_test) = cifar10.load_data()\n"
      ],
      "execution_count": 0,
      "outputs": [
        {
          "output_type": "stream",
          "text": [
            "Downloading data from https://www.cs.toronto.edu/~kriz/cifar-10-python.tar.gz\n",
            "170500096/170498071 [==============================] - 5s 0us/step\n"
          ],
          "name": "stdout"
        }
      ]
    },
    {
      "metadata": {
        "id": "vFU2b6f6dfm1",
        "colab_type": "code",
        "colab": {}
      },
      "cell_type": "code",
      "source": [
        "y_train = to_categorical(y_train ,num_classes)\n",
        "y_test = to_categorical(y_test, num_classes)"
      ],
      "execution_count": 0,
      "outputs": []
    },
    {
      "metadata": {
        "id": "EjBUJ6DRdI92",
        "colab_type": "code",
        "colab": {}
      },
      "cell_type": "code",
      "source": [
        "X_train = X_train.astype(\"float32\")\n",
        "X_test = X_test.astype(\"float32\")\n",
        "X_train /= 255\n",
        "X_test /= 255"
      ],
      "execution_count": 0,
      "outputs": []
    },
    {
      "metadata": {
        "id": "mSwAJghNf3TL",
        "colab_type": "code",
        "colab": {}
      },
      "cell_type": "code",
      "source": [
        "model.compile(optimizer = \"adam\", loss = \"categorical_crossentropy\", metrics = [\"accuracy\"])"
      ],
      "execution_count": 0,
      "outputs": []
    },
    {
      "metadata": {
        "id": "9Eqmqq49g62d",
        "colab_type": "code",
        "outputId": "14f8d1cd-f15f-450a-98ab-b2634cc978e9",
        "colab": {
          "base_uri": "https://localhost:8080/",
          "height": 163
        }
      },
      "cell_type": "code",
      "source": [
        "model = load_model(\"cifar10vgg.h5\", custom_objects= {})"
      ],
      "execution_count": 0,
      "outputs": [
        {
          "output_type": "error",
          "ename": "AttributeError",
          "evalue": "ignored",
          "traceback": [
            "\u001b[0;31m---------------------------------------------------------------------------\u001b[0m",
            "\u001b[0;31mAttributeError\u001b[0m                            Traceback (most recent call last)",
            "\u001b[0;32m<ipython-input-12-b029d876634b>\u001b[0m in \u001b[0;36m<module>\u001b[0;34m()\u001b[0m\n\u001b[0;32m----> 1\u001b[0;31m \u001b[0mmodel\u001b[0m \u001b[0;34m=\u001b[0m \u001b[0mmodel\u001b[0m\u001b[0;34m.\u001b[0m\u001b[0mload_model\u001b[0m\u001b[0;34m(\u001b[0m\u001b[0;34m\"cifar10vgg.h5\"\u001b[0m\u001b[0;34m)\u001b[0m\u001b[0;34m\u001b[0m\u001b[0;34m\u001b[0m\u001b[0m\n\u001b[0m",
            "\u001b[0;31mAttributeError\u001b[0m: 'Sequential' object has no attribute 'load_model'"
          ]
        }
      ]
    },
    {
      "metadata": {
        "id": "0NMSN46xpgDW",
        "colab_type": "code",
        "colab": {}
      },
      "cell_type": "code",
      "source": [
        "#tbc = TensorBoardColab()\n",
        "#filepath=\"weights.best.hdf5\"\n",
        "#checkpoint = ModelCheckpoint(filepath, monitor='val_acc', verbose=1, save_best_only=True, mode='max')\n",
        "#callbacks_list = [checkpoint]"
      ],
      "execution_count": 0,
      "outputs": []
    },
    {
      "metadata": {
        "id": "hPC-WMvpgW26",
        "colab_type": "code",
        "outputId": "5bed463a-266e-4823-cbe4-ad5136ee1a61",
        "colab": {
          "base_uri": "https://localhost:8080/",
          "height": 391
        }
      },
      "cell_type": "code",
      "source": [
        "model.fit(X_train, y_train, batch_size, epochs = epochs, validation_split = 0.2, shuffle = True)"
      ],
      "execution_count": 0,
      "outputs": [
        {
          "output_type": "stream",
          "text": [
            "Train on 40000 samples, validate on 10000 samples\n",
            "Epoch 1/10\n",
            "40000/40000 [==============================] - 15s 381us/step - loss: 0.6390 - acc: 0.7805 - val_loss: 0.5354 - val_acc: 0.8187\n",
            "Epoch 2/10\n",
            "40000/40000 [==============================] - 14s 338us/step - loss: 0.6402 - acc: 0.7818 - val_loss: 0.5328 - val_acc: 0.8139\n",
            "Epoch 3/10\n",
            "40000/40000 [==============================] - 14s 338us/step - loss: 0.6470 - acc: 0.7747 - val_loss: 0.5282 - val_acc: 0.8217\n",
            "Epoch 4/10\n",
            "40000/40000 [==============================] - 14s 339us/step - loss: 0.6423 - acc: 0.7747 - val_loss: 0.5010 - val_acc: 0.8300\n",
            "Epoch 5/10\n",
            "40000/40000 [==============================] - 14s 338us/step - loss: 0.6333 - acc: 0.7801 - val_loss: 0.5132 - val_acc: 0.8221\n",
            "Epoch 6/10\n",
            "40000/40000 [==============================] - 14s 339us/step - loss: 0.6456 - acc: 0.7768 - val_loss: 0.5307 - val_acc: 0.8169\n",
            "Epoch 7/10\n",
            "40000/40000 [==============================] - 14s 340us/step - loss: 0.6454 - acc: 0.7802 - val_loss: 0.5343 - val_acc: 0.8153\n",
            "Epoch 8/10\n",
            "40000/40000 [==============================] - 14s 339us/step - loss: 0.6398 - acc: 0.7799 - val_loss: 0.5137 - val_acc: 0.8237\n",
            "Epoch 9/10\n",
            "40000/40000 [==============================] - 14s 338us/step - loss: 0.6415 - acc: 0.7785 - val_loss: 0.5241 - val_acc: 0.8215\n",
            "Epoch 10/10\n",
            "40000/40000 [==============================] - 14s 338us/step - loss: 0.6433 - acc: 0.7787 - val_loss: 0.5422 - val_acc: 0.8127\n"
          ],
          "name": "stdout"
        },
        {
          "output_type": "execute_result",
          "data": {
            "text/plain": [
              "<keras.callbacks.History at 0x7f428a59dbe0>"
            ]
          },
          "metadata": {
            "tags": []
          },
          "execution_count": 227
        }
      ]
    },
    {
      "metadata": {
        "id": "XrYx9E6egnfy",
        "colab_type": "code",
        "outputId": "6de88823-fabb-4962-b4f9-4fa28df2f079",
        "colab": {
          "base_uri": "https://localhost:8080/",
          "height": 68
        }
      },
      "cell_type": "code",
      "source": [
        "scores = model.evaluate(X_test, y_test, verbose = 1)\n",
        "print(f\"Test loss: {scores[0]}\")\n",
        "print(f\"Test Accuracy: %{scores[1] * 100}\")"
      ],
      "execution_count": 0,
      "outputs": [
        {
          "output_type": "stream",
          "text": [
            "10000/10000 [==============================] - 2s 190us/step\n",
            "Test loss: 0.618148442363739\n",
            "Test Accuracy: %78.5\n"
          ],
          "name": "stdout"
        }
      ]
    },
    {
      "metadata": {
        "id": "BIYFfIY0hcFR",
        "colab_type": "code",
        "outputId": "fd81d183-0503-4174-ae35-bb23cbd61af3",
        "colab": {
          "base_uri": "https://localhost:8080/",
          "height": 34
        }
      },
      "cell_type": "code",
      "source": [
        "if not os.path.isdir(save_dir):\n",
        "    os.makedirs(save_dir)\n",
        "model_path = os.path.join(save_dir, model_name)\n",
        "model.save(model_path)\n",
        "print('Saved trained model at %s ' % model_path)\n"
      ],
      "execution_count": 0,
      "outputs": [
        {
          "output_type": "stream",
          "text": [
            "Saved trained model at /content/saved_models/keras_cifar10_model.h5 \n"
          ],
          "name": "stdout"
        }
      ]
    },
    {
      "metadata": {
        "id": "6xUYzqxu8m8d",
        "colab_type": "code",
        "colab": {}
      },
      "cell_type": "code",
      "source": [
        ""
      ],
      "execution_count": 0,
      "outputs": []
    }
  ]
}